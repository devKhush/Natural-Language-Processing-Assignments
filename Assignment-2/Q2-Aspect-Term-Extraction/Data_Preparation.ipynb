{
 "cells": [
  {
   "cell_type": "code",
   "execution_count": 8,
   "metadata": {},
   "outputs": [
    {
     "name": "stdout",
     "output_type": "stream",
     "text": [
      "906 219 328\n",
      "906 219 328\n"
     ]
    }
   ],
   "source": [
    "import os\n",
    "import json\n",
    "\n",
    "# Load the data\n",
    "path = os.getcwd()\n",
    "laptop_train_data = json.load(open(os.path.join(path, 'Laptop_Review_Train.json')))\n",
    "laptop_val_data = json.load(open(os.path.join(path, 'Laptop_Review_Val.json')))\n",
    "laptop_test_data = json.load(open(os.path.join(path, 'Laptop_Review_Test.json')))\n",
    "print(len(laptop_train_data), len(laptop_val_data), len(laptop_test_data))\n",
    "\n",
    "def process_data(dataset):\n",
    "    counter = 0\n",
    "    final_data = {}\n",
    "    for data in dataset:\n",
    "        text = data['raw_words']\n",
    "        tokens = data['words']\n",
    "        labels = ['O'] * len(tokens)\n",
    "        all_aspects = data['aspects']\n",
    "        for aspect in all_aspects:\n",
    "            start = aspect['from']\n",
    "            end = aspect['to']\n",
    "            aspect_term = aspect['term']\n",
    "            for j in range(start, end):\n",
    "                if j == start:\n",
    "                    labels[j] = 'B'\n",
    "                else:\n",
    "                    labels[j] = 'I'\n",
    "                if tokens[j] != aspect_term[j-start]:\n",
    "                    print('not matching')\n",
    "        final_data[counter] = {'text': text, 'labels': labels}\n",
    "        counter += 1\n",
    "    return final_data\n",
    "\n",
    "# Process the data\n",
    "train_data = process_data(laptop_train_data)\n",
    "val_data = process_data(laptop_val_data)\n",
    "test_data = process_data(laptop_test_data)\n",
    "print(len(train_data), len(val_data), len(test_data))\n",
    "\n",
    "# Save the data\n",
    "json.dump(train_data, open(os.path.join(path, 'train_data.json'), 'w'))\n",
    "json.dump(val_data, open(os.path.join(path, 'val_data.json'), 'w'))\n",
    "json.dump(test_data, open(os.path.join(path, 'test_data.json'), 'w'))"
   ]
  }
 ],
 "metadata": {
  "kernelspec": {
   "display_name": "Python 3",
   "language": "python",
   "name": "python3"
  },
  "language_info": {
   "codemirror_mode": {
    "name": "ipython",
    "version": 3
   },
   "file_extension": ".py",
   "mimetype": "text/x-python",
   "name": "python",
   "nbconvert_exporter": "python",
   "pygments_lexer": "ipython3",
   "version": "3.11.4"
  }
 },
 "nbformat": 4,
 "nbformat_minor": 2
}
