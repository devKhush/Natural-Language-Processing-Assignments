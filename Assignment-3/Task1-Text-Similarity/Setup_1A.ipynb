{
 "cells": [
  {
   "cell_type": "code",
   "execution_count": 1,
   "metadata": {},
   "outputs": [],
   "source": [
    "import os\n",
    "import torch\n",
    "import warnings\n",
    "import numpy as np\n",
    "import pandas as pd\n",
    "import matplotlib.pyplot as plt\n",
    "warnings.filterwarnings(\"ignore\")"
   ]
  },
  {
   "cell_type": "markdown",
   "metadata": {},
   "source": [
    "### Import the Data"
   ]
  },
  {
   "cell_type": "code",
   "execution_count": 2,
   "metadata": {},
   "outputs": [
    {
     "name": "stdout",
     "output_type": "stream",
     "text": [
      "Training data shape:  (5711, 3)\n",
      "Validation data shape:  (1470, 3)\n",
      "Test data shape:  (6, 4)\n"
     ]
    },
    {
     "data": {
      "text/html": [
       "<div>\n",
       "<style scoped>\n",
       "    .dataframe tbody tr th:only-of-type {\n",
       "        vertical-align: middle;\n",
       "    }\n",
       "\n",
       "    .dataframe tbody tr th {\n",
       "        vertical-align: top;\n",
       "    }\n",
       "\n",
       "    .dataframe thead th {\n",
       "        text-align: right;\n",
       "    }\n",
       "</style>\n",
       "<table border=\"1\" class=\"dataframe\">\n",
       "  <thead>\n",
       "    <tr style=\"text-align: right;\">\n",
       "      <th></th>\n",
       "      <th>score</th>\n",
       "      <th>sentence1</th>\n",
       "      <th>sentence2</th>\n",
       "    </tr>\n",
       "  </thead>\n",
       "  <tbody>\n",
       "    <tr>\n",
       "      <th>0</th>\n",
       "      <td>5.00</td>\n",
       "      <td>A plane is taking off.</td>\n",
       "      <td>An air plane is taking off.</td>\n",
       "    </tr>\n",
       "    <tr>\n",
       "      <th>1</th>\n",
       "      <td>3.80</td>\n",
       "      <td>A man is playing a large flute.</td>\n",
       "      <td>A man is playing a flute.</td>\n",
       "    </tr>\n",
       "    <tr>\n",
       "      <th>2</th>\n",
       "      <td>3.80</td>\n",
       "      <td>A man is spreading shreded cheese on a pizza.</td>\n",
       "      <td>A man is spreading shredded cheese on an uncoo...</td>\n",
       "    </tr>\n",
       "    <tr>\n",
       "      <th>3</th>\n",
       "      <td>2.60</td>\n",
       "      <td>Three men are playing chess.</td>\n",
       "      <td>Two men are playing chess.</td>\n",
       "    </tr>\n",
       "    <tr>\n",
       "      <th>4</th>\n",
       "      <td>4.25</td>\n",
       "      <td>A man is playing the cello.</td>\n",
       "      <td>A man seated is playing the cello.</td>\n",
       "    </tr>\n",
       "  </tbody>\n",
       "</table>\n",
       "</div>"
      ],
      "text/plain": [
       "   score                                      sentence1  \\\n",
       "0   5.00                         A plane is taking off.   \n",
       "1   3.80                A man is playing a large flute.   \n",
       "2   3.80  A man is spreading shreded cheese on a pizza.   \n",
       "3   2.60                   Three men are playing chess.   \n",
       "4   4.25                    A man is playing the cello.   \n",
       "\n",
       "                                           sentence2  \n",
       "0                        An air plane is taking off.  \n",
       "1                          A man is playing a flute.  \n",
       "2  A man is spreading shredded cheese on an uncoo...  \n",
       "3                         Two men are playing chess.  \n",
       "4                 A man seated is playing the cello.  "
      ]
     },
     "execution_count": 2,
     "metadata": {},
     "output_type": "execute_result"
    }
   ],
   "source": [
    "# Load the training and validation datasets\n",
    "train_df = pd.read_csv('./Data/train.csv', sep='\\t')\n",
    "val_df = pd.read_csv('./Data/dev.csv', sep='\\t')\n",
    "test_df = pd.read_csv('./Data/sample_demo.csv', sep='\\t')\n",
    "\n",
    "print(\"Training data shape: \", train_df.shape)\n",
    "print(\"Validation data shape: \", val_df.shape)\n",
    "print(\"Test data shape: \", test_df.shape)\n",
    "train_df.head()"
   ]
  },
  {
   "cell_type": "code",
   "execution_count": 3,
   "metadata": {},
   "outputs": [
    {
     "name": "stdout",
     "output_type": "stream",
     "text": [
      "Training data shape after dropping NaNs:  (5708, 3)\n",
      "Validation data shape after dropping NaNs:  (1468, 3)\n",
      "Test data shape after dropping NaNs:  (6, 4)\n"
     ]
    }
   ],
   "source": [
    "train_df = train_df.dropna()\n",
    "val_df = val_df.dropna()\n",
    "test_df = test_df.dropna()\n",
    "print(\"Training data shape after dropping NaNs: \", train_df.shape)\n",
    "print(\"Validation data shape after dropping NaNs: \", val_df.shape)\n",
    "print(\"Test data shape after dropping NaNs: \", test_df.shape)"
   ]
  },
  {
   "cell_type": "markdown",
   "metadata": {},
   "source": [
    "### Import the required libraries"
   ]
  },
  {
   "cell_type": "code",
   "execution_count": 5,
   "metadata": {},
   "outputs": [],
   "source": [
    "import torch\n",
    "import numpy as np\n",
    "from transformers import BertTokenizer, BertModel, BertConfig, AdamW, get_linear_schedule_with_warmup\n",
    "from torch.utils.data import Dataset, DataLoader\n",
    "from sklearn.metrics import mean_squared_error\n",
    "from scipy.stats import pearsonr\n",
    "from sklearn.metrics.pairwise import cosine_similarity\n",
    "import matplotlib.pyplot as plt\n",
    "import transformers\n",
    "transformers.logging.set_verbosity_error()"
   ]
  },
  {
   "cell_type": "markdown",
   "metadata": {},
   "source": [
    "### Create Dataset and Data Loader"
   ]
  },
  {
   "cell_type": "code",
   "execution_count": 6,
   "metadata": {},
   "outputs": [],
   "source": [
    "class TextSimilarityDataset(Dataset):\n",
    "    def __init__(self, df, tokenizer, max_length=128):\n",
    "        self.df = df\n",
    "        self.tokenizer = tokenizer\n",
    "        self.max_length = max_length\n",
    "\n",
    "    def __len__(self):\n",
    "        return len(self.df)\n",
    "\n",
    "    def __getitem__(self, idx):\n",
    "        sentence1 = self.df.iloc[idx]['sentence1']\n",
    "        sentence2 = self.df.iloc[idx]['sentence2']\n",
    "        score = self.df.iloc[idx]['score']\n",
    "\n",
    "        inputs = self.tokenizer.encode_plus(\n",
    "            sentence1,\n",
    "            sentence2,\n",
    "            add_special_tokens=True,\n",
    "            max_length=self.max_length,\n",
    "            padding='max_length',\n",
    "            truncation=True,\n",
    "            return_tensors='pt'\n",
    "        )\n",
    "\n",
    "        return {\n",
    "            'input_ids': inputs['input_ids'].squeeze(0),\n",
    "            'attention_mask': inputs['attention_mask'].squeeze(0),\n",
    "            'labels': torch.tensor(score, dtype=torch.float)\n",
    "        }\n",
    "\n",
    "tokenizer = BertTokenizer.from_pretrained('bert-base-uncased')\n",
    "bert_model = BertModel.from_pretrained('bert-base-uncased')"
   ]
  },
  {
   "cell_type": "code",
   "execution_count": 50,
   "metadata": {},
   "outputs": [
    {
     "name": "stdout",
     "output_type": "stream",
     "text": [
      "5708 1468 6\n",
      "90 23 3\n"
     ]
    }
   ],
   "source": [
    "train_dataset = TextSimilarityDataset(train_df, tokenizer, max_length=128)\n",
    "val_dataset = TextSimilarityDataset(val_df, tokenizer, max_length=128)\n",
    "test_dataset = TextSimilarityDataset(test_df, tokenizer, max_length=128)\n",
    "print(len(train_dataset), len(val_dataset), len(test_dataset))\n",
    "\n",
    "train_loader = DataLoader(train_dataset, batch_size=64, shuffle=True)\n",
    "val_loader = DataLoader(val_dataset, batch_size=64, shuffle=False)\n",
    "test_loader = DataLoader(test_dataset, batch_size=2, shuffle=False)\n",
    "print(len(train_loader), len(val_loader), len(test_loader))"
   ]
  },
  {
   "cell_type": "code",
   "execution_count": 83,
   "metadata": {},
   "outputs": [
    {
     "name": "stdout",
     "output_type": "stream",
     "text": [
      "[CLS] a group of people sitting at a restaurant table. [SEP] a group of people sitting around a table with food on it. [SEP] [PAD] [PAD] [PAD] [PAD] [PAD] [PAD] [PAD] [PAD] [PAD] [PAD] [PAD] [PAD] [PAD] [PAD] [PAD] [PAD] [PAD] [PAD] [PAD] [PAD] [PAD] [PAD] [PAD] [PAD] [PAD] [PAD] [PAD] [PAD] [PAD] [PAD] [PAD] [PAD] [PAD] [PAD] [PAD] [PAD] [PAD] [PAD] [PAD] [PAD] [PAD] [PAD] [PAD] [PAD] [PAD] [PAD] [PAD] [PAD] [PAD] [PAD] [PAD] [PAD] [PAD] [PAD] [PAD] [PAD] [PAD] [PAD] [PAD] [PAD] [PAD] [PAD] [PAD] [PAD] [PAD] [PAD] [PAD] [PAD] [PAD] [PAD] [PAD] [PAD] [PAD] [PAD] [PAD] [PAD] [PAD] [PAD] [PAD] [PAD] [PAD] [PAD] [PAD] [PAD] [PAD] [PAD] [PAD] [PAD] [PAD] [PAD] [PAD] [PAD] [PAD] [PAD] [PAD] [PAD] [PAD] [PAD] [PAD] [PAD] [PAD] [PAD]\n",
      "torch.Size([128])\n",
      "torch.Size([64, 128])\n",
      "torch.Size([64, 128])\n",
      "torch.Size([64])\n",
      "tensor([101, 101, 101, 101, 101, 101, 101, 101, 101, 101, 101, 101, 101, 101,\n",
      "        101, 101, 101, 101, 101, 101, 101, 101, 101, 101, 101, 101, 101, 101,\n",
      "        101, 101, 101, 101, 101, 101, 101, 101, 101, 101, 101, 101, 101, 101,\n",
      "        101, 101, 101, 101, 101, 101, 101, 101, 101, 101, 101, 101, 101, 101,\n",
      "        101, 101, 101, 101, 101, 101, 101, 101])\n"
     ]
    }
   ],
   "source": [
    "for data in train_loader:\n",
    "    print(train_dataset.tokenizer.decode(data['input_ids'][0]))\n",
    "    print(train_dataset[0]['input_ids'].shape)\n",
    "    print(data['input_ids'].shape)\n",
    "    print(data['attention_mask'].shape)\n",
    "    print(data['labels'].shape)\n",
    "    print(data['input_ids'][:, 0])\n",
    "    # print(data['attention_mask'][0])\n",
    "    break"
   ]
  },
  {
   "cell_type": "markdown",
   "metadata": {},
   "source": [
    "### Create BERT Model"
   ]
  },
  {
   "cell_type": "code",
   "execution_count": 31,
   "metadata": {},
   "outputs": [],
   "source": [
    "import torch\n",
    "import torch.nn as nn\n",
    "\n",
    "class BertModel(nn.Module):\n",
    "    def __init__(self, bert_model):\n",
    "        super(BertModel, self).__init__()\n",
    "        self.bert = bert_model\n",
    "        self.linear = nn.Linear(self.bert.config.hidden_size, 1)\n",
    "\n",
    "    def forward(self, input_ids, attention_mask):\n",
    "        outputs = self.bert(input_ids=input_ids, attention_mask=attention_mask)\n",
    "        pooled_output = outputs['pooler_output']\n",
    "        logits = self.linear(pooled_output)\n",
    "        return logits"
   ]
  },
  {
   "cell_type": "markdown",
   "metadata": {},
   "source": [
    "### Training and Validation"
   ]
  },
  {
   "cell_type": "code",
   "execution_count": 68,
   "metadata": {},
   "outputs": [],
   "source": [
    "def train(model, dataloader, optimizer, criterion, device):\n",
    "    model.train()\n",
    "    total_loss = 0\n",
    "    model = model.to(device)\n",
    "    for i, (batch) in enumerate(dataloader):\n",
    "        input_ids = batch['input_ids'].to(device)\n",
    "        attention_mask = batch['attention_mask'].to(device)\n",
    "        labels = batch['labels'].to(device)\n",
    "        optimizer.zero_grad()\n",
    "        outputs = model(input_ids, attention_mask)\n",
    "        loss = criterion(outputs.flatten(), labels)\n",
    "        loss.backward()\n",
    "        optimizer.step()\n",
    "        total_loss += loss.item()\n",
    "        if i % 20 == 0:\n",
    "            print(f'Batch {i}, Loss: {loss.item()}')\n",
    "    return total_loss / len(dataloader)\n",
    "\n",
    "\n",
    "def evaluate(model, dataloader, criterion, device):\n",
    "    model.eval()\n",
    "    total_loss = 0\n",
    "    model = model.to(device)\n",
    "    with torch.no_grad():\n",
    "        for batch in dataloader:\n",
    "            input_ids = batch['input_ids'].to(device)\n",
    "            attention_mask = batch['attention_mask'].to(device)\n",
    "            labels = batch['labels'].to(device)\n",
    "            outputs = model(input_ids, attention_mask)\n",
    "            loss = criterion(outputs.flatten(), labels)\n",
    "            total_loss += loss.item()\n",
    "    return total_loss / len(dataloader)"
   ]
  },
  {
   "cell_type": "code",
   "execution_count": 35,
   "metadata": {},
   "outputs": [],
   "source": [
    "device = torch.device('cuda' if torch.cuda.is_available() else 'cpu')\n",
    "num_epochs = 10\n",
    "learning_rate = 2e-5\n",
    "\n",
    "model = BertModel(bert_model).to(device)\n",
    "optimizer = AdamW(model.parameters(), lr=learning_rate)\n",
    "criterion = nn.MSELoss()"
   ]
  },
  {
   "cell_type": "code",
   "execution_count": 36,
   "metadata": {},
   "outputs": [
    {
     "name": "stdout",
     "output_type": "stream",
     "text": [
      "Batch 0, Loss: 7.290775299072266\n",
      "Batch 20, Loss: 2.0682568550109863\n",
      "Batch 40, Loss: 1.7635372877120972\n",
      "Batch 60, Loss: 1.253429889678955\n",
      "Batch 80, Loss: 0.5618610382080078\n",
      "--> Epoch: 1, Training Loss: 1.816809159848425, Validation Loss: 0.721024549525717\n",
      "Batch 0, Loss: 0.7144342660903931\n",
      "Batch 20, Loss: 0.6915478110313416\n",
      "Batch 40, Loss: 0.4368951916694641\n",
      "Batch 60, Loss: 0.5863120555877686\n",
      "Batch 80, Loss: 1.0564459562301636\n",
      "--> Epoch: 2, Training Loss: 0.5991810616519716, Validation Loss: 0.6133220299430515\n",
      "Batch 0, Loss: 0.42003369331359863\n",
      "Batch 20, Loss: 0.3871145248413086\n",
      "Batch 40, Loss: 0.5550764799118042\n",
      "Batch 60, Loss: 0.47885996103286743\n",
      "Batch 80, Loss: 0.4012841582298279\n",
      "--> Epoch: 3, Training Loss: 0.4156143089135488, Validation Loss: 0.5922336759774581\n",
      "Batch 0, Loss: 0.41178247332572937\n",
      "Batch 20, Loss: 0.2653651535511017\n",
      "Batch 40, Loss: 0.26930472254753113\n",
      "Batch 60, Loss: 0.2791517972946167\n",
      "Batch 80, Loss: 0.28424763679504395\n",
      "--> Epoch: 4, Training Loss: 0.3026408894194497, Validation Loss: 0.5700829612172168\n",
      "Batch 0, Loss: 0.16733375191688538\n",
      "Batch 20, Loss: 0.19805461168289185\n",
      "Batch 40, Loss: 0.2821394205093384\n",
      "Batch 60, Loss: 0.16121800243854523\n",
      "Batch 80, Loss: 0.2840038537979126\n",
      "--> Epoch: 5, Training Loss: 0.22129835784435273, Validation Loss: 0.5823692187019016\n"
     ]
    }
   ],
   "source": [
    "training_loss, validation_loss = [], []\n",
    "for epoch in range(num_epochs):\n",
    "    train_loss = train(model, train_loader, optimizer, criterion, device)\n",
    "    val_loss, val_preds = evaluate(model, val_loader, criterion, device)\n",
    "    training_loss.append(train_loss)\n",
    "    validation_loss.append(val_loss)\n",
    "    print(f'--> Epoch: {epoch + 1}, Training Loss: {train_loss}, Validation Loss: {val_loss}')"
   ]
  },
  {
   "cell_type": "code",
   "execution_count": 37,
   "metadata": {},
   "outputs": [
    {
     "data": {
      "image/png": "[encoded data removed]",
      "text/plain": [
       "<Figure size 640x480 with 1 Axes>"
      ]
     },
     "metadata": {},
     "output_type": "display_data"
    }
   ],
   "source": [
    "plt.plot(training_loss, label='Training Loss')\n",
    "plt.plot(validation_loss, label='Validation Loss')\n",
    "plt.xlabel('Epochs')\n",
    "plt.ylabel('Loss')\n",
    "plt.legend()\n",
    "plt.show()"
   ]
  },
  {
   "cell_type": "code",
   "execution_count": 69,
   "metadata": {},
   "outputs": [
    {
     "name": "stdout",
     "output_type": "stream",
     "text": [
      "Validation Loss: 0.5823692187019016\n",
      "Test Loss: 0.06607421780548368\n"
     ]
    }
   ],
   "source": [
    "val_loss = evaluate(model, val_loader, criterion, device)\n",
    "print(f'Validation Loss: {val_loss}')\n",
    "test_loss = evaluate(model, test_loader, criterion, device)\n",
    "print(f'Test Loss: {test_loss}')"
   ]
  },
  {
   "cell_type": "markdown",
   "metadata": {},
   "source": [
    "### Saving and Loading for future"
   ]
  },
  {
   "cell_type": "code",
   "execution_count": 70,
   "metadata": {},
   "outputs": [],
   "source": [
    "model = model.to('cpu')\n",
    "torch.save(model.state_dict(), 'q1a_bert_model.pth')"
   ]
  },
  {
   "cell_type": "code",
   "execution_count": 71,
   "metadata": {},
   "outputs": [
    {
     "name": "stdout",
     "output_type": "stream",
     "text": [
      "Validation Loss: 0.5823692187019016\n",
      "Test Loss: 0.06607421780548368\n"
     ]
    }
   ],
   "source": [
    "loaded_model = BertModel(bert_model)\n",
    "loaded_model.load_state_dict(torch.load('q1a_bert_model.pth'))\n",
    "loaded_model = loaded_model.to(device)\n",
    "\n",
    "val_loss = evaluate(loaded_model, val_loader, criterion, device)\n",
    "print(f'Validation Loss: {val_loss}')\n",
    "test_loss = evaluate(loaded_model, test_loader, criterion, device)\n",
    "print(f'Test Loss: {test_loss}')"
   ]
  },
  {
   "cell_type": "markdown",
   "metadata": {},
   "source": [
    "### Calculate Pearson Coefficients"
   ]
  },
  {
   "cell_type": "code",
   "execution_count": 75,
   "metadata": {},
   "outputs": [],
   "source": [
    "def get_predictions(model, dataloader, device):\n",
    "    model.eval()\n",
    "    actual_scores = []\n",
    "    predicted_scores = []\n",
    "    model = model.to(device)\n",
    "    with torch.no_grad():\n",
    "        for batch in dataloader:\n",
    "            input_ids = batch['input_ids'].to(device)\n",
    "            attention_mask = batch['attention_mask'].to(device)\n",
    "            outputs = model(input_ids, attention_mask)\n",
    "            actual_scores.extend(batch['labels'].numpy().tolist())\n",
    "            predicted_scores.extend(outputs.flatten().tolist())\n",
    "    return actual_scores, predicted_scores"
   ]
  },
  {
   "cell_type": "code",
   "execution_count": 76,
   "metadata": {},
   "outputs": [],
   "source": [
    "val_actual, val_preds = get_predictions(loaded_model, val_loader, device)\n",
    "test_actual, test_preds = get_predictions(loaded_model, test_loader, device)"
   ]
  },
  {
   "cell_type": "code",
   "execution_count": 87,
   "metadata": {},
   "outputs": [
    {
     "name": "stdout",
     "output_type": "stream",
     "text": [
      "Validation Pearson Correlation: 0.8676728865750375\n",
      "Test Pearson Correlation: 0.9784852902947985\n"
     ]
    }
   ],
   "source": [
    "from scipy.stats import pearsonr\n",
    "\n",
    "val_pearson, _ = pearsonr(val_preds, val_actual)\n",
    "test_pearson, _ = pearsonr(test_preds, test_actual)\n",
    "\n",
    "print(f'Validation Pearson Correlation: {val_pearson}')\n",
    "print(f'Test Pearson Correlation: {test_pearson}')"
   ]
  }
 ],
 "metadata": {
  "kernelspec": {
   "display_name": "a3_env",
   "language": "python",
   "name": "python3"
  },
  "language_info": {
   "codemirror_mode": {
    "name": "ipython",
    "version": 3
   },
   "file_extension": ".py",
   "mimetype": "text/x-python",
   "name": "python",
   "nbconvert_exporter": "python",
   "pygments_lexer": "ipython3",
   "version": "3.12.2"
  }
 },
 "nbformat": 4,
 "nbformat_minor": 2
}
