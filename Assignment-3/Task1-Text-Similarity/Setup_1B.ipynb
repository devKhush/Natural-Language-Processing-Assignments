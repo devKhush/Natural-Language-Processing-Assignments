{
 "cells": [
  {
   "cell_type": "markdown",
   "metadata": {},
   "source": [
    "### Load the Data"
   ]
  },
  {
   "cell_type": "code",
   "execution_count": 5,
   "metadata": {},
   "outputs": [
    {
     "name": "stdout",
     "output_type": "stream",
     "text": [
      "(5708, 3) (1468, 3) (6, 4)\n"
     ]
    }
   ],
   "source": [
    "import pandas as pd\n",
    "from sklearn.preprocessing import MinMaxScaler\n",
    "\n",
    "train_df = pd.read_csv('./Data/train.csv', sep='\\t')\n",
    "val_df = pd.read_csv('./Data/dev.csv', sep='\\t')\n",
    "test_df = pd.read_csv('./Data/sample_demo.csv', sep='\\t')\n",
    "\n",
    "train_df = train_df.dropna()\n",
    "val_df = val_df.dropna()\n",
    "test_df = test_df.dropna()\n",
    "print(train_df.shape, val_df.shape, test_df.shape)"
   ]
  },
  {
   "cell_type": "markdown",
   "metadata": {},
   "source": [
    "### Scale the Data"
   ]
  },
  {
   "cell_type": "code",
   "execution_count": 6,
   "metadata": {},
   "outputs": [],
   "source": [
    "scaler = MinMaxScaler(feature_range=(0, 1))\n",
    "train_df['score'] = scaler.fit_transform(train_df[['score']])\n",
    "val_df['score'] = scaler.fit_transform(val_df[['score']])\n",
    "test_df['score'] = scaler.fit_transform(test_df[['score']])"
   ]
  },
  {
   "cell_type": "markdown",
   "metadata": {},
   "source": [
    "### Load the Model"
   ]
  },
  {
   "cell_type": "code",
   "execution_count": 7,
   "metadata": {},
   "outputs": [],
   "source": [
    "from sentence_transformers import SentenceTransformer, util\n",
    "from scipy.stats import pearsonr\n",
    "from sklearn.metrics.pairwise import cosine_similarity\n",
    "\n",
    "\n",
    "# all-mpnet-base-v2 (large-size), all-MiniLM-L12-v1 (moderate), all-MiniLM-L6-v2 (fast & good & small), paraphrase-mpnet-base-v2\n",
    "model = SentenceTransformer(\"all-MiniLM-L6-v2\")"
   ]
  },
  {
   "cell_type": "markdown",
   "metadata": {},
   "source": [
    "### Pearson correlation on Validation set "
   ]
  },
  {
   "cell_type": "code",
   "execution_count": 8,
   "metadata": {},
   "outputs": [
    {
     "name": "stdout",
     "output_type": "stream",
     "text": [
      "Validation-Set Pearson Correlation: 0.8631423846336786\n"
     ]
    }
   ],
   "source": [
    "val_predicted_scores = []\n",
    "    \n",
    "for i in range(len(val_df)):\n",
    "    s1 = val_df.iloc[i]['sentence1']\n",
    "    s2 = val_df.iloc[i]['sentence2']\n",
    "    emb1 = model.encode(s1, convert_to_tensor=True)\n",
    "    emb2 = model.encode(s2, convert_to_tensor=True)\n",
    "    cosine_sim = util.pytorch_cos_sim(emb1, emb2)\n",
    "    val_predicted_scores.append(cosine_sim.item())\n",
    "    # cosine_sim = cosine_similarity(emb1.cpu().reshape(1, -1), emb2.cpu().reshape(1, -1))\n",
    "\n",
    "pearson_corr, _ = pearsonr(val_predicted_scores, val_df['score'])\n",
    "print('Validation-Set Pearson Correlation:', pearson_corr)"
   ]
  },
  {
   "cell_type": "markdown",
   "metadata": {},
   "source": [
    "### Pearson correlation on Test set"
   ]
  },
  {
   "cell_type": "code",
   "execution_count": 11,
   "metadata": {},
   "outputs": [
    {
     "name": "stdout",
     "output_type": "stream",
     "text": [
      "Test-Set Pearson Correlation: 0.982463644410194\n"
     ]
    }
   ],
   "source": [
    "test_predicted_scores = []\n",
    "\n",
    "for i in range(len(test_df)):\n",
    "    s1 = test_df.iloc[i]['sentence1']\n",
    "    s2 = test_df.iloc[i]['sentence2']\n",
    "    emb1 = model.encode(s1, convert_to_tensor=True)\n",
    "    emb2 = model.encode(s2, convert_to_tensor=True)\n",
    "    cosine_sim = util.pytorch_cos_sim(emb1, emb2)\n",
    "    test_predicted_scores.append(cosine_sim.item())\n",
    "\n",
    "perason_corr, _ = pearsonr(test_predicted_scores, test_df['score'])\n",
    "print('Test-Set Pearson Correlation:', perason_corr)"
   ]
  }
 ],
 "metadata": {
  "kernelspec": {
   "display_name": "a3_env",
   "language": "python",
   "name": "python3"
  },
  "language_info": {
   "codemirror_mode": {
    "name": "ipython",
    "version": 3
   },
   "file_extension": ".py",
   "mimetype": "text/x-python",
   "name": "python",
   "nbconvert_exporter": "python",
   "pygments_lexer": "ipython3",
   "version": "3.12.2"
  }
 },
 "nbformat": 4,
 "nbformat_minor": 2
}
