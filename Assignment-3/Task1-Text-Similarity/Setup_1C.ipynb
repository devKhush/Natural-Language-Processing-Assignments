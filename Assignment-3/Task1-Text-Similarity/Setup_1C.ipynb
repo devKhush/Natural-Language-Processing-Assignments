{
 "cells": [
  {
   "cell_type": "code",
   "execution_count": 47,
   "metadata": {},
   "outputs": [],
   "source": [
    "import os\n",
    "import torch\n",
    "import warnings\n",
    "import numpy as np\n",
    "import pandas as pd\n",
    "import matplotlib.pyplot as plt\n",
    "from sklearn.preprocessing import MinMaxScaler\n",
    "warnings.filterwarnings(\"ignore\")"
   ]
  },
  {
   "cell_type": "markdown",
   "metadata": {},
   "source": [
    "### Load the Datasets"
   ]
  },
  {
   "cell_type": "code",
   "execution_count": 48,
   "metadata": {},
   "outputs": [
    {
     "name": "stdout",
     "output_type": "stream",
     "text": [
      "5711 1470 6\n",
      "Training data shape:  (5708, 3)\n",
      "Validation data shape:  (1468, 3)\n",
      "Test data shape:  (6, 4)\n"
     ]
    },
    {
     "data": {
      "text/html": [
       "<div>\n",
       "<style scoped>\n",
       "    .dataframe tbody tr th:only-of-type {\n",
       "        vertical-align: middle;\n",
       "    }\n",
       "\n",
       "    .dataframe tbody tr th {\n",
       "        vertical-align: top;\n",
       "    }\n",
       "\n",
       "    .dataframe thead th {\n",
       "        text-align: right;\n",
       "    }\n",
       "</style>\n",
       "<table border=\"1\" class=\"dataframe\">\n",
       "  <thead>\n",
       "    <tr style=\"text-align: right;\">\n",
       "      <th></th>\n",
       "      <th>score</th>\n",
       "      <th>sentence1</th>\n",
       "      <th>sentence2</th>\n",
       "    </tr>\n",
       "  </thead>\n",
       "  <tbody>\n",
       "    <tr>\n",
       "      <th>0</th>\n",
       "      <td>5.00</td>\n",
       "      <td>A plane is taking off.</td>\n",
       "      <td>An air plane is taking off.</td>\n",
       "    </tr>\n",
       "    <tr>\n",
       "      <th>1</th>\n",
       "      <td>3.80</td>\n",
       "      <td>A man is playing a large flute.</td>\n",
       "      <td>A man is playing a flute.</td>\n",
       "    </tr>\n",
       "    <tr>\n",
       "      <th>2</th>\n",
       "      <td>3.80</td>\n",
       "      <td>A man is spreading shreded cheese on a pizza.</td>\n",
       "      <td>A man is spreading shredded cheese on an uncoo...</td>\n",
       "    </tr>\n",
       "    <tr>\n",
       "      <th>3</th>\n",
       "      <td>2.60</td>\n",
       "      <td>Three men are playing chess.</td>\n",
       "      <td>Two men are playing chess.</td>\n",
       "    </tr>\n",
       "    <tr>\n",
       "      <th>4</th>\n",
       "      <td>4.25</td>\n",
       "      <td>A man is playing the cello.</td>\n",
       "      <td>A man seated is playing the cello.</td>\n",
       "    </tr>\n",
       "  </tbody>\n",
       "</table>\n",
       "</div>"
      ],
      "text/plain": [
       "   score                                      sentence1  \\\n",
       "0   5.00                         A plane is taking off.   \n",
       "1   3.80                A man is playing a large flute.   \n",
       "2   3.80  A man is spreading shreded cheese on a pizza.   \n",
       "3   2.60                   Three men are playing chess.   \n",
       "4   4.25                    A man is playing the cello.   \n",
       "\n",
       "                                           sentence2  \n",
       "0                        An air plane is taking off.  \n",
       "1                          A man is playing a flute.  \n",
       "2  A man is spreading shredded cheese on an uncoo...  \n",
       "3                         Two men are playing chess.  \n",
       "4                 A man seated is playing the cello.  "
      ]
     },
     "execution_count": 48,
     "metadata": {},
     "output_type": "execute_result"
    }
   ],
   "source": [
    "# Load the training and validation datasets\n",
    "train_df = pd.read_csv('./Data/train.csv', sep='\\t')\n",
    "val_df = pd.read_csv('./Data/dev.csv', sep='\\t')\n",
    "test_df = pd.read_csv('./Data/sample_demo.csv', sep='\\t')\n",
    "\n",
    "print(len(train_df), len(val_df), len(test_df))\n",
    "train_df = train_df.dropna()\n",
    "val_df = val_df.dropna()\n",
    "test_df = test_df.dropna()\n",
    "\n",
    "print(\"Training data shape: \", train_df.shape)\n",
    "print(\"Validation data shape: \", val_df.shape)\n",
    "print(\"Test data shape: \", test_df.shape)\n",
    "train_df.head()"
   ]
  },
  {
   "cell_type": "markdown",
   "metadata": {},
   "source": [
    "### Scale the Score Data Column"
   ]
  },
  {
   "cell_type": "code",
   "execution_count": 49,
   "metadata": {},
   "outputs": [
    {
     "data": {
      "text/html": [
       "<div>\n",
       "<style scoped>\n",
       "    .dataframe tbody tr th:only-of-type {\n",
       "        vertical-align: middle;\n",
       "    }\n",
       "\n",
       "    .dataframe tbody tr th {\n",
       "        vertical-align: top;\n",
       "    }\n",
       "\n",
       "    .dataframe thead th {\n",
       "        text-align: right;\n",
       "    }\n",
       "</style>\n",
       "<table border=\"1\" class=\"dataframe\">\n",
       "  <thead>\n",
       "    <tr style=\"text-align: right;\">\n",
       "      <th></th>\n",
       "      <th>score</th>\n",
       "      <th>sentence1</th>\n",
       "      <th>sentence2</th>\n",
       "    </tr>\n",
       "  </thead>\n",
       "  <tbody>\n",
       "    <tr>\n",
       "      <th>0</th>\n",
       "      <td>1.00</td>\n",
       "      <td>A plane is taking off.</td>\n",
       "      <td>An air plane is taking off.</td>\n",
       "    </tr>\n",
       "    <tr>\n",
       "      <th>1</th>\n",
       "      <td>0.76</td>\n",
       "      <td>A man is playing a large flute.</td>\n",
       "      <td>A man is playing a flute.</td>\n",
       "    </tr>\n",
       "    <tr>\n",
       "      <th>2</th>\n",
       "      <td>0.76</td>\n",
       "      <td>A man is spreading shreded cheese on a pizza.</td>\n",
       "      <td>A man is spreading shredded cheese on an uncoo...</td>\n",
       "    </tr>\n",
       "    <tr>\n",
       "      <th>3</th>\n",
       "      <td>0.52</td>\n",
       "      <td>Three men are playing chess.</td>\n",
       "      <td>Two men are playing chess.</td>\n",
       "    </tr>\n",
       "    <tr>\n",
       "      <th>4</th>\n",
       "      <td>0.85</td>\n",
       "      <td>A man is playing the cello.</td>\n",
       "      <td>A man seated is playing the cello.</td>\n",
       "    </tr>\n",
       "  </tbody>\n",
       "</table>\n",
       "</div>"
      ],
      "text/plain": [
       "   score                                      sentence1  \\\n",
       "0   1.00                         A plane is taking off.   \n",
       "1   0.76                A man is playing a large flute.   \n",
       "2   0.76  A man is spreading shreded cheese on a pizza.   \n",
       "3   0.52                   Three men are playing chess.   \n",
       "4   0.85                    A man is playing the cello.   \n",
       "\n",
       "                                           sentence2  \n",
       "0                        An air plane is taking off.  \n",
       "1                          A man is playing a flute.  \n",
       "2  A man is spreading shredded cheese on an uncoo...  \n",
       "3                         Two men are playing chess.  \n",
       "4                 A man seated is playing the cello.  "
      ]
     },
     "execution_count": 49,
     "metadata": {},
     "output_type": "execute_result"
    }
   ],
   "source": [
    "scaler = MinMaxScaler(feature_range=(0, 1))\n",
    "train_df['score'] = scaler.fit_transform(train_df[['score']])\n",
    "val_df['score'] = scaler.fit_transform(val_df[['score']])\n",
    "test_df['score'] = scaler.fit_transform(test_df[['score']])\n",
    "\n",
    "train_df.head()"
   ]
  },
  {
   "cell_type": "markdown",
   "metadata": {},
   "source": [
    "### Load the Model"
   ]
  },
  {
   "cell_type": "code",
   "execution_count": 37,
   "metadata": {},
   "outputs": [],
   "source": [
    "from sentence_transformers import SentenceTransformer, util, SentencesDataset, InputExample, losses\n",
    "from scipy.stats import pearsonr\n",
    "from sklearn.metrics.pairwise import cosine_similarity\n",
    "from torch.optim import Adam\n",
    "\n",
    "# all-mpnet-base-v2 (large-size), all-MiniLM-L12-v1 (moderate), all-MiniLM-L6-v2 (fast & good & small), paraphrase-mpnet-base-v2\n",
    "model = SentenceTransformer(\"all-MiniLM-L6-v2\")"
   ]
  },
  {
   "cell_type": "markdown",
   "metadata": {},
   "source": [
    "### Fine-tune the Model"
   ]
  },
  {
   "cell_type": "code",
   "execution_count": 8,
   "metadata": {},
   "outputs": [],
   "source": [
    "from torch.utils.data import DataLoader\n",
    "\n",
    "# Define Train and Validation Dataset\n",
    "train_dataset = [InputExample(texts=[train_df.iloc[i]['sentence1'], train_df.iloc[i]['sentence2']], label=torch.tensor(train_df.iloc[i]['score'], dtype=torch.float32)) for i in range(len(train_df))]\n",
    "val_dataset = [InputExample(texts=[val_df.iloc[i]['sentence1'], val_df.iloc[i]['sentence2']], label=torch.tensor(val_df.iloc[i]['score'], dtype=torch.float32)) for i in range(len(val_df))]\n",
    "test_dataset = [InputExample(texts=[test_df.iloc[i]['sentence1'], test_df.iloc[i]['sentence2']], label=torch.tensor(test_df.iloc[i]['score'], dtype=torch.float32)) for i in range(len(test_df))]\n",
    "\n",
    "train_dataloader = DataLoader(train_dataset, shuffle=True, batch_size=32)\n",
    "val_dataloader = DataLoader(val_dataset, shuffle=False, batch_size=32)\n",
    "test_dataloader = DataLoader(test_dataset, shuffle=False, batch_size=32)"
   ]
  },
  {
   "cell_type": "code",
   "execution_count": 9,
   "metadata": {},
   "outputs": [],
   "source": [
    "def cosine_similarity_loss(model, df):\n",
    "    predicted = []\n",
    "    for i in range(len(df)):\n",
    "        emb1 = model.encode(df.iloc[i]['sentence1'], convert_to_tensor=True)\n",
    "        emb2 = model.encode(df.iloc[i]['sentence2'], convert_to_tensor=True)\n",
    "        cosine_sim = util.pytorch_cos_sim(emb1, emb2)\n",
    "        predicted.append(cosine_sim)\n",
    "    predicted = torch.tensor(predicted)\n",
    "    actual = torch.tensor(df['score'].values)\n",
    "    return mse_loss(predicted, actual)\n",
    "\n",
    "\n",
    "# Define loss functions\n",
    "num_epochs = 3\n",
    "loss = losses.CosineSimilarityLoss(model)\n",
    "mse_loss = torch.nn.MSELoss()\n",
    "cos_score_transformation = torch.nn.Identity()\n",
    "optimizer = Adam(model.parameters(), lr=2e-5)\n",
    "device = torch.device(\"cuda\" if torch.cuda.is_available() else \"cpu\")"
   ]
  },
  {
   "cell_type": "code",
   "execution_count": 10,
   "metadata": {},
   "outputs": [
    {
     "name": "stderr",
     "output_type": "stream",
     "text": [
      "Iteration: 100%|██████████| 179/179 [00:07<00:00, 24.48it/s]\n",
      "Epoch: 100%|██████████| 1/1 [00:07<00:00,  7.31s/it]\n"
     ]
    },
    {
     "name": "stdout",
     "output_type": "stream",
     "text": [
      "Epoch 1: Train Loss: 0.019082659721497256\n",
      "Epoch 1: Validation Loss: 0.02280338787077958\n"
     ]
    },
    {
     "name": "stderr",
     "output_type": "stream",
     "text": [
      "Iteration: 100%|██████████| 179/179 [00:07<00:00, 24.91it/s]\n",
      "Epoch: 100%|██████████| 1/1 [00:07<00:00,  7.19s/it]\n"
     ]
    },
    {
     "name": "stdout",
     "output_type": "stream",
     "text": [
      "Epoch 2: Train Loss: 0.018695808406530148\n",
      "Epoch 2: Validation Loss: 0.022525595089060324\n"
     ]
    },
    {
     "name": "stderr",
     "output_type": "stream",
     "text": [
      "Iteration: 100%|██████████| 179/179 [00:07<00:00, 24.88it/s]\n",
      "Epoch: 100%|██████████| 1/1 [00:07<00:00,  7.20s/it]\n"
     ]
    },
    {
     "name": "stdout",
     "output_type": "stream",
     "text": [
      "Epoch 3: Train Loss: 0.01840701227053525\n",
      "Epoch 3: Validation Loss: 0.022342123995003287\n"
     ]
    }
   ],
   "source": [
    "training_loss = []\n",
    "validation_loss = []\n",
    "\n",
    "for epoch in range(num_epochs):\n",
    "    model = model.to(device)\n",
    "    model.fit(\n",
    "        [(train_dataloader, loss)],\n",
    "        epochs=1  \n",
    "    )\n",
    "    train_loss = cosine_similarity_loss(model, train_df)\n",
    "    print(f\"Epoch {epoch+1}: Train Loss: {train_loss}\")\n",
    "    val_loss = cosine_similarity_loss(model, val_df)\n",
    "    print(f\"Epoch {epoch+1}: Validation Loss: {val_loss}\")\n",
    "    training_loss.append(train_loss)\n",
    "    validation_loss.append(val_loss)"
   ]
  },
  {
   "cell_type": "code",
   "execution_count": 11,
   "metadata": {},
   "outputs": [
    {
     "data": {
      "image/png": "[encoded data removed]",
      "text/plain": [
       "<Figure size 640x480 with 1 Axes>"
      ]
     },
     "metadata": {},
     "output_type": "display_data"
    }
   ],
   "source": [
    "plt.plot(training_loss, label='Training Loss')\n",
    "plt.plot(validation_loss, label='Validation Loss')\n",
    "plt.xlabel('Epochs')\n",
    "plt.ylabel('Loss')\n",
    "plt.legend()\n",
    "plt.show()"
   ]
  },
  {
   "cell_type": "code",
   "execution_count": 12,
   "metadata": {},
   "outputs": [
    {
     "name": "stdout",
     "output_type": "stream",
     "text": [
      "Validation Loss: 0.022342123995003287\n",
      "Test Loss: 0.27213488187773915\n"
     ]
    }
   ],
   "source": [
    "val_loss = cosine_similarity_loss(model, val_df)\n",
    "print(f\"Validation Loss: {val_loss}\")\n",
    "test_loss = cosine_similarity_loss(model, test_df)\n",
    "print(f\"Test Loss: {test_loss}\")"
   ]
  },
  {
   "cell_type": "markdown",
   "metadata": {},
   "source": [
    "### Save the Model"
   ]
  },
  {
   "cell_type": "code",
   "execution_count": 13,
   "metadata": {},
   "outputs": [],
   "source": [
    "model = model.to('cpu')\n",
    "torch.save(model.state_dict(), 'q1c_sbert_model.pth')"
   ]
  },
  {
   "cell_type": "code",
   "execution_count": 14,
   "metadata": {},
   "outputs": [
    {
     "name": "stdout",
     "output_type": "stream",
     "text": [
      "Validation Loss: 0.022342123995003287\n",
      "Test Loss: 0.27213488187773915\n"
     ]
    }
   ],
   "source": [
    "loaded_model = SentenceTransformer(\"all-MiniLM-L6-v2\")\n",
    "loaded_model.load_state_dict(torch.load('q1c_sbert_model.pth'))\n",
    "loaded_model = loaded_model.to(device)\n",
    "\n",
    "val_loss = cosine_similarity_loss(loaded_model, val_df)\n",
    "print(f\"Validation Loss: {val_loss}\")\n",
    "test_loss = cosine_similarity_loss(loaded_model, test_df)\n",
    "print(f\"Test Loss: {test_loss}\")"
   ]
  },
  {
   "cell_type": "markdown",
   "metadata": {},
   "source": [
    "### Report the Pearson Correlation Coefficient "
   ]
  },
  {
   "cell_type": "code",
   "execution_count": 26,
   "metadata": {},
   "outputs": [
    {
     "name": "stdout",
     "output_type": "stream",
     "text": [
      "Validation Pearson Score: 0.8904479023415723\n",
      "Test Pearson Score: 0.986926101342789\n"
     ]
    }
   ],
   "source": [
    "def calculate_similarity_score(model, df):\n",
    "    predicted = []\n",
    "    for i in range(len(df)):\n",
    "        emb1 = model.encode(df.iloc[i]['sentence1'], convert_to_tensor=True)\n",
    "        emb2 = model.encode(df.iloc[i]['sentence2'], convert_to_tensor=True)\n",
    "        cosine_sim = util.pytorch_cos_sim(emb1, emb2)\n",
    "        predicted.append(cosine_sim.item())\n",
    "    return predicted\n",
    "\n",
    "\n",
    "val_predicted = calculate_similarity_score(loaded_model, val_df)\n",
    "pearson_val, _ = pearsonr(val_predicted, val_df['score'])\n",
    "print(f\"Validation Pearson Score: {pearson_val}\")\n",
    "\n",
    "test_predicted = calculate_similarity_score(loaded_model, test_df)\n",
    "pearson_test, _ = pearsonr(test_predicted, test_df['score'])\n",
    "print(f\"Test Pearson Score: {pearson_test}\")"
   ]
  }
 ],
 "metadata": {
  "kernelspec": {
   "display_name": "a3_env",
   "language": "python",
   "name": "python3"
  },
  "language_info": {
   "codemirror_mode": {
    "name": "ipython",
    "version": 3
   },
   "file_extension": ".py",
   "mimetype": "text/x-python",
   "name": "python",
   "nbconvert_exporter": "python",
   "pygments_lexer": "ipython3",
   "version": "3.12.2"
  }
 },
 "nbformat": 4,
 "nbformat_minor": 2
}
