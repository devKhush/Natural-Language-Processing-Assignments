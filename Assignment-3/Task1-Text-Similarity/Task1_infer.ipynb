{
 "cells": [
  {
   "cell_type": "markdown",
   "metadata": {},
   "source": [
    "# Setup-1A"
   ]
  },
  {
   "cell_type": "code",
   "execution_count": 1,
   "metadata": {},
   "outputs": [],
   "source": [
    "import os\n",
    "import torch\n",
    "import warnings\n",
    "import numpy as np\n",
    "import pandas as pd\n",
    "import matplotlib.pyplot as plt\n",
    "warnings.filterwarnings(\"ignore\")\n",
    "from transformers import BertTokenizer, BertModel, BertConfig, AdamW, get_linear_schedule_with_warmup\n",
    "from torch.utils.data import Dataset, DataLoader\n",
    "from sklearn.metrics import mean_squared_error\n",
    "from scipy.stats import pearsonr\n",
    "from sklearn.metrics.pairwise import cosine_similarity\n",
    "import matplotlib.pyplot as plt\n",
    "import transformers\n",
    "transformers.logging.set_verbosity_error()"
   ]
  },
  {
   "cell_type": "code",
   "execution_count": 2,
   "metadata": {},
   "outputs": [
    {
     "name": "stdout",
     "output_type": "stream",
     "text": [
      "5708 1468\n"
     ]
    }
   ],
   "source": [
    "train_df = pd.read_csv('./Data/train.csv', sep='\\t')\n",
    "val_df = pd.read_csv('./Data/dev.csv', sep='\\t')\n",
    "train_df = train_df.dropna()\n",
    "val_df = val_df.dropna()\n",
    "print(len(train_df), len(val_df))"
   ]
  },
  {
   "cell_type": "code",
   "execution_count": 3,
   "metadata": {},
   "outputs": [
    {
     "name": "stdout",
     "output_type": "stream",
     "text": [
      "5708 1468\n",
      "90 23\n"
     ]
    }
   ],
   "source": [
    "class TextSimilarityDataset(Dataset):\n",
    "    def __init__(self, df, tokenizer, max_length=128):\n",
    "        self.df = df\n",
    "        self.tokenizer = tokenizer\n",
    "        self.max_length = max_length\n",
    "\n",
    "    def __len__(self):\n",
    "        return len(self.df)\n",
    "\n",
    "    def __getitem__(self, idx):\n",
    "        sentence1 = self.df.iloc[idx]['sentence1']\n",
    "        sentence2 = self.df.iloc[idx]['sentence2']\n",
    "        score = self.df.iloc[idx]['score']\n",
    "\n",
    "        inputs = self.tokenizer.encode_plus(\n",
    "            sentence1,\n",
    "            sentence2,\n",
    "            add_special_tokens=True,\n",
    "            max_length=self.max_length,\n",
    "            padding='max_length',\n",
    "            truncation=True,\n",
    "            return_tensors='pt'\n",
    "        )\n",
    "\n",
    "        return {\n",
    "            'input_ids': inputs['input_ids'].squeeze(0),\n",
    "            'attention_mask': inputs['attention_mask'].squeeze(0),\n",
    "            'labels': torch.tensor(score, dtype=torch.float)\n",
    "        }\n",
    "\n",
    "tokenizer = BertTokenizer.from_pretrained('bert-base-uncased')\n",
    "bert_model = BertModel.from_pretrained('bert-base-uncased')\n",
    "\n",
    "train_dataset = TextSimilarityDataset(train_df, tokenizer, max_length=128)\n",
    "val_dataset = TextSimilarityDataset(val_df, tokenizer, max_length=128)\n",
    "print(len(train_dataset), len(val_dataset))\n",
    "\n",
    "train_loader = DataLoader(train_dataset, batch_size=64, shuffle=True)\n",
    "val_loader = DataLoader(val_dataset, batch_size=64, shuffle=False)\n",
    "print(len(train_loader), len(val_loader))"
   ]
  },
  {
   "cell_type": "code",
   "execution_count": 4,
   "metadata": {},
   "outputs": [],
   "source": [
    "import torch\n",
    "import torch.nn as nn\n",
    "\n",
    "class BertModel(nn.Module):\n",
    "    def __init__(self, bert_model):\n",
    "        super(BertModel, self).__init__()\n",
    "        self.bert = bert_model\n",
    "        self.linear = nn.Linear(self.bert.config.hidden_size, 1)\n",
    "\n",
    "    def forward(self, input_ids, attention_mask):\n",
    "        outputs = self.bert(input_ids=input_ids, attention_mask=attention_mask)\n",
    "        pooled_output = outputs['pooler_output']\n",
    "        logits = self.linear(pooled_output)\n",
    "        return logits\n",
    "\n",
    "device = torch.device('cuda' if torch.cuda.is_available() else 'cpu')\n",
    "loaded_model = BertModel(bert_model)\n",
    "loaded_model.load_state_dict(torch.load('q1a_bert_model.pth'))\n",
    "loaded_model = loaded_model.to(device)"
   ]
  },
  {
   "cell_type": "code",
   "execution_count": 5,
   "metadata": {},
   "outputs": [
    {
     "name": "stdout",
     "output_type": "stream",
     "text": [
      "Validation Pearson Correlation: 0.8676728865750375\n"
     ]
    }
   ],
   "source": [
    "def get_predictions(model, dataloader, device):\n",
    "    model.eval()\n",
    "    actual_scores = []\n",
    "    predicted_scores = []\n",
    "    model = model.to(device)\n",
    "    with torch.no_grad():\n",
    "        for batch in dataloader:\n",
    "            input_ids = batch['input_ids'].to(device)\n",
    "            attention_mask = batch['attention_mask'].to(device)\n",
    "            outputs = model(input_ids, attention_mask)\n",
    "            actual_scores.extend(batch['labels'].numpy().tolist())\n",
    "            predicted_scores.extend(outputs.flatten().tolist())\n",
    "    return actual_scores, predicted_scores\n",
    "\n",
    "val_actual, val_preds = get_predictions(loaded_model, val_loader, device)\n",
    "val_pearson, _ = pearsonr(val_preds, val_actual)\n",
    "print(f'Validation Pearson Correlation: {val_pearson}')"
   ]
  },
  {
   "cell_type": "markdown",
   "metadata": {},
   "source": [
    "# Setup-1B"
   ]
  },
  {
   "cell_type": "code",
   "execution_count": 9,
   "metadata": {},
   "outputs": [
    {
     "name": "stdout",
     "output_type": "stream",
     "text": [
      "(1468, 3)\n"
     ]
    }
   ],
   "source": [
    "import pandas as pd\n",
    "from sklearn.preprocessing import MinMaxScaler\n",
    "\n",
    "val_df = pd.read_csv('./Data/dev.csv', sep='\\t')\n",
    "val_df = val_df.dropna()\n",
    "print(val_df.shape)"
   ]
  },
  {
   "cell_type": "code",
   "execution_count": 10,
   "metadata": {},
   "outputs": [],
   "source": [
    "scaler = MinMaxScaler(feature_range=(0, 1))\n",
    "val_df['score'] = scaler.fit_transform(val_df[['score']])"
   ]
  },
  {
   "cell_type": "code",
   "execution_count": 11,
   "metadata": {},
   "outputs": [],
   "source": [
    "from sentence_transformers import SentenceTransformer, util\n",
    "from scipy.stats import pearsonr\n",
    "from sklearn.metrics.pairwise import cosine_similarity\n",
    "\n",
    "model = SentenceTransformer(\"all-MiniLM-L6-v2\")"
   ]
  },
  {
   "cell_type": "code",
   "execution_count": 12,
   "metadata": {},
   "outputs": [
    {
     "name": "stdout",
     "output_type": "stream",
     "text": [
      "Validation-Set Pearson Correlation: 0.8631423846336786\n"
     ]
    }
   ],
   "source": [
    "val_predicted_scores = []\n",
    "    \n",
    "for i in range(len(val_df)):\n",
    "    s1 = val_df.iloc[i]['sentence1']\n",
    "    s2 = val_df.iloc[i]['sentence2']\n",
    "    emb1 = model.encode(s1, convert_to_tensor=True)\n",
    "    emb2 = model.encode(s2, convert_to_tensor=True)\n",
    "    cosine_sim = util.pytorch_cos_sim(emb1, emb2)\n",
    "    val_predicted_scores.append(cosine_sim.item())\n",
    "\n",
    "pearson_corr, _ = pearsonr(val_predicted_scores, val_df['score'])\n",
    "print('Validation-Set Pearson Correlation:', pearson_corr)"
   ]
  },
  {
   "cell_type": "markdown",
   "metadata": {},
   "source": [
    "# Setup-1C"
   ]
  },
  {
   "cell_type": "code",
   "execution_count": 13,
   "metadata": {},
   "outputs": [],
   "source": [
    "import os\n",
    "import torch\n",
    "import warnings\n",
    "import numpy as np\n",
    "import pandas as pd\n",
    "import matplotlib.pyplot as plt\n",
    "from sklearn.preprocessing import MinMaxScaler\n",
    "warnings.filterwarnings(\"ignore\")"
   ]
  },
  {
   "cell_type": "code",
   "execution_count": 15,
   "metadata": {},
   "outputs": [
    {
     "name": "stdout",
     "output_type": "stream",
     "text": [
      "(1468, 3)\n"
     ]
    }
   ],
   "source": [
    "val_df = pd.read_csv('./Data/dev.csv', sep='\\t')\n",
    "val_df = val_df.dropna()\n",
    "print(val_df.shape)"
   ]
  },
  {
   "cell_type": "code",
   "execution_count": 16,
   "metadata": {},
   "outputs": [],
   "source": [
    "scaler = MinMaxScaler(feature_range=(0, 1))\n",
    "val_df['score'] = scaler.fit_transform(val_df[['score']])"
   ]
  },
  {
   "cell_type": "code",
   "execution_count": 18,
   "metadata": {},
   "outputs": [],
   "source": [
    "from sentence_transformers import SentenceTransformer, util, SentencesDataset, InputExample, losses\n",
    "from scipy.stats import pearsonr\n",
    "from sklearn.metrics.pairwise import cosine_similarity\n",
    "from torch.optim import Adam\n",
    "\n",
    "device = torch.device('cuda' if torch.cuda.is_available() else 'cpu')\n",
    "loaded_model = SentenceTransformer(\"all-MiniLM-L6-v2\")\n",
    "loaded_model.load_state_dict(torch.load('q1c_sbert_model.pth'))\n",
    "loaded_model = loaded_model.to(device)"
   ]
  },
  {
   "cell_type": "code",
   "execution_count": 19,
   "metadata": {},
   "outputs": [
    {
     "name": "stdout",
     "output_type": "stream",
     "text": [
      "Validation Pearson Score: 0.8904479023415723\n"
     ]
    }
   ],
   "source": [
    "def calculate_similarity_score(model, df):\n",
    "    predicted = []\n",
    "    for i in range(len(df)):\n",
    "        emb1 = model.encode(df.iloc[i]['sentence1'], convert_to_tensor=True)\n",
    "        emb2 = model.encode(df.iloc[i]['sentence2'], convert_to_tensor=True)\n",
    "        cosine_sim = util.pytorch_cos_sim(emb1, emb2)\n",
    "        predicted.append(cosine_sim.item())\n",
    "    return predicted\n",
    "\n",
    "val_predicted = calculate_similarity_score(loaded_model, val_df)\n",
    "pearson_val, _ = pearsonr(val_predicted, val_df['score'])\n",
    "print(f\"Validation Pearson Score: {pearson_val}\")"
   ]
  }
 ],
 "metadata": {
  "kernelspec": {
   "display_name": "a3_env",
   "language": "python",
   "name": "python3"
  },
  "language_info": {
   "codemirror_mode": {
    "name": "ipython",
    "version": 3
   },
   "file_extension": ".py",
   "mimetype": "text/x-python",
   "name": "python",
   "nbconvert_exporter": "python",
   "pygments_lexer": "ipython3",
   "version": "3.12.2"
  }
 },
 "nbformat": 4,
 "nbformat_minor": 2
}
