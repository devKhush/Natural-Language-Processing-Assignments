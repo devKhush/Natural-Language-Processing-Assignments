{
 "cells": [
  {
   "cell_type": "code",
   "execution_count": 3,
   "metadata": {},
   "outputs": [],
   "source": [
    "import os\n",
    "import torch\n",
    "import warnings\n",
    "import numpy as np\n",
    "import pandas as pd\n",
    "import matplotlib.pyplot as plt\n",
    "from sklearn.preprocessing import MinMaxScaler\n",
    "warnings.filterwarnings(\"ignore\")"
   ]
  },
  {
   "cell_type": "code",
   "execution_count": 4,
   "metadata": {},
   "outputs": [
    {
     "name": "stdout",
     "output_type": "stream",
     "text": [
      "(6, 3)\n"
     ]
    }
   ],
   "source": [
    "path = './Data/sample_test.csv'\n",
    "out = './Data/sample_demo.csv'\n",
    "\n",
    "test_df = pd.read_csv(path, sep='\\t')\n",
    "test_df = test_df.dropna()\n",
    "print(test_df.shape)"
   ]
  },
  {
   "cell_type": "code",
   "execution_count": 4,
   "metadata": {},
   "outputs": [],
   "source": [
    "from sentence_transformers import SentenceTransformer, util, SentencesDataset, InputExample, losses\n",
    "from scipy.stats import pearsonr\n",
    "from sklearn.metrics.pairwise import cosine_similarity\n",
    "\n",
    "device = torch.device(\"cuda\" if torch.cuda.is_available() else \"cpu\")\n",
    "model = SentenceTransformer(\"all-MiniLM-L6-v2\")\n",
    "model.load_state_dict(torch.load('q1c_sbert_model.pth'))\n",
    "model = model.to(device)"
   ]
  },
  {
   "cell_type": "code",
   "execution_count": 14,
   "metadata": {},
   "outputs": [],
   "source": [
    "def calculate_similarity_score(model, df):\n",
    "    predicted = []\n",
    "    for i in range(len(df)):\n",
    "        emb1 = model.encode(df.iloc[i]['sentence1'], convert_to_tensor=True)\n",
    "        emb2 = model.encode(df.iloc[i]['sentence2'], convert_to_tensor=True)\n",
    "        cosine_sim = util.pytorch_cos_sim(emb1, emb2)\n",
    "        predicted.append(cosine_sim.item() * 5)\n",
    "    return predicted\n",
    "\n",
    "predicted_scores = calculate_similarity_score(model, test_df)\n",
    "test_df['score'] = predicted_scores"
   ]
  },
  {
   "cell_type": "code",
   "execution_count": 12,
   "metadata": {},
   "outputs": [],
   "source": [
    "test_df.to_csv(out, sep='\\t', index=False)"
   ]
  }
 ],
 "metadata": {
  "kernelspec": {
   "display_name": "a3_env",
   "language": "python",
   "name": "python3"
  },
  "language_info": {
   "codemirror_mode": {
    "name": "ipython",
    "version": 3
   },
   "file_extension": ".py",
   "mimetype": "text/x-python",
   "name": "python",
   "nbconvert_exporter": "python",
   "pygments_lexer": "ipython3",
   "version": "3.12.2"
  }
 },
 "nbformat": 4,
 "nbformat_minor": 2
}
