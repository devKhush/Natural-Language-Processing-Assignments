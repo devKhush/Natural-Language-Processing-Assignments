{
 "cells": [
  {
   "cell_type": "code",
   "execution_count": 1,
   "metadata": {},
   "outputs": [
    {
     "name": "stderr",
     "output_type": "stream",
     "text": [
      "/mnt/disk1/sumdev/CourseWork/a3_env/lib/python3.12/site-packages/tqdm/auto.py:21: TqdmWarning: IProgress not found. Please update jupyter and ipywidgets. See https://ipywidgets.readthedocs.io/en/stable/user_install.html\n",
      "  from .autonotebook import tqdm as notebook_tqdm\n"
     ]
    }
   ],
   "source": [
    "import torch\n",
    "from datasets import load_dataset\n",
    "from torch.utils.data import DataLoader"
   ]
  },
  {
   "cell_type": "markdown",
   "metadata": {},
   "source": [
    "# Load Dataset and Create Dataloader"
   ]
  },
  {
   "cell_type": "code",
   "execution_count": 2,
   "metadata": {},
   "outputs": [],
   "source": [
    "# Load training dataset, only the first 50,000 examples\n",
    "train_dataset = load_dataset(\"wmt16\", \"de-en\", split=\"train[:50000]\")\n",
    "\n",
    "# Load validation and test datasets\n",
    "validation_dataset = load_dataset(\"wmt16\", \"de-en\", split=\"validation\")\n",
    "test_dataset = load_dataset(\"wmt16\", \"de-en\", split=\"test\")"
   ]
  },
  {
   "cell_type": "code",
   "execution_count": 3,
   "metadata": {},
   "outputs": [
    {
     "data": {
      "text/plain": [
       "(50000, 2169, 2999)"
      ]
     },
     "execution_count": 3,
     "metadata": {},
     "output_type": "execute_result"
    }
   ],
   "source": [
    "len(train_dataset), len(validation_dataset), len(test_dataset)"
   ]
  },
  {
   "cell_type": "markdown",
   "metadata": {},
   "source": [
    "# Setup- 2A"
   ]
  },
  {
   "cell_type": "markdown",
   "metadata": {},
   "source": [
    "### Model Architecture"
   ]
  },
  {
   "cell_type": "code",
   "execution_count": 4,
   "metadata": {},
   "outputs": [],
   "source": [
    "import torch\n",
    "import math\n",
    "import torch.nn as nn\n",
    "from torchtext.data.utils import get_tokenizer\n",
    "from torchtext.vocab import build_vocab_from_iterator\n",
    "from torchtext.datasets import Multi30k\n",
    "from typing import Iterable, List\n",
    "\n",
    "# Define the PositionalEncoding module\n",
    "class PositionalEncoding(nn.Module):\n",
    "    def __init__(self, emb_size: int, dropout: float, maxlen: int = 5000):\n",
    "        super(PositionalEncoding, self).__init__()\n",
    "        den = torch.exp(- torch.arange(0, emb_size, 2)* math.log(10000) / emb_size)\n",
    "        pos = torch.arange(0, maxlen).reshape(maxlen, 1)\n",
    "        pos_embedding = torch.zeros((maxlen, emb_size))\n",
    "        pos_embedding[:, 0::2] = torch.sin(pos * den)\n",
    "        pos_embedding[:, 1::2] = torch.cos(pos * den)\n",
    "        pos_embedding = pos_embedding.unsqueeze(-2)\n",
    "\n",
    "        self.dropout = nn.Dropout(dropout)\n",
    "        self.register_buffer('pos_embedding', pos_embedding)\n",
    "\n",
    "    def forward(self, token_embedding):\n",
    "        return self.dropout(token_embedding + self.pos_embedding[:token_embedding.size(0), :])\n",
    "\n",
    "\n",
    "class TokenEmbedding(nn.Module):\n",
    "    def __init__(self, vocab_size: int, emb_size):\n",
    "        super(TokenEmbedding, self).__init__()\n",
    "        self.embedding = nn.Embedding(vocab_size, emb_size)\n",
    "        self.emb_size = emb_size\n",
    "\n",
    "    def forward(self, tokens):\n",
    "        return self.embedding(tokens.long()) * math.sqrt(self.emb_size)\n",
    "\n",
    "\n",
    "# Define the Transformer model\n",
    "class TransformerModel(nn.Module):\n",
    "    def __init__(self, src_vocab_size, tgt_vocab_size, emb_dim=234, nhead=6, num_encoder_layers=5, num_decoder_layers=5, dropout=0.1):\n",
    "        super(TransformerModel, self).__init__()\n",
    "        self.embedding_dim = emb_dim\n",
    "        self.transformer = nn.Transformer(\n",
    "            d_model=emb_dim, nhead=nhead, num_encoder_layers=num_encoder_layers, \n",
    "            num_decoder_layers=num_decoder_layers, dropout=dropout, batch_first=True)\n",
    "        self.src_token_emb = nn.Embedding(src_vocab_size, emb_dim)\n",
    "        self.tgt_token_emb = nn.Embedding(tgt_vocab_size, emb_dim)\n",
    "        self.linear = nn.Linear(emb_dim, tgt_vocab_size)\n",
    "        self.positional_encoding = PositionalEncoding(emb_dim, dropout=dropout)\n",
    "\n",
    "\n",
    "    def forward(self, src, tgt, src_mask, tgt_mask, src_padding_mask, tgt_padding_mask, memory_padding_mask):\n",
    "        src_emb = self.positional_encoding(self.src_token_emb(src))\n",
    "        tgt_emb = self.positional_encoding(self.tgt_token_emb(tgt))\n",
    "        output = self.transformer(src_emb, tgt_emb, src_mask, tgt_mask, None, src_padding_mask, tgt_padding_mask, memory_padding_mask)\n",
    "        output = self.linear(output)\n",
    "        return output\n",
    "    \n",
    "    def encode(self, src, src_mask):\n",
    "        return self.transformer.encoder(self.positional_encoding(self.src_token_emb(src)), src_mask)\n",
    "\n",
    "    def decode(self, tgt, memory, tgt_mask):\n",
    "        return self.transformer.decoder(self.positional_encoding(self.tgt_token_emb(tgt)), memory, tgt_mask)\n"
   ]
  },
  {
   "cell_type": "markdown",
   "metadata": {},
   "source": [
    "### Build Vocabulary of the Dataset"
   ]
  },
  {
   "cell_type": "code",
   "execution_count": 5,
   "metadata": {},
   "outputs": [],
   "source": [
    "from typing import Iterable\n",
    "\n",
    "# Define function to yield tokens from the dataset\n",
    "def yield_tokens(data_iter: Iterable, language: str):\n",
    "    for data_sample in data_iter:\n",
    "        yield token_transform[language](data_sample['translation'][language])\n",
    "\n",
    "# Set up tokenizers\n",
    "token_transform = {}\n",
    "SRC_LANGUAGE = 'de'\n",
    "TGT_LANGUAGE = 'en'\n",
    "token_transform[SRC_LANGUAGE] = get_tokenizer('spacy', language='de_core_news_sm')\n",
    "token_transform[TGT_LANGUAGE] = get_tokenizer('spacy', language='en_core_web_sm')\n",
    "\n",
    "\n",
    "# Build vocabulary\n",
    "vocab_transform = {}\n",
    "UNK_IDX, PAD_IDX, BOS_IDX, EOS_IDX = 0, 1, 2, 3\n",
    "vocab_transform[SRC_LANGUAGE] = build_vocab_from_iterator(yield_tokens(train_dataset, 'de'), specials=[\"<unk>\", \"<pad>\", \"<bos>\", \"<eos>\"])\n",
    "vocab_transform[TGT_LANGUAGE] = build_vocab_from_iterator(yield_tokens(train_dataset, 'en'), specials=[\"<unk>\", \"<pad>\", \"<bos>\", \"<eos>\"])\n",
    "vocab_transform[SRC_LANGUAGE].set_default_index(UNK_IDX)\n",
    "vocab_transform[TGT_LANGUAGE].set_default_index(UNK_IDX)"
   ]
  },
  {
   "cell_type": "code",
   "execution_count": 6,
   "metadata": {},
   "outputs": [
    {
     "data": {
      "text/plain": [
       "(0, 0, 1, 1, 2, 2, 3, 3)"
      ]
     },
     "execution_count": 6,
     "metadata": {},
     "output_type": "execute_result"
    }
   ],
   "source": [
    "vocab_transform[SRC_LANGUAGE]['<unk>'], vocab_transform[TGT_LANGUAGE]['<unk>'], vocab_transform[SRC_LANGUAGE]['<pad>'], vocab_transform[TGT_LANGUAGE]['<pad>'], vocab_transform[SRC_LANGUAGE]['<bos>'], vocab_transform[TGT_LANGUAGE]['<bos>'], vocab_transform[SRC_LANGUAGE]['<eos>'], vocab_transform[TGT_LANGUAGE]['<eos>']"
   ]
  },
  {
   "cell_type": "code",
   "execution_count": 8,
   "metadata": {},
   "outputs": [
    {
     "data": {
      "text/plain": [
       "(52604, 23774)"
      ]
     },
     "execution_count": 8,
     "metadata": {},
     "output_type": "execute_result"
    }
   ],
   "source": [
    "len(vocab_transform[SRC_LANGUAGE]), len(vocab_transform[TGT_LANGUAGE])"
   ]
  },
  {
   "cell_type": "markdown",
   "metadata": {},
   "source": [
    "### Create DataSet and DataLoader"
   ]
  },
  {
   "cell_type": "code",
   "execution_count": 1,
   "metadata": {},
   "outputs": [
    {
     "ename": "NameError",
     "evalue": "name 'train_dataset' is not defined",
     "output_type": "error",
     "traceback": [
      "\u001b[0;31m---------------------------------------------------------------------------\u001b[0m",
      "\u001b[0;31mNameError\u001b[0m                                 Traceback (most recent call last)",
      "Cell \u001b[0;32mIn[1], line 31\u001b[0m\n\u001b[1;32m     27\u001b[0m     tgt_len \u001b[38;5;241m=\u001b[39m torch\u001b[38;5;241m.\u001b[39mtensor(tgt_len, dtype\u001b[38;5;241m=\u001b[39mtorch\u001b[38;5;241m.\u001b[39mlong)\n\u001b[1;32m     28\u001b[0m     \u001b[38;5;28;01mreturn\u001b[39;00m src_batch, tgt_batch, src_len, tgt_len, idx\n\u001b[0;32m---> 31\u001b[0m train_data \u001b[38;5;241m=\u001b[39m TextDataset(\u001b[43mtrain_dataset\u001b[49m)\n\u001b[1;32m     32\u001b[0m val_data \u001b[38;5;241m=\u001b[39m TextDataset(validation_dataset)\n\u001b[1;32m     33\u001b[0m test_data \u001b[38;5;241m=\u001b[39m TextDataset(test_dataset)\n",
      "\u001b[0;31mNameError\u001b[0m: name 'train_dataset' is not defined"
     ]
    }
   ],
   "source": [
    "from torch.utils.data import Dataset, DataLoader\n",
    "\n",
    "class TextDataset(Dataset):\n",
    "    def __init__(self, dataset):\n",
    "        self.dataset = dataset\n",
    "        \n",
    "    def __getitem__(self, idx):\n",
    "        german = self.dataset[idx]['translation']['de']\n",
    "        english = self.dataset[idx]['translation']['en']\n",
    "        german_token = token_transform[SRC_LANGUAGE](german)\n",
    "        english_token = token_transform[TGT_LANGUAGE](english)\n",
    "        german_vocab = torch.tensor([vocab_transform[SRC_LANGUAGE][token] for token in german_token], dtype=torch.long)\n",
    "        english_vocab = torch.tensor([vocab_transform[TGT_LANGUAGE][token] for token in english_token], dtype=torch.long)\n",
    "        germen_sentence_length = len(german_vocab)\n",
    "        english_sentence_length = len(english_vocab)\n",
    "        return german_vocab, english_vocab, germen_sentence_length, english_sentence_length, idx\n",
    "\n",
    "    def __len__(self):\n",
    "        return len(self.dataset)\n",
    "\n",
    "\n",
    "def collate_fn(batch):\n",
    "    src_batch, tgt_batch, src_len, tgt_len, idx = zip(*batch)\n",
    "    src_batch = nn.utils.rnn.pad_sequence(src_batch, padding_value=PAD_IDX, batch_first=True)\n",
    "    tgt_batch = nn.utils.rnn.pad_sequence(tgt_batch, padding_value=PAD_IDX, batch_first=True)\n",
    "    src_len = torch.tensor(src_len, dtype=torch.long)\n",
    "    tgt_len = torch.tensor(tgt_len, dtype=torch.long)\n",
    "    return src_batch, tgt_batch, src_len, tgt_len, idx\n",
    "\n",
    "\n",
    "train_data = TextDataset(train_dataset)\n",
    "val_data = TextDataset(validation_dataset)\n",
    "test_data = TextDataset(test_dataset)\n",
    "print(len(train_data), len(val_data), len(test_data))\n",
    "\n",
    "# Define data loaders\n",
    "BATCH_SIZE = 64\n",
    "train_loader = DataLoader(train_data, batch_size=BATCH_SIZE, shuffle=True, collate_fn=collate_fn)\n",
    "val_loader = DataLoader(val_data, batch_size=BATCH_SIZE, shuffle=False, collate_fn=collate_fn)\n",
    "test_loader = DataLoader(test_data, batch_size=BATCH_SIZE, shuffle=False, collate_fn=collate_fn)\n",
    "print(len(train_loader), len(val_loader), len(test_loader))"
   ]
  },
  {
   "cell_type": "code",
   "execution_count": 10,
   "metadata": {},
   "outputs": [],
   "source": [
    "device = torch.device('cuda' if torch.cuda.is_available() else 'cpu')\n",
    "\n",
    "def generate_square_subsequent_mask(sz):\n",
    "    mask = (torch.triu(torch.ones((sz, sz), device=device)) == 1).transpose(0, 1)\n",
    "    mask = mask.float().masked_fill(mask == 0, float('-inf')).masked_fill(mask == 1, float(0.0))\n",
    "    return mask\n",
    "\n",
    "def create_mask(src, tgt):\n",
    "    src_seq_len = src.shape[1]\n",
    "    tgt_seq_len = tgt.shape[1]\n",
    "\n",
    "    tgt_mask = generate_square_subsequent_mask(tgt_seq_len)\n",
    "    src_mask = torch.zeros((src_seq_len, src_seq_len),device=device).type(torch.bool)\n",
    "    src_padding_mask = (src == PAD_IDX)\n",
    "    tgt_padding_mask = (tgt == PAD_IDX)\n",
    "    return src_mask, tgt_mask, src_padding_mask, tgt_padding_mask"
   ]
  },
  {
   "cell_type": "code",
   "execution_count": 11,
   "metadata": {},
   "outputs": [
    {
     "name": "stdout",
     "output_type": "stream",
     "text": [
      "torch.Size([64, 91]) torch.Size([64, 76]) torch.Size([64]) torch.Size([64])\n",
      "torch.Size([91, 91]) torch.Size([76, 76]) torch.Size([64, 91]) torch.Size([64, 76])\n"
     ]
    }
   ],
   "source": [
    "for src, tgt, src_len, tgt_len, idx in train_loader:\n",
    "    print(src.shape, tgt.shape, src_len.shape, tgt_len.shape)\n",
    "    src_mask, tgt_mask, src_padding_mask, tgt_padding_mask = create_mask(src, tgt)\n",
    "    print(src_mask.shape, tgt_mask.shape, src_padding_mask.shape, tgt_padding_mask.shape)\n",
    "    break"
   ]
  },
  {
   "cell_type": "markdown",
   "metadata": {},
   "source": [
    "### Training and Evaluation"
   ]
  },
  {
   "cell_type": "code",
   "execution_count": 40,
   "metadata": {},
   "outputs": [],
   "source": [
    "device = torch.device('cuda' if torch.cuda.is_available() else 'cpu')\n",
    "\n",
    "# Initialize model\n",
    "SRC_VOCAB_SIZE = len(vocab_transform[SRC_LANGUAGE])\n",
    "TGT_VOCAB_SIZE = len(vocab_transform[TGT_LANGUAGE])\n",
    "EMB_DIM = 256\n",
    "N_HEAD = 8\n",
    "NUM_ENCODER_LAYERS = 8\n",
    "NUM_DECODER_LAYERS = 8\n",
    "DROPOUT = 0.05\n",
    "model = TransformerModel(src_vocab_size=SRC_VOCAB_SIZE, tgt_vocab_size=TGT_VOCAB_SIZE, \n",
    "            emb_dim=EMB_DIM, nhead=N_HEAD, num_encoder_layers=NUM_ENCODER_LAYERS, \n",
    "            num_decoder_layers=NUM_DECODER_LAYERS, dropout=DROPOUT)\n",
    "\n",
    "# Define loss function and optimizer\n",
    "criterion = nn.CrossEntropyLoss(ignore_index=PAD_IDX)\n",
    "optimizer = torch.optim.Adam(model.parameters(), lr=0.0001, betas=(0.9, 0.98), eps=1e-8)"
   ]
  },
  {
   "cell_type": "code",
   "execution_count": 41,
   "metadata": {},
   "outputs": [],
   "source": [
    "# Training loop\n",
    "def train(model, iterator, optimizer, criterion):\n",
    "    model.train()\n",
    "    model = model.to(device)\n",
    "    epoch_loss = 0\n",
    "    for index, (src, tgt, _, _, _) in enumerate(iterator):\n",
    "        src = src.to(device)\n",
    "        tgt = tgt.to(device)\n",
    "        tgt_input = tgt[:, :-1]\n",
    "        src_mask, tgt_mask, src_padding_mask, tgt_padding_mask = create_mask(src, tgt_input)\n",
    "        memory_padding_mask = src_padding_mask.clone()\n",
    "        tgt_out = tgt[:, 1:]\n",
    "        optimizer.zero_grad()\n",
    "        logits = model(src, tgt_input, src_mask, tgt_mask, src_padding_mask, tgt_padding_mask, memory_padding_mask)\n",
    "        loss = criterion(logits.reshape(-1, logits.shape[-1]), tgt_out.reshape(-1))\n",
    "        loss.backward()\n",
    "        optimizer.step()\n",
    "        epoch_loss += loss.item()\n",
    "        if index % 100 == 0:\n",
    "            print(f\"Batch {index} Loss: {loss.item()}\")\n",
    "    model = model.to('cpu')\n",
    "    return epoch_loss / len(iterator)\n",
    "\n",
    "# Evaluation loop\n",
    "def evaluate(model, iterator, criterion):\n",
    "    model.eval()\n",
    "    model = model.to(device)\n",
    "    epoch_loss = 0\n",
    "    with torch.no_grad():\n",
    "        for src, tgt, _, _, _ in iterator:\n",
    "            src = src.to(device)\n",
    "            tgt = tgt.to(device)\n",
    "            tgt_input = tgt[:, :-1]\n",
    "            src_mask, tgt_mask, src_padding_mask, tgt_padding_mask = create_mask(src, tgt_input)\n",
    "            memory_padding_mask = src_padding_mask.clone()\n",
    "            tgt_out = tgt[:, 1:]\n",
    "            logits = model(src, tgt_input, src_mask, tgt_mask, src_padding_mask, tgt_padding_mask, memory_padding_mask)\n",
    "            loss = criterion(logits.reshape(-1, logits.shape[-1]), tgt_out.reshape(-1))\n",
    "            epoch_loss += loss.item()\n",
    "    model = model.to('cpu')\n",
    "    return epoch_loss / len(iterator)"
   ]
  },
  {
   "cell_type": "code",
   "execution_count": 42,
   "metadata": {},
   "outputs": [
    {
     "name": "stderr",
     "output_type": "stream",
     "text": [
      "/mnt/disk1/sumdev/CourseWork/a3_env/lib/python3.12/site-packages/torch/nn/functional.py:5109: UserWarning: Support for mismatched key_padding_mask and attn_mask is deprecated. Use same type for both instead.\n",
      "  warnings.warn(\n"
     ]
    },
    {
     "name": "stdout",
     "output_type": "stream",
     "text": [
      "Batch 0 Loss: 10.220878601074219\n",
      "Batch 100 Loss: 6.968963146209717\n",
      "Batch 200 Loss: 6.4077558517456055\n",
      "Batch 300 Loss: 5.975808143615723\n",
      "Batch 400 Loss: 5.9370245933532715\n",
      "Batch 500 Loss: 5.778221130371094\n",
      "Batch 600 Loss: 5.525778293609619\n",
      "Batch 700 Loss: 5.508260726928711\n",
      "Epoch: 1 | Train Loss: 6.22467139370911 | Val Loss: 7.2703906087314385\n",
      "Batch 0 Loss: 5.538148403167725\n",
      "Batch 100 Loss: 5.275978088378906\n",
      "Batch 200 Loss: 5.278611660003662\n",
      "Batch 300 Loss: 5.162457466125488\n",
      "Batch 400 Loss: 5.114497184753418\n",
      "Batch 500 Loss: 5.181527614593506\n",
      "Batch 600 Loss: 5.241818428039551\n",
      "Batch 700 Loss: 4.939311504364014\n",
      "Epoch: 2 | Train Loss: 5.205466532036471 | Val Loss: 7.145123650045956\n",
      "Batch 0 Loss: 4.958529472351074\n",
      "Batch 100 Loss: 4.9718828201293945\n",
      "Batch 200 Loss: 4.929483413696289\n",
      "Batch 300 Loss: 4.895610809326172\n",
      "Batch 400 Loss: 4.971885681152344\n",
      "Batch 500 Loss: 4.903313159942627\n",
      "Batch 600 Loss: 4.8681206703186035\n",
      "Batch 700 Loss: 4.6816725730896\n",
      "Epoch: 3 | Train Loss: 4.8974092903039645 | Val Loss: 6.879389861050774\n",
      "Batch 0 Loss: 4.716778755187988\n",
      "Batch 100 Loss: 4.649244785308838\n",
      "Batch 200 Loss: 4.726291179656982\n",
      "Batch 300 Loss: 4.7597479820251465\n",
      "Batch 400 Loss: 4.715301036834717\n",
      "Batch 500 Loss: 4.714985370635986\n",
      "Batch 600 Loss: 4.526054859161377\n",
      "Batch 700 Loss: 4.506436347961426\n",
      "Epoch: 4 | Train Loss: 4.695641972524736 | Val Loss: 6.901529059690588\n",
      "Batch 0 Loss: 4.60966682434082\n",
      "Batch 100 Loss: 4.644985198974609\n",
      "Batch 200 Loss: 4.524564266204834\n",
      "Batch 300 Loss: 4.5900750160217285\n",
      "Batch 400 Loss: 4.524502754211426\n",
      "Batch 500 Loss: 4.56439733505249\n",
      "Batch 600 Loss: 4.672557353973389\n",
      "Batch 700 Loss: 4.405167579650879\n",
      "Epoch: 5 | Train Loss: 4.533606273743808 | Val Loss: 6.72000838728512\n",
      "Batch 0 Loss: 4.438945293426514\n",
      "Batch 100 Loss: 4.515316009521484\n",
      "Batch 200 Loss: 4.405940532684326\n",
      "Batch 300 Loss: 4.347811222076416\n",
      "Batch 400 Loss: 4.2705397605896\n",
      "Batch 500 Loss: 4.362485885620117\n",
      "Batch 600 Loss: 4.271872520446777\n",
      "Batch 700 Loss: 4.29947566986084\n",
      "Epoch: 6 | Train Loss: 4.396932644002578 | Val Loss: 6.677600215463078\n",
      "Batch 0 Loss: 4.248816967010498\n",
      "Batch 100 Loss: 4.294404029846191\n",
      "Batch 200 Loss: 4.286946773529053\n",
      "Batch 300 Loss: 4.364271640777588\n",
      "Batch 400 Loss: 4.472418785095215\n",
      "Batch 500 Loss: 4.073663234710693\n",
      "Batch 600 Loss: 4.129185199737549\n",
      "Batch 700 Loss: 4.423928737640381\n",
      "Epoch: 7 | Train Loss: 4.276219233832396 | Val Loss: 6.676111782298369\n",
      "Batch 0 Loss: 4.253754615783691\n",
      "Batch 100 Loss: 4.129093170166016\n",
      "Batch 200 Loss: 4.196895599365234\n",
      "Batch 300 Loss: 4.2680559158325195\n",
      "Batch 400 Loss: 4.212950706481934\n",
      "Batch 500 Loss: 4.244508743286133\n",
      "Batch 600 Loss: 4.2540283203125\n",
      "Batch 700 Loss: 4.147491455078125\n",
      "Epoch: 8 | Train Loss: 4.167600463113517 | Val Loss: 6.646944158217487\n",
      "Batch 0 Loss: 4.183809757232666\n",
      "Batch 100 Loss: 4.131309509277344\n",
      "Batch 200 Loss: 4.05911111831665\n",
      "Batch 300 Loss: 4.062179088592529\n",
      "Batch 400 Loss: 4.1194329261779785\n",
      "Batch 500 Loss: 4.046625137329102\n",
      "Batch 600 Loss: 4.037542343139648\n",
      "Batch 700 Loss: 3.8820273876190186\n",
      "Epoch: 9 | Train Loss: 4.069945000016781 | Val Loss: 6.571708342608283\n",
      "Batch 0 Loss: 4.001835823059082\n",
      "Batch 100 Loss: 3.9790971279144287\n",
      "Batch 200 Loss: 4.122492790222168\n",
      "Batch 300 Loss: 4.045344829559326\n",
      "Batch 400 Loss: 3.9597952365875244\n",
      "Batch 500 Loss: 4.127245903015137\n",
      "Batch 600 Loss: 4.00120210647583\n",
      "Batch 700 Loss: 3.827488899230957\n",
      "Epoch: 10 | Train Loss: 3.976901699210067 | Val Loss: 6.578901571386001\n",
      "| Test Loss: 6.708190045458205\n"
     ]
    }
   ],
   "source": [
    "# Training the model\n",
    "N_EPOCHS = 10\n",
    "training_loss = []\n",
    "validation_loss = []\n",
    "for epoch in range(N_EPOCHS):\n",
    "    train_loss = train(model, train_loader, optimizer, criterion)\n",
    "    val_loss = evaluate(model, val_loader, criterion)\n",
    "    training_loss.append(train_loss)\n",
    "    validation_loss.append(val_loss)\n",
    "    print(f'Epoch: {epoch+1} | Train Loss: {train_loss} | Val Loss: {val_loss}')\n",
    "\n",
    "# Test the model\n",
    "test_loss = evaluate(model, test_loader, criterion)\n",
    "print(f'| Test Loss: {test_loss}')"
   ]
  },
  {
   "cell_type": "code",
   "execution_count": 43,
   "metadata": {},
   "outputs": [
    {
     "data": {
      "image/png": "[encoded data removed]",
      "text/plain": [
       "<Figure size 640x480 with 1 Axes>"
      ]
     },
     "metadata": {},
     "output_type": "display_data"
    }
   ],
   "source": [
    "import matplotlib.pyplot as plt\n",
    "\n",
    "plt.plot(training_loss, label='Training Loss')\n",
    "plt.plot(validation_loss, label='Validation Loss')\n",
    "plt.xlabel('Epoch')\n",
    "plt.ylabel('Loss')\n",
    "plt.legend()\n",
    "plt.show()"
   ]
  },
  {
   "cell_type": "code",
   "execution_count": 44,
   "metadata": {},
   "outputs": [],
   "source": [
    "model = model.to('cpu')\n",
    "torch.save(model.state_dict(), 'q2a_transformer_model.pth')"
   ]
  },
  {
   "cell_type": "code",
   "execution_count": 45,
   "metadata": {},
   "outputs": [
    {
     "name": "stdout",
     "output_type": "stream",
     "text": [
      "| Validation Loss: 6.578901571386001\n",
      "| Test Loss: 6.708190045458205\n"
     ]
    }
   ],
   "source": [
    "model_loaded = TransformerModel(src_vocab_size=SRC_VOCAB_SIZE, tgt_vocab_size=TGT_VOCAB_SIZE, \n",
    "            emb_dim=EMB_DIM, nhead=N_HEAD, num_encoder_layers=NUM_ENCODER_LAYERS, \n",
    "            num_decoder_layers=NUM_DECODER_LAYERS, dropout=DROPOUT)\n",
    "model_loaded.load_state_dict(torch.load('q2a_transformer_model.pth'))\n",
    "\n",
    "val_loss = evaluate(model_loaded, val_loader, criterion)\n",
    "print(f'| Validation Loss: {val_loss}')\n",
    "test_loss = evaluate(model_loaded, test_loader, criterion)\n",
    "print(f'| Test Loss: {test_loss}')"
   ]
  },
  {
   "cell_type": "markdown",
   "metadata": {},
   "source": [
    "### Compute the scores\n"
   ]
  },
  {
   "cell_type": "code",
   "execution_count": 46,
   "metadata": {},
   "outputs": [
    {
     "name": "stdout",
     "output_type": "stream",
     "text": [
      "The two wanted to talk about the implementation of the international agreement and about Teheran's destabilising activities in the Middle East.\n",
      " of the two proposals on the basis of the reform of the two - year programme , the Portuguese Presidency\n"
     ]
    }
   ],
   "source": [
    "def translate_sentence(model, sentence, token_transform, vocab_transform, device, max_length):\n",
    "    model.eval()\n",
    "    model = model.to(device)\n",
    "    sentence_token = token_transform[SRC_LANGUAGE](sentence)\n",
    "    sentence_vocab = torch.tensor([vocab_transform[SRC_LANGUAGE][token] for token in sentence_token], dtype=torch.long)\n",
    "    sentence_vocab = sentence_vocab.unsqueeze(dim=0)\n",
    "    sentence_vocab = sentence_vocab.to(device)\n",
    "    src_mask = torch.zeros((sentence_vocab.shape[1], sentence_vocab.shape[1]),device=device).type(torch.bool)\n",
    "    memory = model.encode(sentence_vocab, src_mask)\n",
    "    translation = torch.tensor([vocab_transform[TGT_LANGUAGE]['<bos>']], dtype=torch.long).unsqueeze(0).to(device)\n",
    "    \n",
    "    for i in range(max_length):\n",
    "        tgt_mask = generate_square_subsequent_mask(translation.shape[1]).to(device)\n",
    "        out = model.decode(translation, memory, tgt_mask)\n",
    "        \n",
    "        out = model.linear(out)\n",
    "        out = out.softmax(dim=-1)\n",
    "        out = torch.argmax(out, dim=-1)\n",
    "        translation = torch.cat((translation, out[:, -1].unsqueeze(0)), dim=1)\n",
    "        if out[:, -1].item() == vocab_transform[TGT_LANGUAGE]['<eos>']:\n",
    "            break\n",
    "    translation = translation.squeeze(0)\n",
    "    translation = translation.cpu().numpy()\n",
    "    translation = [vocab_transform[TGT_LANGUAGE].lookup_token(token) for token in translation]\n",
    "    return ' '.join(translation).replace('<bos>', '').replace('<eos>', '')\n",
    "\n",
    "print(test_dataset[2]['translation']['en'])\n",
    "print(translate_sentence(model, test_dataset[2]['translation']['de'], token_transform, vocab_transform, device, 20))"
   ]
  },
  {
   "cell_type": "code",
   "execution_count": 60,
   "metadata": {},
   "outputs": [
    {
     "name": "stdout",
     "output_type": "stream",
     "text": [
      "The crash came amid high winds and rain just days before millions arrive in the kingdom for the pilgrimage, which is required at least once in the life of every able-bodied Muslim.\n",
      " of the Erika , the United Nations Group has been able to take a report on the basis of a total of the euro , and a number of people who are in favour of the euro , and in\n"
     ]
    }
   ],
   "source": [
    "def greedy_decode(model, src, src_mask, max_len, start_symbol):\n",
    "    src = src.to(device)\n",
    "    src_mask = src_mask.to(device)\n",
    "    memory = model.encode(src, src_mask)\n",
    "    ys = torch.ones(1, 1).fill_(start_symbol).type(torch.long).to(device)\n",
    "    for i in range(max_len-1):\n",
    "        memory = memory.to(device)\n",
    "        tgt_mask = (generate_square_subsequent_mask(ys.size(1))\n",
    "                    .type(torch.bool)).to(device)\n",
    "        out = model.decode(ys, memory, tgt_mask)\n",
    "        out = out.transpose(0, 1)\n",
    "        prob = model.linear(out[:, -1])\n",
    "        _, next_word = torch.max(prob, dim=1)\n",
    "        next_word = next_word[-1].item()\n",
    "        ys = torch.cat([ys, torch.ones(1, 1).type_as(src.data).fill_(next_word)], dim=1)\n",
    "        if next_word == EOS_IDX:\n",
    "            break\n",
    "    return ys\n",
    "\n",
    "\n",
    "# actual function to translate input sentence into target language\n",
    "def translate(model: torch.nn.Module, src_sentence: str):\n",
    "    model.eval()\n",
    "    src = token_transform[SRC_LANGUAGE](src_sentence)\n",
    "    src = torch.tensor([[vocab_transform[SRC_LANGUAGE][token] for token in src]], dtype=torch.long)\n",
    "    num_tokens = src.shape[1]\n",
    "    src_mask = (torch.zeros(num_tokens, num_tokens)).type(torch.bool)\n",
    "    tgt_tokens = greedy_decode(\n",
    "        model,  src, src_mask, max_len=num_tokens + 5, start_symbol=BOS_IDX).flatten()\n",
    "    return \" \".join(vocab_transform[TGT_LANGUAGE].lookup_tokens(list(tgt_tokens.cpu().numpy()))).replace(\"<bos>\", \"\").replace(\"<eos>\", \"\")\n",
    "\n",
    "ind = 660\n",
    "print(test_dataset[ind]['translation']['en'])\n",
    "print(translate(model, test_dataset[ind]['translation']['de']))"
   ]
  },
  {
   "cell_type": "code",
   "execution_count": 61,
   "metadata": {},
   "outputs": [
    {
     "name": "stderr",
     "output_type": "stream",
     "text": [
      "[nltk_data] Downloading package wordnet to\n",
      "[nltk_data]     /mnt/disk1/sumdev/nltk_data...\n",
      "[nltk_data]   Package wordnet is already up-to-date!\n",
      "[nltk_data] Downloading package punkt to\n",
      "[nltk_data]     /mnt/disk1/sumdev/nltk_data...\n",
      "[nltk_data]   Package punkt is already up-to-date!\n"
     ]
    }
   ],
   "source": [
    "import sacrebleu\n",
    "from nltk.translate import meteor_score\n",
    "from torchtext.data.utils import get_tokenizer\n",
    "from nltk.tokenize import word_tokenize\n",
    "from bert_score import score\n",
    "import nltk\n",
    "nltk.download('wordnet')\n",
    "nltk.download('punkt')\n",
    "\n",
    "\n",
    "tokenizer = get_tokenizer(\"basic_english\")\n",
    "\n",
    "def calculate_bleu(reference_corpus, predicted_corpus):\n",
    "    return sacrebleu.corpus_bleu(predicted_corpus, [reference_corpus])\n",
    "\n",
    "def calculate_meteor(reference_corpus, predicted_corpus):\n",
    "    m_score = 0\n",
    "    for line in zip(reference_corpus, predicted_corpus):\n",
    "        ref = word_tokenize(line[0])\n",
    "        hypo = word_tokenize(line[1])\n",
    "        # m_score += meteor_score.meteor_score([ref], hypo)\n",
    "        m_score += meteor_score.single_meteor_score(ref, hypo)\n",
    "    return m_score / len(reference_corpus)\n",
    "\n",
    "def calculate_bert_score(reference_corpus, predicted_corpus):\n",
    "    _, _, bert_scores = score(predicted_corpus, reference_corpus, lang=\"en\", rescale_with_baseline=True)\n",
    "    return bert_scores.mean().item()"
   ]
  },
  {
   "cell_type": "markdown",
   "metadata": {},
   "source": [
    "### Evaluation Scores on the Validation Set"
   ]
  },
  {
   "cell_type": "code",
   "execution_count": 62,
   "metadata": {},
   "outputs": [],
   "source": [
    "sentence_german_val, sentence_english_val, sentence_english_translated_val = [], [], []\n",
    "\n",
    "for i in range(len(validation_dataset)):\n",
    "    sentence_german_val.append(validation_dataset[i]['translation']['de'])\n",
    "    sentence_english_val.append(validation_dataset[i]['translation']['en'])\n",
    "    sentence_english_translated_val.append(translate(model, validation_dataset[i]['translation']['de']))"
   ]
  },
  {
   "cell_type": "code",
   "execution_count": 63,
   "metadata": {},
   "outputs": [
    {
     "name": "stderr",
     "output_type": "stream",
     "text": [
      "Some weights of RobertaModel were not initialized from the model checkpoint at roberta-large and are newly initialized: ['roberta.pooler.dense.bias', 'roberta.pooler.dense.weight']\n",
      "You should probably TRAIN this model on a down-stream task to be able to use it for predictions and inference.\n"
     ]
    },
    {
     "name": "stdout",
     "output_type": "stream",
     "text": [
      "BLEU Score: 0.9478835493638972\n",
      "BLEU-1 Score: 23.710785263656526\n",
      "BLEU-2 Score: 3.0627456294890907\n",
      "BLEU-3 Score: 0.3182368727289999\n",
      "BLEU-4 Score: 0.060082613593691325\n",
      "METEOR Score: 0.12734655510735712\n",
      "BERT Score: -0.04137616232037544\n"
     ]
    }
   ],
   "source": [
    "bleu_score_val = calculate_bleu(sentence_english_translated_val, sentence_english_val)\n",
    "meteor_score_val = calculate_meteor(sentence_english_translated_val, sentence_english_val)\n",
    "bert_score_val = calculate_bert_score(sentence_english_translated_val, sentence_english_val)\n",
    "\n",
    "print(f'BLEU Score: {bleu_score_val.score}')\n",
    "print(f'BLEU-1 Score: {bleu_score_val.precisions[0]}')\n",
    "print(f'BLEU-2 Score: {bleu_score_val.precisions[1]}')\n",
    "print(f'BLEU-3 Score: {bleu_score_val.precisions[2]}')\n",
    "print(f'BLEU-4 Score: {bleu_score_val.precisions[3]}')\n",
    "print(f'METEOR Score: {meteor_score_val}')\n",
    "print(f'BERT Score: {bert_score_val}')"
   ]
  },
  {
   "cell_type": "code",
   "execution_count": 67,
   "metadata": {},
   "outputs": [
    {
     "name": "stdout",
     "output_type": "stream",
     "text": [
      "==> Sentence 1\n",
      "German: Die Premierminister Indiens und Japans trafen sich in Tokio.\n",
      "English: India and Japan prime ministers meet in Tokyo\n",
      "Translated:  and foremost , the situation in Europe is being made . It is also\n",
      "==> Sentence 2\n",
      "German: Indiens neuer Premierminister Narendra Modi trifft bei seinem ersten wichtigen Auslandsbesuch seit seinem Wahlsieg im Mai seinen japanischen Amtskollegen Shinzo Abe in Toko, um wirtschaftliche und sicherheitspolitische Beziehungen zu besprechen.\n",
      "English: India's new prime minister, Narendra Modi, is meeting his Japanese counterpart, Shinzo Abe, in Tokyo to discuss economic and security ties, on his first major foreign visit since winning May's election.\n",
      "Translated:  - year , the Portuguese Presidency has had a great deal of progress in the past , and in particular , to the end of the United Kingdom , in the last few weeks , in\n",
      "==> Sentence 3\n",
      "German: Herr Modi befindet sich auf einer fünftägigen Reise nach Japan, um die wirtschaftlichen Beziehungen mit der drittgrößten Wirtschaftsnation der Welt zu festigen.\n",
      "English: Mr Modi is on a five-day trip to Japan to strengthen economic ties with the third largest economy in the world.\n",
      "Translated:  of the world , we are talking about the situation of the world , and the same thing , is that we are talking about the situation of\n",
      "==> Sentence 4\n",
      "German: Pläne für eine stärkere kerntechnische Zusammenarbeit stehen ganz oben auf der Tagesordnung.\n",
      "English: High on the agenda are plans for greater nuclear co-operation.\n",
      "Translated:  - General for the Council , we should be able to take a clear position on the\n",
      "==> Sentence 5\n",
      "German: Berichten zufolge hofft Indien darüber hinaus auf einen Vertrag zur Verteidigungszusammenarbeit zwischen den beiden Nationen.\n",
      "English: India is also reportedly hoping for a deal on defence collaboration between the two nations.\n",
      "Translated:  of the two amendments have been made by the two rapporteurs . This is a very good thing . This\n"
     ]
    }
   ],
   "source": [
    "for i in range(5):\n",
    "    print('==> Sentence', i+1)\n",
    "    print(f'German: {sentence_german_val[i]}')\n",
    "    print(f'English: {sentence_english_val[i]}')\n",
    "    print(f'Translated: {sentence_english_translated_val[i]}')"
   ]
  },
  {
   "cell_type": "markdown",
   "metadata": {},
   "source": [
    "### Evaluation Scores on the Test Set"
   ]
  },
  {
   "cell_type": "code",
   "execution_count": 65,
   "metadata": {},
   "outputs": [
    {
     "name": "stderr",
     "output_type": "stream",
     "text": [
      "Some weights of RobertaModel were not initialized from the model checkpoint at roberta-large and are newly initialized: ['roberta.pooler.dense.bias', 'roberta.pooler.dense.weight']\n",
      "You should probably TRAIN this model on a down-stream task to be able to use it for predictions and inference.\n"
     ]
    },
    {
     "name": "stdout",
     "output_type": "stream",
     "text": [
      "BLEU Score: 1.004693931335485\n",
      "BLEU-1 Score: 23.599868993590043\n",
      "BLEU-2 Score: 2.9466623036649215\n",
      "BLEU-3 Score: 0.3475507991947833\n",
      "BLEU-4 Score: 0.0798214901220906\n",
      "METEOR Score: 0.12672719694687268\n",
      "BERT Score: -0.054380256682634354\n"
     ]
    }
   ],
   "source": [
    "sentence_german_test, sentence_english_test, sentence_english_translated_test = [], [], []\n",
    "\n",
    "for i in range(len(test_dataset)):\n",
    "    sentence_german_test.append(test_dataset[i]['translation']['de'])\n",
    "    sentence_english_test.append(test_dataset[i]['translation']['en'])\n",
    "    sentence_english_translated_test.append(translate(model, test_dataset[i]['translation']['de']))\n",
    "\n",
    "bleu_score_test = calculate_bleu(sentence_english_translated_test, sentence_english_test)\n",
    "meteor_score_test = calculate_meteor(sentence_english_translated_test, sentence_english_test)\n",
    "bert_score_test = calculate_bert_score(sentence_english_translated_test, sentence_english_test)\n",
    "\n",
    "print(f'BLEU Score: {bleu_score_test.score}')\n",
    "print(f'BLEU-1 Score: {bleu_score_test.precisions[0]}')\n",
    "print(f'BLEU-2 Score: {bleu_score_test.precisions[1]}')\n",
    "print(f'BLEU-3 Score: {bleu_score_test.precisions[2]}')\n",
    "print(f'BLEU-4 Score: {bleu_score_test.precisions[3]}')\n",
    "print(f'METEOR Score: {meteor_score_test}')\n",
    "print(f'BERT Score: {bert_score_test}')"
   ]
  },
  {
   "cell_type": "code",
   "execution_count": 66,
   "metadata": {},
   "outputs": [
    {
     "name": "stdout",
     "output_type": "stream",
     "text": [
      "==> Sentence 1\n",
      "German: Obama empfängt Netanyahu\n",
      "English: Obama receives Netanyahu\n",
      "Translated:  of the cost of the cost of\n",
      "==> Sentence 2\n",
      "German: Das Verhältnis zwischen Obama und Netanyahu ist nicht gerade freundschaftlich.\n",
      "English: The relationship between Obama and Netanyahu is not exactly friendly.\n",
      "Translated:  and a number of things are not being made by a majority of the United\n",
      "==> Sentence 3\n",
      "German: Die beiden wollten über die Umsetzung der internationalen Vereinbarung sowie über Teherans destabilisierende Maßnahmen im Nahen Osten sprechen.\n",
      "English: The two wanted to talk about the implementation of the international agreement and about Teheran's destabilising activities in the Middle East.\n",
      "Translated:  of the two proposals on the basis of the reform of the two - year programme , the Portuguese Presidency and the Portuguese\n",
      "==> Sentence 4\n",
      "German: Bei der Begegnung soll es aber auch um den Konflikt mit den Palästinensern und die diskutierte Zwei-Staaten-Lösung gehen.\n",
      "English: The meeting was also planned to cover the conflict with the Palestinians and the disputed two state solution.\n",
      "Translated:  - and this is also the case of the proposed amendment , but also the possibility of the principle of the Treaty .\n",
      "==> Sentence 5\n",
      "German: Das Verhältnis zwischen Obama und Netanyahu ist seit Jahren gespannt.\n",
      "English: Relations between Obama and Netanyahu have been strained for years.\n",
      "Translated:  and a number of years ago , the European Parliament is still a long time\n"
     ]
    }
   ],
   "source": [
    "for i in range(5):\n",
    "    print('==> Sentence', i+1)\n",
    "    print(f'German: {sentence_german_test[i]}')\n",
    "    print(f'English: {sentence_english_test[i]}')\n",
    "    print(f'Translated: {sentence_english_translated_test[i]}')"
   ]
  }
 ],
 "metadata": {
  "kernelspec": {
   "display_name": "base",
   "language": "python",
   "name": "python3"
  },
  "language_info": {
   "codemirror_mode": {
    "name": "ipython",
    "version": 3
   },
   "file_extension": ".py",
   "mimetype": "text/x-python",
   "name": "python",
   "nbconvert_exporter": "python",
   "pygments_lexer": "ipython3",
   "version": "3.12.2"
  }
 },
 "nbformat": 4,
 "nbformat_minor": 2
}
