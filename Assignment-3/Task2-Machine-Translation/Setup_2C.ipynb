{
 "cells": [
  {
   "cell_type": "code",
   "execution_count": 1,
   "metadata": {},
   "outputs": [
    {
     "name": "stderr",
     "output_type": "stream",
     "text": [
      "/mnt/disk1/sumdev/CourseWork/a3_env/lib/python3.12/site-packages/tqdm/auto.py:21: TqdmWarning: IProgress not found. Please update jupyter and ipywidgets. See https://ipywidgets.readthedocs.io/en/stable/user_install.html\n",
      "  from .autonotebook import tqdm as notebook_tqdm\n"
     ]
    }
   ],
   "source": [
    "import torch\n",
    "from datasets import load_dataset\n",
    "from torch.utils.data import DataLoader\n",
    "import warnings\n",
    "warnings.filterwarnings(\"ignore\")"
   ]
  },
  {
   "cell_type": "markdown",
   "metadata": {},
   "source": [
    "# Load Dataset and Create Dataloader"
   ]
  },
  {
   "cell_type": "code",
   "execution_count": 2,
   "metadata": {},
   "outputs": [],
   "source": [
    "# Load training dataset, only the first 50,000 examples\n",
    "train_dataset = load_dataset(\"wmt16\", \"de-en\", split=\"train[:50000]\")\n",
    "\n",
    "# Load validation and test datasets\n",
    "validation_dataset = load_dataset(\"wmt16\", \"de-en\", split=\"validation\")\n",
    "test_dataset = load_dataset(\"wmt16\", \"de-en\", split=\"test\")"
   ]
  },
  {
   "cell_type": "code",
   "execution_count": 3,
   "metadata": {},
   "outputs": [
    {
     "data": {
      "text/plain": [
       "(50000, 2169, 2999)"
      ]
     },
     "execution_count": 3,
     "metadata": {},
     "output_type": "execute_result"
    }
   ],
   "source": [
    "len(train_dataset), len(validation_dataset), len(test_dataset)"
   ]
  },
  {
   "cell_type": "markdown",
   "metadata": {},
   "source": [
    "# Setup- 2C"
   ]
  },
  {
   "cell_type": "markdown",
   "metadata": {},
   "source": [
    "### Load Model"
   ]
  },
  {
   "cell_type": "code",
   "execution_count": 5,
   "metadata": {},
   "outputs": [],
   "source": [
    "import torch\n",
    "from transformers import T5ForConditionalGeneration, T5Tokenizer, T5Config, AutoTokenizer\n",
    "from torch.utils.data import Dataset, DataLoader\n",
    "\n",
    "# Load the T5 tokenizer and model\n",
    "tokenizer = AutoTokenizer.from_pretrained(\"google-t5/t5-small\")\n",
    "model = T5ForConditionalGeneration.from_pretrained(\"google-t5/t5-small\")"
   ]
  },
  {
   "cell_type": "markdown",
   "metadata": {},
   "source": [
    "### Make Layers Trainable"
   ]
  },
  {
   "cell_type": "code",
   "execution_count": 16,
   "metadata": {},
   "outputs": [],
   "source": [
    "for param in model.parameters():\n",
    "    param.requires_grad = False\n",
    "\n",
    "# Make first two layer of model's encoder trainable\n",
    "for param in model.encoder.block[:2].parameters():\n",
    "    param.requires_grad = True\n",
    "\n",
    "# Make last three layer of model's decoder trainable\n",
    "for param in model.decoder.block[-3:].parameters():\n",
    "    param.requires_grad = True\n",
    "\n",
    "# Make first two layer of model's decoder trainable\n",
    "for param in model.decoder.block[:2].parameters():\n",
    "    param.requires_grad = True\n",
    "    \n",
    "# Make last three layer of model's decoder trainable\n",
    "for param in model.decoder.block[-3:].parameters():\n",
    "    param.requires_grad = True"
   ]
  },
  {
   "cell_type": "markdown",
   "metadata": {},
   "source": [
    "### Create Dataset and Dataloader"
   ]
  },
  {
   "cell_type": "code",
   "execution_count": 6,
   "metadata": {},
   "outputs": [
    {
     "name": "stdout",
     "output_type": "stream",
     "text": [
      "50000 2169 2999\n",
      "782 34 47\n",
      "torch.Size([64, 157]) torch.Size([64, 132])\n"
     ]
    }
   ],
   "source": [
    "from torch.nn.utils.rnn import pad_sequence\n",
    "\n",
    "# Define a custom dataset class for German-to-English translation\n",
    "class TranslationDataset(Dataset):\n",
    "    def __init__(self, data, tokenizer):\n",
    "        self.data = data\n",
    "        self.tokenizer = tokenizer\n",
    "\n",
    "    def __len__(self):\n",
    "        return len(self.data)\n",
    "\n",
    "    def __getitem__(self, idx):\n",
    "        sample = self.data[idx]\n",
    "        german = self.tokenizer.encode(sample['translation']['de'], return_tensors='pt')\n",
    "        english = self.tokenizer.encode(sample['translation']['en'], return_tensors='pt')\n",
    "        return german.squeeze(0), english.squeeze(0)\n",
    "    \n",
    "\n",
    "\n",
    "def my_collate_fn(batch):\n",
    "    src_batch, tgt_batch = zip(*batch)\n",
    "    src_batch = pad_sequence(src_batch, batch_first=True, padding_value=tokenizer.pad_token_id)\n",
    "    tgt_batch = pad_sequence(tgt_batch, batch_first=True, padding_value=tokenizer.pad_token_id)\n",
    "    return src_batch, tgt_batch\n",
    "\n",
    "\n",
    "# Create DataLoader with custom collate function\n",
    "BATCH_SIZE = 64\n",
    "train_data = TranslationDataset(train_dataset, tokenizer)\n",
    "val_data = TranslationDataset(validation_dataset, tokenizer)\n",
    "test_data = TranslationDataset(test_dataset, tokenizer)\n",
    "print(len(train_data), len(val_data), len(test_data))\n",
    "\n",
    "train_loader = DataLoader(train_data, batch_size=BATCH_SIZE, shuffle=True, collate_fn=my_collate_fn)\n",
    "val_loader = DataLoader(val_data, batch_size=BATCH_SIZE, shuffle=False, collate_fn=my_collate_fn)\n",
    "test_loader = DataLoader(test_data, batch_size=BATCH_SIZE, shuffle=False, collate_fn=my_collate_fn)\n",
    "print(len(train_loader), len(val_loader), len(test_loader))\n",
    "\n",
    "# Iterate through the DataLoader\n",
    "for german_batch, english_batch in train_loader:\n",
    "    print(german_batch.shape, english_batch.shape)\n",
    "    break"
   ]
  },
  {
   "cell_type": "markdown",
   "metadata": {},
   "source": [
    "### Finetune the T5 Model"
   ]
  },
  {
   "cell_type": "code",
   "execution_count": 7,
   "metadata": {},
   "outputs": [],
   "source": [
    "device = torch.device('cuda' if torch.cuda.is_available() else 'cpu')\n",
    "optimizer = torch.optim.Adam(model.parameters(), lr=1e-4)\n",
    "loss = torch.nn.CrossEntropyLoss(ignore_index=tokenizer.pad_token_id)\n",
    "\n",
    "model = model.to(device)"
   ]
  },
  {
   "cell_type": "code",
   "execution_count": 19,
   "metadata": {},
   "outputs": [
    {
     "name": "stdout",
     "output_type": "stream",
     "text": [
      "Batch 0, Loss: 7.614135265350342\n",
      "Batch 100, Loss: 3.1174025535583496\n",
      "Batch 200, Loss: 2.707453966140747\n",
      "Batch 300, Loss: 2.7780606746673584\n",
      "Batch 400, Loss: 2.5667431354522705\n",
      "Batch 500, Loss: 2.685753583908081\n",
      "Batch 600, Loss: 2.5662221908569336\n",
      "Batch 700, Loss: 2.568875312805176\n",
      "Epoch 1: Training loss: 2.735836673270711, Validation loss: 2.266573323922999\n",
      "Batch 0, Loss: 2.517554521560669\n",
      "Batch 100, Loss: 2.436403274536133\n",
      "Batch 200, Loss: 2.381542682647705\n",
      "Batch 300, Loss: 2.429607629776001\n",
      "Batch 400, Loss: 2.1286587715148926\n",
      "Batch 500, Loss: 2.2541277408599854\n",
      "Batch 600, Loss: 2.4473628997802734\n",
      "Batch 700, Loss: 2.2143986225128174\n",
      "Epoch 2: Training loss: 2.3576214069600607, Validation loss: 2.177361958167132\n",
      "Batch 0, Loss: 2.139035224914551\n",
      "Batch 100, Loss: 2.1552021503448486\n",
      "Batch 200, Loss: 2.1624841690063477\n",
      "Batch 300, Loss: 2.1933677196502686\n",
      "Batch 400, Loss: 2.150977611541748\n",
      "Batch 500, Loss: 2.1644322872161865\n",
      "Batch 600, Loss: 2.2550320625305176\n",
      "Batch 700, Loss: 2.2723002433776855\n",
      "Epoch 3: Training loss: 2.2324060090362567, Validation loss: 2.1356891323538387\n",
      "Batch 0, Loss: 2.158869743347168\n",
      "Batch 100, Loss: 2.156534194946289\n",
      "Batch 200, Loss: 2.231952667236328\n",
      "Batch 300, Loss: 2.3131096363067627\n",
      "Batch 400, Loss: 2.133775234222412\n",
      "Batch 500, Loss: 2.1431360244750977\n",
      "Batch 600, Loss: 2.118825674057007\n",
      "Batch 700, Loss: 1.9738820791244507\n",
      "Epoch 4: Training loss: 2.149017276513912, Validation loss: 2.095202821142533\n",
      "Batch 0, Loss: 2.165158271789551\n",
      "Batch 100, Loss: 2.1225340366363525\n",
      "Batch 200, Loss: 2.048584461212158\n",
      "Batch 300, Loss: 2.0543196201324463\n",
      "Batch 400, Loss: 1.9840444326400757\n",
      "Batch 500, Loss: 2.0734915733337402\n",
      "Batch 600, Loss: 2.0024421215057373\n",
      "Batch 700, Loss: 2.1390345096588135\n",
      "Epoch 5: Training loss: 2.0877425063906423, Validation loss: 2.06270426161149\n"
     ]
    }
   ],
   "source": [
    "EPOCH = 5\n",
    "training_loss = []\n",
    "validation_loss = []\n",
    "\n",
    "for epoch in range(EPOCH):\n",
    "    train_loss = 0\n",
    "    model.train()\n",
    "    for i, (german_batch, english_batch) in enumerate(train_loader):\n",
    "        german_batch, english_batch = german_batch.to(device), english_batch.to(device)\n",
    "        optimizer.zero_grad()\n",
    "        output = model(input_ids=german_batch, labels=english_batch)\n",
    "        batch_loss = loss(output.logits.view(-1, output.logits.shape[-1]), english_batch.view(-1))\n",
    "        batch_loss.backward()\n",
    "        optimizer.step()\n",
    "        train_loss += batch_loss.item()\n",
    "        if i % 100 == 0:\n",
    "            print(f\"Batch {i}, Loss: {batch_loss.item()}\")\n",
    "    train_loss = train_loss / len(train_loader)\n",
    "    training_loss.append(train_loss)\n",
    "    \n",
    "    val_loss = 0\n",
    "    model.eval()\n",
    "    with torch.no_grad():\n",
    "        for german_batch, english_batch in val_loader:\n",
    "            german_batch, english_batch = german_batch.to(device), english_batch.to(device)\n",
    "            output = model(input_ids=german_batch, labels=english_batch)\n",
    "            val_loss += loss(output.logits.view(-1, output.logits.shape[-1]), english_batch.view(-1)).item()\n",
    "    val_loss /= len(val_loader)\n",
    "    validation_loss.append(val_loss)\n",
    "    \n",
    "    print(f\"Epoch {epoch+1}: Training loss: {train_loss}, Validation loss: {val_loss}\")"
   ]
  },
  {
   "cell_type": "code",
   "execution_count": 20,
   "metadata": {},
   "outputs": [
    {
     "data": {
      "image/png": "[encoded data removed]",
      "text/plain": [
       "<Figure size 640x480 with 1 Axes>"
      ]
     },
     "metadata": {},
     "output_type": "display_data"
    }
   ],
   "source": [
    "import matplotlib.pyplot as plt\n",
    "\n",
    "plt.plot(training_loss, label='Training Loss')\n",
    "plt.plot(validation_loss, label='Validation Loss')\n",
    "plt.xlabel('Epoch')\n",
    "plt.ylabel('Loss')\n",
    "plt.legend()\n",
    "plt.show()"
   ]
  },
  {
   "cell_type": "code",
   "execution_count": 10,
   "metadata": {},
   "outputs": [
    {
     "name": "stdout",
     "output_type": "stream",
     "text": [
      "Validation Loss: 2.06270426161149\n",
      "Test Loss: 1.8900803733379283\n"
     ]
    }
   ],
   "source": [
    "def evaluate(model, loader, criterion):\n",
    "    model.eval()\n",
    "    model = model.to(device)\n",
    "    total_loss = 0\n",
    "    with torch.no_grad():\n",
    "        for german_batch, english_batch in loader:\n",
    "            german_batch, english_batch = german_batch.to(device), english_batch.to(device)\n",
    "            output = model(input_ids=german_batch, labels=english_batch)\n",
    "            total_loss += criterion(output.logits.view(-1, output.logits.shape[-1]), english_batch.view(-1)).item()\n",
    "    return total_loss / len(loader)\n",
    "\n",
    "print(\"Validation Loss:\", evaluate(model, val_loader, loss))\n",
    "print(\"Test Loss:\", evaluate(model, test_loader, loss))"
   ]
  },
  {
   "cell_type": "markdown",
   "metadata": {},
   "source": [
    "### Save the Model"
   ]
  },
  {
   "cell_type": "code",
   "execution_count": 137,
   "metadata": {},
   "outputs": [],
   "source": [
    "model = model.to('cpu')\n",
    "torch.save(model.state_dict(), 'q2c_t5_model.pth')"
   ]
  },
  {
   "cell_type": "code",
   "execution_count": 11,
   "metadata": {},
   "outputs": [
    {
     "name": "stdout",
     "output_type": "stream",
     "text": [
      "Validation Loss: 2.06270426161149\n",
      "Test Loss: 1.8900803733379283\n"
     ]
    }
   ],
   "source": [
    "import torch\n",
    "from transformers import T5ForConditionalGeneration, T5Tokenizer, T5Config, AutoTokenizer\n",
    "from torch.utils.data import Dataset, DataLoader\n",
    "\n",
    "# Load the T5 tokenizer and model\n",
    "tokenizer = AutoTokenizer.from_pretrained(\"google-t5/t5-small\")\n",
    "model_loaded = T5ForConditionalGeneration.from_pretrained(\"google-t5/t5-small\")\n",
    "model_loaded.load_state_dict(torch.load('q2c_t5_model.pth'))\n",
    "\n",
    "print(\"Validation Loss:\", evaluate(model_loaded, val_loader, loss))\n",
    "print(\"Test Loss:\", evaluate(model_loaded, test_loader, loss))"
   ]
  },
  {
   "cell_type": "markdown",
   "metadata": {},
   "source": [
    "### Compute the Evaluation Scores"
   ]
  },
  {
   "cell_type": "code",
   "execution_count": 12,
   "metadata": {},
   "outputs": [
    {
     "name": "stdout",
     "output_type": "stream",
     "text": [
      "Das Verhältnis zwischen Obama und Netanyahu ist nicht gerade freundschaftlich.\n",
      "The relationship between Obama and Netanyahu is not exactly friendly.\n",
      "The relationship between Obama and Netanyahu is not particularly frenetic.\n"
     ]
    }
   ],
   "source": [
    "ind = 1\n",
    "print(test_dataset[ind]['translation']['de'])\n",
    "print(test_dataset[ind]['translation']['en'])\n",
    "\n",
    "sentence = test_dataset[ind]['translation']['de']\n",
    "input_ids = tokenizer(sentence, return_tensors=\"pt\").input_ids\n",
    "\n",
    "model = model_loaded.to(device)\n",
    "input_ids = input_ids.to(device)\n",
    "outputs = model.generate(input_ids)\n",
    "print(tokenizer.decode(outputs[0], skip_special_tokens=True))"
   ]
  },
  {
   "cell_type": "code",
   "execution_count": 17,
   "metadata": {},
   "outputs": [
    {
     "name": "stderr",
     "output_type": "stream",
     "text": [
      "[nltk_data] Downloading package wordnet to\n",
      "[nltk_data]     /mnt/disk1/sumdev/nltk_data...\n",
      "[nltk_data]   Package wordnet is already up-to-date!\n",
      "[nltk_data] Downloading package punkt to\n",
      "[nltk_data]     /mnt/disk1/sumdev/nltk_data...\n",
      "[nltk_data]   Package punkt is already up-to-date!\n"
     ]
    }
   ],
   "source": [
    "import sacrebleu\n",
    "from nltk.translate import meteor_score\n",
    "from nltk.tokenize import word_tokenize\n",
    "from bert_score import score\n",
    "import nltk\n",
    "nltk.download('wordnet')\n",
    "nltk.download('punkt')\n",
    "\n",
    "\n",
    "def calculate_bleu(predicted_corpus, reference_corpus):\n",
    "    return sacrebleu.corpus_bleu(predicted_corpus, [[i] for i in reference_corpus])\n",
    "\n",
    "def calculate_meteor(predicted_corpus, reference_corpus):\n",
    "    m_score = 0\n",
    "    for line in zip(predicted_corpus, reference_corpus):\n",
    "        hypo = word_tokenize(line[0])\n",
    "        ref = word_tokenize(line[1])\n",
    "        # m_score += meteor_score.meteor_score([ref], hypo)\n",
    "        m_score += meteor_score.single_meteor_score(ref, hypo)\n",
    "    return m_score / len(reference_corpus)\n",
    "\n",
    "def calculate_bert_score(predicted_corpus, reference_corpus):\n",
    "    p, r, f1 = score(predicted_corpus, reference_corpus, lang=\"de\")\n",
    "    return p.mean().item(), r.mean().item(), f1.mean().item()\n",
    "\n",
    "def translate_sentence(finetuned_model, dataset):\n",
    "    finetuned_model = finetuned_model.to(device)\n",
    "    sentence_german = []\n",
    "    sentence_english = []\n",
    "    sentence_english_translated = []\n",
    "    for i in range(len(dataset)):\n",
    "        sentence_german.append(dataset[i]['translation']['de'])\n",
    "        sentence_english.append(dataset[i]['translation']['en'])\n",
    "        input_ids = tokenizer(sentence_german[i], return_tensors=\"pt\").input_ids\n",
    "        input_ids = input_ids.to(device)\n",
    "        outputs = finetuned_model.generate(input_ids)\n",
    "        sentence_english_translated.append(tokenizer.decode(outputs[0], skip_special_tokens=True))\n",
    "    return sentence_german, sentence_english, sentence_english_translated"
   ]
  },
  {
   "cell_type": "markdown",
   "metadata": {},
   "source": [
    "### Evaluation Scores on the Validation Set"
   ]
  },
  {
   "cell_type": "code",
   "execution_count": 18,
   "metadata": {},
   "outputs": [
    {
     "name": "stdout",
     "output_type": "stream",
     "text": [
      "BLEU Score: 11.478744233307168\n",
      "BLEU-1 Score: 70.0\n",
      "BLEU-2 Score: 11.11111111111111\n",
      "BLEU-3 Score: 6.25\n",
      "BLEU-4 Score: 3.5714285714285716\n",
      "METEOR Score: 0.3227082170618216\n",
      "BERT Scores:\n",
      "Precision in BERT Score: 0.79283207654953\n",
      "Recall in BERT Score: 0.7551372647285461\n",
      "F1 Score in BERT Score: 0.7728002071380615\n"
     ]
    },
    {
     "name": "stderr",
     "output_type": "stream",
     "text": [
      "Warning: Empty candidate sentence detected; setting raw BERTscores to 0.\n"
     ]
    },
    {
     "data": {
      "text/plain": [
       "'\\nBLEU Score: 11.478744233307168\\nBLEU-1 Score: 70.0\\nBLEU-2 Score: 11.11111111111111\\nBLEU-3 Score: 6.25\\nBLEU-4 Score: 3.5714285714285716\\nMETEOR Score: 0.3227082170618216\\n\\n'"
      ]
     },
     "execution_count": 18,
     "metadata": {},
     "output_type": "execute_result"
    }
   ],
   "source": [
    "sentence_german_val, sentence_english_val, sentence_english_translated_val = translate_sentence(model_loaded, validation_dataset)\n",
    "\n",
    "bleu_score_val = calculate_bleu(sentence_english_translated_val, sentence_english_val)\n",
    "meteor_score_val = calculate_meteor(sentence_english_translated_val, sentence_english_val)\n",
    "bert_score_val = calculate_bert_score(sentence_english_translated_val, sentence_english_val)\n",
    "\n",
    "print(f'BLEU Score: {bleu_score_val.score}')\n",
    "print(f'BLEU-1 Score: {bleu_score_val.precisions[0]}')\n",
    "print(f'BLEU-2 Score: {bleu_score_val.precisions[1]}')\n",
    "print(f'BLEU-3 Score: {bleu_score_val.precisions[2]}')\n",
    "print(f'BLEU-4 Score: {bleu_score_val.precisions[3]}')\n",
    "print(f'METEOR Score: {meteor_score_val}')\n",
    "print(f'BERT Scores:')\n",
    "print(f'Precision in BERT Score: {bert_score_val[0]}')\n",
    "print(f'Recall in BERT Score: {bert_score_val[1]}')\n",
    "print(f'F1 Score in BERT Score: {bert_score_val[2]}')"
   ]
  },
  {
   "cell_type": "code",
   "execution_count": 21,
   "metadata": {},
   "outputs": [
    {
     "name": "stdout",
     "output_type": "stream",
     "text": [
      "==> Sentence 1\n",
      "German: Die Premierminister Indiens und Japans trafen sich in Tokio.\n",
      "English: India and Japan prime ministers meet in Tokyo\n",
      "Translated: The Premier Minister Indiens and Japan trafiqued in Tokio.\n",
      "==> Sentence 2\n",
      "German: Indiens neuer Premierminister Narendra Modi trifft bei seinem ersten wichtigen Auslandsbesuch seit seinem Wahlsieg im Mai seinen japanischen Amtskollegen Shinzo Abe in Toko, um wirtschaftliche und sicherheitspolitische Beziehungen zu besprechen.\n",
      "English: India's new prime minister, Narendra Modi, is meeting his Japanese counterpart, Shinzo Abe, in Tokyo to discuss economic and security ties, on his first major foreign visit since winning May's election.\n",
      "Translated: Indi' s new Premier Narendra Modi will be addressing his first international\n",
      "==> Sentence 3\n",
      "German: Herr Modi befindet sich auf einer fünftägigen Reise nach Japan, um die wirtschaftlichen Beziehungen mit der drittgrößten Wirtschaftsnation der Welt zu festigen.\n",
      "English: Mr Modi is on a five-day trip to Japan to strengthen economic ties with the third largest economy in the world.\n",
      "Translated: Mr Modi is on a five-day trip to Japan to establish economic relations with the\n",
      "==> Sentence 4\n",
      "German: Pläne für eine stärkere kerntechnische Zusammenarbeit stehen ganz oben auf der Tagesordnung.\n",
      "English: High on the agenda are plans for greater nuclear co-operation.\n",
      "Translated: The agenda is a whole new one.\n",
      "==> Sentence 5\n",
      "German: Berichten zufolge hofft Indien darüber hinaus auf einen Vertrag zur Verteidigungszusammenarbeit zwischen den beiden Nationen.\n",
      "English: India is also reportedly hoping for a deal on defence collaboration between the two nations.\n",
      "Translated: The report is therefore a result of the hope that India will also be able to negotiate\n"
     ]
    }
   ],
   "source": [
    "for i in range(5):\n",
    "    print('==> Sentence', i+1)\n",
    "    print(f'German: {sentence_german_val[i]}')\n",
    "    print(f'English: {sentence_english_val[i]}')\n",
    "    print(f'Translated: {sentence_english_translated_val[i]}')"
   ]
  },
  {
   "cell_type": "markdown",
   "metadata": {},
   "source": [
    "### Evaluation Scores on the Test Set"
   ]
  },
  {
   "cell_type": "code",
   "execution_count": 19,
   "metadata": {},
   "outputs": [
    {
     "name": "stdout",
     "output_type": "stream",
     "text": [
      "BLEU Score: 0.0\n",
      "BLEU-1 Score: 66.66666666666667\n",
      "BLEU-2 Score: 25.0\n",
      "BLEU-3 Score: 25.0\n",
      "BLEU-4 Score: 0.0\n",
      "METEOR Score: 0.35205323785503273\n",
      "BERT Scores:\n",
      "Precision in BERT Score: 0.8002291321754456\n",
      "Recall in BERT Score: 0.7628726363182068\n",
      "F1 Score in BERT Score: 0.7803449034690857\n"
     ]
    },
    {
     "data": {
      "text/plain": [
       "'\\nBLEU Score: 0.0\\nBLEU-1 Score: 66.66666666666667\\nBLEU-2 Score: 25.0\\nBLEU-3 Score: 25.0\\nBLEU-4 Score: 0.0\\nMETEOR Score: 0.35205323785503273\\nBERT Scores:\\nPrecision in BERT Score: 0.8002291321754456\\nRecall in BERT Score: 0.7628726363182068\\nF1 Score in BERT Score: 0.7803449034690857\\n'"
      ]
     },
     "execution_count": 19,
     "metadata": {},
     "output_type": "execute_result"
    }
   ],
   "source": [
    "sentence_german_test, sentence_english_test, sentence_english_translated_test = translate_sentence(model_loaded, test_dataset)\n",
    "\n",
    "bleu_score_test = calculate_bleu(sentence_english_translated_test, sentence_english_test)\n",
    "meteor_score_test = calculate_meteor(sentence_english_translated_test, sentence_english_test)\n",
    "bert_score_test = calculate_bert_score(sentence_english_translated_test, sentence_english_test)\n",
    "\n",
    "print(f'BLEU Score: {bleu_score_test.score}')\n",
    "print(f'BLEU-1 Score: {bleu_score_test.precisions[0]}')\n",
    "print(f'BLEU-2 Score: {bleu_score_test.precisions[1]}')\n",
    "print(f'BLEU-3 Score: {bleu_score_test.precisions[2]}')\n",
    "print(f'BLEU-4 Score: {bleu_score_test.precisions[3]}')\n",
    "print(f'METEOR Score: {meteor_score_test}')\n",
    "print(f'BERT Scores:')\n",
    "print(f'Precision in BERT Score: {bert_score_test[0]}')\n",
    "print(f'Recall in BERT Score: {bert_score_test[1]}')\n",
    "print(f'F1 Score in BERT Score: {bert_score_test[2]}')"
   ]
  },
  {
   "cell_type": "code",
   "execution_count": 20,
   "metadata": {},
   "outputs": [
    {
     "name": "stdout",
     "output_type": "stream",
     "text": [
      "==> Sentence 1\n",
      "German: Obama empfängt Netanyahu\n",
      "English: Obama receives Netanyahu\n",
      "Translated: Obama senounces Netanyahu\n",
      "==> Sentence 2\n",
      "German: Das Verhältnis zwischen Obama und Netanyahu ist nicht gerade freundschaftlich.\n",
      "English: The relationship between Obama and Netanyahu is not exactly friendly.\n",
      "Translated: The relationship between Obama and Netanyahu is not particularly frenetic.\n",
      "==> Sentence 3\n",
      "German: Die beiden wollten über die Umsetzung der internationalen Vereinbarung sowie über Teherans destabilisierende Maßnahmen im Nahen Osten sprechen.\n",
      "English: The two wanted to talk about the implementation of the international agreement and about Teheran's destabilising activities in the Middle East.\n",
      "Translated: The two men wanted to speak about the implementation of the international agreement and about the Teheran\n",
      "==> Sentence 4\n",
      "German: Bei der Begegnung soll es aber auch um den Konflikt mit den Palästinensern und die diskutierte Zwei-Staaten-Lösung gehen.\n",
      "English: The meeting was also planned to cover the conflict with the Palestinians and the disputed two state solution.\n",
      "Translated: The beginning of the negotiations should also be aimed at preventing the conflict with the Palestinians\n",
      "==> Sentence 5\n",
      "German: Das Verhältnis zwischen Obama und Netanyahu ist seit Jahren gespannt.\n",
      "English: Relations between Obama and Netanyahu have been strained for years.\n",
      "Translated: The relationship between Obama and Netanyahu has been gespannt for years.\n"
     ]
    }
   ],
   "source": [
    "for i in range(5):\n",
    "    print('==> Sentence', i+1)\n",
    "    print(f'German: {sentence_german_test[i]}')\n",
    "    print(f'English: {sentence_english_test[i]}')\n",
    "    print(f'Translated: {sentence_english_translated_test[i]}')"
   ]
  }
 ],
 "metadata": {
  "kernelspec": {
   "display_name": "base",
   "language": "python",
   "name": "python3"
  },
  "language_info": {
   "codemirror_mode": {
    "name": "ipython",
    "version": 3
   },
   "file_extension": ".py",
   "mimetype": "text/x-python",
   "name": "python",
   "nbconvert_exporter": "python",
   "pygments_lexer": "ipython3",
   "version": "3.12.2"
  }
 },
 "nbformat": 4,
 "nbformat_minor": 2
}
