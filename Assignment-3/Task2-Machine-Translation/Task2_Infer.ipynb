{
 "cells": [
  {
   "cell_type": "code",
   "execution_count": 1,
   "metadata": {},
   "outputs": [
    {
     "name": "stderr",
     "output_type": "stream",
     "text": [
      "/mnt/disk1/sumdev/CourseWork/a3_env/lib/python3.12/site-packages/tqdm/auto.py:21: TqdmWarning: IProgress not found. Please update jupyter and ipywidgets. See https://ipywidgets.readthedocs.io/en/stable/user_install.html\n",
      "  from .autonotebook import tqdm as notebook_tqdm\n"
     ]
    }
   ],
   "source": [
    "import torch\n",
    "from datasets import load_dataset\n",
    "from torch.utils.data import DataLoader"
   ]
  },
  {
   "cell_type": "code",
   "execution_count": 2,
   "metadata": {},
   "outputs": [
    {
     "name": "stdout",
     "output_type": "stream",
     "text": [
      "100000 2169 2999\n"
     ]
    }
   ],
   "source": [
    "# Load training dataset, only the first 50,000 examples\n",
    "train_dataset = load_dataset(\"wmt16\", \"de-en\", split=\"train[:100000]\")\n",
    "\n",
    "# Load validation and test datasets\n",
    "validation_dataset = load_dataset(\"wmt16\", \"de-en\", split=\"validation\")\n",
    "test_dataset = load_dataset(\"wmt16\", \"de-en\", split=\"test\")\n",
    "print(len(train_dataset), len(validation_dataset), len(test_dataset))"
   ]
  },
  {
   "cell_type": "markdown",
   "metadata": {},
   "source": [
    "# Setup-2A"
   ]
  },
  {
   "cell_type": "code",
   "execution_count": 3,
   "metadata": {},
   "outputs": [],
   "source": [
    "from torch import Tensor\n",
    "import torch\n",
    "import torch.nn as nn\n",
    "from torch.nn import Transformer\n",
    "import math\n",
    "\n",
    "DEVICE = torch.device('cuda' if torch.cuda.is_available() else 'cpu')\n",
    "\n",
    "# helper Module that adds positional encoding to the token embedding to introduce a notion of word order.\n",
    "class PositionalEncoding(nn.Module):\n",
    "    def __init__(self,\n",
    "                 emb_size: int,\n",
    "                 dropout: float,\n",
    "                 maxlen: int = 5000):\n",
    "        super(PositionalEncoding, self).__init__()\n",
    "        den = torch.exp(- torch.arange(0, emb_size, 2)* math.log(10000) / emb_size)\n",
    "        pos = torch.arange(0, maxlen).reshape(maxlen, 1)\n",
    "        pos_embedding = torch.zeros((maxlen, emb_size))\n",
    "        pos_embedding[:, 0::2] = torch.sin(pos * den)\n",
    "        pos_embedding[:, 1::2] = torch.cos(pos * den)\n",
    "        pos_embedding = pos_embedding.unsqueeze(-2)\n",
    "\n",
    "        self.dropout = nn.Dropout(dropout)\n",
    "        self.register_buffer('pos_embedding', pos_embedding)\n",
    "\n",
    "    def forward(self, token_embedding: Tensor):\n",
    "        return self.dropout(token_embedding + self.pos_embedding[:token_embedding.size(0), :])\n",
    "\n",
    "# helper Module to convert tensor of input indices into corresponding tensor of token embeddings\n",
    "class TokenEmbedding(nn.Module):\n",
    "    def __init__(self, vocab_size: int, emb_size):\n",
    "        super(TokenEmbedding, self).__init__()\n",
    "        self.embedding = nn.Embedding(vocab_size, emb_size)\n",
    "        self.emb_size = emb_size\n",
    "\n",
    "    def forward(self, tokens: Tensor):\n",
    "        return self.embedding(tokens.long()) * math.sqrt(self.emb_size)\n",
    "\n",
    "# Seq2Seq Network\n",
    "class Seq2SeqTransformer(nn.Module):\n",
    "    def __init__(self,\n",
    "                 num_encoder_layers: int,\n",
    "                 num_decoder_layers: int,\n",
    "                 emb_size: int,\n",
    "                 nhead: int,\n",
    "                 src_vocab_size: int,\n",
    "                 tgt_vocab_size: int,\n",
    "                 dim_feedforward: int = 512,\n",
    "                 dropout: float = 0.1):\n",
    "        super(Seq2SeqTransformer, self).__init__()\n",
    "        self.transformer = Transformer(d_model=emb_size,\n",
    "                                       nhead=nhead,\n",
    "                                       num_encoder_layers=num_encoder_layers,\n",
    "                                       num_decoder_layers=num_decoder_layers,\n",
    "                                       dim_feedforward=dim_feedforward,\n",
    "                                       dropout=dropout)\n",
    "        self.generator = nn.Linear(emb_size, tgt_vocab_size)\n",
    "        self.src_tok_emb = TokenEmbedding(src_vocab_size, emb_size)\n",
    "        self.tgt_tok_emb = TokenEmbedding(tgt_vocab_size, emb_size)\n",
    "        self.positional_encoding = PositionalEncoding(\n",
    "            emb_size, dropout=dropout)\n",
    "\n",
    "    def forward(self,\n",
    "                src: Tensor,\n",
    "                trg: Tensor,\n",
    "                src_mask: Tensor,\n",
    "                tgt_mask: Tensor,\n",
    "                src_padding_mask: Tensor,\n",
    "                tgt_padding_mask: Tensor,\n",
    "                memory_key_padding_mask: Tensor):\n",
    "        src_emb = self.positional_encoding(self.src_tok_emb(src))\n",
    "        tgt_emb = self.positional_encoding(self.tgt_tok_emb(trg))\n",
    "        outs = self.transformer(src_emb, tgt_emb, src_mask, tgt_mask, None,\n",
    "                                src_padding_mask, tgt_padding_mask, memory_key_padding_mask)\n",
    "        return self.generator(outs)\n",
    "\n",
    "    def encode(self, src: Tensor, src_mask: Tensor):\n",
    "        return self.transformer.encoder(self.positional_encoding(\n",
    "                            self.src_tok_emb(src)), src_mask)\n",
    "\n",
    "    def decode(self, tgt: Tensor, memory: Tensor, tgt_mask: Tensor):\n",
    "        return self.transformer.decoder(self.positional_encoding(\n",
    "                          self.tgt_tok_emb(tgt)), memory,\n",
    "                          tgt_mask)"
   ]
  },
  {
   "cell_type": "code",
   "execution_count": 4,
   "metadata": {},
   "outputs": [],
   "source": [
    "from typing import Iterable\n",
    "import torch\n",
    "import math\n",
    "import torch.nn as nn\n",
    "from torchtext.data.utils import get_tokenizer\n",
    "from torchtext.vocab import build_vocab_from_iterator\n",
    "from torchtext.datasets import Multi30k\n",
    "from typing import Iterable, List\n",
    "\n",
    "\n",
    "# Define function to yield tokens from the dataset\n",
    "def yield_tokens(data_iter: Iterable, language: str):\n",
    "    for data_sample in data_iter:\n",
    "        yield token_transform[language](data_sample['translation'][language])\n",
    "\n",
    "# Set up tokenizers\n",
    "token_transform = {}\n",
    "SRC_LANGUAGE = 'de'\n",
    "TGT_LANGUAGE = 'en'\n",
    "token_transform[SRC_LANGUAGE] = get_tokenizer('spacy', language='de_core_news_sm')\n",
    "token_transform[TGT_LANGUAGE] = get_tokenizer('spacy', language='en_core_web_sm')\n",
    "\n",
    "\n",
    "# Build vocabulary\n",
    "vocab_transform = {}\n",
    "UNK_IDX, PAD_IDX, BOS_IDX, EOS_IDX = 0, 1, 2, 3\n",
    "vocab_transform[SRC_LANGUAGE] = build_vocab_from_iterator(yield_tokens(train_dataset, 'de'), specials=[\"<unk>\", \"<pad>\", \"<bos>\", \"<eos>\"])\n",
    "vocab_transform[TGT_LANGUAGE] = build_vocab_from_iterator(yield_tokens(train_dataset, 'en'), specials=[\"<unk>\", \"<pad>\", \"<bos>\", \"<eos>\"])\n",
    "vocab_transform[SRC_LANGUAGE].set_default_index(UNK_IDX)\n",
    "vocab_transform[TGT_LANGUAGE].set_default_index(UNK_IDX)"
   ]
  },
  {
   "cell_type": "code",
   "execution_count": 5,
   "metadata": {},
   "outputs": [],
   "source": [
    "def sequential_transforms(*transforms):\n",
    "    def func(txt_input):\n",
    "        for transform in transforms:\n",
    "            txt_input = transform(txt_input)\n",
    "        return txt_input\n",
    "    return func\n",
    "\n",
    "# function to add BOS/EOS and create tensor for input sequence indices\n",
    "def tensor_transform(token_ids: List[int]):\n",
    "    return torch.cat((torch.tensor([BOS_IDX]),\n",
    "                      torch.tensor(token_ids),\n",
    "                      torch.tensor([EOS_IDX])))\n",
    "    \n",
    "text_transform = {}\n",
    "for ln in [SRC_LANGUAGE, TGT_LANGUAGE]:\n",
    "    text_transform[ln] = sequential_transforms(token_transform[ln], #Tokenization\n",
    "                                               vocab_transform[ln], #Numericalization\n",
    "                                               tensor_transform) # Add BOS/EOS and create tensor"
   ]
  },
  {
   "cell_type": "code",
   "execution_count": 6,
   "metadata": {},
   "outputs": [],
   "source": [
    "device = torch.device('cuda' if torch.cuda.is_available() else 'cpu')\n",
    "\n",
    "def generate_square_subsequent_mask(sz):\n",
    "    mask = (torch.triu(torch.ones((sz, sz), device=device)) == 1).transpose(0, 1)\n",
    "    mask = mask.float().masked_fill(mask == 0, float('-inf')).masked_fill(mask == 1, float(0.0))\n",
    "    return mask\n",
    "\n",
    "def create_mask(src, tgt):\n",
    "    src_seq_len = src.shape[1]\n",
    "    tgt_seq_len = tgt.shape[1]\n",
    "\n",
    "    tgt_mask = generate_square_subsequent_mask(tgt_seq_len)\n",
    "    src_mask = torch.zeros((src_seq_len, src_seq_len),device=device).type(torch.bool)\n",
    "    src_padding_mask = (src == PAD_IDX)\n",
    "    tgt_padding_mask = (tgt == PAD_IDX)\n",
    "    return src_mask, tgt_mask, src_padding_mask, tgt_padding_mask"
   ]
  },
  {
   "cell_type": "code",
   "execution_count": 7,
   "metadata": {},
   "outputs": [
    {
     "name": "stderr",
     "output_type": "stream",
     "text": [
      "/mnt/disk1/sumdev/CourseWork/a3_env/lib/python3.12/site-packages/torch/nn/modules/transformer.py:286: UserWarning: enable_nested_tensor is True, but self.use_nested_tensor is False because encoder_layer.self_attn.batch_first was not True(use batch_first for better inference performance)\n",
      "  warnings.warn(f\"enable_nested_tensor is True, but self.use_nested_tensor is False because {why_not_sparsity_fast_path}\")\n"
     ]
    },
    {
     "data": {
      "text/plain": [
       "<All keys matched successfully>"
      ]
     },
     "execution_count": 7,
     "metadata": {},
     "output_type": "execute_result"
    }
   ],
   "source": [
    "SRC_LANGUAGE = 'de'\n",
    "TGT_LANGUAGE = 'en'\n",
    "vocab_transform = {}\n",
    "UNK_IDX, PAD_IDX, BOS_IDX, EOS_IDX = 0, 1, 2, 3\n",
    "vocab_transform[SRC_LANGUAGE] = build_vocab_from_iterator(yield_tokens(train_dataset, 'de'), specials=[\"<unk>\", \"<pad>\", \"<bos>\", \"<eos>\"])\n",
    "vocab_transform[TGT_LANGUAGE] = build_vocab_from_iterator(yield_tokens(train_dataset, 'en'), specials=[\"<unk>\", \"<pad>\", \"<bos>\", \"<eos>\"])\n",
    "vocab_transform[SRC_LANGUAGE].set_default_index(UNK_IDX)\n",
    "vocab_transform[TGT_LANGUAGE].set_default_index(UNK_IDX)\n",
    "\n",
    "SRC_VOCAB_SIZE = len(vocab_transform[SRC_LANGUAGE])\n",
    "TGT_VOCAB_SIZE = len(vocab_transform[TGT_LANGUAGE])\n",
    "EMB_SIZE = 512\n",
    "NHEAD = 8\n",
    "FFN_HID_DIM = 512\n",
    "BATCH_SIZE = 128\n",
    "NUM_ENCODER_LAYERS = 3\n",
    "NUM_DECODER_LAYERS = 3\n",
    "\n",
    "device = torch.device('cuda' if torch.cuda.is_available() else 'cpu')\n",
    "\n",
    "model_loaded = Seq2SeqTransformer(NUM_ENCODER_LAYERS, NUM_DECODER_LAYERS, EMB_SIZE,\n",
    "                                 NHEAD, SRC_VOCAB_SIZE, TGT_VOCAB_SIZE, FFN_HID_DIM)\n",
    "model = model_loaded.to(device)\n",
    "model_loaded.load_state_dict(torch.load('2A_final_model.pth'))"
   ]
  },
  {
   "cell_type": "code",
   "execution_count": 8,
   "metadata": {},
   "outputs": [],
   "source": [
    "def generate_square_subsequent_mask(sz):\n",
    "    mask = (torch.triu(torch.ones((sz, sz), device=device)) == 1).transpose(0, 1)\n",
    "    mask = mask.float().masked_fill(mask == 0, float('-inf')).masked_fill(mask == 1, float(0.0))\n",
    "    return mask\n",
    "\n",
    "# function to generate output sequence using greedy algorithm\n",
    "def greedy_decode(model, src, src_mask, max_len, start_symbol):\n",
    "    src = src.to(DEVICE)\n",
    "    src_mask = src_mask.to(DEVICE)\n",
    "\n",
    "    memory = model.encode(src, src_mask)\n",
    "    ys = torch.ones(1, 1).fill_(start_symbol).type(torch.long).to(DEVICE)\n",
    "    for i in range(max_len-1):\n",
    "        memory = memory.to(DEVICE)\n",
    "        tgt_mask = (generate_square_subsequent_mask(ys.size(0))\n",
    "                    .type(torch.bool)).to(DEVICE)\n",
    "        out = model.decode(ys, memory, tgt_mask)\n",
    "        out = out.transpose(0, 1)\n",
    "        prob = model.generator(out[:, -1])\n",
    "        _, next_word = torch.max(prob, dim=1)\n",
    "        next_word = next_word.item()\n",
    "\n",
    "        ys = torch.cat([ys,\n",
    "                        torch.ones(1, 1).type_as(src.data).fill_(next_word)], dim=0)\n",
    "        if next_word == EOS_IDX:\n",
    "            break\n",
    "    return ys\n",
    "\n",
    "# actual function to translate input sentence into target language\n",
    "def translate(model: torch.nn.Module, src_sentence: str):\n",
    "    model.eval()\n",
    "    src = text_transform[SRC_LANGUAGE](src_sentence).view(-1, 1)\n",
    "    num_tokens = src.shape[0]\n",
    "    src_mask = (torch.zeros(num_tokens, num_tokens)).type(torch.bool)\n",
    "    tgt_tokens = greedy_decode(\n",
    "        model,  src, src_mask, max_len=num_tokens + 5, start_symbol=BOS_IDX).flatten()\n",
    "    return \" \".join(vocab_transform[TGT_LANGUAGE].lookup_tokens(list(tgt_tokens.cpu().numpy()))).replace(\"<bos>\", \"\").replace(\"<eos>\", \"\")"
   ]
  },
  {
   "cell_type": "code",
   "execution_count": 9,
   "metadata": {},
   "outputs": [
    {
     "data": {
      "text/plain": [
       "' Is there at present a minimum level of transport'"
      ]
     },
     "execution_count": 9,
     "metadata": {},
     "output_type": "execute_result"
    }
   ],
   "source": [
    "sentence = 'Obama empfängt Netanyahu'\n",
    "actual = 'Obama receives Netanyahu'\n",
    "\n",
    "translate(model_loaded, sentence)"
   ]
  },
  {
   "cell_type": "code",
   "execution_count": 10,
   "metadata": {},
   "outputs": [
    {
     "name": "stderr",
     "output_type": "stream",
     "text": [
      "Translating:   0%|          | 0/2169 [00:00<?, ?it/s]"
     ]
    },
    {
     "name": "stderr",
     "output_type": "stream",
     "text": [
      "Translating: 100%|██████████| 2169/2169 [02:15<00:00, 16.02it/s]\n"
     ]
    },
    {
     "name": "stdout",
     "output_type": "stream",
     "text": [
      "BLEU-1: 100.0\n",
      "BLEU-2: 71.42857142857143\n",
      "BLEU-3: 30.76923076923077\n",
      "BLEU-4: 8.333333333333334\n",
      "BLEU score: 36.78763249927777\n"
     ]
    },
    {
     "name": "stderr",
     "output_type": "stream",
     "text": [
      "Translating: 100%|██████████| 2999/2999 [03:10<00:00, 15.73it/s]\n"
     ]
    },
    {
     "name": "stdout",
     "output_type": "stream",
     "text": [
      "BLEU-1: 100.0\n",
      "BLEU-2: 25.0\n",
      "BLEU-3: 7.142857142857143\n",
      "BLEU-4: 4.166666666666667\n",
      "BLEU score: 16.515821590069034\n"
     ]
    }
   ],
   "source": [
    "from sacrebleu.metrics import BLEU\n",
    "from tqdm import tqdm\n",
    "\n",
    "def calculate_test_bleu_scores(dataset, model):\n",
    "    references = []\n",
    "    hypotheses = []\n",
    "    bleu = BLEU()\n",
    "    for example in tqdm(dataset, desc=\"Translating\"):\n",
    "        src_sentence = example['translation']['de']\n",
    "        ref_translation = example['translation']['en']\n",
    "\n",
    "        hyp_translation = translate(model, src_sentence)\n",
    "\n",
    "        references.append([ref_translation])  # list of possible references is expected by sacrebleu\n",
    "        hypotheses.append(hyp_translation)\n",
    "\n",
    "    # Calculate BLEU scores\n",
    "    bleu_scores = bleu.corpus_score(hypotheses, references)\n",
    "\n",
    "    # Extract and print BLEU scores for 1-grams to 4-grams\n",
    "    print(f\"BLEU-1: {bleu_scores.precisions[0]}\")\n",
    "    print(f\"BLEU-2: {bleu_scores.precisions[1]}\")\n",
    "    print(f\"BLEU-3: {bleu_scores.precisions[2]}\")\n",
    "    print(f\"BLEU-4: {bleu_scores.precisions[3]}\")\n",
    "    print(f\"BLEU score: {bleu_scores.score}\")\n",
    "    return bleu_scores\n",
    "\n",
    "# Calculating BLEU metrics for the validation corpus\n",
    "bleu_scores = calculate_test_bleu_scores(validation_dataset, model_loaded)\n",
    "\n",
    "# Calculating BLEU metrics for the test corpus\n",
    "bleu_scores = calculate_test_bleu_scores(test_dataset, model_loaded)"
   ]
  },
  {
   "cell_type": "code",
   "execution_count": 12,
   "metadata": {},
   "outputs": [
    {
     "data": {
      "text/plain": [
       "BLEU = 16.52 100.0/25.0/7.1/4.2 (BP = 1.000 ratio = 1.000 hyp_len = 9 ref_len = 9)"
      ]
     },
     "execution_count": 12,
     "metadata": {},
     "output_type": "execute_result"
    }
   ],
   "source": [
    "bleu_scores"
   ]
  },
  {
   "cell_type": "code",
   "execution_count": 13,
   "metadata": {},
   "outputs": [
    {
     "name": "stderr",
     "output_type": "stream",
     "text": [
      "[nltk_data] Downloading package wordnet to\n",
      "[nltk_data]     /mnt/disk1/sumdev/nltk_data...\n",
      "[nltk_data]   Package wordnet is already up-to-date!\n",
      "[nltk_data] Downloading package omw-1.4 to\n",
      "[nltk_data]     /mnt/disk1/sumdev/nltk_data...\n",
      "[nltk_data]   Package omw-1.4 is already up-to-date!\n",
      "[nltk_data] Downloading package punkt to\n",
      "[nltk_data]     /mnt/disk1/sumdev/nltk_data...\n",
      "[nltk_data]   Package punkt is already up-to-date!\n",
      "Evaluating: 100%|██████████| 2169/2169 [02:12<00:00, 16.37it/s]\n"
     ]
    },
    {
     "name": "stdout",
     "output_type": "stream",
     "text": [
      "Average METEOR Score for validation data: 0.3043\n"
     ]
    },
    {
     "name": "stderr",
     "output_type": "stream",
     "text": [
      "Evaluating: 100%|██████████| 2999/2999 [03:07<00:00, 15.97it/s]"
     ]
    },
    {
     "name": "stdout",
     "output_type": "stream",
     "text": [
      "Average METEOR Score for test data: 0.3153\n"
     ]
    },
    {
     "name": "stderr",
     "output_type": "stream",
     "text": [
      "\n"
     ]
    }
   ],
   "source": [
    "import nltk\n",
    "nltk.download('wordnet')\n",
    "nltk.download('omw-1.4')\n",
    "from nltk.translate.meteor_score import single_meteor_score\n",
    "from nltk.tokenize import word_tokenize\n",
    "from tqdm import tqdm\n",
    "nltk.download('punkt')\n",
    "\n",
    "def calculate_meteor_score(dataset, model):\n",
    "    total_score = 0\n",
    "    num_examples = 0\n",
    "\n",
    "    for example in tqdm(dataset, desc=\"Evaluating\"):\n",
    "        src_sentence = example['translation']['de']\n",
    "        reference = example['translation']['en']\n",
    "        hypothesis = translate(model, src_sentence)\n",
    "        reference_tokens = word_tokenize(reference, language='english')\n",
    "        hypothesis_tokens = word_tokenize(hypothesis, language='english')\n",
    "        score = single_meteor_score(reference_tokens, hypothesis_tokens)\n",
    "        total_score += score\n",
    "        num_examples += 1\n",
    "\n",
    "    average_score = total_score / num_examples\n",
    "    return average_score\n",
    "\n",
    "# Calculate METEOR score for the validation corpus\n",
    "meteor_score = calculate_meteor_score(validation_dataset, model_loaded)\n",
    "print(f\"Average METEOR Score for validation data: {meteor_score:.4f}\")\n",
    "\n",
    "# Calculate METEOR score for the test corpus\n",
    "meteor_score = calculate_meteor_score(test_dataset, model_loaded)\n",
    "print(f\"Average METEOR Score for test data: {meteor_score:.4f}\")"
   ]
  },
  {
   "cell_type": "code",
   "execution_count": 14,
   "metadata": {},
   "outputs": [
    {
     "name": "stdout",
     "output_type": "stream",
     "text": [
      "BERTscore for validation data: \n"
     ]
    },
    {
     "name": "stderr",
     "output_type": "stream",
     "text": [
      "Generating Translations: 100%|██████████| 2169/2169 [02:11<00:00, 16.48it/s]\n",
      "Some weights of RobertaModel were not initialized from the model checkpoint at roberta-large and are newly initialized: ['roberta.pooler.dense.bias', 'roberta.pooler.dense.weight']\n",
      "You should probably TRAIN this model on a down-stream task to be able to use it for predictions and inference.\n"
     ]
    },
    {
     "name": "stdout",
     "output_type": "stream",
     "text": [
      "calculating scores...\n",
      "computing bert embedding.\n"
     ]
    },
    {
     "name": "stderr",
     "output_type": "stream",
     "text": [
      "100%|██████████| 68/68 [00:06<00:00, 10.92it/s]\n"
     ]
    },
    {
     "name": "stdout",
     "output_type": "stream",
     "text": [
      "computing greedy matching.\n"
     ]
    },
    {
     "name": "stderr",
     "output_type": "stream",
     "text": [
      "100%|██████████| 34/34 [00:00<00:00, 136.10it/s]\n"
     ]
    },
    {
     "name": "stdout",
     "output_type": "stream",
     "text": [
      "done in 6.48 seconds, 334.51 sentences/sec\n",
      "Average Precision: 0.8538\n",
      "Average Recall: 0.8632\n",
      "Average F1: 0.8584\n",
      "BERTscore for test data: \n"
     ]
    },
    {
     "name": "stderr",
     "output_type": "stream",
     "text": [
      "Generating Translations: 100%|██████████| 2999/2999 [03:04<00:00, 16.23it/s]\n",
      "Some weights of RobertaModel were not initialized from the model checkpoint at roberta-large and are newly initialized: ['roberta.pooler.dense.bias', 'roberta.pooler.dense.weight']\n",
      "You should probably TRAIN this model on a down-stream task to be able to use it for predictions and inference.\n"
     ]
    },
    {
     "name": "stdout",
     "output_type": "stream",
     "text": [
      "calculating scores...\n",
      "computing bert embedding.\n"
     ]
    },
    {
     "name": "stderr",
     "output_type": "stream",
     "text": [
      "100%|██████████| 94/94 [00:07<00:00, 12.05it/s]\n"
     ]
    },
    {
     "name": "stdout",
     "output_type": "stream",
     "text": [
      "computing greedy matching.\n"
     ]
    },
    {
     "name": "stderr",
     "output_type": "stream",
     "text": [
      "100%|██████████| 47/47 [00:00<00:00, 161.53it/s]"
     ]
    },
    {
     "name": "stdout",
     "output_type": "stream",
     "text": [
      "done in 8.10 seconds, 370.13 sentences/sec\n",
      "Average Precision: 0.8536\n",
      "Average Recall: 0.8607\n",
      "Average F1: 0.8570\n"
     ]
    },
    {
     "name": "stderr",
     "output_type": "stream",
     "text": [
      "\n"
     ]
    }
   ],
   "source": [
    "from bert_score import score\n",
    "from tqdm import tqdm\n",
    "import torch\n",
    "\n",
    "def calculate_bertscore(dataset, model, device='cuda'):\n",
    "    # Lists to hold all reference translations and model hypotheses\n",
    "    references = []\n",
    "    hypotheses = []\n",
    "    # Ensure the model is on the correct device\n",
    "    model.to(device)\n",
    "\n",
    "    for example in tqdm(dataset, desc=\"Generating Translations\"):\n",
    "        src_sentence = example['translation']['de']\n",
    "        reference = example['translation']['en']\n",
    "        # Generate model's translation\n",
    "        hypothesis = translate(model, src_sentence)\n",
    "        references.append(reference)\n",
    "        hypotheses.append(hypothesis)\n",
    "\n",
    "    # Compute BERTScore\n",
    "    P, R, F1 = score(hypotheses, references, lang=\"en\", verbose=True)\n",
    "\n",
    "    # Calculate average scores\n",
    "    avg_precision = torch.mean(P).item()\n",
    "    avg_recall = torch.mean(R).item()\n",
    "    avg_f1 = torch.mean(F1).item()\n",
    "    return avg_precision, avg_recall, avg_f1\n",
    "\n",
    "# Calculate BERTscore on validation corpus\n",
    "print(\"BERTscore for validation data: \")\n",
    "avg_precision, avg_recall, avg_f1 = calculate_bertscore(validation_dataset, model_loaded)\n",
    "print(f\"Average Precision: {avg_precision:.4f}\")\n",
    "print(f\"Average Recall: {avg_recall:.4f}\")\n",
    "print(f\"Average F1: {avg_f1:.4f}\")\n",
    "\n",
    "# Calculate BERTscore on test corpus\n",
    "print(\"BERTscore for test data: \")\n",
    "avg_precision, avg_recall, avg_f1 = calculate_bertscore(test_dataset, model_loaded)\n",
    "print(f\"Average Precision: {avg_precision:.4f}\")\n",
    "print(f\"Average Recall: {avg_recall:.4f}\")\n",
    "print(f\"Average F1: {avg_f1:.4f}\")"
   ]
  },
  {
   "cell_type": "markdown",
   "metadata": {},
   "source": [
    "# Setup-2B"
   ]
  },
  {
   "cell_type": "code",
   "execution_count": 8,
   "metadata": {},
   "outputs": [
    {
     "name": "stderr",
     "output_type": "stream",
     "text": [
      "Special tokens have been added in the vocabulary, make sure the associated word embeddings are fine-tuned or trained.\n"
     ]
    }
   ],
   "source": [
    "from transformers import T5Tokenizer, T5ForConditionalGeneration\n",
    "\n",
    "device = torch.device('cuda' if torch.cuda.is_available() else 'cpu')\n",
    "tokenizer = T5Tokenizer.from_pretrained(\"google-t5/t5-small\")\n",
    "model = T5ForConditionalGeneration.from_pretrained(\"google-t5/t5-small\")\n",
    "model = model.to(device)"
   ]
  },
  {
   "cell_type": "code",
   "execution_count": 9,
   "metadata": {},
   "outputs": [
    {
     "name": "stderr",
     "output_type": "stream",
     "text": [
      "[nltk_data] Downloading package wordnet to\n",
      "[nltk_data]     /mnt/disk1/sumdev/nltk_data...\n",
      "[nltk_data]   Package wordnet is already up-to-date!\n",
      "[nltk_data] Downloading package punkt to\n",
      "[nltk_data]     /mnt/disk1/sumdev/nltk_data...\n",
      "[nltk_data]   Package punkt is already up-to-date!\n"
     ]
    }
   ],
   "source": [
    "import sacrebleu\n",
    "from nltk.translate import meteor_score\n",
    "from nltk.tokenize import word_tokenize\n",
    "from bert_score import score\n",
    "import nltk\n",
    "nltk.download('wordnet')\n",
    "nltk.download('punkt')\n",
    "\n",
    "\n",
    "def calculate_bleu(predicted_corpus, reference_corpus):\n",
    "    return sacrebleu.corpus_bleu(predicted_corpus, [[i] for i in reference_corpus])\n",
    "\n",
    "def calculate_meteor(predicted_corpus, reference_corpus):\n",
    "    m_score = 0\n",
    "    for line in zip(predicted_corpus, reference_corpus):\n",
    "        hypo = word_tokenize(line[0])\n",
    "        ref = word_tokenize(line[1])\n",
    "        # m_score += meteor_score.meteor_score([ref], hypo)\n",
    "        m_score += meteor_score.single_meteor_score(ref, hypo)\n",
    "    return m_score / len(reference_corpus)\n",
    "\n",
    "def calculate_bert_score(predicted_corpus, reference_corpus):\n",
    "    p, r, f1 = score(predicted_corpus, reference_corpus, lang=\"de\")\n",
    "    return p.mean().item(), r.mean().item(), f1.mean().item()"
   ]
  },
  {
   "cell_type": "code",
   "execution_count": 12,
   "metadata": {},
   "outputs": [],
   "source": [
    "## Translate English to German\n",
    "def translate_engligh_to_german(dataset):\n",
    "    reference_corpus = []\n",
    "    predicted_corpus = []\n",
    "    prefix = \"translate English to German: \"\n",
    "    \n",
    "    for example in dataset:\n",
    "        input_text = prefix + example[\"translation\"][\"en\"]\n",
    "        input_ids = tokenizer(input_text, return_tensors=\"pt\").input_ids\n",
    "        input_ids = input_ids.to(device)\n",
    "        outputs = model.generate(input_ids)\n",
    "        predicted_text = tokenizer.decode(outputs[0], skip_special_tokens=True)\n",
    "\n",
    "        reference_corpus.append(example[\"translation\"][\"de\"])\n",
    "        predicted_corpus.append(predicted_text)\n",
    "    return reference_corpus, predicted_corpus"
   ]
  },
  {
   "cell_type": "code",
   "execution_count": 13,
   "metadata": {},
   "outputs": [
    {
     "name": "stderr",
     "output_type": "stream",
     "text": [
      "/mnt/disk1/sumdev/CourseWork/a3_env/lib/python3.12/site-packages/transformers/generation/utils.py:1132: UserWarning: Using the model-agnostic default `max_length` (=20) to control the generation length. We recommend setting `max_new_tokens` to control the maximum length of the generation.\n",
      "  warnings.warn(\n"
     ]
    },
    {
     "name": "stdout",
     "output_type": "stream",
     "text": [
      "BLEU Score: 39.281465090051306\n",
      "BLEU-1: 100.0\n",
      "BLEU-2: 50.0\n",
      "BLEU-3: 28.571428571428573\n",
      "BLEU-4: 16.666666666666668\n",
      "METEOR Score: 0.3697782590377402\n",
      "BERT Scores:\n",
      "Precision in BERT Score: 0.8268641829490662\n",
      "Recall in BERT Score: 0.7662411332130432\n",
      "F1 Score in BERT Score: 0.7942118644714355\n"
     ]
    }
   ],
   "source": [
    "reference_corpus_val, predicted_corpus_val = translate_engligh_to_german(validation_dataset)\n",
    "\n",
    "bleu_score_ = calculate_bleu(predicted_corpus_val, reference_corpus_val)\n",
    "meteor_score_ = calculate_meteor(predicted_corpus_val, reference_corpus_val)\n",
    "bert_score_ = calculate_bert_score(predicted_corpus_val, reference_corpus_val)\n",
    "\n",
    "print(f'BLEU Score: {bleu_score_.score}')\n",
    "print(f'BLEU-1: {bleu_score_.precisions[0]}')\n",
    "print(f'BLEU-2: {bleu_score_.precisions[1]}')\n",
    "print(f'BLEU-3: {bleu_score_.precisions[2]}')\n",
    "print(f'BLEU-4: {bleu_score_.precisions[3]}')\n",
    "print(f'METEOR Score: {meteor_score_}')\n",
    "print(f'BERT Scores:')\n",
    "print(f'Precision in BERT Score: {bert_score_[0]}')\n",
    "print(f'Recall in BERT Score: {bert_score_[1]}')\n",
    "print(f'F1 Score in BERT Score: {bert_score_[2]}')"
   ]
  },
  {
   "cell_type": "code",
   "execution_count": 14,
   "metadata": {},
   "outputs": [
    {
     "name": "stdout",
     "output_type": "stream",
     "text": [
      "BLEU Score: 0.0\n",
      "BLEU-1: 66.66666666666667\n",
      "BLEU-2: 25.0\n",
      "BLEU-3: 25.0\n",
      "BLEU-4: 0.0\n",
      "METEOR Score: 0.3889479564070389\n",
      "BERT Scores:\n",
      "Precision in BERT Score: 0.8345420956611633\n",
      "Recall in BERT Score: 0.7703850269317627\n",
      "F1 Score in BERT Score: 0.8000085949897766\n"
     ]
    }
   ],
   "source": [
    "reference_corpus_test, predicted_corpus_test = translate_engligh_to_german(test_dataset)\n",
    "\n",
    "bleu_score_ = calculate_bleu(predicted_corpus_test, reference_corpus_test)\n",
    "meteor_score_ = calculate_meteor(predicted_corpus_test, reference_corpus_test)\n",
    "bert_score_ = calculate_bert_score(predicted_corpus_test, reference_corpus_test)\n",
    "\n",
    "print(f'BLEU Score: {bleu_score_.score}')\n",
    "print(f'BLEU-1: {bleu_score_.precisions[0]}')\n",
    "print(f'BLEU-2: {bleu_score_.precisions[1]}')\n",
    "print(f'BLEU-3: {bleu_score_.precisions[2]}')\n",
    "print(f'BLEU-4: {bleu_score_.precisions[3]}')\n",
    "print(f'METEOR Score: {meteor_score_}')\n",
    "print(f'BERT Scores:')\n",
    "print(f'Precision in BERT Score: {bert_score_[0]}')\n",
    "print(f'Recall in BERT Score: {bert_score_[1]}')\n",
    "print(f'F1 Score in BERT Score: {bert_score_[2]}')"
   ]
  },
  {
   "cell_type": "markdown",
   "metadata": {},
   "source": [
    "# Setup-2C"
   ]
  },
  {
   "cell_type": "code",
   "execution_count": 16,
   "metadata": {},
   "outputs": [
    {
     "data": {
      "text/plain": [
       "<All keys matched successfully>"
      ]
     },
     "execution_count": 16,
     "metadata": {},
     "output_type": "execute_result"
    }
   ],
   "source": [
    "import torch\n",
    "from transformers import T5ForConditionalGeneration, T5Tokenizer, T5Config, AutoTokenizer\n",
    "from torch.utils.data import Dataset, DataLoader\n",
    "\n",
    "device = torch.device('cuda' if torch.cuda.is_available() else 'cpu')\n",
    "\n",
    "# Load the T5 tokenizer and model\n",
    "tokenizer = AutoTokenizer.from_pretrained(\"google-t5/t5-small\")\n",
    "model_loaded = T5ForConditionalGeneration.from_pretrained(\"google-t5/t5-small\")\n",
    "model_loaded = model_loaded.to(device)\n",
    "model_loaded.load_state_dict(torch.load('q2c_t5_model.pth'))"
   ]
  },
  {
   "cell_type": "code",
   "execution_count": 17,
   "metadata": {},
   "outputs": [
    {
     "name": "stderr",
     "output_type": "stream",
     "text": [
      "[nltk_data] Downloading package wordnet to\n",
      "[nltk_data]     /mnt/disk1/sumdev/nltk_data...\n",
      "[nltk_data]   Package wordnet is already up-to-date!\n",
      "[nltk_data] Downloading package punkt to\n",
      "[nltk_data]     /mnt/disk1/sumdev/nltk_data...\n",
      "[nltk_data]   Package punkt is already up-to-date!\n"
     ]
    }
   ],
   "source": [
    "import sacrebleu\n",
    "from nltk.translate import meteor_score\n",
    "from nltk.tokenize import word_tokenize\n",
    "from bert_score import score\n",
    "import nltk\n",
    "nltk.download('wordnet')\n",
    "nltk.download('punkt')\n",
    "\n",
    "\n",
    "def calculate_bleu(predicted_corpus, reference_corpus):\n",
    "    return sacrebleu.corpus_bleu(predicted_corpus, [[i] for i in reference_corpus])\n",
    "\n",
    "def calculate_meteor(predicted_corpus, reference_corpus):\n",
    "    m_score = 0\n",
    "    for line in zip(predicted_corpus, reference_corpus):\n",
    "        hypo = word_tokenize(line[0])\n",
    "        ref = word_tokenize(line[1])\n",
    "        # m_score += meteor_score.meteor_score([ref], hypo)\n",
    "        m_score += meteor_score.single_meteor_score(ref, hypo)\n",
    "    return m_score / len(reference_corpus)\n",
    "\n",
    "def calculate_bert_score(predicted_corpus, reference_corpus):\n",
    "    p, r, f1 = score(predicted_corpus, reference_corpus, lang=\"de\")\n",
    "    return p.mean().item(), r.mean().item(), f1.mean().item()\n",
    "\n",
    "def translate_sentence(finetuned_model, dataset):\n",
    "    finetuned_model = finetuned_model.to(device)\n",
    "    sentence_german = []\n",
    "    sentence_english = []\n",
    "    sentence_english_translated = []\n",
    "    for i in range(len(dataset)):\n",
    "        sentence_german.append(dataset[i]['translation']['de'])\n",
    "        sentence_english.append(dataset[i]['translation']['en'])\n",
    "        input_ids = tokenizer(sentence_german[i], return_tensors=\"pt\").input_ids\n",
    "        input_ids = input_ids.to(device)\n",
    "        outputs = finetuned_model.generate(input_ids)\n",
    "        sentence_english_translated.append(tokenizer.decode(outputs[0], skip_special_tokens=True))\n",
    "    return sentence_german, sentence_english, sentence_english_translated"
   ]
  },
  {
   "cell_type": "code",
   "execution_count": 18,
   "metadata": {},
   "outputs": [
    {
     "name": "stdout",
     "output_type": "stream",
     "text": [
      "BLEU Score: 11.478744233307168\n",
      "BLEU-1 Score: 70.0\n",
      "BLEU-2 Score: 11.11111111111111\n",
      "BLEU-3 Score: 6.25\n",
      "BLEU-4 Score: 3.5714285714285716\n",
      "METEOR Score: 0.3227082170618216\n",
      "BERT Scores:\n",
      "Precision in BERT Score: 0.79283207654953\n",
      "Recall in BERT Score: 0.7551373243331909\n",
      "F1 Score in BERT Score: 0.7728002071380615\n"
     ]
    },
    {
     "name": "stderr",
     "output_type": "stream",
     "text": [
      "Warning: Empty candidate sentence detected; setting raw BERTscores to 0.\n"
     ]
    }
   ],
   "source": [
    "sentence_german_val, sentence_english_val, sentence_english_translated_val = translate_sentence(model_loaded, validation_dataset)\n",
    "\n",
    "bleu_score_val = calculate_bleu(sentence_english_translated_val, sentence_english_val)\n",
    "meteor_score_val = calculate_meteor(sentence_english_translated_val, sentence_english_val)\n",
    "bert_score_val = calculate_bert_score(sentence_english_translated_val, sentence_english_val)\n",
    "\n",
    "print(f'BLEU Score: {bleu_score_val.score}')\n",
    "print(f'BLEU-1 Score: {bleu_score_val.precisions[0]}')\n",
    "print(f'BLEU-2 Score: {bleu_score_val.precisions[1]}')\n",
    "print(f'BLEU-3 Score: {bleu_score_val.precisions[2]}')\n",
    "print(f'BLEU-4 Score: {bleu_score_val.precisions[3]}')\n",
    "print(f'METEOR Score: {meteor_score_val}')\n",
    "print(f'BERT Scores:')\n",
    "print(f'Precision in BERT Score: {bert_score_val[0]}')\n",
    "print(f'Recall in BERT Score: {bert_score_val[1]}')\n",
    "print(f'F1 Score in BERT Score: {bert_score_val[2]}')"
   ]
  },
  {
   "cell_type": "code",
   "execution_count": 19,
   "metadata": {},
   "outputs": [
    {
     "name": "stdout",
     "output_type": "stream",
     "text": [
      "BLEU Score: 0.0\n",
      "BLEU-1 Score: 66.66666666666667\n",
      "BLEU-2 Score: 25.0\n",
      "BLEU-3 Score: 25.0\n",
      "BLEU-4 Score: 0.0\n",
      "METEOR Score: 0.35205323785503273\n",
      "BERT Scores:\n",
      "Precision in BERT Score: 0.8002291321754456\n",
      "Recall in BERT Score: 0.7628727555274963\n",
      "F1 Score in BERT Score: 0.7803449034690857\n"
     ]
    }
   ],
   "source": [
    "sentence_german_test, sentence_english_test, sentence_english_translated_test = translate_sentence(model_loaded, test_dataset)\n",
    "\n",
    "bleu_score_test = calculate_bleu(sentence_english_translated_test, sentence_english_test)\n",
    "meteor_score_test = calculate_meteor(sentence_english_translated_test, sentence_english_test)\n",
    "bert_score_test = calculate_bert_score(sentence_english_translated_test, sentence_english_test)\n",
    "\n",
    "print(f'BLEU Score: {bleu_score_test.score}')\n",
    "print(f'BLEU-1 Score: {bleu_score_test.precisions[0]}')\n",
    "print(f'BLEU-2 Score: {bleu_score_test.precisions[1]}')\n",
    "print(f'BLEU-3 Score: {bleu_score_test.precisions[2]}')\n",
    "print(f'BLEU-4 Score: {bleu_score_test.precisions[3]}')\n",
    "print(f'METEOR Score: {meteor_score_test}')\n",
    "print(f'BERT Scores:')\n",
    "print(f'Precision in BERT Score: {bert_score_test[0]}')\n",
    "print(f'Recall in BERT Score: {bert_score_test[1]}')\n",
    "print(f'F1 Score in BERT Score: {bert_score_test[2]}')"
   ]
  }
 ],
 "metadata": {
  "kernelspec": {
   "display_name": "a3_env",
   "language": "python",
   "name": "python3"
  },
  "language_info": {
   "codemirror_mode": {
    "name": "ipython",
    "version": 3
   },
   "file_extension": ".py",
   "mimetype": "text/x-python",
   "name": "python",
   "nbconvert_exporter": "python",
   "pygments_lexer": "ipython3",
   "version": "3.12.2"
  }
 },
 "nbformat": 4,
 "nbformat_minor": 2
}
