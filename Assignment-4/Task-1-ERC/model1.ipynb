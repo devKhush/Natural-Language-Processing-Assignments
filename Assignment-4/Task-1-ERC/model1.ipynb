{
 "cells": [
  {
   "cell_type": "code",
   "execution_count": 1,
   "metadata": {},
   "outputs": [
    {
     "name": "stderr",
     "output_type": "stream",
     "text": [
      "/mnt/disk1/sumdev/CourseWork/a3_env/lib/python3.12/site-packages/tqdm/auto.py:21: TqdmWarning: IProgress not found. Please update jupyter and ipywidgets. See https://ipywidgets.readthedocs.io/en/stable/user_install.html\n",
      "  from .autonotebook import tqdm as notebook_tqdm\n"
     ]
    }
   ],
   "source": [
    "import json\n",
    "import torch\n",
    "from torch.utils.data import Dataset, DataLoader\n",
    "from sklearn.preprocessing import LabelEncoder\n",
    "from sentence_transformers import SentenceTransformer\n",
    "import warnings\n",
    "warnings.filterwarnings(\"ignore\")"
   ]
  },
  {
   "cell_type": "markdown",
   "metadata": {},
   "source": [
    "## Load Datasets and Create Dataset Class"
   ]
  },
  {
   "cell_type": "code",
   "execution_count": 2,
   "metadata": {},
   "outputs": [
    {
     "name": "stdout",
     "output_type": "stream",
     "text": [
      "Length of train dataset: 6740\n",
      "Length of val dataset: 843\n"
     ]
    }
   ],
   "source": [
    "from transformers import BertModel, BertTokenizer\n",
    "\n",
    "class EmotionDataset(Dataset):\n",
    "    def __init__(self, json_file, model_name='all-MiniLM-L6-v2'):\n",
    "        self.data = []\n",
    "        self.speaker_encoder = LabelEncoder()\n",
    "        self.model = SentenceTransformer(model_name)\n",
    "        self.emotion_class_to_idx = {'neutral': 0, 'joy': 1, 'sadness': 2, 'anger': 3, 'fear': 4, 'disgust': 5, 'surprise': 6}\n",
    "        with open(json_file, 'r') as f:\n",
    "            data = json.load(f)\n",
    "            for entry in data:\n",
    "                self.data.append(entry)\n",
    "        \n",
    "    def __len__(self):\n",
    "        return len(self.data)\n",
    "\n",
    "    def __getitem__(self, idx):\n",
    "        entry = self.data[idx]\n",
    "        speakers = torch.tensor(self.speaker_encoder.fit_transform(entry[\"speakers\"]), dtype=torch.long)\n",
    "        emotions = torch.tensor([self.emotion_class_to_idx[emotion] for emotion in entry[\"emotions\"]], dtype=torch.long)\n",
    "        utterance_embeddings = torch.tensor(self.model.encode(entry[\"utterances\"]), dtype=torch.float)\n",
    "        return torch.tensor(len(entry[\"speakers\"])), speakers, utterance_embeddings, emotions\n",
    "\n",
    "\n",
    "# Initialize the dataset and dataloader\n",
    "train_dataset = EmotionDataset(\"../Data/train_file.json\")\n",
    "val_dataset = EmotionDataset(\"../Data/val_file.json\")\n",
    "print('Length of train dataset:', len(train_dataset))\n",
    "print('Length of val dataset:', len(val_dataset))"
   ]
  },
  {
   "cell_type": "code",
   "execution_count": 6,
   "metadata": {},
   "outputs": [
    {
     "name": "stdout",
     "output_type": "stream",
     "text": [
      "Conversation length: tensor(5)\n",
      "Speakers: tensor([1, 0, 1, 0, 1])\n",
      "Utterance embeddings: torch.Size([5, 384])\n",
      "Emotions: torch.Size([5])\n"
     ]
    }
   ],
   "source": [
    "conversation_len, speakers, utterance_embeddings, emptions = train_dataset[0]\n",
    "print('Conversation length:', conversation_len)\n",
    "print('Speakers:', speakers)\n",
    "print('Utterance embeddings:', utterance_embeddings.shape)\n",
    "print('Emotions:', emptions.shape)"
   ]
  },
  {
   "cell_type": "markdown",
   "metadata": {},
   "source": [
    "### Training Dataset Class Distribution"
   ]
  },
  {
   "cell_type": "code",
   "execution_count": 7,
   "metadata": {},
   "outputs": [
    {
     "name": "stdout",
     "output_type": "stream",
     "text": [
      "Class distribution: {0: 25554, 1: 10734, 2: 4542, 3: 6744, 4: 1880, 5: 1718, 6: 7785}\n"
     ]
    }
   ],
   "source": [
    "class_label = {0:0, 1:0, 2:0, 3:0, 4:0, 5:0, 6:0}\n",
    "for i in range(len(train_dataset)):\n",
    "    _, _, _, emotions = train_dataset[i]\n",
    "    for emotion in emotions:\n",
    "        class_label[emotion.item()] += 1\n",
    "print('Class distribution:', class_label)"
   ]
  },
  {
   "cell_type": "markdown",
   "metadata": {},
   "source": [
    "### Validation Dataset Class Distribution"
   ]
  },
  {
   "cell_type": "code",
   "execution_count": 8,
   "metadata": {},
   "outputs": [
    {
     "name": "stdout",
     "output_type": "stream",
     "text": [
      "Class distribution: {0: 3200, 1: 1259, 2: 558, 3: 788, 4: 265, 5: 215, 6: 1008}\n"
     ]
    }
   ],
   "source": [
    "class_label = {0:0, 1:0, 2:0, 3:0, 4:0, 5:0, 6:0}\n",
    "for i in range(len(val_dataset)):\n",
    "    _, _, _, emotions = val_dataset[i]\n",
    "    for emotion in emotions:\n",
    "        class_label[emotion.item()] += 1\n",
    "print('Class distribution:', class_label)"
   ]
  },
  {
   "cell_type": "markdown",
   "metadata": {},
   "source": [
    "## Create Dataloaders"
   ]
  },
  {
   "cell_type": "code",
   "execution_count": 3,
   "metadata": {},
   "outputs": [
    {
     "name": "stdout",
     "output_type": "stream",
     "text": [
      "Length of train_loader: 211\n",
      "Length of val_loader: 27\n"
     ]
    }
   ],
   "source": [
    "import torch.nn as nn\n",
    "\n",
    "def collate_fn(batch):\n",
    "    length, speakers, utterance_embeddings, emotions = zip(*batch)\n",
    "    length = torch.tensor(length, dtype=torch.long)\n",
    "    speakers = nn.utils.rnn.pad_sequence(speakers, batch_first=True)\n",
    "    utterance_embeddings = nn.utils.rnn.pad_sequence(utterance_embeddings, batch_first=True)        \n",
    "    emotions = nn.utils.rnn.pad_sequence(emotions, batch_first=True)\n",
    "    return length, speakers, utterance_embeddings, emotions\n",
    "\n",
    "\n",
    "train_loader = DataLoader(train_dataset, batch_size=32, shuffle=True, collate_fn=collate_fn)\n",
    "val_loader = DataLoader(val_dataset, batch_size=32, shuffle=False, collate_fn=collate_fn)\n",
    "print('Length of train_loader:', len(train_loader))\n",
    "print('Length of val_loader:', len(val_loader))"
   ]
  },
  {
   "cell_type": "code",
   "execution_count": 15,
   "metadata": {},
   "outputs": [
    {
     "name": "stdout",
     "output_type": "stream",
     "text": [
      "torch.Size([32]) torch.Size([32, 20]) torch.Size([32, 20]) torch.Size([32, 20, 384])\n"
     ]
    }
   ],
   "source": [
    "for length, speakers, utterance_embeddings, emotions in train_loader:\n",
    "    print(length.shape, speakers.shape, emotions.shape, utterance_embeddings.shape)\n",
    "    # print(\"Conversation length:\", length)\n",
    "    # print(\"Speakers:\", speakers)\n",
    "    # print(\"Utterance embeddings:\", utterance_embeddings)\n",
    "    # print(\"Emotions:\", emotions)\n",
    "    break"
   ]
  },
  {
   "cell_type": "markdown",
   "metadata": {},
   "source": [
    "## Create Emotion Recognition Classifier Model"
   ]
  },
  {
   "cell_type": "code",
   "execution_count": 4,
   "metadata": {},
   "outputs": [],
   "source": [
    "import torch\n",
    "import torch.nn as nn\n",
    "\n",
    "class GRUClassifier(nn.Module):\n",
    "    def __init__(self, input_size, hidden_size, num_classes):\n",
    "        super(GRUClassifier, self).__init__()\n",
    "        self.hidden_size = hidden_size\n",
    "        self.gru = nn.GRU(input_size, hidden_size, batch_first=True, bidirectional=True)\n",
    "        self.fc = nn.Linear(2*hidden_size, num_classes)\n",
    "    \n",
    "    def forward(self, x):\n",
    "        h0 = torch.zeros(2, x.size(0), self.hidden_size).to(x.device)\n",
    "        out, _ = self.gru(x, h0)\n",
    "        out = self.fc(out)\n",
    "        return out"
   ]
  },
  {
   "cell_type": "markdown",
   "metadata": {},
   "source": [
    "## Train the Model"
   ]
  },
  {
   "cell_type": "code",
   "execution_count": 17,
   "metadata": {},
   "outputs": [
    {
     "name": "stdout",
     "output_type": "stream",
     "text": [
      "cuda\n"
     ]
    }
   ],
   "source": [
    "import torch.optim as optim\n",
    "\n",
    "DEVICE = torch.device(\"cuda\" if torch.cuda.is_available() else \"cpu\")\n",
    "NUM_EPOCH = 10\n",
    "INPUT_SIZE = 384\n",
    "HIDDEN_SIZE = 128\n",
    "OUTPUT_SIZE = 7\n",
    "\n",
    "model = GRUClassifier(INPUT_SIZE, HIDDEN_SIZE, OUTPUT_SIZE).to(DEVICE)\n",
    "criterion = nn.CrossEntropyLoss()\n",
    "optimizer = optim.Adam(model.parameters(), lr=0.001)\n",
    "print(DEVICE)"
   ]
  },
  {
   "cell_type": "code",
   "execution_count": 9,
   "metadata": {},
   "outputs": [
    {
     "name": "stdout",
     "output_type": "stream",
     "text": [
      "-------------------------------------------------\n",
      "Epoch 1/10\n",
      "Batch 10/211 Loss: 1.5198, Accuracy: 0.6967, F1 Score: 0.1173\n",
      "Batch 20/211 Loss: 1.1399, Accuracy: 0.7143, F1 Score: 0.1190\n",
      "Batch 30/211 Loss: 0.8499, Accuracy: 0.7723, F1 Score: 0.1406\n",
      "Batch 40/211 Loss: 0.9875, Accuracy: 0.6992, F1 Score: 0.1756\n",
      "Batch 50/211 Loss: 0.6722, Accuracy: 0.7798, F1 Score: 0.1707\n",
      "Batch 60/211 Loss: 0.8741, Accuracy: 0.7118, F1 Score: 0.1538\n",
      "Batch 70/211 Loss: 0.8522, Accuracy: 0.7205, F1 Score: 0.1855\n",
      "Batch 80/211 Loss: 0.7178, Accuracy: 0.7582, F1 Score: 0.1714\n",
      "Batch 90/211 Loss: 0.7455, Accuracy: 0.7500, F1 Score: 0.2122\n",
      "Batch 100/211 Loss: 0.5002, Accuracy: 0.8424, F1 Score: 0.2529\n",
      "Batch 110/211 Loss: 0.6010, Accuracy: 0.8139, F1 Score: 0.2704\n",
      "Batch 120/211 Loss: 0.7315, Accuracy: 0.7672, F1 Score: 0.2765\n",
      "Batch 130/211 Loss: 0.5352, Accuracy: 0.8111, F1 Score: 0.2572\n",
      "Batch 140/211 Loss: 0.7116, Accuracy: 0.7578, F1 Score: 0.2769\n",
      "Batch 150/211 Loss: 0.5574, Accuracy: 0.8109, F1 Score: 0.2422\n",
      "Batch 160/211 Loss: 0.5825, Accuracy: 0.8063, F1 Score: 0.2841\n",
      "Batch 170/211 Loss: 0.6301, Accuracy: 0.7993, F1 Score: 0.3146\n",
      "Batch 180/211 Loss: 0.6518, Accuracy: 0.7951, F1 Score: 0.3466\n",
      "Batch 190/211 Loss: 0.5389, Accuracy: 0.8153, F1 Score: 0.3284\n",
      "Batch 200/211 Loss: 0.5051, Accuracy: 0.8267, F1 Score: 0.3192\n",
      "Batch 210/211 Loss: 0.5921, Accuracy: 0.7961, F1 Score: 0.2544\n",
      "==> Train Loss: 0.0237 Accuracy: 0.7732 F1 Score: 0.2485\n",
      "==> Validation Loss: 0.0180 Accuracy: 0.8122 F1 Score: 0.3328\n",
      "-------------------------------------------------\n",
      "Epoch 2/10\n",
      "Batch 10/211 Loss: 0.5078, Accuracy: 0.8338, F1 Score: 0.4057\n",
      "Batch 20/211 Loss: 0.5800, Accuracy: 0.8059, F1 Score: 0.3745\n",
      "Batch 30/211 Loss: 0.4877, Accuracy: 0.8395, F1 Score: 0.3415\n",
      "Batch 40/211 Loss: 0.5850, Accuracy: 0.7928, F1 Score: 0.3446\n",
      "Batch 50/211 Loss: 0.5093, Accuracy: 0.8328, F1 Score: 0.3588\n",
      "Batch 60/211 Loss: 0.4879, Accuracy: 0.8438, F1 Score: 0.4234\n",
      "Batch 70/211 Loss: 0.6084, Accuracy: 0.8015, F1 Score: 0.3622\n",
      "Batch 80/211 Loss: 0.4470, Accuracy: 0.8512, F1 Score: 0.3873\n",
      "Batch 90/211 Loss: 0.6345, Accuracy: 0.7812, F1 Score: 0.3483\n",
      "Batch 100/211 Loss: 0.4973, Accuracy: 0.8423, F1 Score: 0.4161\n",
      "Batch 110/211 Loss: 0.5756, Accuracy: 0.8008, F1 Score: 0.3462\n",
      "Batch 120/211 Loss: 0.5190, Accuracy: 0.8313, F1 Score: 0.3994\n",
      "Batch 130/211 Loss: 0.5200, Accuracy: 0.8125, F1 Score: 0.3612\n",
      "Batch 140/211 Loss: 0.4576, Accuracy: 0.8568, F1 Score: 0.4600\n",
      "Batch 150/211 Loss: 0.5572, Accuracy: 0.8180, F1 Score: 0.4057\n",
      "Batch 160/211 Loss: 0.5558, Accuracy: 0.8156, F1 Score: 0.3812\n",
      "Batch 170/211 Loss: 0.4412, Accuracy: 0.8324, F1 Score: 0.3260\n",
      "Batch 180/211 Loss: 0.5528, Accuracy: 0.8143, F1 Score: 0.4610\n",
      "Batch 190/211 Loss: 0.4743, Accuracy: 0.8438, F1 Score: 0.4030\n",
      "Batch 200/211 Loss: 0.4178, Accuracy: 0.8586, F1 Score: 0.4010\n",
      "Batch 210/211 Loss: 0.5321, Accuracy: 0.8316, F1 Score: 0.5043\n",
      "==> Train Loss: 0.0164 Accuracy: 0.8232 F1 Score: 0.3850\n",
      "==> Validation Loss: 0.0157 Accuracy: 0.8314 F1 Score: 0.4265\n",
      "-------------------------------------------------\n",
      "Epoch 3/10\n",
      "Batch 10/211 Loss: 0.4495, Accuracy: 0.8497, F1 Score: 0.4575\n",
      "Batch 20/211 Loss: 0.4203, Accuracy: 0.8661, F1 Score: 0.4695\n",
      "Batch 30/211 Loss: 0.4379, Accuracy: 0.8500, F1 Score: 0.4713\n",
      "Batch 40/211 Loss: 0.4438, Accuracy: 0.8482, F1 Score: 0.4621\n",
      "Batch 50/211 Loss: 0.4832, Accuracy: 0.8309, F1 Score: 0.4177\n",
      "Batch 60/211 Loss: 0.5199, Accuracy: 0.8043, F1 Score: 0.4283\n",
      "Batch 70/211 Loss: 0.3736, Accuracy: 0.8722, F1 Score: 0.4159\n",
      "Batch 80/211 Loss: 0.5041, Accuracy: 0.8281, F1 Score: 0.4709\n",
      "Batch 90/211 Loss: 0.4208, Accuracy: 0.8676, F1 Score: 0.4597\n",
      "Batch 100/211 Loss: 0.4416, Accuracy: 0.8438, F1 Score: 0.4675\n",
      "Batch 110/211 Loss: 0.4126, Accuracy: 0.8720, F1 Score: 0.4947\n",
      "Batch 120/211 Loss: 0.4442, Accuracy: 0.8393, F1 Score: 0.5230\n",
      "Batch 130/211 Loss: 0.5925, Accuracy: 0.7958, F1 Score: 0.4611\n",
      "Batch 140/211 Loss: 0.4094, Accuracy: 0.8536, F1 Score: 0.4438\n",
      "Batch 150/211 Loss: 0.5025, Accuracy: 0.8403, F1 Score: 0.6064\n",
      "Batch 160/211 Loss: 0.3841, Accuracy: 0.8602, F1 Score: 0.4786\n",
      "Batch 170/211 Loss: 0.4603, Accuracy: 0.8272, F1 Score: 0.4221\n",
      "Batch 180/211 Loss: 0.4140, Accuracy: 0.8594, F1 Score: 0.5554\n",
      "Batch 190/211 Loss: 0.3777, Accuracy: 0.8768, F1 Score: 0.4848\n",
      "Batch 200/211 Loss: 0.4392, Accuracy: 0.8469, F1 Score: 0.4106\n",
      "Batch 210/211 Loss: 0.4610, Accuracy: 0.8487, F1 Score: 0.5865\n",
      "==> Train Loss: 0.0143 Accuracy: 0.8441 F1 Score: 0.4845\n",
      "==> Validation Loss: 0.0141 Accuracy: 0.8493 F1 Score: 0.4853\n",
      "-------------------------------------------------\n",
      "Epoch 4/10\n",
      "Batch 10/211 Loss: 0.3972, Accuracy: 0.8608, F1 Score: 0.4992\n",
      "Batch 20/211 Loss: 0.4761, Accuracy: 0.8422, F1 Score: 0.5156\n",
      "Batch 30/211 Loss: 0.3859, Accuracy: 0.8764, F1 Score: 0.6489\n",
      "Batch 40/211 Loss: 0.4659, Accuracy: 0.8438, F1 Score: 0.5784\n",
      "Batch 50/211 Loss: 0.3786, Accuracy: 0.9021, F1 Score: 0.7363\n",
      "Batch 60/211 Loss: 0.3314, Accuracy: 0.8832, F1 Score: 0.5621\n",
      "Batch 70/211 Loss: 0.3862, Accuracy: 0.8668, F1 Score: 0.4883\n",
      "Batch 80/211 Loss: 0.3795, Accuracy: 0.8764, F1 Score: 0.6244\n",
      "Batch 90/211 Loss: 0.4432, Accuracy: 0.8423, F1 Score: 0.5186\n",
      "Batch 100/211 Loss: 0.4294, Accuracy: 0.8352, F1 Score: 0.4707\n",
      "Batch 110/211 Loss: 0.3745, Accuracy: 0.8611, F1 Score: 0.5451\n",
      "Batch 120/211 Loss: 0.3670, Accuracy: 0.8703, F1 Score: 0.5113\n",
      "Batch 130/211 Loss: 0.3958, Accuracy: 0.8658, F1 Score: 0.6074\n",
      "Batch 140/211 Loss: 0.3492, Accuracy: 0.8892, F1 Score: 0.6941\n",
      "Batch 150/211 Loss: 0.4924, Accuracy: 0.8403, F1 Score: 0.6025\n",
      "Batch 160/211 Loss: 0.3202, Accuracy: 0.8980, F1 Score: 0.5080\n",
      "Batch 170/211 Loss: 0.4611, Accuracy: 0.8503, F1 Score: 0.6360\n",
      "Batch 180/211 Loss: 0.4350, Accuracy: 0.8524, F1 Score: 0.5855\n",
      "Batch 190/211 Loss: 0.3069, Accuracy: 0.8958, F1 Score: 0.7008\n",
      "Batch 200/211 Loss: 0.3639, Accuracy: 0.8816, F1 Score: 0.6204\n",
      "Batch 210/211 Loss: 0.3771, Accuracy: 0.8646, F1 Score: 0.6389\n",
      "==> Train Loss: 0.0123 Accuracy: 0.8683 F1 Score: 0.5822\n",
      "==> Validation Loss: 0.0123 Accuracy: 0.8698 F1 Score: 0.5780\n",
      "-------------------------------------------------\n",
      "Epoch 5/10\n",
      "Batch 10/211 Loss: 0.3631, Accuracy: 0.8780, F1 Score: 0.5746\n",
      "Batch 20/211 Loss: 0.3959, Accuracy: 0.8733, F1 Score: 0.5742\n",
      "Batch 30/211 Loss: 0.3411, Accuracy: 0.8750, F1 Score: 0.5615\n",
      "Batch 40/211 Loss: 0.2838, Accuracy: 0.9115, F1 Score: 0.6564\n",
      "Batch 50/211 Loss: 0.3271, Accuracy: 0.8849, F1 Score: 0.6504\n",
      "Batch 60/211 Loss: 0.3804, Accuracy: 0.8651, F1 Score: 0.6194\n",
      "Batch 70/211 Loss: 0.3144, Accuracy: 0.9028, F1 Score: 0.6812\n",
      "Batch 80/211 Loss: 0.3811, Accuracy: 0.8750, F1 Score: 0.6703\n",
      "Batch 90/211 Loss: 0.2723, Accuracy: 0.9107, F1 Score: 0.6176\n",
      "Batch 100/211 Loss: 0.3207, Accuracy: 0.8935, F1 Score: 0.7107\n",
      "Batch 110/211 Loss: 0.3453, Accuracy: 0.8906, F1 Score: 0.7415\n",
      "Batch 120/211 Loss: 0.2699, Accuracy: 0.9130, F1 Score: 0.6677\n",
      "Batch 130/211 Loss: 0.3749, Accuracy: 0.8569, F1 Score: 0.5219\n",
      "Batch 140/211 Loss: 0.3496, Accuracy: 0.8884, F1 Score: 0.7084\n",
      "Batch 150/211 Loss: 0.2853, Accuracy: 0.9119, F1 Score: 0.4948\n",
      "Batch 160/211 Loss: 0.2709, Accuracy: 0.9076, F1 Score: 0.6854\n",
      "Batch 170/211 Loss: 0.3178, Accuracy: 0.9018, F1 Score: 0.6543\n",
      "Batch 180/211 Loss: 0.3032, Accuracy: 0.8924, F1 Score: 0.6636\n",
      "Batch 190/211 Loss: 0.3757, Accuracy: 0.8698, F1 Score: 0.6109\n",
      "Batch 200/211 Loss: 0.3045, Accuracy: 0.9048, F1 Score: 0.6379\n",
      "Batch 210/211 Loss: 0.3413, Accuracy: 0.8943, F1 Score: 0.7149\n",
      "==> Train Loss: 0.0104 Accuracy: 0.8913 F1 Score: 0.6634\n",
      "==> Validation Loss: 0.0106 Accuracy: 0.8943 F1 Score: 0.6716\n",
      "-------------------------------------------------\n",
      "Epoch 6/10\n",
      "Batch 10/211 Loss: 0.3050, Accuracy: 0.9062, F1 Score: 0.7621\n",
      "Batch 20/211 Loss: 0.3230, Accuracy: 0.8958, F1 Score: 0.6628\n",
      "Batch 30/211 Loss: 0.2321, Accuracy: 0.9247, F1 Score: 0.7743\n",
      "Batch 40/211 Loss: 0.2717, Accuracy: 0.9182, F1 Score: 0.6641\n",
      "Batch 50/211 Loss: 0.2291, Accuracy: 0.9276, F1 Score: 0.7439\n",
      "Batch 60/211 Loss: 0.2312, Accuracy: 0.9271, F1 Score: 0.7438\n",
      "Batch 70/211 Loss: 0.3051, Accuracy: 0.8854, F1 Score: 0.7011\n",
      "Batch 80/211 Loss: 0.2977, Accuracy: 0.9045, F1 Score: 0.7756\n",
      "Batch 90/211 Loss: 0.3902, Accuracy: 0.8732, F1 Score: 0.6677\n",
      "Batch 100/211 Loss: 0.2614, Accuracy: 0.9162, F1 Score: 0.7324\n",
      "Batch 110/211 Loss: 0.2248, Accuracy: 0.9266, F1 Score: 0.7834\n",
      "Batch 120/211 Loss: 0.3056, Accuracy: 0.8949, F1 Score: 0.6871\n",
      "Batch 130/211 Loss: 0.3008, Accuracy: 0.9046, F1 Score: 0.7633\n",
      "Batch 140/211 Loss: 0.2603, Accuracy: 0.9173, F1 Score: 0.6744\n",
      "Batch 150/211 Loss: 0.2281, Accuracy: 0.9306, F1 Score: 0.7350\n",
      "Batch 160/211 Loss: 0.3199, Accuracy: 0.9049, F1 Score: 0.7380\n",
      "Batch 170/211 Loss: 0.2350, Accuracy: 0.9288, F1 Score: 0.7257\n",
      "Batch 180/211 Loss: 0.2169, Accuracy: 0.9266, F1 Score: 0.7400\n",
      "Batch 190/211 Loss: 0.3415, Accuracy: 0.8879, F1 Score: 0.6964\n",
      "Batch 200/211 Loss: 0.2558, Accuracy: 0.9309, F1 Score: 0.8038\n",
      "Batch 210/211 Loss: 0.2438, Accuracy: 0.9323, F1 Score: 0.8053\n",
      "==> Train Loss: 0.0086 Accuracy: 0.9130 F1 Score: 0.7349\n",
      "==> Validation Loss: 0.0093 Accuracy: 0.9073 F1 Score: 0.7169\n",
      "-------------------------------------------------\n",
      "Epoch 7/10\n",
      "Batch 10/211 Loss: 0.2276, Accuracy: 0.9219, F1 Score: 0.7088\n",
      "Batch 20/211 Loss: 0.2603, Accuracy: 0.9081, F1 Score: 0.8127\n",
      "Batch 30/211 Loss: 0.2801, Accuracy: 0.8945, F1 Score: 0.6937\n",
      "Batch 40/211 Loss: 0.1981, Accuracy: 0.9375, F1 Score: 0.7265\n",
      "Batch 50/211 Loss: 0.2402, Accuracy: 0.9211, F1 Score: 0.7604\n",
      "Batch 60/211 Loss: 0.1976, Accuracy: 0.9391, F1 Score: 0.8648\n",
      "Batch 70/211 Loss: 0.1821, Accuracy: 0.9443, F1 Score: 0.8204\n",
      "Batch 80/211 Loss: 0.2015, Accuracy: 0.9258, F1 Score: 0.7611\n",
      "Batch 90/211 Loss: 0.2263, Accuracy: 0.9176, F1 Score: 0.7086\n",
      "Batch 100/211 Loss: 0.2465, Accuracy: 0.9309, F1 Score: 0.8126\n",
      "Batch 110/211 Loss: 0.2404, Accuracy: 0.9281, F1 Score: 0.7932\n",
      "Batch 120/211 Loss: 0.2132, Accuracy: 0.9265, F1 Score: 0.8131\n",
      "Batch 130/211 Loss: 0.1837, Accuracy: 0.9361, F1 Score: 0.7139\n",
      "Batch 140/211 Loss: 0.2222, Accuracy: 0.9408, F1 Score: 0.7912\n",
      "Batch 150/211 Loss: 0.1987, Accuracy: 0.9441, F1 Score: 0.8179\n",
      "Batch 160/211 Loss: 0.2635, Accuracy: 0.9199, F1 Score: 0.8038\n",
      "Batch 170/211 Loss: 0.2843, Accuracy: 0.9026, F1 Score: 0.7262\n",
      "Batch 180/211 Loss: 0.1939, Accuracy: 0.9389, F1 Score: 0.7261\n",
      "Batch 190/211 Loss: 0.2068, Accuracy: 0.9453, F1 Score: 0.8520\n",
      "Batch 200/211 Loss: 0.2297, Accuracy: 0.9388, F1 Score: 0.7786\n",
      "Batch 210/211 Loss: 0.2138, Accuracy: 0.9265, F1 Score: 0.8167\n",
      "==> Train Loss: 0.0070 Accuracy: 0.9313 F1 Score: 0.7942\n",
      "==> Validation Loss: 0.0077 Accuracy: 0.9243 F1 Score: 0.7789\n",
      "-------------------------------------------------\n",
      "Epoch 8/10\n",
      "Batch 10/211 Loss: 0.1505, Accuracy: 0.9494, F1 Score: 0.8593\n",
      "Batch 20/211 Loss: 0.2642, Accuracy: 0.9087, F1 Score: 0.8307\n",
      "Batch 30/211 Loss: 0.1560, Accuracy: 0.9474, F1 Score: 0.8127\n",
      "Batch 40/211 Loss: 0.1992, Accuracy: 0.9391, F1 Score: 0.8390\n",
      "Batch 50/211 Loss: 0.1825, Accuracy: 0.9424, F1 Score: 0.7788\n",
      "Batch 60/211 Loss: 0.1533, Accuracy: 0.9539, F1 Score: 0.8582\n",
      "Batch 70/211 Loss: 0.1824, Accuracy: 0.9470, F1 Score: 0.7825\n",
      "Batch 80/211 Loss: 0.1692, Accuracy: 0.9559, F1 Score: 0.8390\n",
      "Batch 90/211 Loss: 0.1603, Accuracy: 0.9490, F1 Score: 0.8577\n",
      "Batch 100/211 Loss: 0.1743, Accuracy: 0.9437, F1 Score: 0.8415\n",
      "Batch 110/211 Loss: 0.2180, Accuracy: 0.9219, F1 Score: 0.6803\n",
      "Batch 120/211 Loss: 0.2387, Accuracy: 0.9277, F1 Score: 0.8686\n",
      "Batch 130/211 Loss: 0.1723, Accuracy: 0.9457, F1 Score: 0.7754\n",
      "Batch 140/211 Loss: 0.1500, Accuracy: 0.9589, F1 Score: 0.9103\n",
      "Batch 150/211 Loss: 0.1545, Accuracy: 0.9539, F1 Score: 0.9019\n",
      "Batch 160/211 Loss: 0.1611, Accuracy: 0.9583, F1 Score: 0.8708\n",
      "Batch 170/211 Loss: 0.1633, Accuracy: 0.9509, F1 Score: 0.8429\n",
      "Batch 180/211 Loss: 0.1704, Accuracy: 0.9474, F1 Score: 0.8442\n",
      "Batch 190/211 Loss: 0.1307, Accuracy: 0.9625, F1 Score: 0.9195\n",
      "Batch 200/211 Loss: 0.2350, Accuracy: 0.9228, F1 Score: 0.7646\n",
      "Batch 210/211 Loss: 0.1827, Accuracy: 0.9420, F1 Score: 0.8665\n",
      "==> Train Loss: 0.0057 Accuracy: 0.9444 F1 Score: 0.8374\n",
      "==> Validation Loss: 0.0064 Accuracy: 0.9389 F1 Score: 0.8154\n",
      "-------------------------------------------------\n",
      "Epoch 9/10\n",
      "Batch 10/211 Loss: 0.1910, Accuracy: 0.9531, F1 Score: 0.8982\n",
      "Batch 20/211 Loss: 0.1486, Accuracy: 0.9556, F1 Score: 0.7857\n",
      "Batch 30/211 Loss: 0.2287, Accuracy: 0.9395, F1 Score: 0.8759\n",
      "Batch 40/211 Loss: 0.1256, Accuracy: 0.9622, F1 Score: 0.8711\n",
      "Batch 50/211 Loss: 0.1188, Accuracy: 0.9658, F1 Score: 0.8965\n",
      "Batch 60/211 Loss: 0.1676, Accuracy: 0.9524, F1 Score: 0.8731\n",
      "Batch 70/211 Loss: 0.1155, Accuracy: 0.9688, F1 Score: 0.9244\n",
      "Batch 80/211 Loss: 0.1589, Accuracy: 0.9524, F1 Score: 0.8199\n",
      "Batch 90/211 Loss: 0.1141, Accuracy: 0.9720, F1 Score: 0.9019\n",
      "Batch 100/211 Loss: 0.1805, Accuracy: 0.9424, F1 Score: 0.8421\n",
      "Batch 110/211 Loss: 0.1149, Accuracy: 0.9635, F1 Score: 0.9054\n",
      "Batch 120/211 Loss: 0.1011, Accuracy: 0.9688, F1 Score: 0.8626\n",
      "Batch 130/211 Loss: 0.1507, Accuracy: 0.9618, F1 Score: 0.8442\n",
      "Batch 140/211 Loss: 0.1123, Accuracy: 0.9701, F1 Score: 0.9143\n",
      "Batch 150/211 Loss: 0.1573, Accuracy: 0.9539, F1 Score: 0.8752\n",
      "Batch 160/211 Loss: 0.1450, Accuracy: 0.9601, F1 Score: 0.8935\n",
      "Batch 170/211 Loss: 0.1498, Accuracy: 0.9514, F1 Score: 0.8809\n",
      "Batch 180/211 Loss: 0.1384, Accuracy: 0.9653, F1 Score: 0.8949\n",
      "Batch 190/211 Loss: 0.1742, Accuracy: 0.9552, F1 Score: 0.8918\n",
      "Batch 200/211 Loss: 0.1255, Accuracy: 0.9688, F1 Score: 0.9206\n",
      "Batch 210/211 Loss: 0.1777, Accuracy: 0.9514, F1 Score: 0.8396\n",
      "==> Train Loss: 0.0046 Accuracy: 0.9572 F1 Score: 0.8751\n",
      "==> Validation Loss: 0.0054 Accuracy: 0.9495 F1 Score: 0.8533\n",
      "-------------------------------------------------\n",
      "Epoch 10/10\n",
      "Batch 10/211 Loss: 0.1263, Accuracy: 0.9638, F1 Score: 0.9219\n",
      "Batch 20/211 Loss: 0.1139, Accuracy: 0.9701, F1 Score: 0.8281\n",
      "Batch 30/211 Loss: 0.1411, Accuracy: 0.9618, F1 Score: 0.8606\n",
      "Batch 40/211 Loss: 0.1183, Accuracy: 0.9632, F1 Score: 0.9049\n",
      "Batch 50/211 Loss: 0.1071, Accuracy: 0.9688, F1 Score: 0.9237\n",
      "Batch 60/211 Loss: 0.0805, Accuracy: 0.9747, F1 Score: 0.9381\n",
      "Batch 70/211 Loss: 0.1271, Accuracy: 0.9645, F1 Score: 0.9053\n",
      "Batch 80/211 Loss: 0.1321, Accuracy: 0.9577, F1 Score: 0.8860\n",
      "Batch 90/211 Loss: 0.1018, Accuracy: 0.9701, F1 Score: 0.7901\n",
      "Batch 100/211 Loss: 0.0998, Accuracy: 0.9688, F1 Score: 0.9307\n",
      "Batch 110/211 Loss: 0.1276, Accuracy: 0.9566, F1 Score: 0.8441\n",
      "Batch 120/211 Loss: 0.0941, Accuracy: 0.9717, F1 Score: 0.9023\n",
      "Batch 130/211 Loss: 0.1575, Accuracy: 0.9540, F1 Score: 0.8844\n",
      "Batch 140/211 Loss: 0.1427, Accuracy: 0.9635, F1 Score: 0.8738\n",
      "Batch 150/211 Loss: 0.1343, Accuracy: 0.9598, F1 Score: 0.8678\n",
      "Batch 160/211 Loss: 0.0897, Accuracy: 0.9781, F1 Score: 0.8891\n",
      "Batch 170/211 Loss: 0.1396, Accuracy: 0.9601, F1 Score: 0.8868\n",
      "Batch 180/211 Loss: 0.0977, Accuracy: 0.9688, F1 Score: 0.8643\n",
      "Batch 190/211 Loss: 0.1245, Accuracy: 0.9641, F1 Score: 0.9374\n",
      "Batch 200/211 Loss: 0.0687, Accuracy: 0.9803, F1 Score: 0.9478\n",
      "Batch 210/211 Loss: 0.0900, Accuracy: 0.9702, F1 Score: 0.9121\n",
      "==> Train Loss: 0.0037 Accuracy: 0.9662 F1 Score: 0.9025\n",
      "==> Validation Loss: 0.0046 Accuracy: 0.9578 F1 Score: 0.8762\n"
     ]
    }
   ],
   "source": [
    "import torch\n",
    "import torch.nn as nn\n",
    "import torch.optim as optim\n",
    "from sklearn.metrics import accuracy_score, f1_score\n",
    "\n",
    "\n",
    "def train_epoch(model, dataloader, criterion, optimizer, device):\n",
    "    model.train()\n",
    "    model = model.to(device)\n",
    "    running_loss = 0.0\n",
    "    running_corrects = 0\n",
    "    running_total = 0\n",
    "    y_true = []\n",
    "    y_pred = []\n",
    "    \n",
    "    for i, (_, _, utterance_embeddings, targets) in enumerate(dataloader, 1):\n",
    "        utterance_embeddings = utterance_embeddings.to(device)\n",
    "        targets = targets.to(device)\n",
    "        optimizer.zero_grad()\n",
    "        outputs = model(utterance_embeddings)\n",
    "        loss = criterion(outputs.view(-1, outputs.size(-1)), targets.view(-1))\n",
    "        _, preds = torch.max(outputs, 2)\n",
    "        running_loss += loss.item() \n",
    "        running_corrects += torch.sum(preds == targets).item()\n",
    "        running_total += utterance_embeddings.size(0)\n",
    "        loss.backward()\n",
    "        optimizer.step()\n",
    "        \n",
    "        if i % 10 == 0:\n",
    "            target_expanded = targets.view(-1).cpu().numpy()\n",
    "            preds_expanded = preds.view(-1).cpu().numpy()\n",
    "            f1 = f1_score(target_expanded, preds_expanded, average='macro')\n",
    "            accuracy = accuracy_score(target_expanded, preds_expanded)\n",
    "            print(f\"Batch {i}/{len(dataloader)} Loss: {loss.item():.4f}, Accuracy: {accuracy:.4f}, F1 Score: {f1:.4f}\")\n",
    "        y_true.extend(targets.view(-1).cpu().numpy())\n",
    "        y_pred.extend(preds.view(-1).cpu().numpy())\n",
    "    \n",
    "    epoch_loss = running_loss / len(dataloader.dataset)\n",
    "    epoch_acc = accuracy_score(y_true, y_pred)\n",
    "    f1 = f1_score(y_true, y_pred, average='macro')\n",
    "    return epoch_loss, epoch_acc, f1\n",
    "\n",
    "\n",
    "def validate_model(model, dataloader, criterion, device):\n",
    "    model.eval()\n",
    "    model = model.to(device)\n",
    "    running_loss = 0.0\n",
    "    running_corrects = 0\n",
    "    running_total = 0\n",
    "    y_true = []\n",
    "    y_pred = []\n",
    "    with torch.no_grad():\n",
    "        for _, _, utterance_embeddings, targets in dataloader:\n",
    "            utterance_embeddings = utterance_embeddings.to(device)\n",
    "            targets = targets.to(device)\n",
    "            outputs = model(utterance_embeddings)\n",
    "            loss = criterion(outputs.view(-1, outputs.size(-1)), targets.view(-1))\n",
    "            _, preds = torch.max(outputs, 2)\n",
    "            running_loss += loss.item() \n",
    "            running_corrects += torch.sum(preds == targets).item()\n",
    "            running_total += utterance_embeddings.size(0)\n",
    "            y_true.extend(targets.view(-1).cpu().numpy())\n",
    "            y_pred.extend(preds.view(-1).cpu().numpy())\n",
    "    val_loss = running_loss / len(dataloader.dataset)\n",
    "    val_acc = accuracy_score(y_true, y_pred)\n",
    "    val_f1 = f1_score(y_true, y_pred, average='macro')\n",
    "    return val_loss, val_acc, val_f1\n",
    "\n",
    "\n",
    "\n",
    "training_loss, validation_loss = [], []\n",
    "training_acc, validation_acc = [], []\n",
    "training_f1, validation_f1 = [], []\n",
    "for epoch in range(NUM_EPOCH):\n",
    "    print('-------------------------------------------------')\n",
    "    print(f\"Epoch {epoch+1}/{NUM_EPOCH}\")\n",
    "    train_loss, train_acc, train_f1 = train_epoch(model, train_loader, criterion, optimizer, DEVICE)\n",
    "    training_loss.append(train_loss)\n",
    "    training_acc.append(train_acc)\n",
    "    training_f1.append(train_f1)\n",
    "    print(f\"==> Train Loss: {train_loss:.4f} Accuracy: {train_acc:.4f} F1 Score: {train_f1:.4f}\")\n",
    "    val_loss, val_acc, val_f1 = validate_model(model, val_loader, criterion, DEVICE)\n",
    "    print(f\"==> Validation Loss: {val_loss:.4f} Accuracy: {val_acc:.4f} F1 Score: {val_f1:.4f}\")\n",
    "    validation_loss.append(val_loss)\n",
    "    validation_acc.append(val_acc)\n",
    "    validation_f1.append(val_f1)"
   ]
  },
  {
   "cell_type": "code",
   "execution_count": 10,
   "metadata": {},
   "outputs": [],
   "source": [
    "model = model.to('cpu')\n",
    "torch.save(model.state_dict(), \"M1.pt\")"
   ]
  },
  {
   "cell_type": "code",
   "execution_count": 13,
   "metadata": {},
   "outputs": [
    {
     "data": {
      "image/png": "[encoded data removed]",
      "text/plain": [
       "<Figure size 640x480 with 1 Axes>"
      ]
     },
     "metadata": {},
     "output_type": "display_data"
    },
    {
     "data": {
      "image/png": "[encoded data removed]",
      "text/plain": [
       "<Figure size 640x480 with 1 Axes>"
      ]
     },
     "metadata": {},
     "output_type": "display_data"
    },
    {
     "data": {
      "image/png": "[encoded data removed]",
      "text/plain": [
       "<Figure size 640x480 with 1 Axes>"
      ]
     },
     "metadata": {},
     "output_type": "display_data"
    }
   ],
   "source": [
    "import matplotlib.pyplot as plt\n",
    "\n",
    "plt.plot(training_loss, label='Training Loss')\n",
    "plt.plot(validation_loss, label='Validation Loss')\n",
    "plt.xlabel('Epochs')\n",
    "plt.ylabel('Loss')\n",
    "plt.legend()\n",
    "plt.show()\n",
    "plt.plot(training_acc, label='Training Accuracy')\n",
    "plt.plot(validation_acc, label='Validation Accuracy')\n",
    "plt.xlabel('Epochs')\n",
    "plt.ylabel('Accuracy')\n",
    "plt.legend()\n",
    "plt.show()\n",
    "plt.plot(training_f1, label='Training F1 Score')\n",
    "plt.plot(validation_f1, label='Validation F1 Score')\n",
    "plt.xlabel('Epochs')\n",
    "plt.ylabel('F1 Score')\n",
    "plt.legend()\n",
    "plt.show()"
   ]
  },
  {
   "cell_type": "markdown",
   "metadata": {},
   "source": [
    "## Run Inference on Validation Dataset"
   ]
  },
  {
   "cell_type": "code",
   "execution_count": 19,
   "metadata": {},
   "outputs": [
    {
     "name": "stdout",
     "output_type": "stream",
     "text": [
      "640 640\n",
      "Loss: 0.1159, Accuracy: 0.9641, F1 Score: 0.9134\n",
      "[3 0 0 6 3 5 0 0 0 3 4 6 0 2 2 6 0 0 0 0 0 1 0 0 3 6 3 4 0 0 0 4 0 0 0 0 0\n",
      " 0 0 0 0 0 0 1 4 1 6 5 6 0 0 0 0 0 0 0 0 0 0 0 6 0 5 0 6 6 0 0 0 0 0 0 0 0\n",
      " 0 0 0 0 0 0 5 5 3 2 6 3 0 3 3 3 3 4 0 0 0 0 0 0 0 0 0 1 0 0 1 3 1 1 0 0 1\n",
      " 1 0 0 0 0 0 0 0 0 0 0 4 0 5 4 0 0 0 0 0 0 0 0 0 0 0 0 0 0 1 1 6 6 1 2 0 4\n",
      " 2 0 0 0 0 0 0 0 0 0 0 0 1 0 0 6 2 1 0 0 1 1 0 0 0 0 0 0 0 0 0 0 0 0 0 0 0\n",
      " 0 0 0 3 3 0 0 3 1 2 0 0 0 0 0 1 0 0 0 5 0 0 0 0 0 0 0 0 0 0 0 0 0 0 0 2 0\n",
      " 1 0 0 0 1 2 6 6 1 0 0 0 0 0 0 0 0 0 1 3 0 1 1 2 6 4 0 0 0 0 0 0 0 0 0 0 0\n",
      " 0 0 5 2 1 1 0 0 0 0 0 0 0 0 0 0 0 0 0 0 0 0 0 0 0 0 0 1 1 1 6 6 0 0 0 0 0\n",
      " 0 1 0 2 1 0 0 1 1 1 2 0 0 1 3 6 0 3 0 6 3 0 0 0 4 4 4 0 4 0 0 3 6 0 1 5 0\n",
      " 0 0 0 0 0 0 0 0 1 6 6 0 1 6 0 1 4 1 0 0 0 0 0 0 0 0 0 6 0 1 1 0 0 0 1 1 1\n",
      " 0 0 0 6 0 0 0 0 0 0 1 0 0 0 0 0 0 0 0 0 0 0 0 0 0 0 0 0 0 0 3 1 0 6 0 0 0\n",
      " 0 0 0 0 0 0 0 0 0 0 0 0 0 1 0 0 0 0 3 6 0 0 0 0 0 0 0 0 0 0 0 0 0 0 1 6 6\n",
      " 0 1 0 0 0 0 0 0 0 0 0 0 0 0 0 0 0 1 1 5 0 0 0 0 0 0 0 0 0 0 0 0 0 0 0 0 1\n",
      " 0 0 0 0 0 0 0 0 0 0 0 0 0 0 0 0 0 0 0 1 0 0 1 1 0 0 0 0 0 0 0 0 0 0 0 0 0\n",
      " 0 0 0 1 0 0 3 0 0 6 6 0 1 0 1 1 0 0 0 0 0 0 3 0 0 6 3 5 0 0 0 3 4 0 0 0 0\n",
      " 0 0 0 0 0 3 0 0 5 5 5 3 0 0 0 0 0 0 0 0 0 0 0 0 0 2 0 0 6 0 0 0 3 0 3 3 3\n",
      " 0 0 0 0 0 0 0 0 0 0 3 0 0 0 0 0 0 0 0 0 0 0 0 0 0 0 0 0 0 0 1 5 5 2 0 1 0\n",
      " 0 0 0 0 0 0 0 0 0 0 0]\n",
      "[3 0 0 6 3 5 0 0 0 3 4 6 0 2 2 6 0 0 0 0 0 1 0 0 3 6 3 4 0 0 0 4 0 6 0 0 0\n",
      " 0 0 0 0 0 0 1 4 1 6 5 5 0 0 0 0 0 0 0 0 0 0 0 6 0 5 0 6 6 0 0 0 0 0 0 0 0\n",
      " 0 0 0 0 0 0 5 5 3 2 6 3 0 3 3 3 3 3 0 0 0 0 0 0 0 0 0 1 0 0 1 3 1 1 0 0 1\n",
      " 1 0 0 0 0 0 0 0 0 0 0 4 0 2 4 0 0 0 0 0 0 0 0 0 0 0 0 0 0 1 1 6 6 1 2 0 4\n",
      " 2 0 0 0 0 0 0 0 0 0 0 0 1 0 0 6 2 1 0 0 1 1 0 0 0 0 0 0 0 0 0 0 0 0 0 0 0\n",
      " 0 0 0 3 3 0 0 3 1 2 0 0 0 0 0 0 0 0 0 0 0 0 0 0 0 0 0 0 0 0 0 0 0 0 0 2 0\n",
      " 1 0 0 0 1 2 6 6 6 0 0 0 0 0 0 0 0 0 1 3 0 1 1 0 6 0 0 0 0 0 0 0 0 0 0 0 0\n",
      " 0 0 5 2 1 0 0 0 0 0 0 0 0 0 0 0 0 0 0 0 0 0 0 0 0 0 0 1 1 1 6 6 0 0 0 0 0\n",
      " 0 1 0 0 1 0 0 1 1 1 2 0 0 1 3 6 0 3 0 6 1 0 0 0 4 4 4 0 4 0 0 3 6 0 1 5 0\n",
      " 0 0 0 0 0 0 0 0 1 6 6 0 1 6 0 1 4 0 0 0 0 0 0 0 0 0 0 6 0 1 1 0 0 0 1 1 1\n",
      " 0 0 0 6 0 0 0 0 0 0 1 0 0 0 0 0 0 0 0 0 0 0 0 0 0 0 0 0 0 0 3 1 2 6 0 0 0\n",
      " 0 0 0 0 0 0 0 0 0 0 0 0 0 1 0 0 0 0 5 6 0 0 0 0 0 0 0 0 0 0 0 0 0 0 1 0 6\n",
      " 0 6 0 0 0 0 0 0 0 0 0 0 0 0 0 0 3 1 0 5 0 0 0 0 0 0 0 0 0 0 0 0 0 0 0 0 1\n",
      " 0 0 0 0 0 0 0 0 0 0 0 0 0 0 0 0 0 0 0 1 0 0 1 1 0 0 0 0 0 0 0 0 0 0 0 0 0\n",
      " 0 0 0 1 0 0 3 0 0 6 6 0 1 0 1 1 0 0 0 0 0 0 3 0 0 6 3 5 0 0 0 3 4 0 0 0 0\n",
      " 0 0 0 0 0 3 0 0 5 5 5 3 0 0 0 0 0 0 0 0 0 0 0 0 0 2 0 0 6 0 0 0 3 3 3 3 6\n",
      " 0 0 0 0 0 0 0 0 0 0 0 0 0 0 0 0 0 0 0 0 0 0 0 0 0 0 0 0 0 0 1 5 5 2 1 1 0\n",
      " 0 0 0 0 0 0 0 0 0 0 0]\n"
     ]
    }
   ],
   "source": [
    "for _, _, utterance_embeddings, emotions in val_loader:\n",
    "    emotions = emotions.to(DEVICE)\n",
    "    utterance_embeddings = utterance_embeddings.to(DEVICE)\n",
    "    model = model.to(DEVICE)\n",
    "    outputs = model(utterance_embeddings)\n",
    "    loss = criterion(outputs.view(-1, outputs.size(-1)), emotions.view(-1))\n",
    "    _, preds = torch.max(outputs, 2)\n",
    "    target_expanded = emotions.view(-1).cpu().numpy()\n",
    "    preds_expanded = preds.view(-1).cpu().numpy()\n",
    "    print(len(target_expanded), len(preds_expanded))\n",
    "    f1 = f1_score(target_expanded, preds_expanded, average='macro')\n",
    "    accuracy = accuracy_score(target_expanded, preds_expanded)\n",
    "    print(f\"Loss: {loss.item():.4f}, Accuracy: {accuracy:.4f}, F1 Score: {f1:.4f}\")\n",
    "    print(target_expanded)\n",
    "    print(preds_expanded)\n",
    "    break"
   ]
  },
  {
   "cell_type": "markdown",
   "metadata": {},
   "source": [
    "## Predict Emotions and Detecting the Flips in Emotions in a conversation"
   ]
  },
  {
   "cell_type": "code",
   "execution_count": 5,
   "metadata": {},
   "outputs": [
    {
     "name": "stdout",
     "output_type": "stream",
     "text": [
      "Train Samples: 6740\n",
      "Val Samples: 843\n"
     ]
    }
   ],
   "source": [
    "with open(\"../Data/train_file.json\", 'r') as f:\n",
    "    train_json = json.load(f)\n",
    "with open(\"../Data/val_file.json\", 'r') as f:\n",
    "    val_json = json.load(f)\n",
    "print('Train Samples:', len(train_json))\n",
    "print('Val Samples:', len(val_json))"
   ]
  },
  {
   "cell_type": "code",
   "execution_count": 6,
   "metadata": {},
   "outputs": [],
   "source": [
    "import torch\n",
    "import torch.nn as nn\n",
    "from sentence_transformers import SentenceTransformer\n",
    "from sklearn.metrics import f1_score, accuracy_score\n",
    "\n",
    "sentence_emb_model = SentenceTransformer('all-MiniLM-L6-v2')\n",
    "emotion_class_to_idx = {'neutral': 0, 'joy': 1, 'sadness': 2, 'anger': 3, 'fear': 4, 'disgust': 5, 'surprise': 6}\n",
    "emotion_idx_to_class = {v: k for k, v in emotion_class_to_idx.items()}"
   ]
  },
  {
   "cell_type": "code",
   "execution_count": 7,
   "metadata": {},
   "outputs": [
    {
     "data": {
      "text/plain": [
       "<All keys matched successfully>"
      ]
     },
     "execution_count": 7,
     "metadata": {},
     "output_type": "execute_result"
    }
   ],
   "source": [
    "DEVICE = torch.device(\"cuda\" if torch.cuda.is_available() else \"cpu\")\n",
    "NUM_EPOCH = 10\n",
    "INPUT_SIZE = 384\n",
    "HIDDEN_SIZE = 128\n",
    "OUTPUT_SIZE = 7\n",
    "\n",
    "trained_model = GRUClassifier(INPUT_SIZE, HIDDEN_SIZE, OUTPUT_SIZE).to(DEVICE)\n",
    "trained_model.load_state_dict(torch.load(\"M1.pt\"))"
   ]
  },
  {
   "cell_type": "code",
   "execution_count": 16,
   "metadata": {},
   "outputs": [
    {
     "name": "stdout",
     "output_type": "stream",
     "text": [
      "True emotions: ['anger', 'joy', 'neutral', 'joy', 'joy']\n",
      "Predicted emotions: ['joy', 'surprise', 'joy', 'joy', 'joy']\n",
      "Accuracy of Prediction: 0.4\n",
      "F1 Score of Prediction: 0.14285714285714285\n",
      "\n",
      "---------------------------------\n",
      "Detecting Speaker Emotion Flips\n",
      "speakers in conversation:\n",
      "['Phoebe', 'Monica', 'Phoebe', 'Monica', 'Phoebe']\n",
      "Predicted Emotions:\n",
      "['joy', 'surprise', 'joy', 'joy', 'joy']\n",
      "\n",
      "Monica changed emotion from surprise to joy\n"
     ]
    }
   ],
   "source": [
    "def conversation_inference(model:GRUClassifier, conversation:dict):\n",
    "    model.eval()\n",
    "    utterances = conversation[\"utterances\"]\n",
    "    true_emotions = conversation[\"emotions\"]\n",
    "    speakers = conversation[\"speakers\"]\n",
    "    \n",
    "    # Obtain the utterance embeddings and predict the emotions of all the utterances\n",
    "    utterance_embeddings = torch.tensor(sentence_emb_model.encode(utterances), dtype=torch.float)\n",
    "    utterance_embeddings = utterance_embeddings.unsqueeze(0).to(DEVICE)\n",
    "    predicted_emotions = model(utterance_embeddings)\n",
    "    _, predicted_emotions = torch.max(predicted_emotions, 2)\n",
    "    predicted_emotions = predicted_emotions.squeeze(0)\n",
    "    predicted_emotions = [emotion_idx_to_class[emotion.item()] for emotion in predicted_emotions]\n",
    "\n",
    "    # Show the Accuracy and F1 Score of the prediction\n",
    "    accuracy = accuracy_score(true_emotions, predicted_emotions)\n",
    "    f1 = f1_score(true_emotions, predicted_emotions, average='macro')\n",
    "    print('True emotions:', true_emotions)\n",
    "    print('Predicted emotions:', predicted_emotions)\n",
    "    print('Accuracy of Prediction:', accuracy)\n",
    "    print('F1 Score of Prediction:', f1)\n",
    "    \n",
    "    # Predicting the Emotion Flips\n",
    "    print('\\n---------------------------------')\n",
    "    print('Detecting Speaker Emotion Flips')\n",
    "    print('speakers in conversation:')\n",
    "    print(speakers)\n",
    "    print('Predicted Emotions:')\n",
    "    print(predicted_emotions)\n",
    "    print()\n",
    "    speakers_prev_emotion = {speaker:None for speaker in speakers}\n",
    "    for i, (speaker, true_emotion, predicted_emotion) in enumerate(zip(speakers, true_emotions, predicted_emotions)):\n",
    "        if speakers_prev_emotion[speaker] is None:\n",
    "            speakers_prev_emotion[speaker] = predicted_emotion\n",
    "        else:\n",
    "            if speakers_prev_emotion[speaker] != predicted_emotion:\n",
    "                print(f'{speaker} changed emotion from {speakers_prev_emotion[speaker]} to {predicted_emotion}')\n",
    "                speakers_prev_emotion[speaker] = predicted_emotion\n",
    "    return    \n",
    "\n",
    "ind = 200\n",
    "conversation = val_json[ind]\n",
    "conversation_inference(trained_model, conversation)    "
   ]
  },
  {
   "cell_type": "markdown",
   "metadata": {},
   "source": [
    "## Check Stats on Validation Dataset"
   ]
  },
  {
   "cell_type": "code",
   "execution_count": 9,
   "metadata": {},
   "outputs": [
    {
     "name": "stdout",
     "output_type": "stream",
     "text": [
      "Validation Accuracy: 0.9578074507651972\n",
      "Validation F1 Score: 0.876162606551148\n"
     ]
    }
   ],
   "source": [
    "criterion = nn.CrossEntropyLoss()\n",
    "y_pred = []\n",
    "y_true = []\n",
    "for _, _, utterance_embeddings, emotions in val_loader:\n",
    "    emotions = emotions.to(DEVICE)\n",
    "    utterance_embeddings = utterance_embeddings.to(DEVICE)\n",
    "    trained_model = trained_model.to(DEVICE)\n",
    "    outputs = trained_model(utterance_embeddings)\n",
    "    loss = criterion(outputs.view(-1, outputs.size(-1)), emotions.view(-1))\n",
    "    _, preds = torch.max(outputs, 2)\n",
    "    target_expanded = emotions.view(-1).cpu().numpy()\n",
    "    preds_expanded = preds.view(-1).cpu().numpy()\n",
    "    y_true.extend(target_expanded)\n",
    "    y_pred.extend(preds_expanded)\n",
    "print('Validation Accuracy:', accuracy_score(y_true, y_pred))\n",
    "print('Validation F1 Score:', f1_score(y_true, y_pred, average='macro'))"
   ]
  }
 ],
 "metadata": {
  "kernelspec": {
   "display_name": "a3_env",
   "language": "python",
   "name": "python3"
  },
  "language_info": {
   "codemirror_mode": {
    "name": "ipython",
    "version": 3
   },
   "file_extension": ".py",
   "mimetype": "text/x-python",
   "name": "python",
   "nbconvert_exporter": "python",
   "pygments_lexer": "ipython3",
   "version": "3.12.2"
  }
 },
 "nbformat": 4,
 "nbformat_minor": 2
}
