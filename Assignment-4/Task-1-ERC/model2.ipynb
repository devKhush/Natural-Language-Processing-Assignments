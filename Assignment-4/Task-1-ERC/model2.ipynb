{
 "cells": [
  {
   "cell_type": "code",
   "execution_count": 1,
   "metadata": {},
   "outputs": [
    {
     "name": "stderr",
     "output_type": "stream",
     "text": [
      "/mnt/disk1/sumdev/CourseWork/a3_env/lib/python3.12/site-packages/tqdm/auto.py:21: TqdmWarning: IProgress not found. Please update jupyter and ipywidgets. See https://ipywidgets.readthedocs.io/en/stable/user_install.html\n",
      "  from .autonotebook import tqdm as notebook_tqdm\n"
     ]
    }
   ],
   "source": [
    "import json\n",
    "import torch\n",
    "from torch.utils.data import Dataset, DataLoader\n",
    "from sklearn.preprocessing import LabelEncoder\n",
    "from sentence_transformers import SentenceTransformer\n",
    "import warnings\n",
    "warnings.filterwarnings(\"ignore\")"
   ]
  },
  {
   "cell_type": "markdown",
   "metadata": {},
   "source": [
    "## Load Datasets and Create Dataset Class"
   ]
  },
  {
   "cell_type": "code",
   "execution_count": 2,
   "metadata": {},
   "outputs": [
    {
     "name": "stdout",
     "output_type": "stream",
     "text": [
      "Length of train dataset: 6740\n",
      "Length of val dataset: 843\n"
     ]
    }
   ],
   "source": [
    "from transformers import BertModel, BertTokenizer\n",
    "\n",
    "class EmotionDataset(Dataset):\n",
    "    def __init__(self, json_file, model_name='all-MiniLM-L6-v2'):\n",
    "        self.data = []\n",
    "        self.speaker_encoder = LabelEncoder()\n",
    "        self.model = SentenceTransformer(model_name)\n",
    "        self.emotion_class_to_idx = {'neutral': 0, 'joy': 1, 'sadness': 2, 'anger': 3, 'fear': 4, 'disgust': 5, 'surprise': 6}\n",
    "        with open(json_file, 'r') as f:\n",
    "            data = json.load(f)\n",
    "            for entry in data:\n",
    "                self.data.append(entry)\n",
    "        \n",
    "    def __len__(self):\n",
    "        return len(self.data)\n",
    "\n",
    "    def __getitem__(self, idx):\n",
    "        entry = self.data[idx]\n",
    "        speakers = torch.tensor(self.speaker_encoder.fit_transform(entry[\"speakers\"]), dtype=torch.long)\n",
    "        emotions = torch.tensor([self.emotion_class_to_idx[emotion] for emotion in entry[\"emotions\"]], dtype=torch.long)\n",
    "        utterance_embeddings = torch.tensor(self.model.encode(entry[\"utterances\"]), dtype=torch.float)\n",
    "        return torch.tensor(len(entry[\"speakers\"])), speakers, utterance_embeddings, emotions\n",
    "\n",
    "\n",
    "# Initialize the dataset and dataloader\n",
    "train_dataset = EmotionDataset(\"../Data/train_file.json\")\n",
    "val_dataset = EmotionDataset(\"../Data/val_file.json\")\n",
    "print('Length of train dataset:', len(train_dataset))\n",
    "print('Length of val dataset:', len(val_dataset))"
   ]
  },
  {
   "cell_type": "code",
   "execution_count": 3,
   "metadata": {},
   "outputs": [
    {
     "name": "stdout",
     "output_type": "stream",
     "text": [
      "Conversation length: tensor(5)\n",
      "Speakers: tensor([1, 0, 1, 0, 1])\n",
      "Utterance embeddings: torch.Size([5, 384])\n",
      "Emotions: torch.Size([5])\n"
     ]
    }
   ],
   "source": [
    "conversation_len, speakers, utterance_embeddings, emptions = train_dataset[0]\n",
    "print('Conversation length:', conversation_len)\n",
    "print('Speakers:', speakers)\n",
    "print('Utterance embeddings:', utterance_embeddings.shape)\n",
    "print('Emotions:', emptions.shape)"
   ]
  },
  {
   "cell_type": "markdown",
   "metadata": {},
   "source": [
    "### Training Dataset Class Distribution\n"
   ]
  },
  {
   "cell_type": "code",
   "execution_count": 5,
   "metadata": {},
   "outputs": [
    {
     "name": "stdout",
     "output_type": "stream",
     "text": [
      "Class distribution: {0: 25554, 1: 10734, 2: 4542, 3: 6744, 4: 1880, 5: 1718, 6: 7785}\n"
     ]
    }
   ],
   "source": [
    "class_label = {0:0, 1:0, 2:0, 3:0, 4:0, 5:0, 6:0}\n",
    "for i in range(len(train_dataset)):\n",
    "    _, _, _, emotions = train_dataset[i]\n",
    "    for emotion in emotions:\n",
    "        class_label[emotion.item()] += 1\n",
    "print('Class distribution:', class_label)"
   ]
  },
  {
   "cell_type": "markdown",
   "metadata": {},
   "source": [
    "### Validation Dataset Class Distribution"
   ]
  },
  {
   "cell_type": "code",
   "execution_count": 23,
   "metadata": {},
   "outputs": [
    {
     "name": "stdout",
     "output_type": "stream",
     "text": [
      "Class distribution: {0: 3200, 1: 1259, 2: 558, 3: 788, 4: 265, 5: 215, 6: 1008}\n"
     ]
    }
   ],
   "source": [
    "class_label = {0:0, 1:0, 2:0, 3:0, 4:0, 5:0, 6:0}\n",
    "for i in range(len(val_dataset)):\n",
    "    _, _, _, emotions = val_dataset[i]\n",
    "    for emotion in emotions:\n",
    "        class_label[emotion.item()] += 1\n",
    "print('Class distribution:', class_label)"
   ]
  },
  {
   "cell_type": "markdown",
   "metadata": {},
   "source": [
    "## Create Dataloaders\n"
   ]
  },
  {
   "cell_type": "code",
   "execution_count": 4,
   "metadata": {},
   "outputs": [
    {
     "name": "stdout",
     "output_type": "stream",
     "text": [
      "Length of train_loader: 211\n",
      "Length of val_loader: 27\n"
     ]
    }
   ],
   "source": [
    "import torch.nn as nn\n",
    "\n",
    "def collate_fn(batch):\n",
    "    length, speakers, utterance_embeddings, emotions = zip(*batch)\n",
    "    length = torch.tensor(length, dtype=torch.long)\n",
    "    speakers = nn.utils.rnn.pad_sequence(speakers, batch_first=True)\n",
    "    utterance_embeddings = nn.utils.rnn.pad_sequence(utterance_embeddings, batch_first=True)        \n",
    "    emotions = nn.utils.rnn.pad_sequence(emotions, batch_first=True)\n",
    "    return length, speakers, utterance_embeddings, emotions\n",
    "\n",
    "\n",
    "train_loader = DataLoader(train_dataset, batch_size=32, shuffle=True, collate_fn=collate_fn)\n",
    "val_loader = DataLoader(val_dataset, batch_size=32, shuffle=False, collate_fn=collate_fn)\n",
    "print('Length of train_loader:', len(train_loader))\n",
    "print('Length of val_loader:', len(val_loader))"
   ]
  },
  {
   "cell_type": "code",
   "execution_count": 21,
   "metadata": {},
   "outputs": [
    {
     "name": "stdout",
     "output_type": "stream",
     "text": [
      "torch.Size([32]) torch.Size([32, 19]) torch.Size([32, 19]) torch.Size([32, 19, 384])\n"
     ]
    }
   ],
   "source": [
    "for length, speakers, utterance_embeddings, emotions in train_loader:\n",
    "    print(length.shape, speakers.shape, emotions.shape, utterance_embeddings.shape)\n",
    "    # print(\"Conversation length:\", length)\n",
    "    # print(\"Speakers:\", speakers)\n",
    "    # print(\"Utterance embeddings:\", utterance_embeddings)\n",
    "    # print(\"Emotions:\", emotions)\n",
    "    break"
   ]
  },
  {
   "cell_type": "markdown",
   "metadata": {},
   "source": [
    "## Create Emotion Recognition Classifier Model\n"
   ]
  },
  {
   "cell_type": "code",
   "execution_count": 5,
   "metadata": {},
   "outputs": [],
   "source": [
    "import torch\n",
    "import torch.nn as nn\n",
    "\n",
    "class TransformerGRUClassifier(nn.Module):\n",
    "    def __init__(self, input_size, hidden_size, output_dim):\n",
    "        super(TransformerGRUClassifier, self).__init__()\n",
    "        self.input_size = input_size\n",
    "        self.hidden_size = hidden_size\n",
    "        self.output_dim = output_dim\n",
    "        self.tranformer_encoder_layer = nn.TransformerEncoderLayer(d_model=input_size, nhead=input_size//4)\n",
    "        self.transformer_encoder = nn.TransformerEncoder(self.tranformer_encoder_layer, num_layers=2)\n",
    "        self.GRU = nn.GRU(input_size, hidden_size, batch_first=True, bidirectional=True)\n",
    "        self.fc = nn.Linear(hidden_size*2, output_dim)\n",
    "\n",
    "    def forward(self, x):\n",
    "        transform_out = self.transformer_encoder(x) + x\n",
    "        h0 = torch.zeros(2, x.size(0), self.hidden_size).to(x.device)\n",
    "        gru_out, _ = self.GRU(transform_out, h0)\n",
    "        gru_out = self.fc(gru_out)\n",
    "        return gru_out"
   ]
  },
  {
   "cell_type": "markdown",
   "metadata": {},
   "source": [
    "## Train the Model\n"
   ]
  },
  {
   "cell_type": "code",
   "execution_count": 18,
   "metadata": {},
   "outputs": [
    {
     "name": "stdout",
     "output_type": "stream",
     "text": [
      "cuda\n"
     ]
    }
   ],
   "source": [
    "import torch.optim as optim\n",
    "\n",
    "DEVICE = torch.device(\"cuda\" if torch.cuda.is_available() else \"cpu\")\n",
    "NUM_EPOCH = 10\n",
    "INPUT_SIZE = 384\n",
    "HIDDEN_SIZE = 128\n",
    "OUTPUT_SIZE = 7\n",
    "\n",
    "model = TransformerGRUClassifier(INPUT_SIZE, HIDDEN_SIZE, OUTPUT_SIZE).to(DEVICE)\n",
    "criterion = nn.CrossEntropyLoss()\n",
    "optimizer = optim.Adam(model.parameters(), lr=0.001)\n",
    "print(DEVICE)"
   ]
  },
  {
   "cell_type": "code",
   "execution_count": 19,
   "metadata": {},
   "outputs": [
    {
     "name": "stdout",
     "output_type": "stream",
     "text": [
      "-------------------------------------------------\n",
      "Epoch 1/10\n",
      "Batch 10/211 Loss: 0.8080, Accuracy: 0.7188, F1 Score: 0.1612\n",
      "Batch 20/211 Loss: 0.6384, Accuracy: 0.7859, F1 Score: 0.2291\n",
      "Batch 30/211 Loss: 0.5995, Accuracy: 0.8170, F1 Score: 0.2949\n",
      "Batch 40/211 Loss: 0.4458, Accuracy: 0.8531, F1 Score: 0.3503\n",
      "Batch 50/211 Loss: 0.5517, Accuracy: 0.8274, F1 Score: 0.3642\n",
      "Batch 60/211 Loss: 0.5212, Accuracy: 0.7946, F1 Score: 0.3538\n",
      "Batch 70/211 Loss: 0.5817, Accuracy: 0.8160, F1 Score: 0.4083\n",
      "Batch 80/211 Loss: 0.4630, Accuracy: 0.8409, F1 Score: 0.4134\n",
      "Batch 90/211 Loss: 0.4550, Accuracy: 0.8421, F1 Score: 0.4254\n",
      "Batch 100/211 Loss: 0.5262, Accuracy: 0.8162, F1 Score: 0.4174\n",
      "Batch 110/211 Loss: 0.3700, Accuracy: 0.8663, F1 Score: 0.4634\n",
      "Batch 120/211 Loss: 0.2993, Accuracy: 0.9105, F1 Score: 0.6358\n",
      "Batch 130/211 Loss: 0.2691, Accuracy: 0.9187, F1 Score: 0.6835\n",
      "Batch 140/211 Loss: 0.2737, Accuracy: 0.9210, F1 Score: 0.7121\n",
      "Batch 150/211 Loss: 0.2818, Accuracy: 0.9119, F1 Score: 0.6314\n",
      "Batch 160/211 Loss: 0.2386, Accuracy: 0.9180, F1 Score: 0.7485\n",
      "Batch 170/211 Loss: 0.1941, Accuracy: 0.9375, F1 Score: 0.7819\n",
      "Batch 180/211 Loss: 0.2154, Accuracy: 0.9313, F1 Score: 0.7830\n",
      "Batch 190/211 Loss: 0.1514, Accuracy: 0.9516, F1 Score: 0.8292\n",
      "Batch 200/211 Loss: 0.2030, Accuracy: 0.9444, F1 Score: 0.7955\n",
      "Batch 210/211 Loss: 0.1683, Accuracy: 0.9460, F1 Score: 0.8404\n",
      "==> Train Loss: 0.0133 Accuracy: 0.8603 F1 Score: 0.5650\n",
      "==> Validation Loss: 0.0053 Accuracy: 0.9518 F1 Score: 0.8537\n",
      "-------------------------------------------------\n",
      "Epoch 2/10\n",
      "Batch 10/211 Loss: 0.1219, Accuracy: 0.9602, F1 Score: 0.8438\n",
      "Batch 20/211 Loss: 0.1339, Accuracy: 0.9583, F1 Score: 0.8560\n",
      "Batch 30/211 Loss: 0.1550, Accuracy: 0.9549, F1 Score: 0.8649\n",
      "Batch 40/211 Loss: 0.1126, Accuracy: 0.9645, F1 Score: 0.8640\n",
      "Batch 50/211 Loss: 0.1501, Accuracy: 0.9628, F1 Score: 0.8796\n",
      "Batch 60/211 Loss: 0.1178, Accuracy: 0.9688, F1 Score: 0.9499\n",
      "Batch 70/211 Loss: 0.0938, Accuracy: 0.9632, F1 Score: 0.9039\n",
      "Batch 80/211 Loss: 0.0750, Accuracy: 0.9792, F1 Score: 0.9503\n",
      "Batch 90/211 Loss: 0.1126, Accuracy: 0.9720, F1 Score: 0.9035\n",
      "Batch 100/211 Loss: 0.1034, Accuracy: 0.9671, F1 Score: 0.9337\n",
      "Batch 110/211 Loss: 0.0727, Accuracy: 0.9792, F1 Score: 0.9486\n",
      "Batch 120/211 Loss: 0.0897, Accuracy: 0.9719, F1 Score: 0.9458\n",
      "Batch 130/211 Loss: 0.0878, Accuracy: 0.9672, F1 Score: 0.9297\n",
      "Batch 140/211 Loss: 0.0668, Accuracy: 0.9796, F1 Score: 0.9022\n",
      "Batch 150/211 Loss: 0.0832, Accuracy: 0.9671, F1 Score: 0.9059\n",
      "Batch 160/211 Loss: 0.0997, Accuracy: 0.9669, F1 Score: 0.8950\n",
      "Batch 170/211 Loss: 0.0841, Accuracy: 0.9792, F1 Score: 0.9590\n",
      "Batch 180/211 Loss: 0.0878, Accuracy: 0.9740, F1 Score: 0.9524\n",
      "Batch 190/211 Loss: 0.0721, Accuracy: 0.9821, F1 Score: 0.9476\n",
      "Batch 200/211 Loss: 0.0876, Accuracy: 0.9716, F1 Score: 0.9240\n",
      "Batch 210/211 Loss: 0.0677, Accuracy: 0.9787, F1 Score: 0.9147\n",
      "==> Train Loss: 0.0029 Accuracy: 0.9723 F1 Score: 0.9241\n",
      "==> Validation Loss: 0.0020 Accuracy: 0.9812 F1 Score: 0.9553\n",
      "-------------------------------------------------\n",
      "Epoch 3/10\n",
      "Batch 10/211 Loss: 0.0436, Accuracy: 0.9870, F1 Score: 0.9584\n",
      "Batch 20/211 Loss: 0.0661, Accuracy: 0.9875, F1 Score: 0.9466\n",
      "Batch 30/211 Loss: 0.0318, Accuracy: 0.9906, F1 Score: 0.9852\n",
      "Batch 40/211 Loss: 0.0682, Accuracy: 0.9792, F1 Score: 0.9678\n",
      "Batch 50/211 Loss: 0.0284, Accuracy: 0.9906, F1 Score: 0.9828\n",
      "Batch 60/211 Loss: 0.0234, Accuracy: 0.9963, F1 Score: 0.9951\n",
      "Batch 70/211 Loss: 0.0503, Accuracy: 0.9819, F1 Score: 0.9384\n",
      "Batch 80/211 Loss: 0.0476, Accuracy: 0.9863, F1 Score: 0.9669\n",
      "Batch 90/211 Loss: 0.0445, Accuracy: 0.9922, F1 Score: 0.9799\n",
      "Batch 100/211 Loss: 0.0443, Accuracy: 0.9835, F1 Score: 0.9733\n",
      "Batch 110/211 Loss: 0.0422, Accuracy: 0.9868, F1 Score: 0.9746\n",
      "Batch 120/211 Loss: 0.0603, Accuracy: 0.9816, F1 Score: 0.9520\n",
      "Batch 130/211 Loss: 0.0482, Accuracy: 0.9872, F1 Score: 0.9393\n",
      "Batch 140/211 Loss: 0.0247, Accuracy: 0.9945, F1 Score: 0.9928\n",
      "Batch 150/211 Loss: 0.0448, Accuracy: 0.9853, F1 Score: 0.9828\n",
      "Batch 160/211 Loss: 0.0494, Accuracy: 0.9844, F1 Score: 0.9700\n",
      "Batch 170/211 Loss: 0.0359, Accuracy: 0.9913, F1 Score: 0.9823\n",
      "Batch 180/211 Loss: 0.0432, Accuracy: 0.9881, F1 Score: 0.9849\n",
      "Batch 190/211 Loss: 0.0358, Accuracy: 0.9844, F1 Score: 0.9741\n",
      "Batch 200/211 Loss: 0.0430, Accuracy: 0.9886, F1 Score: 0.9716\n",
      "Batch 210/211 Loss: 0.1080, Accuracy: 0.9643, F1 Score: 0.9392\n",
      "==> Train Loss: 0.0013 Accuracy: 0.9876 F1 Score: 0.9695\n",
      "==> Validation Loss: 0.0011 Accuracy: 0.9903 F1 Score: 0.9749\n",
      "-------------------------------------------------\n",
      "Epoch 4/10\n",
      "Batch 10/211 Loss: 0.0351, Accuracy: 0.9896, F1 Score: 0.9724\n",
      "Batch 20/211 Loss: 0.0311, Accuracy: 0.9885, F1 Score: 0.9722\n",
      "Batch 30/211 Loss: 0.0349, Accuracy: 0.9875, F1 Score: 0.9454\n",
      "Batch 40/211 Loss: 0.0448, Accuracy: 0.9878, F1 Score: 0.9815\n",
      "Batch 50/211 Loss: 0.0295, Accuracy: 0.9915, F1 Score: 0.9849\n",
      "Batch 60/211 Loss: 0.0199, Accuracy: 0.9967, F1 Score: 0.9946\n",
      "Batch 70/211 Loss: 0.0112, Accuracy: 0.9986, F1 Score: 0.9978\n",
      "Batch 80/211 Loss: 0.0249, Accuracy: 0.9922, F1 Score: 0.9646\n",
      "Batch 90/211 Loss: 0.0119, Accuracy: 0.9967, F1 Score: 0.9912\n",
      "Batch 100/211 Loss: 0.0284, Accuracy: 0.9896, F1 Score: 0.9732\n",
      "Batch 110/211 Loss: 0.0376, Accuracy: 0.9851, F1 Score: 0.9776\n",
      "Batch 120/211 Loss: 0.0487, Accuracy: 0.9896, F1 Score: 0.9581\n",
      "Batch 130/211 Loss: 0.0235, Accuracy: 0.9913, F1 Score: 0.9863\n",
      "Batch 140/211 Loss: 0.0137, Accuracy: 0.9967, F1 Score: 0.9928\n",
      "Batch 150/211 Loss: 0.0193, Accuracy: 0.9946, F1 Score: 0.9884\n",
      "Batch 160/211 Loss: 0.0163, Accuracy: 0.9984, F1 Score: 0.9981\n",
      "Batch 170/211 Loss: 0.0349, Accuracy: 0.9913, F1 Score: 0.9704\n",
      "Batch 180/211 Loss: 0.0249, Accuracy: 0.9926, F1 Score: 0.9837\n",
      "Batch 190/211 Loss: 0.0501, Accuracy: 0.9819, F1 Score: 0.9589\n",
      "Batch 200/211 Loss: 0.0235, Accuracy: 0.9940, F1 Score: 0.9870\n",
      "Batch 210/211 Loss: 0.0255, Accuracy: 0.9918, F1 Score: 0.9795\n",
      "==> Train Loss: 0.0009 Accuracy: 0.9914 F1 Score: 0.9772\n",
      "==> Validation Loss: 0.0010 Accuracy: 0.9910 F1 Score: 0.9757\n",
      "-------------------------------------------------\n",
      "Epoch 5/10\n",
      "Batch 10/211 Loss: 0.0114, Accuracy: 0.9970, F1 Score: 0.9916\n",
      "Batch 20/211 Loss: 0.0260, Accuracy: 0.9902, F1 Score: 0.9517\n",
      "Batch 30/211 Loss: 0.0158, Accuracy: 0.9935, F1 Score: 0.9821\n",
      "Batch 40/211 Loss: 0.0114, Accuracy: 0.9983, F1 Score: 0.9976\n",
      "Batch 50/211 Loss: 0.0125, Accuracy: 0.9959, F1 Score: 0.9896\n",
      "Batch 60/211 Loss: 0.0435, Accuracy: 0.9926, F1 Score: 0.9768\n",
      "Batch 70/211 Loss: 0.0207, Accuracy: 0.9957, F1 Score: 0.9891\n",
      "Batch 80/211 Loss: 0.0237, Accuracy: 0.9943, F1 Score: 0.9903\n",
      "Batch 90/211 Loss: 0.0165, Accuracy: 0.9940, F1 Score: 0.9914\n",
      "Batch 100/211 Loss: 0.0272, Accuracy: 0.9885, F1 Score: 0.9737\n",
      "Batch 110/211 Loss: 0.0158, Accuracy: 0.9931, F1 Score: 0.9887\n",
      "Batch 120/211 Loss: 0.0105, Accuracy: 0.9985, F1 Score: 0.9955\n",
      "Batch 130/211 Loss: 0.0227, Accuracy: 0.9908, F1 Score: 0.9767\n",
      "Batch 140/211 Loss: 0.0289, Accuracy: 0.9906, F1 Score: 0.9711\n",
      "Batch 150/211 Loss: 0.0351, Accuracy: 0.9940, F1 Score: 0.9912\n",
      "Batch 160/211 Loss: 0.0056, Accuracy: 0.9986, F1 Score: 0.9974\n",
      "Batch 170/211 Loss: 0.0297, Accuracy: 0.9931, F1 Score: 0.9871\n",
      "Batch 180/211 Loss: 0.0198, Accuracy: 0.9940, F1 Score: 0.9773\n",
      "Batch 190/211 Loss: 0.0160, Accuracy: 0.9938, F1 Score: 0.9905\n",
      "Batch 200/211 Loss: 0.0131, Accuracy: 0.9984, F1 Score: 0.9978\n",
      "Batch 210/211 Loss: 0.0285, Accuracy: 0.9922, F1 Score: 0.9761\n",
      "==> Train Loss: 0.0007 Accuracy: 0.9939 F1 Score: 0.9833\n",
      "==> Validation Loss: 0.0009 Accuracy: 0.9923 F1 Score: 0.9785\n",
      "-------------------------------------------------\n",
      "Epoch 6/10\n",
      "Batch 10/211 Loss: 0.0391, Accuracy: 0.9881, F1 Score: 0.9709\n",
      "Batch 20/211 Loss: 0.0283, Accuracy: 0.9896, F1 Score: 0.9753\n",
      "Batch 30/211 Loss: 0.0172, Accuracy: 0.9948, F1 Score: 0.9922\n",
      "Batch 40/211 Loss: 0.0253, Accuracy: 0.9891, F1 Score: 0.9772\n",
      "Batch 50/211 Loss: 0.0548, Accuracy: 0.9786, F1 Score: 0.9580\n",
      "Batch 60/211 Loss: 0.0150, Accuracy: 0.9953, F1 Score: 0.9891\n",
      "Batch 70/211 Loss: 0.0221, Accuracy: 0.9909, F1 Score: 0.9786\n",
      "Batch 80/211 Loss: 0.0153, Accuracy: 0.9967, F1 Score: 0.9969\n",
      "Batch 90/211 Loss: 0.0348, Accuracy: 0.9896, F1 Score: 0.9730\n",
      "Batch 100/211 Loss: 0.0248, Accuracy: 0.9915, F1 Score: 0.9789\n",
      "Batch 110/211 Loss: 0.0462, Accuracy: 0.9815, F1 Score: 0.9402\n",
      "Batch 120/211 Loss: 0.0207, Accuracy: 0.9908, F1 Score: 0.9542\n",
      "Batch 130/211 Loss: 0.0135, Accuracy: 0.9963, F1 Score: 0.9909\n",
      "Batch 140/211 Loss: 0.0296, Accuracy: 0.9915, F1 Score: 0.9740\n",
      "Batch 150/211 Loss: 0.0100, Accuracy: 0.9982, F1 Score: 0.9952\n",
      "Batch 160/211 Loss: 0.0105, Accuracy: 0.9970, F1 Score: 0.9960\n",
      "Batch 170/211 Loss: 0.0191, Accuracy: 0.9973, F1 Score: 0.9872\n",
      "Batch 180/211 Loss: 0.0172, Accuracy: 0.9970, F1 Score: 0.9940\n",
      "Batch 190/211 Loss: 0.0277, Accuracy: 0.9858, F1 Score: 0.9699\n",
      "Batch 200/211 Loss: 0.0479, Accuracy: 0.9911, F1 Score: 0.9686\n",
      "Batch 210/211 Loss: 0.0435, Accuracy: 0.9875, F1 Score: 0.9696\n",
      "==> Train Loss: 0.0007 Accuracy: 0.9929 F1 Score: 0.9808\n",
      "==> Validation Loss: 0.0010 Accuracy: 0.9918 F1 Score: 0.9760\n",
      "-------------------------------------------------\n",
      "Epoch 7/10\n",
      "Batch 10/211 Loss: 0.0244, Accuracy: 0.9911, F1 Score: 0.9769\n",
      "Batch 20/211 Loss: 0.0366, Accuracy: 0.9911, F1 Score: 0.9727\n",
      "Batch 30/211 Loss: 0.0245, Accuracy: 0.9866, F1 Score: 0.9597\n",
      "Batch 40/211 Loss: 0.0183, Accuracy: 0.9959, F1 Score: 0.9958\n",
      "Batch 50/211 Loss: 0.0664, Accuracy: 0.9830, F1 Score: 0.9265\n",
      "Batch 60/211 Loss: 0.0689, Accuracy: 0.9755, F1 Score: 0.8885\n",
      "Batch 70/211 Loss: 0.0148, Accuracy: 0.9953, F1 Score: 0.9942\n",
      "Batch 80/211 Loss: 0.0249, Accuracy: 0.9941, F1 Score: 0.9764\n",
      "Batch 90/211 Loss: 0.0365, Accuracy: 0.9885, F1 Score: 0.9788\n",
      "Batch 100/211 Loss: 0.0160, Accuracy: 0.9945, F1 Score: 0.9912\n",
      "Batch 110/211 Loss: 0.0358, Accuracy: 0.9851, F1 Score: 0.9642\n",
      "Batch 120/211 Loss: 0.0527, Accuracy: 0.9853, F1 Score: 0.9409\n",
      "Batch 130/211 Loss: 0.0116, Accuracy: 0.9959, F1 Score: 0.9892\n",
      "Batch 140/211 Loss: 0.0160, Accuracy: 0.9922, F1 Score: 0.9833\n",
      "Batch 150/211 Loss: 0.0236, Accuracy: 0.9886, F1 Score: 0.9765\n",
      "Batch 160/211 Loss: 0.0267, Accuracy: 0.9890, F1 Score: 0.9567\n",
      "Batch 170/211 Loss: 0.0271, Accuracy: 0.9908, F1 Score: 0.9710\n",
      "Batch 180/211 Loss: 0.0158, Accuracy: 0.9917, F1 Score: 0.9880\n",
      "Batch 190/211 Loss: 0.0297, Accuracy: 0.9866, F1 Score: 0.9567\n",
      "Batch 200/211 Loss: 0.0120, Accuracy: 0.9974, F1 Score: 0.9942\n",
      "Batch 210/211 Loss: 0.0231, Accuracy: 0.9896, F1 Score: 0.9825\n",
      "==> Train Loss: 0.0010 Accuracy: 0.9906 F1 Score: 0.9736\n",
      "==> Validation Loss: 0.0008 Accuracy: 0.9937 F1 Score: 0.9821\n",
      "-------------------------------------------------\n",
      "Epoch 8/10\n",
      "Batch 10/211 Loss: 0.0096, Accuracy: 0.9984, F1 Score: 0.9907\n",
      "Batch 20/211 Loss: 0.0152, Accuracy: 0.9948, F1 Score: 0.9948\n",
      "Batch 30/211 Loss: 0.0120, Accuracy: 0.9955, F1 Score: 0.9927\n",
      "Batch 40/211 Loss: 0.0164, Accuracy: 0.9918, F1 Score: 0.9831\n",
      "Batch 50/211 Loss: 0.0096, Accuracy: 0.9973, F1 Score: 0.9911\n",
      "Batch 60/211 Loss: 0.0118, Accuracy: 0.9972, F1 Score: 0.9882\n",
      "Batch 70/211 Loss: 0.0121, Accuracy: 0.9983, F1 Score: 0.9868\n",
      "Batch 80/211 Loss: 0.0123, Accuracy: 0.9957, F1 Score: 0.9906\n",
      "Batch 90/211 Loss: 0.0313, Accuracy: 0.9906, F1 Score: 0.9860\n",
      "Batch 100/211 Loss: 0.0141, Accuracy: 0.9951, F1 Score: 0.9867\n",
      "Batch 110/211 Loss: 0.0212, Accuracy: 0.9938, F1 Score: 0.9910\n",
      "Batch 120/211 Loss: 0.0109, Accuracy: 0.9974, F1 Score: 0.9888\n",
      "Batch 130/211 Loss: 0.0117, Accuracy: 0.9951, F1 Score: 0.9894\n",
      "Batch 140/211 Loss: 0.0175, Accuracy: 0.9943, F1 Score: 0.9927\n",
      "Batch 150/211 Loss: 0.0177, Accuracy: 0.9878, F1 Score: 0.9778\n",
      "Batch 160/211 Loss: 0.0037, Accuracy: 1.0000, F1 Score: 1.0000\n",
      "Batch 170/211 Loss: 0.0090, Accuracy: 0.9961, F1 Score: 0.9889\n",
      "Batch 180/211 Loss: 0.0130, Accuracy: 0.9955, F1 Score: 0.9816\n",
      "Batch 190/211 Loss: 0.0171, Accuracy: 0.9959, F1 Score: 0.9796\n",
      "Batch 200/211 Loss: 0.0115, Accuracy: 0.9984, F1 Score: 0.9974\n",
      "Batch 210/211 Loss: 0.0023, Accuracy: 1.0000, F1 Score: 1.0000\n",
      "==> Train Loss: 0.0004 Accuracy: 0.9958 F1 Score: 0.9893\n",
      "==> Validation Loss: 0.0007 Accuracy: 0.9955 F1 Score: 0.9875\n",
      "-------------------------------------------------\n",
      "Epoch 9/10\n",
      "Batch 10/211 Loss: 0.0163, Accuracy: 0.9941, F1 Score: 0.9941\n",
      "Batch 20/211 Loss: 0.0130, Accuracy: 0.9963, F1 Score: 0.9924\n",
      "Batch 30/211 Loss: 0.0102, Accuracy: 0.9983, F1 Score: 0.9971\n",
      "Batch 40/211 Loss: 0.0285, Accuracy: 0.9934, F1 Score: 0.9664\n",
      "Batch 50/211 Loss: 0.0116, Accuracy: 0.9961, F1 Score: 0.9923\n",
      "Batch 60/211 Loss: 0.0034, Accuracy: 1.0000, F1 Score: 1.0000\n",
      "Batch 70/211 Loss: 0.0047, Accuracy: 1.0000, F1 Score: 1.0000\n",
      "Batch 80/211 Loss: 0.0058, Accuracy: 1.0000, F1 Score: 1.0000\n",
      "Batch 90/211 Loss: 0.0040, Accuracy: 0.9984, F1 Score: 0.9959\n",
      "Batch 100/211 Loss: 0.0051, Accuracy: 0.9986, F1 Score: 0.9977\n",
      "Batch 110/211 Loss: 0.0046, Accuracy: 0.9985, F1 Score: 0.9960\n",
      "Batch 120/211 Loss: 0.0038, Accuracy: 1.0000, F1 Score: 1.0000\n",
      "Batch 130/211 Loss: 0.0069, Accuracy: 0.9982, F1 Score: 0.9975\n",
      "Batch 140/211 Loss: 0.0058, Accuracy: 0.9972, F1 Score: 0.9861\n",
      "Batch 150/211 Loss: 0.0059, Accuracy: 0.9984, F1 Score: 0.9948\n",
      "Batch 160/211 Loss: 0.0025, Accuracy: 1.0000, F1 Score: 1.0000\n",
      "Batch 170/211 Loss: 0.0086, Accuracy: 0.9965, F1 Score: 0.9943\n",
      "Batch 180/211 Loss: 0.0037, Accuracy: 1.0000, F1 Score: 1.0000\n",
      "Batch 190/211 Loss: 0.0176, Accuracy: 0.9931, F1 Score: 0.9775\n",
      "Batch 200/211 Loss: 0.0033, Accuracy: 0.9984, F1 Score: 0.9949\n",
      "Batch 210/211 Loss: 0.0127, Accuracy: 0.9943, F1 Score: 0.9886\n",
      "==> Train Loss: 0.0003 Accuracy: 0.9969 F1 Score: 0.9922\n",
      "==> Validation Loss: 0.0005 Accuracy: 0.9966 F1 Score: 0.9905\n",
      "-------------------------------------------------\n",
      "Epoch 10/10\n",
      "Batch 10/211 Loss: 0.0022, Accuracy: 1.0000, F1 Score: 1.0000\n",
      "Batch 20/211 Loss: 0.0354, Accuracy: 0.9926, F1 Score: 0.9863\n",
      "Batch 30/211 Loss: 0.0117, Accuracy: 0.9957, F1 Score: 0.9831\n",
      "Batch 40/211 Loss: 0.0154, Accuracy: 0.9938, F1 Score: 0.9913\n",
      "Batch 50/211 Loss: 0.0088, Accuracy: 0.9985, F1 Score: 0.9985\n",
      "Batch 60/211 Loss: 0.0124, Accuracy: 0.9951, F1 Score: 0.9910\n",
      "Batch 70/211 Loss: 0.0196, Accuracy: 0.9951, F1 Score: 0.9903\n",
      "Batch 80/211 Loss: 0.0197, Accuracy: 0.9913, F1 Score: 0.9857\n",
      "Batch 90/211 Loss: 0.0135, Accuracy: 0.9986, F1 Score: 0.9977\n",
      "Batch 100/211 Loss: 0.0132, Accuracy: 0.9961, F1 Score: 0.9932\n",
      "Batch 110/211 Loss: 0.0230, Accuracy: 0.9943, F1 Score: 0.9919\n",
      "Batch 120/211 Loss: 0.0299, Accuracy: 0.9913, F1 Score: 0.9786\n",
      "Batch 130/211 Loss: 0.0181, Accuracy: 0.9951, F1 Score: 0.9902\n",
      "Batch 140/211 Loss: 0.0118, Accuracy: 0.9985, F1 Score: 0.9983\n",
      "Batch 150/211 Loss: 0.0100, Accuracy: 0.9970, F1 Score: 0.9926\n",
      "Batch 160/211 Loss: 0.0085, Accuracy: 0.9986, F1 Score: 0.9980\n",
      "Batch 170/211 Loss: 0.0054, Accuracy: 1.0000, F1 Score: 1.0000\n",
      "Batch 180/211 Loss: 0.0118, Accuracy: 0.9948, F1 Score: 0.9842\n",
      "Batch 190/211 Loss: 0.0142, Accuracy: 0.9959, F1 Score: 0.9772\n",
      "Batch 200/211 Loss: 0.0060, Accuracy: 0.9984, F1 Score: 0.9955\n",
      "Batch 210/211 Loss: 0.0305, Accuracy: 0.9844, F1 Score: 0.9714\n",
      "==> Train Loss: 0.0005 Accuracy: 0.9956 F1 Score: 0.9883\n",
      "==> Validation Loss: 0.0006 Accuracy: 0.9964 F1 Score: 0.9893\n"
     ]
    }
   ],
   "source": [
    "import torch\n",
    "import torch.nn as nn\n",
    "import torch.optim as optim\n",
    "from sklearn.metrics import accuracy_score, f1_score\n",
    "\n",
    "\n",
    "def train_epoch(model, dataloader, criterion, optimizer, device):\n",
    "    model.train()\n",
    "    model = model.to(device)\n",
    "    running_loss = 0.0\n",
    "    running_corrects = 0\n",
    "    running_total = 0\n",
    "    y_true = []\n",
    "    y_pred = []\n",
    "    \n",
    "    for i, (_, _, utterance_embeddings, targets) in enumerate(dataloader, 1):\n",
    "        utterance_embeddings = utterance_embeddings.to(device)\n",
    "        targets = targets.to(device)\n",
    "        optimizer.zero_grad()\n",
    "        outputs = model(utterance_embeddings)\n",
    "        loss = criterion(outputs.view(-1, outputs.size(-1)), targets.view(-1))\n",
    "        _, preds = torch.max(outputs, 2)\n",
    "        running_loss += loss.item() \n",
    "        running_corrects += torch.sum(preds == targets).item()\n",
    "        running_total += utterance_embeddings.size(0)\n",
    "        loss.backward()\n",
    "        optimizer.step()\n",
    "        \n",
    "        if i % 10 == 0:\n",
    "            target_expanded = targets.view(-1).cpu().numpy()\n",
    "            preds_expanded = preds.view(-1).cpu().numpy()\n",
    "            f1 = f1_score(target_expanded, preds_expanded, average='macro')\n",
    "            accuracy = accuracy_score(target_expanded, preds_expanded)\n",
    "            print(f\"Batch {i}/{len(dataloader)} Loss: {loss.item():.4f}, Accuracy: {accuracy:.4f}, F1 Score: {f1:.4f}\")\n",
    "        y_true.extend(targets.view(-1).cpu().numpy())\n",
    "        y_pred.extend(preds.view(-1).cpu().numpy())\n",
    "    \n",
    "    epoch_loss = running_loss / len(dataloader.dataset)\n",
    "    epoch_acc = accuracy_score(y_true, y_pred)\n",
    "    f1 = f1_score(y_true, y_pred, average='macro')\n",
    "    return epoch_loss, epoch_acc, f1\n",
    "\n",
    "\n",
    "def validate_model(model, dataloader, criterion, device):\n",
    "    model.eval()\n",
    "    model = model.to(device)\n",
    "    running_loss = 0.0\n",
    "    running_corrects = 0\n",
    "    running_total = 0\n",
    "    y_true = []\n",
    "    y_pred = []\n",
    "    with torch.no_grad():\n",
    "        for _, _, utterance_embeddings, targets in dataloader:\n",
    "            utterance_embeddings = utterance_embeddings.to(device)\n",
    "            targets = targets.to(device)\n",
    "            outputs = model(utterance_embeddings)\n",
    "            loss = criterion(outputs.view(-1, outputs.size(-1)), targets.view(-1))\n",
    "            _, preds = torch.max(outputs, 2)\n",
    "            running_loss += loss.item() \n",
    "            running_corrects += torch.sum(preds == targets).item()\n",
    "            running_total += utterance_embeddings.size(0)\n",
    "            y_true.extend(targets.view(-1).cpu().numpy())\n",
    "            y_pred.extend(preds.view(-1).cpu().numpy())\n",
    "    val_loss = running_loss / len(dataloader.dataset)\n",
    "    val_acc = accuracy_score(y_true, y_pred)\n",
    "    val_f1 = f1_score(y_true, y_pred, average='macro')\n",
    "    return val_loss, val_acc, val_f1\n",
    "\n",
    "\n",
    "\n",
    "training_loss, validation_loss = [], []\n",
    "training_acc, validation_acc = [], []\n",
    "training_f1, validation_f1 = [], []\n",
    "for epoch in range(NUM_EPOCH):\n",
    "    print('-------------------------------------------------')\n",
    "    print(f\"Epoch {epoch+1}/{NUM_EPOCH}\")\n",
    "    train_loss, train_acc, train_f1 = train_epoch(model, train_loader, criterion, optimizer, DEVICE)\n",
    "    training_loss.append(train_loss)\n",
    "    training_acc.append(train_acc)\n",
    "    training_f1.append(train_f1)\n",
    "    print(f\"==> Train Loss: {train_loss:.4f} Accuracy: {train_acc:.4f} F1 Score: {train_f1:.4f}\")\n",
    "    val_loss, val_acc, val_f1 = validate_model(model, val_loader, criterion, DEVICE)\n",
    "    print(f\"==> Validation Loss: {val_loss:.4f} Accuracy: {val_acc:.4f} F1 Score: {val_f1:.4f}\")\n",
    "    validation_loss.append(val_loss)\n",
    "    validation_acc.append(val_acc)\n",
    "    validation_f1.append(val_f1)"
   ]
  },
  {
   "cell_type": "code",
   "execution_count": 20,
   "metadata": {},
   "outputs": [],
   "source": [
    "model = model.to('cpu')\n",
    "torch.save(model.state_dict(), \"M2.pt\")"
   ]
  },
  {
   "cell_type": "code",
   "execution_count": 21,
   "metadata": {},
   "outputs": [
    {
     "data": {
      "image/png": "[encoded data removed]",
      "text/plain": [
       "<Figure size 640x480 with 1 Axes>"
      ]
     },
     "metadata": {},
     "output_type": "display_data"
    },
    {
     "data": {
      "image/png": "[encoded data removed]",
      "text/plain": [
       "<Figure size 640x480 with 1 Axes>"
      ]
     },
     "metadata": {},
     "output_type": "display_data"
    },
    {
     "data": {
      "image/png": "[encoded data removed]",
      "text/plain": [
       "<Figure size 640x480 with 1 Axes>"
      ]
     },
     "metadata": {},
     "output_type": "display_data"
    }
   ],
   "source": [
    "import matplotlib.pyplot as plt\n",
    "\n",
    "plt.plot(training_loss, label='Training Loss')\n",
    "plt.plot(validation_loss, label='Validation Loss')\n",
    "plt.xlabel('Epochs')\n",
    "plt.ylabel('Loss')\n",
    "plt.legend()\n",
    "plt.show()\n",
    "plt.plot(training_acc, label='Training Accuracy')\n",
    "plt.plot(validation_acc, label='Validation Accuracy')\n",
    "plt.xlabel('Epochs')\n",
    "plt.ylabel('Accuracy')\n",
    "plt.legend()\n",
    "plt.show()\n",
    "plt.plot(training_f1, label='Training F1 Score')\n",
    "plt.plot(validation_f1, label='Validation F1 Score')\n",
    "plt.xlabel('Epochs')\n",
    "plt.ylabel('F1 Score')\n",
    "plt.legend()\n",
    "plt.show()"
   ]
  },
  {
   "cell_type": "markdown",
   "metadata": {},
   "source": [
    "## Run Inference on Validation Dataset\n"
   ]
  },
  {
   "cell_type": "code",
   "execution_count": 22,
   "metadata": {},
   "outputs": [
    {
     "name": "stdout",
     "output_type": "stream",
     "text": [
      "640 640\n",
      "Loss: 0.0052, Accuracy: 0.9984, F1 Score: 0.9905\n",
      "[3 0 0 6 3 5 0 0 0 3 4 6 0 2 2 6 0 0 0 0 0 1 0 0 3 6 3 4 0 0 0 4 0 0 0 0 0\n",
      " 0 0 0 0 0 0 1 4 1 6 5 6 0 0 0 0 0 0 0 0 0 0 0 6 0 5 0 6 6 0 0 0 0 0 0 0 0\n",
      " 0 0 0 0 0 0 5 5 3 2 6 3 0 3 3 3 3 4 0 0 0 0 0 0 0 0 0 1 0 0 1 3 1 1 0 0 1\n",
      " 1 0 0 0 0 0 0 0 0 0 0 4 0 5 4 0 0 0 0 0 0 0 0 0 0 0 0 0 0 1 1 6 6 1 2 0 4\n",
      " 2 0 0 0 0 0 0 0 0 0 0 0 1 0 0 6 2 1 0 0 1 1 0 0 0 0 0 0 0 0 0 0 0 0 0 0 0\n",
      " 0 0 0 3 3 0 0 3 1 2 0 0 0 0 0 1 0 0 0 5 0 0 0 0 0 0 0 0 0 0 0 0 0 0 0 2 0\n",
      " 1 0 0 0 1 2 6 6 1 0 0 0 0 0 0 0 0 0 1 3 0 1 1 2 6 4 0 0 0 0 0 0 0 0 0 0 0\n",
      " 0 0 5 2 1 1 0 0 0 0 0 0 0 0 0 0 0 0 0 0 0 0 0 0 0 0 0 1 1 1 6 6 0 0 0 0 0\n",
      " 0 1 0 2 1 0 0 1 1 1 2 0 0 1 3 6 0 3 0 6 3 0 0 0 4 4 4 0 4 0 0 3 6 0 1 5 0\n",
      " 0 0 0 0 0 0 0 0 1 6 6 0 1 6 0 1 4 1 0 0 0 0 0 0 0 0 0 6 0 1 1 0 0 0 1 1 1\n",
      " 0 0 0 6 0 0 0 0 0 0 1 0 0 0 0 0 0 0 0 0 0 0 0 0 0 0 0 0 0 0 3 1 0 6 0 0 0\n",
      " 0 0 0 0 0 0 0 0 0 0 0 0 0 1 0 0 0 0 3 6 0 0 0 0 0 0 0 0 0 0 0 0 0 0 1 6 6\n",
      " 0 1 0 0 0 0 0 0 0 0 0 0 0 0 0 0 0 1 1 5 0 0 0 0 0 0 0 0 0 0 0 0 0 0 0 0 1\n",
      " 0 0 0 0 0 0 0 0 0 0 0 0 0 0 0 0 0 0 0 1 0 0 1 1 0 0 0 0 0 0 0 0 0 0 0 0 0\n",
      " 0 0 0 1 0 0 3 0 0 6 6 0 1 0 1 1 0 0 0 0 0 0 3 0 0 6 3 5 0 0 0 3 4 0 0 0 0\n",
      " 0 0 0 0 0 3 0 0 5 5 5 3 0 0 0 0 0 0 0 0 0 0 0 0 0 2 0 0 6 0 0 0 3 0 3 3 3\n",
      " 0 0 0 0 0 0 0 0 0 0 3 0 0 0 0 0 0 0 0 0 0 0 0 0 0 0 0 0 0 0 1 5 5 2 0 1 0\n",
      " 0 0 0 0 0 0 0 0 0 0 0]\n",
      "[3 0 0 6 3 5 0 0 0 3 4 6 0 2 2 6 0 0 0 0 0 1 0 0 3 6 3 4 0 0 0 4 0 0 0 0 0\n",
      " 0 0 0 0 0 0 1 4 1 6 5 6 0 0 0 0 0 0 0 0 0 0 0 6 0 5 0 6 6 0 0 0 0 0 0 0 0\n",
      " 0 0 0 0 0 0 5 5 3 2 6 3 0 3 3 3 3 4 0 0 0 0 0 0 0 0 0 1 0 0 1 3 1 1 0 0 1\n",
      " 1 0 0 0 0 0 0 0 0 0 0 4 0 5 4 0 0 0 0 0 0 0 0 0 0 0 0 0 0 1 1 6 6 1 2 0 4\n",
      " 2 0 0 0 0 0 0 0 0 0 0 0 1 0 0 6 2 1 0 0 1 1 0 0 0 0 0 0 0 0 0 0 0 0 0 0 0\n",
      " 0 0 0 3 3 0 0 3 1 2 0 0 0 0 0 1 0 0 0 5 0 0 0 0 0 0 0 0 0 0 0 0 0 0 0 2 0\n",
      " 1 0 0 0 1 2 6 6 1 0 0 0 0 0 0 0 0 0 1 3 0 1 1 2 6 4 0 0 0 0 0 0 0 0 0 0 0\n",
      " 0 0 5 2 1 1 0 0 0 0 0 0 0 0 0 0 0 0 0 0 0 0 0 0 0 0 0 1 1 1 6 6 0 0 0 0 0\n",
      " 0 1 0 2 1 0 0 1 1 1 2 0 0 1 3 6 0 3 0 6 3 0 0 0 2 4 4 0 4 0 0 3 6 0 1 5 0\n",
      " 0 0 0 0 0 0 0 0 1 6 6 0 1 6 0 1 4 1 0 0 0 0 0 0 0 0 0 6 0 1 1 0 0 0 1 1 1\n",
      " 0 0 0 6 0 0 0 0 0 0 1 0 0 0 0 0 0 0 0 0 0 0 0 0 0 0 0 0 0 0 3 1 0 6 0 0 0\n",
      " 0 0 0 0 0 0 0 0 0 0 0 0 0 1 0 0 0 0 3 6 0 0 0 0 0 0 0 0 0 0 0 0 0 0 1 6 6\n",
      " 0 1 0 0 0 0 0 0 0 0 0 0 0 0 0 0 0 1 1 5 0 0 0 0 0 0 0 0 0 0 0 0 0 0 0 0 1\n",
      " 0 0 0 0 0 0 0 0 0 0 0 0 0 0 0 0 0 0 0 1 0 0 1 1 0 0 0 0 0 0 0 0 0 0 0 0 0\n",
      " 0 0 0 1 0 0 3 0 0 6 6 0 1 0 1 1 0 0 0 0 0 0 3 0 0 6 3 5 0 0 0 3 4 0 0 0 0\n",
      " 0 0 0 0 0 3 0 0 5 5 5 3 0 0 0 0 0 0 0 0 0 0 0 0 0 2 0 0 6 0 0 0 3 0 3 3 3\n",
      " 0 0 0 0 0 0 0 0 0 0 3 0 0 0 0 0 0 0 0 0 0 0 0 0 0 0 0 0 0 0 1 5 5 2 0 1 0\n",
      " 0 0 0 0 0 0 0 0 0 0 0]\n"
     ]
    }
   ],
   "source": [
    "for _, _, utterance_embeddings, emotions in val_loader:\n",
    "    emotions = emotions.to(DEVICE)\n",
    "    utterance_embeddings = utterance_embeddings.to(DEVICE)\n",
    "    model = model.to(DEVICE)\n",
    "    outputs = model(utterance_embeddings)\n",
    "    loss = criterion(outputs.view(-1, outputs.size(-1)), emotions.view(-1))\n",
    "    _, preds = torch.max(outputs, 2)\n",
    "    target_expanded = emotions.view(-1).cpu().numpy()\n",
    "    preds_expanded = preds.view(-1).cpu().numpy()\n",
    "    print(len(target_expanded), len(preds_expanded))\n",
    "    f1 = f1_score(target_expanded, preds_expanded, average='macro')\n",
    "    accuracy = accuracy_score(target_expanded, preds_expanded)\n",
    "    print(f\"Loss: {loss.item():.4f}, Accuracy: {accuracy:.4f}, F1 Score: {f1:.4f}\")\n",
    "    print(target_expanded)\n",
    "    print(preds_expanded)\n",
    "    break"
   ]
  },
  {
   "cell_type": "markdown",
   "metadata": {},
   "source": [
    "## Predict Emotions and Detecting the Flips in Emotions in a conversation\n"
   ]
  },
  {
   "cell_type": "code",
   "execution_count": 6,
   "metadata": {},
   "outputs": [
    {
     "name": "stdout",
     "output_type": "stream",
     "text": [
      "Train Samples: 6740\n",
      "Val Samples: 843\n"
     ]
    }
   ],
   "source": [
    "with open(\"../Data/train_file.json\", 'r') as f:\n",
    "    train_json = json.load(f)\n",
    "with open(\"../Data/val_file.json\", 'r') as f:\n",
    "    val_json = json.load(f)\n",
    "print('Train Samples:', len(train_json))\n",
    "print('Val Samples:', len(val_json))"
   ]
  },
  {
   "cell_type": "code",
   "execution_count": 7,
   "metadata": {},
   "outputs": [],
   "source": [
    "import torch\n",
    "import torch.nn as nn\n",
    "from sentence_transformers import SentenceTransformer\n",
    "from sklearn.metrics import f1_score, accuracy_score\n",
    "\n",
    "sentence_emb_model = SentenceTransformer('all-MiniLM-L6-v2')\n",
    "emotion_class_to_idx = {'neutral': 0, 'joy': 1, 'sadness': 2, 'anger': 3, 'fear': 4, 'disgust': 5, 'surprise': 6}\n",
    "emotion_idx_to_class = {v: k for k, v in emotion_class_to_idx.items()}"
   ]
  },
  {
   "cell_type": "code",
   "execution_count": 8,
   "metadata": {},
   "outputs": [
    {
     "data": {
      "text/plain": [
       "<All keys matched successfully>"
      ]
     },
     "execution_count": 8,
     "metadata": {},
     "output_type": "execute_result"
    }
   ],
   "source": [
    "DEVICE = torch.device(\"cuda\" if torch.cuda.is_available() else \"cpu\")\n",
    "NUM_EPOCH = 10\n",
    "INPUT_SIZE = 384\n",
    "HIDDEN_SIZE = 128\n",
    "OUTPUT_SIZE = 7\n",
    "\n",
    "trained_model = TransformerGRUClassifier(INPUT_SIZE, HIDDEN_SIZE, OUTPUT_SIZE).to(DEVICE)\n",
    "trained_model.load_state_dict(torch.load(\"M2.pt\"))"
   ]
  },
  {
   "cell_type": "code",
   "execution_count": 9,
   "metadata": {},
   "outputs": [
    {
     "name": "stdout",
     "output_type": "stream",
     "text": [
      "True emotions: ['anger', 'joy', 'neutral', 'joy', 'joy']\n",
      "Predicted emotions: ['anger', 'joy', 'neutral', 'joy', 'anger']\n",
      "Accuracy of Prediction: 0.8\n",
      "F1 Score of Prediction: 0.8222222222222223\n",
      "\n",
      "---------------------------------\n",
      "Detecting Speaker Emotion Flips\n",
      "speakers in conversation:\n",
      "['Phoebe', 'Monica', 'Phoebe', 'Monica', 'Phoebe']\n",
      "Predicted Emotions:\n",
      "['anger', 'joy', 'neutral', 'joy', 'anger']\n",
      "\n",
      "Phoebe changed emotion from anger to neutral\n",
      "Phoebe changed emotion from neutral to anger\n"
     ]
    }
   ],
   "source": [
    "def conversation_inference(model:TransformerGRUClassifier, conversation:dict):\n",
    "    model.eval()\n",
    "    utterances = conversation[\"utterances\"]\n",
    "    true_emotions = conversation[\"emotions\"]\n",
    "    speakers = conversation[\"speakers\"]\n",
    "    \n",
    "    # Obtain the utterance embeddings and predict the emotions of all the utterances\n",
    "    utterance_embeddings = torch.tensor(sentence_emb_model.encode(utterances), dtype=torch.float)\n",
    "    utterance_embeddings = utterance_embeddings.unsqueeze(0).to(DEVICE)\n",
    "    predicted_emotions = model(utterance_embeddings)\n",
    "    _, predicted_emotions = torch.max(predicted_emotions, 2)\n",
    "    predicted_emotions = predicted_emotions.squeeze(0)\n",
    "    predicted_emotions = [emotion_idx_to_class[emotion.item()] for emotion in predicted_emotions]\n",
    "\n",
    "    # Show the Accuracy and F1 Score of the prediction\n",
    "    accuracy = accuracy_score(true_emotions, predicted_emotions)\n",
    "    f1 = f1_score(true_emotions, predicted_emotions, average='macro')\n",
    "    print('True emotions:', true_emotions)\n",
    "    print('Predicted emotions:', predicted_emotions)\n",
    "    print('Accuracy of Prediction:', accuracy)\n",
    "    print('F1 Score of Prediction:', f1)\n",
    "    \n",
    "    # Predicting the Emotion Flips\n",
    "    print('\\n---------------------------------')\n",
    "    print('Detecting Speaker Emotion Flips')\n",
    "    print('speakers in conversation:')\n",
    "    print(speakers)\n",
    "    print('Predicted Emotions:')\n",
    "    print(predicted_emotions)\n",
    "    print()\n",
    "    speakers_prev_emotion = {speaker:None for speaker in speakers}\n",
    "    for i, (speaker, true_emotion, predicted_emotion) in enumerate(zip(speakers, true_emotions, predicted_emotions)):\n",
    "        if speakers_prev_emotion[speaker] is None:\n",
    "            speakers_prev_emotion[speaker] = predicted_emotion\n",
    "        else:\n",
    "            if speakers_prev_emotion[speaker] != predicted_emotion:\n",
    "                print(f'{speaker} changed emotion from {speakers_prev_emotion[speaker]} to {predicted_emotion}')\n",
    "                speakers_prev_emotion[speaker] = predicted_emotion\n",
    "    return    \n",
    "\n",
    "ind = 200\n",
    "conversation = val_json[ind]\n",
    "conversation_inference(trained_model, conversation)    "
   ]
  },
  {
   "cell_type": "markdown",
   "metadata": {},
   "source": [
    "### Check Stats on Validation Dataset"
   ]
  },
  {
   "cell_type": "code",
   "execution_count": 10,
   "metadata": {},
   "outputs": [
    {
     "name": "stdout",
     "output_type": "stream",
     "text": [
      "Validation Accuracy: 0.9964026583744894\n",
      "Validation F1 Score: 0.98930110022866\n"
     ]
    }
   ],
   "source": [
    "criterion = nn.CrossEntropyLoss()\n",
    "y_pred = []\n",
    "y_true = []\n",
    "for _, _, utterance_embeddings, emotions in val_loader:\n",
    "    emotions = emotions.to(DEVICE)\n",
    "    utterance_embeddings = utterance_embeddings.to(DEVICE)\n",
    "    trained_model = trained_model.to(DEVICE)\n",
    "    outputs = trained_model(utterance_embeddings)\n",
    "    loss = criterion(outputs.view(-1, outputs.size(-1)), emotions.view(-1))\n",
    "    _, preds = torch.max(outputs, 2)\n",
    "    target_expanded = emotions.view(-1).cpu().numpy()\n",
    "    preds_expanded = preds.view(-1).cpu().numpy()\n",
    "    y_true.extend(target_expanded)\n",
    "    y_pred.extend(preds_expanded)\n",
    "print('Validation Accuracy:', accuracy_score(y_true, y_pred))\n",
    "print('Validation F1 Score:', f1_score(y_true, y_pred, average='macro'))"
   ]
  }
 ],
 "metadata": {
  "kernelspec": {
   "display_name": "a3_env",
   "language": "python",
   "name": "python3"
  },
  "language_info": {
   "codemirror_mode": {
    "name": "ipython",
    "version": 3
   },
   "file_extension": ".py",
   "mimetype": "text/x-python",
   "name": "python",
   "nbconvert_exporter": "python",
   "pygments_lexer": "ipython3",
   "version": "3.12.2"
  }
 },
 "nbformat": 4,
 "nbformat_minor": 2
}
