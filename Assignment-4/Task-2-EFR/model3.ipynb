{
 "cells": [
  {
   "cell_type": "code",
   "execution_count": 1,
   "metadata": {},
   "outputs": [
    {
     "name": "stderr",
     "output_type": "stream",
     "text": [
      "/mnt/disk1/sumdev/CourseWork/a3_env/lib/python3.12/site-packages/tqdm/auto.py:21: TqdmWarning: IProgress not found. Please update jupyter and ipywidgets. See https://ipywidgets.readthedocs.io/en/stable/user_install.html\n",
      "  from .autonotebook import tqdm as notebook_tqdm\n"
     ]
    }
   ],
   "source": [
    "import json\n",
    "import torch\n",
    "from torch.utils.data import Dataset, DataLoader\n",
    "from sklearn.preprocessing import LabelEncoder\n",
    "from sentence_transformers import SentenceTransformer\n",
    "import warnings\n",
    "warnings.filterwarnings(\"ignore\")"
   ]
  },
  {
   "cell_type": "markdown",
   "metadata": {},
   "source": [
    "## Load Datasets and Create Dataset Class"
   ]
  },
  {
   "cell_type": "code",
   "execution_count": 17,
   "metadata": {},
   "outputs": [
    {
     "name": "stdout",
     "output_type": "stream",
     "text": [
      "Length of train dataset: 6740\n",
      "Length of val dataset: 843\n"
     ]
    }
   ],
   "source": [
    "class EmotionDataset(Dataset):\n",
    "    def __init__(self, json_file, model_name=\"all-MiniLM-L6-v2\"):\n",
    "        self.data = []\n",
    "        self.model = SentenceTransformer(model_name)\n",
    "        self.speaker_encoder = LabelEncoder()\n",
    "        self.emotion_class_to_idx = {'neutral': 0, 'joy': 1, 'sadness': 2, 'anger': 3, 'fear': 4, 'disgust': 5, 'surprise': 6}\n",
    "        with open(json_file, 'r') as f:\n",
    "            data = json.load(f)\n",
    "            for entry in data:\n",
    "                self.data.append(entry)\n",
    "        \n",
    "    def __len__(self):\n",
    "        return len(self.data)\n",
    "\n",
    "    def __getitem__(self, idx):\n",
    "        entry = self.data[idx]\n",
    "        context_size = 5\n",
    "        speakers = torch.tensor(self.speaker_encoder.fit_transform(entry[\"speakers\"]), dtype=torch.long)[-(context_size):]\n",
    "        emotions = torch.tensor([self.emotion_class_to_idx[emotion] for emotion in entry[\"emotions\"]], dtype=torch.long)[-(context_size):]\n",
    "        utterance_embeddings = torch.tensor(self.model.encode(entry[\"utterances\"]), dtype=torch.float)[-(context_size):]\n",
    "        utterance_embeddings = utterance_embeddings + utterance_embeddings[-1]\n",
    "        triggers = [a if a != None else 0.0 for a in entry['triggers']]\n",
    "        triggers = torch.tensor(triggers, dtype=torch.long)[-(context_size):]\n",
    "        return torch.tensor(len(entry[\"speakers\"])), speakers, emotions, utterance_embeddings, triggers\n",
    "\n",
    "\n",
    "# Initialize the dataset and dataloader\n",
    "model_name = 'all-MiniLM-L6-v2' # all-mpnet-base-v2\n",
    "train_dataset = EmotionDataset(\"../Data/train_file.json\", model_name=model_name)\n",
    "val_dataset = EmotionDataset(\"../Data/val_file.json\", model_name=model_name)\n",
    "print('Length of train dataset:', len(train_dataset))\n",
    "print('Length of val dataset:', len(val_dataset))"
   ]
  },
  {
   "cell_type": "code",
   "execution_count": 18,
   "metadata": {},
   "outputs": [
    {
     "name": "stdout",
     "output_type": "stream",
     "text": [
      "Length: tensor(7)\n",
      "Speakers: tensor([2, 0, 2, 2, 2])\n",
      "Emotions: tensor([0, 0, 0, 2, 4])\n",
      "Utterance embeddings: torch.Size([5, 384])\n",
      "Triggers: tensor([0, 0, 1, 1, 1])\n"
     ]
    }
   ],
   "source": [
    "length, speakers, emotions, utterance_embeddings, triggers = train_dataset[2]\n",
    "print('Length:', length)\n",
    "print('Speakers:', speakers)\n",
    "print('Emotions:', emotions)\n",
    "print('Utterance embeddings:', utterance_embeddings.shape)\n",
    "print('Triggers:', triggers)"
   ]
  },
  {
   "cell_type": "markdown",
   "metadata": {},
   "source": [
    "### Training Dataset Class Distribution for Context Size = 5"
   ]
  },
  {
   "cell_type": "code",
   "execution_count": 19,
   "metadata": {},
   "outputs": [
    {
     "name": "stdout",
     "output_type": "stream",
     "text": [
      "0 1000 2000 3000 4000 5000 6000 \n",
      "Count of triggers 0: 22797\n",
      "Count of triggers 1: 8701\n"
     ]
    }
   ],
   "source": [
    "trigger_cnt_0, trigger_cnt_1 = 0, 0\n",
    "for i in range(len(train_dataset)):\n",
    "    _, _, _, _, triggers = train_dataset[i]\n",
    "    trigger_cnt_0 += (triggers == 0).sum().item()\n",
    "    trigger_cnt_1 += (triggers == 1).sum().item()\n",
    "    if i % 1000 == 0:\n",
    "        print(i, end=' ')\n",
    "\n",
    "print('\\nCount of triggers 0:', trigger_cnt_0)\n",
    "print('Count of triggers 1:', trigger_cnt_1)"
   ]
  },
  {
   "cell_type": "markdown",
   "metadata": {},
   "source": [
    "### Validation Dataset Class Distribution for Context Size = 5"
   ]
  },
  {
   "cell_type": "code",
   "execution_count": 20,
   "metadata": {},
   "outputs": [
    {
     "name": "stdout",
     "output_type": "stream",
     "text": [
      "0 100 200 300 400 500 600 700 800 \n",
      "Count of triggers 0: 2869\n",
      "Count of triggers 1: 1038\n"
     ]
    }
   ],
   "source": [
    "trigger_cnt_0, trigger_cnt_1 = 0, 0\n",
    "for i in range(len(val_dataset)):\n",
    "    _, _, _, _, triggers = val_dataset[i]\n",
    "    trigger_cnt_0 += (triggers == 0).sum().item()\n",
    "    trigger_cnt_1 += (triggers == 1).sum().item()\n",
    "    if i % 100 == 0:\n",
    "        print(i, end=' ')\n",
    "\n",
    "print('\\nCount of triggers 0:', trigger_cnt_0)\n",
    "print('Count of triggers 1:', trigger_cnt_1)"
   ]
  },
  {
   "cell_type": "markdown",
   "metadata": {},
   "source": [
    "## Create Dataloaders"
   ]
  },
  {
   "cell_type": "code",
   "execution_count": 21,
   "metadata": {},
   "outputs": [
    {
     "name": "stdout",
     "output_type": "stream",
     "text": [
      "Length of train_loader: 211\n",
      "Length of val_loader: 27\n"
     ]
    }
   ],
   "source": [
    "import torch.nn as nn\n",
    "\n",
    "def collate_fn(batch):\n",
    "    length, speakers, emotions, utterance_embeddings, triggers = zip(*batch)\n",
    "    length = torch.tensor(length, dtype=torch.long)\n",
    "    speakers = nn.utils.rnn.pad_sequence(speakers, batch_first=True)\n",
    "    emotions = nn.utils.rnn.pad_sequence(emotions, batch_first=True)\n",
    "    triggers = nn.utils.rnn.pad_sequence(triggers, batch_first=True)\n",
    "    utterance_embeddings = nn.utils.rnn.pad_sequence(utterance_embeddings, batch_first=True)        \n",
    "    return length, speakers, emotions, utterance_embeddings, triggers\n",
    "\n",
    "\n",
    "train_loader = DataLoader(train_dataset, batch_size=32, shuffle=True, collate_fn=collate_fn)\n",
    "val_loader = DataLoader(val_dataset, batch_size=32, shuffle=False, collate_fn=collate_fn)\n",
    "print('Length of train_loader:', len(train_loader))\n",
    "print('Length of val_loader:', len(val_loader))"
   ]
  },
  {
   "cell_type": "code",
   "execution_count": 22,
   "metadata": {},
   "outputs": [
    {
     "name": "stdout",
     "output_type": "stream",
     "text": [
      "torch.Size([32]) torch.Size([32, 5]) torch.Size([32, 5]) torch.Size([32, 5, 384]) torch.Size([32, 5])\n"
     ]
    }
   ],
   "source": [
    "for batch in train_loader:\n",
    "    length, speakers, emotions, utterance_embeddings, triggers = batch\n",
    "    print(length.shape, speakers.shape, emotions.shape, utterance_embeddings.shape, triggers.shape)\n",
    "    # print(\"Length:\", length)\n",
    "    # print(\"Speakers:\", speakers)\n",
    "    # print(\"Emotions:\", emotions)\n",
    "    # print(\"Utterance embeddings:\", utterance_embeddings)\n",
    "    # print(\"Triggers:\", triggers)\n",
    "    break"
   ]
  },
  {
   "cell_type": "markdown",
   "metadata": {},
   "source": [
    "## Create Emotion Flip Reasoning Model"
   ]
  },
  {
   "cell_type": "code",
   "execution_count": 5,
   "metadata": {},
   "outputs": [],
   "source": [
    "import torch\n",
    "import torch.nn as nn\n",
    "\n",
    "class CustomClassifier(nn.Module):\n",
    "    def __init__(self, input_size, hidden_size, output_dim):\n",
    "        super(CustomClassifier, self).__init__()\n",
    "        self.input_size = input_size\n",
    "        self.hidden_size = hidden_size\n",
    "        self.output_dim = output_dim\n",
    "        self.input_layer = nn.Linear(input_size, input_size)\n",
    "        self.tranformer_encoder_layer = nn.TransformerEncoderLayer(d_model=input_size, nhead=input_size//8)\n",
    "        self.transformer_encoder = nn.TransformerEncoder(self.tranformer_encoder_layer, num_layers=2)\n",
    "        self.gru = nn.GRU(input_size, hidden_size, batch_first=True, bidirectional=True)\n",
    "        self.fc = nn.Linear(hidden_size*2, output_dim)\n",
    "        self.softmax = nn.Softmax(dim=2)\n",
    "\n",
    "    def forward(self, x):\n",
    "        x = self.input_layer(x)\n",
    "        x = self.transformer_encoder(x) + x\n",
    "        h0 = torch.zeros(2, x.size(0), self.hidden_size).to(x.device)\n",
    "        x, _ = self.gru(x, h0)\n",
    "        x = self.fc(x)\n",
    "        x = self.softmax(x)\n",
    "        return x"
   ]
  },
  {
   "cell_type": "markdown",
   "metadata": {},
   "source": [
    "## Train the Model"
   ]
  },
  {
   "cell_type": "code",
   "execution_count": 24,
   "metadata": {},
   "outputs": [
    {
     "name": "stdout",
     "output_type": "stream",
     "text": [
      "cuda\n"
     ]
    }
   ],
   "source": [
    "import torch.optim as optim\n",
    "\n",
    "DEVICE = torch.device(\"cuda\" if torch.cuda.is_available() else \"cpu\")\n",
    "NUM_EPOCH = 10\n",
    "INPUT_SIZE = 384\n",
    "HIDDEN_SIZE = 128\n",
    "OUTPUT_SIZE = 2\n",
    "\n",
    "model = CustomClassifier(INPUT_SIZE, HIDDEN_SIZE, OUTPUT_SIZE).to(DEVICE)\n",
    "criterion = nn.CrossEntropyLoss()\n",
    "optimizer = optim.Adam(model.parameters(), lr=0.001)\n",
    "print(DEVICE)"
   ]
  },
  {
   "cell_type": "code",
   "execution_count": 25,
   "metadata": {},
   "outputs": [
    {
     "name": "stdout",
     "output_type": "stream",
     "text": [
      "-------------------------------------------------\n",
      "Epoch 1/10\n",
      "Batch 10/211 Loss: 0.6067, Accuracy: 0.7063, F1 Score: 0.4139\n",
      "Batch 20/211 Loss: 0.5577, Accuracy: 0.7500, F1 Score: 0.4286\n",
      "Batch 30/211 Loss: 0.5629, Accuracy: 0.7500, F1 Score: 0.4286\n",
      "Batch 40/211 Loss: 0.6252, Accuracy: 0.6875, F1 Score: 0.4074\n",
      "Batch 50/211 Loss: 0.6058, Accuracy: 0.7063, F1 Score: 0.4139\n",
      "Batch 60/211 Loss: 0.5379, Accuracy: 0.7750, F1 Score: 0.4366\n",
      "Batch 70/211 Loss: 0.5853, Accuracy: 0.7188, F1 Score: 0.4182\n",
      "Batch 80/211 Loss: 0.5438, Accuracy: 0.7625, F1 Score: 0.4326\n",
      "Batch 90/211 Loss: 0.5545, Accuracy: 0.7500, F1 Score: 0.4286\n",
      "Batch 100/211 Loss: 0.5650, Accuracy: 0.7312, F1 Score: 0.4224\n",
      "Batch 110/211 Loss: 0.5399, Accuracy: 0.7562, F1 Score: 0.4306\n",
      "Batch 120/211 Loss: 0.5164, Accuracy: 0.7625, F1 Score: 0.5176\n",
      "Batch 130/211 Loss: 0.5209, Accuracy: 0.7812, F1 Score: 0.6541\n",
      "Batch 140/211 Loss: 0.5297, Accuracy: 0.7625, F1 Score: 0.6526\n",
      "Batch 150/211 Loss: 0.5305, Accuracy: 0.7937, F1 Score: 0.7316\n",
      "Batch 160/211 Loss: 0.5349, Accuracy: 0.7812, F1 Score: 0.7107\n",
      "Batch 170/211 Loss: 0.4920, Accuracy: 0.8250, F1 Score: 0.7052\n",
      "Batch 180/211 Loss: 0.4785, Accuracy: 0.8313, F1 Score: 0.7451\n",
      "Batch 190/211 Loss: 0.5170, Accuracy: 0.8000, F1 Score: 0.7239\n",
      "Batch 200/211 Loss: 0.4984, Accuracy: 0.8187, F1 Score: 0.7321\n",
      "Batch 210/211 Loss: 0.5183, Accuracy: 0.7937, F1 Score: 0.6885\n",
      "==> Train Loss: 0.5445 Accuracy: 0.7637 F1 Score: 0.5678\n",
      "==> Validation Loss: 0.5025 Accuracy: 0.8088 F1 Score: 0.7012\n",
      "-------------------------------------------------\n",
      "Epoch 2/10\n",
      "Batch 10/211 Loss: 0.4846, Accuracy: 0.8313, F1 Score: 0.7451\n",
      "Batch 20/211 Loss: 0.5142, Accuracy: 0.8000, F1 Score: 0.6946\n",
      "Batch 30/211 Loss: 0.5098, Accuracy: 0.8063, F1 Score: 0.7136\n",
      "Batch 40/211 Loss: 0.4902, Accuracy: 0.8250, F1 Score: 0.7539\n",
      "Batch 50/211 Loss: 0.5335, Accuracy: 0.7750, F1 Score: 0.6399\n",
      "Batch 60/211 Loss: 0.4961, Accuracy: 0.8125, F1 Score: 0.7312\n",
      "Batch 70/211 Loss: 0.4637, Accuracy: 0.8500, F1 Score: 0.7759\n",
      "Batch 80/211 Loss: 0.5146, Accuracy: 0.7937, F1 Score: 0.6885\n",
      "Batch 90/211 Loss: 0.5135, Accuracy: 0.8000, F1 Score: 0.7074\n",
      "Batch 100/211 Loss: 0.4393, Accuracy: 0.8812, F1 Score: 0.7852\n",
      "Batch 110/211 Loss: 0.5049, Accuracy: 0.8063, F1 Score: 0.6937\n",
      "Batch 120/211 Loss: 0.5086, Accuracy: 0.8000, F1 Score: 0.6946\n",
      "Batch 130/211 Loss: 0.5411, Accuracy: 0.7688, F1 Score: 0.6778\n",
      "Batch 140/211 Loss: 0.5310, Accuracy: 0.7688, F1 Score: 0.6428\n",
      "Batch 150/211 Loss: 0.4839, Accuracy: 0.8313, F1 Score: 0.7451\n",
      "Batch 160/211 Loss: 0.5063, Accuracy: 0.8063, F1 Score: 0.7074\n",
      "Batch 170/211 Loss: 0.5305, Accuracy: 0.7750, F1 Score: 0.6774\n",
      "Batch 180/211 Loss: 0.5595, Accuracy: 0.7500, F1 Score: 0.6609\n",
      "Batch 190/211 Loss: 0.4863, Accuracy: 0.8187, F1 Score: 0.7134\n",
      "Batch 200/211 Loss: 0.4710, Accuracy: 0.8375, F1 Score: 0.7186\n",
      "Batch 210/211 Loss: 0.4986, Accuracy: 0.8125, F1 Score: 0.7070\n",
      "==> Train Loss: 0.5058 Accuracy: 0.8049 F1 Score: 0.7060\n",
      "==> Validation Loss: 0.5027 Accuracy: 0.8055 F1 Score: 0.7068\n",
      "-------------------------------------------------\n",
      "Epoch 3/10\n",
      "Batch 10/211 Loss: 0.5999, Accuracy: 0.7125, F1 Score: 0.4161\n",
      "Batch 20/211 Loss: 0.5625, Accuracy: 0.7562, F1 Score: 0.6146\n",
      "Batch 30/211 Loss: 0.5474, Accuracy: 0.7812, F1 Score: 0.6621\n",
      "Batch 40/211 Loss: 0.4718, Accuracy: 0.8313, F1 Score: 0.7506\n",
      "Batch 50/211 Loss: 0.4971, Accuracy: 0.8125, F1 Score: 0.7457\n",
      "Batch 60/211 Loss: 0.4971, Accuracy: 0.8313, F1 Score: 0.7556\n",
      "Batch 70/211 Loss: 0.5051, Accuracy: 0.7812, F1 Score: 0.7007\n",
      "Batch 80/211 Loss: 0.5290, Accuracy: 0.7937, F1 Score: 0.6951\n",
      "Batch 90/211 Loss: 0.4757, Accuracy: 0.8313, F1 Score: 0.7394\n",
      "Batch 100/211 Loss: 0.5338, Accuracy: 0.7750, F1 Score: 0.6639\n",
      "Batch 110/211 Loss: 0.4780, Accuracy: 0.8250, F1 Score: 0.7128\n",
      "Batch 120/211 Loss: 0.4788, Accuracy: 0.8187, F1 Score: 0.7321\n",
      "Batch 130/211 Loss: 0.4818, Accuracy: 0.8375, F1 Score: 0.7262\n",
      "Batch 140/211 Loss: 0.5158, Accuracy: 0.7688, F1 Score: 0.7036\n",
      "Batch 150/211 Loss: 0.4400, Accuracy: 0.8812, F1 Score: 0.8166\n",
      "Batch 160/211 Loss: 0.5497, Accuracy: 0.7562, F1 Score: 0.6397\n",
      "Batch 170/211 Loss: 0.4959, Accuracy: 0.8125, F1 Score: 0.7070\n",
      "Batch 180/211 Loss: 0.4673, Accuracy: 0.8500, F1 Score: 0.7891\n",
      "Batch 190/211 Loss: 0.5333, Accuracy: 0.7688, F1 Score: 0.6717\n",
      "Batch 200/211 Loss: 0.4749, Accuracy: 0.8250, F1 Score: 0.7539\n",
      "Batch 210/211 Loss: 0.4531, Accuracy: 0.8500, F1 Score: 0.7759\n",
      "==> Train Loss: 0.5092 Accuracy: 0.7981 F1 Score: 0.6952\n",
      "==> Validation Loss: 0.5015 Accuracy: 0.8047 F1 Score: 0.6854\n",
      "-------------------------------------------------\n",
      "Epoch 4/10\n",
      "Batch 10/211 Loss: 0.5110, Accuracy: 0.7875, F1 Score: 0.6953\n",
      "Batch 20/211 Loss: 0.5549, Accuracy: 0.7438, F1 Score: 0.6362\n",
      "Batch 30/211 Loss: 0.4899, Accuracy: 0.8250, F1 Score: 0.7052\n",
      "Batch 40/211 Loss: 0.5292, Accuracy: 0.7812, F1 Score: 0.6621\n",
      "Batch 50/211 Loss: 0.4736, Accuracy: 0.8375, F1 Score: 0.7623\n",
      "Batch 60/211 Loss: 0.4866, Accuracy: 0.8250, F1 Score: 0.7199\n",
      "Batch 70/211 Loss: 0.4489, Accuracy: 0.8500, F1 Score: 0.7327\n",
      "Batch 80/211 Loss: 0.5707, Accuracy: 0.7312, F1 Score: 0.6108\n",
      "Batch 90/211 Loss: 0.5616, Accuracy: 0.7375, F1 Score: 0.6160\n",
      "Batch 100/211 Loss: 0.5261, Accuracy: 0.7812, F1 Score: 0.6621\n",
      "Batch 110/211 Loss: 0.5374, Accuracy: 0.7750, F1 Score: 0.6709\n",
      "Batch 120/211 Loss: 0.5116, Accuracy: 0.7875, F1 Score: 0.6825\n",
      "Batch 130/211 Loss: 0.5371, Accuracy: 0.7625, F1 Score: 0.6779\n",
      "Batch 140/211 Loss: 0.5359, Accuracy: 0.7688, F1 Score: 0.6508\n",
      "Batch 150/211 Loss: 0.4998, Accuracy: 0.7937, F1 Score: 0.6814\n",
      "Batch 160/211 Loss: 0.5262, Accuracy: 0.7937, F1 Score: 0.6951\n",
      "Batch 170/211 Loss: 0.4795, Accuracy: 0.8313, F1 Score: 0.7195\n",
      "Batch 180/211 Loss: 0.4917, Accuracy: 0.8125, F1 Score: 0.7070\n",
      "Batch 190/211 Loss: 0.4931, Accuracy: 0.8125, F1 Score: 0.6923\n",
      "Batch 200/211 Loss: 0.4504, Accuracy: 0.8625, F1 Score: 0.8196\n",
      "Batch 210/211 Loss: 0.4458, Accuracy: 0.8688, F1 Score: 0.8018\n",
      "==> Train Loss: 0.4983 Accuracy: 0.8099 F1 Score: 0.7140\n",
      "==> Validation Loss: 0.4968 Accuracy: 0.8140 F1 Score: 0.7122\n",
      "-------------------------------------------------\n",
      "Epoch 5/10\n",
      "Batch 10/211 Loss: 0.5365, Accuracy: 0.7750, F1 Score: 0.6774\n",
      "Batch 20/211 Loss: 0.4992, Accuracy: 0.8125, F1 Score: 0.6999\n",
      "Batch 30/211 Loss: 0.5079, Accuracy: 0.8000, F1 Score: 0.7133\n",
      "Batch 40/211 Loss: 0.5213, Accuracy: 0.7875, F1 Score: 0.7256\n",
      "Batch 50/211 Loss: 0.4847, Accuracy: 0.8313, F1 Score: 0.7506\n",
      "Batch 60/211 Loss: 0.4879, Accuracy: 0.8250, F1 Score: 0.6881\n",
      "Batch 70/211 Loss: 0.5402, Accuracy: 0.7625, F1 Score: 0.6833\n",
      "Batch 80/211 Loss: 0.5216, Accuracy: 0.7875, F1 Score: 0.7012\n",
      "Batch 90/211 Loss: 0.4946, Accuracy: 0.8187, F1 Score: 0.6987\n",
      "Batch 100/211 Loss: 0.4936, Accuracy: 0.8187, F1 Score: 0.7063\n",
      "Batch 110/211 Loss: 0.5000, Accuracy: 0.8125, F1 Score: 0.7363\n",
      "Batch 120/211 Loss: 0.4843, Accuracy: 0.8187, F1 Score: 0.7321\n",
      "Batch 130/211 Loss: 0.5121, Accuracy: 0.7937, F1 Score: 0.6814\n",
      "Batch 140/211 Loss: 0.4399, Accuracy: 0.8688, F1 Score: 0.8060\n",
      "Batch 150/211 Loss: 0.5311, Accuracy: 0.7688, F1 Score: 0.6990\n",
      "Batch 160/211 Loss: 0.4813, Accuracy: 0.8250, F1 Score: 0.7266\n",
      "Batch 170/211 Loss: 0.4241, Accuracy: 0.8875, F1 Score: 0.8282\n",
      "Batch 180/211 Loss: 0.4757, Accuracy: 0.8438, F1 Score: 0.7529\n",
      "Batch 190/211 Loss: 0.4935, Accuracy: 0.8250, F1 Score: 0.7328\n",
      "Batch 200/211 Loss: 0.4545, Accuracy: 0.8625, F1 Score: 0.7900\n",
      "Batch 210/211 Loss: 0.4699, Accuracy: 0.8438, F1 Score: 0.7468\n",
      "==> Train Loss: 0.4924 Accuracy: 0.8167 F1 Score: 0.7244\n",
      "==> Validation Loss: 0.4958 Accuracy: 0.8107 F1 Score: 0.7042\n",
      "-------------------------------------------------\n",
      "Epoch 6/10\n",
      "Batch 10/211 Loss: 0.4640, Accuracy: 0.8562, F1 Score: 0.7918\n",
      "Batch 20/211 Loss: 0.5179, Accuracy: 0.7812, F1 Score: 0.6696\n",
      "Batch 30/211 Loss: 0.4761, Accuracy: 0.8375, F1 Score: 0.7461\n",
      "Batch 40/211 Loss: 0.4977, Accuracy: 0.8063, F1 Score: 0.7194\n",
      "Batch 50/211 Loss: 0.4697, Accuracy: 0.8438, F1 Score: 0.7529\n",
      "Batch 60/211 Loss: 0.5187, Accuracy: 0.7875, F1 Score: 0.7118\n",
      "Batch 70/211 Loss: 0.5123, Accuracy: 0.8000, F1 Score: 0.7187\n",
      "Batch 80/211 Loss: 0.4712, Accuracy: 0.8375, F1 Score: 0.7518\n",
      "Batch 90/211 Loss: 0.4379, Accuracy: 0.8812, F1 Score: 0.8280\n",
      "Batch 100/211 Loss: 0.4541, Accuracy: 0.8625, F1 Score: 0.7989\n",
      "Batch 110/211 Loss: 0.4810, Accuracy: 0.8313, F1 Score: 0.7266\n",
      "Batch 120/211 Loss: 0.4692, Accuracy: 0.8313, F1 Score: 0.7394\n",
      "Batch 130/211 Loss: 0.4598, Accuracy: 0.8562, F1 Score: 0.7829\n",
      "Batch 140/211 Loss: 0.5106, Accuracy: 0.8000, F1 Score: 0.7187\n",
      "Batch 150/211 Loss: 0.5023, Accuracy: 0.8125, F1 Score: 0.7070\n",
      "Batch 160/211 Loss: 0.5103, Accuracy: 0.8063, F1 Score: 0.6937\n",
      "Batch 170/211 Loss: 0.4947, Accuracy: 0.8063, F1 Score: 0.6937\n",
      "Batch 180/211 Loss: 0.4895, Accuracy: 0.8250, F1 Score: 0.7266\n",
      "Batch 190/211 Loss: 0.4805, Accuracy: 0.8250, F1 Score: 0.7328\n",
      "Batch 200/211 Loss: 0.4752, Accuracy: 0.8313, F1 Score: 0.7394\n",
      "Batch 210/211 Loss: 0.4860, Accuracy: 0.8250, F1 Score: 0.7199\n",
      "==> Train Loss: 0.4895 Accuracy: 0.8202 F1 Score: 0.7298\n",
      "==> Validation Loss: 0.4927 Accuracy: 0.8166 F1 Score: 0.7151\n",
      "-------------------------------------------------\n",
      "Epoch 7/10\n",
      "Batch 10/211 Loss: 0.4911, Accuracy: 0.8187, F1 Score: 0.6816\n",
      "Batch 20/211 Loss: 0.4704, Accuracy: 0.8438, F1 Score: 0.7587\n",
      "Batch 30/211 Loss: 0.4348, Accuracy: 0.8750, F1 Score: 0.7999\n",
      "Batch 40/211 Loss: 0.4814, Accuracy: 0.8313, F1 Score: 0.7394\n",
      "Batch 50/211 Loss: 0.4892, Accuracy: 0.8187, F1 Score: 0.7321\n",
      "Batch 60/211 Loss: 0.4509, Accuracy: 0.8688, F1 Score: 0.7873\n",
      "Batch 70/211 Loss: 0.5490, Accuracy: 0.7688, F1 Score: 0.6836\n",
      "Batch 80/211 Loss: 0.5503, Accuracy: 0.7625, F1 Score: 0.6833\n",
      "Batch 90/211 Loss: 0.5120, Accuracy: 0.8000, F1 Score: 0.7187\n",
      "Batch 100/211 Loss: 0.4843, Accuracy: 0.8250, F1 Score: 0.7328\n",
      "Batch 110/211 Loss: 0.5027, Accuracy: 0.8125, F1 Score: 0.7199\n",
      "Batch 120/211 Loss: 0.4946, Accuracy: 0.8187, F1 Score: 0.7475\n",
      "Batch 130/211 Loss: 0.4442, Accuracy: 0.8750, F1 Score: 0.7999\n",
      "Batch 140/211 Loss: 0.4935, Accuracy: 0.8063, F1 Score: 0.7008\n",
      "Batch 150/211 Loss: 0.4321, Accuracy: 0.8812, F1 Score: 0.8166\n",
      "Batch 160/211 Loss: 0.5216, Accuracy: 0.7937, F1 Score: 0.7013\n",
      "Batch 170/211 Loss: 0.4814, Accuracy: 0.8250, F1 Score: 0.7491\n",
      "Batch 180/211 Loss: 0.5433, Accuracy: 0.7500, F1 Score: 0.5999\n",
      "Batch 190/211 Loss: 0.5638, Accuracy: 0.7375, F1 Score: 0.6557\n",
      "Batch 200/211 Loss: 0.4685, Accuracy: 0.8438, F1 Score: 0.7690\n",
      "Batch 210/211 Loss: 0.4828, Accuracy: 0.8187, F1 Score: 0.7375\n",
      "==> Train Loss: 0.4853 Accuracy: 0.8258 F1 Score: 0.7379\n",
      "==> Validation Loss: 0.4948 Accuracy: 0.8164 F1 Score: 0.7212\n",
      "-------------------------------------------------\n",
      "Epoch 8/10\n",
      "Batch 10/211 Loss: 0.4627, Accuracy: 0.8438, F1 Score: 0.7587\n",
      "Batch 20/211 Loss: 0.5335, Accuracy: 0.7875, F1 Score: 0.6825\n",
      "Batch 30/211 Loss: 0.4604, Accuracy: 0.8562, F1 Score: 0.7399\n",
      "Batch 40/211 Loss: 0.4989, Accuracy: 0.8125, F1 Score: 0.7199\n",
      "Batch 50/211 Loss: 0.4574, Accuracy: 0.8438, F1 Score: 0.7256\n",
      "Batch 60/211 Loss: 0.4555, Accuracy: 0.8625, F1 Score: 0.7549\n",
      "Batch 70/211 Loss: 0.4831, Accuracy: 0.8313, F1 Score: 0.7332\n",
      "Batch 80/211 Loss: 0.4861, Accuracy: 0.8250, F1 Score: 0.7386\n",
      "Batch 90/211 Loss: 0.4477, Accuracy: 0.8688, F1 Score: 0.7695\n",
      "Batch 100/211 Loss: 0.5596, Accuracy: 0.7500, F1 Score: 0.6416\n",
      "Batch 110/211 Loss: 0.4865, Accuracy: 0.8250, F1 Score: 0.7199\n",
      "Batch 120/211 Loss: 0.5065, Accuracy: 0.8000, F1 Score: 0.6718\n",
      "Batch 130/211 Loss: 0.4604, Accuracy: 0.8438, F1 Score: 0.7737\n",
      "Batch 140/211 Loss: 0.5145, Accuracy: 0.7875, F1 Score: 0.7118\n",
      "Batch 150/211 Loss: 0.4667, Accuracy: 0.8500, F1 Score: 0.7656\n",
      "Batch 160/211 Loss: 0.4463, Accuracy: 0.8688, F1 Score: 0.7973\n",
      "Batch 170/211 Loss: 0.4598, Accuracy: 0.8562, F1 Score: 0.7780\n",
      "Batch 180/211 Loss: 0.5012, Accuracy: 0.8063, F1 Score: 0.7136\n",
      "Batch 190/211 Loss: 0.4967, Accuracy: 0.8187, F1 Score: 0.7427\n",
      "Batch 200/211 Loss: 0.5245, Accuracy: 0.7875, F1 Score: 0.6953\n",
      "Batch 210/211 Loss: 0.5122, Accuracy: 0.7937, F1 Score: 0.6658\n",
      "==> Train Loss: 0.4828 Accuracy: 0.8275 F1 Score: 0.7402\n",
      "==> Validation Loss: 0.4916 Accuracy: 0.8195 F1 Score: 0.7195\n",
      "-------------------------------------------------\n",
      "Epoch 9/10\n",
      "Batch 10/211 Loss: 0.4691, Accuracy: 0.8438, F1 Score: 0.7173\n",
      "Batch 20/211 Loss: 0.5272, Accuracy: 0.7875, F1 Score: 0.7118\n",
      "Batch 30/211 Loss: 0.4305, Accuracy: 0.8750, F1 Score: 0.8242\n",
      "Batch 40/211 Loss: 0.4614, Accuracy: 0.8438, F1 Score: 0.7587\n",
      "Batch 50/211 Loss: 0.5139, Accuracy: 0.8000, F1 Score: 0.7074\n",
      "Batch 60/211 Loss: 0.4295, Accuracy: 0.8875, F1 Score: 0.8200\n",
      "Batch 70/211 Loss: 0.5064, Accuracy: 0.8063, F1 Score: 0.7074\n",
      "Batch 80/211 Loss: 0.5142, Accuracy: 0.7937, F1 Score: 0.7178\n",
      "Batch 90/211 Loss: 0.4627, Accuracy: 0.8375, F1 Score: 0.7572\n",
      "Batch 100/211 Loss: 0.4379, Accuracy: 0.8750, F1 Score: 0.8091\n",
      "Batch 110/211 Loss: 0.4842, Accuracy: 0.8313, F1 Score: 0.7691\n",
      "Batch 120/211 Loss: 0.4836, Accuracy: 0.8187, F1 Score: 0.6987\n",
      "Batch 130/211 Loss: 0.4491, Accuracy: 0.8562, F1 Score: 0.7780\n",
      "Batch 140/211 Loss: 0.4982, Accuracy: 0.8187, F1 Score: 0.7427\n",
      "Batch 150/211 Loss: 0.4999, Accuracy: 0.8125, F1 Score: 0.7199\n",
      "Batch 160/211 Loss: 0.4672, Accuracy: 0.8500, F1 Score: 0.7849\n",
      "Batch 170/211 Loss: 0.4893, Accuracy: 0.8187, F1 Score: 0.7063\n",
      "Batch 180/211 Loss: 0.4560, Accuracy: 0.8562, F1 Score: 0.7545\n",
      "Batch 190/211 Loss: 0.4468, Accuracy: 0.8688, F1 Score: 0.7925\n",
      "Batch 200/211 Loss: 0.4646, Accuracy: 0.8500, F1 Score: 0.7656\n",
      "Batch 210/211 Loss: 0.4998, Accuracy: 0.8063, F1 Score: 0.7395\n",
      "==> Train Loss: 0.4809 Accuracy: 0.8303 F1 Score: 0.7446\n",
      "==> Validation Loss: 0.4944 Accuracy: 0.8138 F1 Score: 0.7274\n",
      "-------------------------------------------------\n",
      "Epoch 10/10\n",
      "Batch 10/211 Loss: 0.4931, Accuracy: 0.8187, F1 Score: 0.7375\n",
      "Batch 20/211 Loss: 0.4521, Accuracy: 0.8688, F1 Score: 0.8099\n",
      "Batch 30/211 Loss: 0.4751, Accuracy: 0.8375, F1 Score: 0.7670\n",
      "Batch 40/211 Loss: 0.5070, Accuracy: 0.8063, F1 Score: 0.7249\n",
      "Batch 50/211 Loss: 0.4815, Accuracy: 0.8313, F1 Score: 0.7451\n",
      "Batch 60/211 Loss: 0.4855, Accuracy: 0.8313, F1 Score: 0.7556\n",
      "Batch 70/211 Loss: 0.5257, Accuracy: 0.7812, F1 Score: 0.6696\n",
      "Batch 80/211 Loss: 0.5121, Accuracy: 0.8000, F1 Score: 0.7187\n",
      "Batch 90/211 Loss: 0.4338, Accuracy: 0.8812, F1 Score: 0.8280\n",
      "Batch 100/211 Loss: 0.5588, Accuracy: 0.7375, F1 Score: 0.6500\n",
      "Batch 110/211 Loss: 0.4670, Accuracy: 0.8375, F1 Score: 0.7399\n",
      "Batch 120/211 Loss: 0.4362, Accuracy: 0.8875, F1 Score: 0.8354\n",
      "Batch 130/211 Loss: 0.4331, Accuracy: 0.8812, F1 Score: 0.8207\n",
      "Batch 140/211 Loss: 0.5086, Accuracy: 0.8063, F1 Score: 0.7349\n",
      "Batch 150/211 Loss: 0.5029, Accuracy: 0.8187, F1 Score: 0.7201\n",
      "Batch 160/211 Loss: 0.4692, Accuracy: 0.8313, F1 Score: 0.7691\n",
      "Batch 170/211 Loss: 0.4553, Accuracy: 0.8562, F1 Score: 0.7959\n",
      "Batch 180/211 Loss: 0.4937, Accuracy: 0.8063, F1 Score: 0.7136\n",
      "Batch 190/211 Loss: 0.5212, Accuracy: 0.7875, F1 Score: 0.7213\n",
      "Batch 200/211 Loss: 0.5067, Accuracy: 0.8125, F1 Score: 0.7363\n",
      "Batch 210/211 Loss: 0.5099, Accuracy: 0.8000, F1 Score: 0.7417\n",
      "==> Train Loss: 0.4715 Accuracy: 0.8387 F1 Score: 0.7662\n",
      "==> Validation Loss: 0.4780 Accuracy: 0.8297 F1 Score: 0.7525\n"
     ]
    }
   ],
   "source": [
    "import torch\n",
    "import torch.nn as nn\n",
    "import torch.optim as optim\n",
    "from sklearn.metrics import accuracy_score, f1_score\n",
    "\n",
    "\n",
    "def train_epoch(model, dataloader, criterion, optimizer, device):\n",
    "    model.train()\n",
    "    model = model.to(device)\n",
    "    running_loss = 0.0\n",
    "    running_corrects = 0\n",
    "    running_total = 0\n",
    "    y_true = []\n",
    "    y_pred = []\n",
    "    \n",
    "    for i, (_, speakers, emotions, utterance_embeddings, targets) in enumerate(dataloader, 1):\n",
    "        utterance_embeddings = utterance_embeddings.to(device)\n",
    "        targets = targets.to(device)\n",
    "        optimizer.zero_grad()\n",
    "        outputs = model(utterance_embeddings)\n",
    "        loss = criterion(outputs.view(-1, outputs.size(-1)), targets.view(-1))\n",
    "        _, preds = torch.max(outputs, 2)\n",
    "        running_loss += loss.item() * utterance_embeddings.size(0)\n",
    "        running_corrects += torch.sum(preds == targets).item()\n",
    "        running_total += utterance_embeddings.size(0)\n",
    "        loss.backward()\n",
    "        optimizer.step()\n",
    "        \n",
    "        if i % 10 == 0:\n",
    "            target_expanded = targets.view(-1).cpu().numpy()\n",
    "            preds_expanded = preds.view(-1).cpu().numpy()\n",
    "            f1 = f1_score(target_expanded, preds_expanded, average='macro')\n",
    "            accuracy = accuracy_score(target_expanded, preds_expanded)\n",
    "            print(f\"Batch {i}/{len(dataloader)} Loss: {loss.item():.4f}, Accuracy: {accuracy:.4f}, F1 Score: {f1:.4f}\")\n",
    "        y_true.extend(targets.view(-1).cpu().numpy())\n",
    "        y_pred.extend(preds.view(-1).cpu().numpy())\n",
    "    \n",
    "    epoch_loss = running_loss / len(dataloader.dataset)\n",
    "    epoch_acc = accuracy_score(y_true, y_pred)\n",
    "    f1 = f1_score(y_true, y_pred, average='macro')\n",
    "    return epoch_loss, epoch_acc, f1\n",
    "\n",
    "\n",
    "def validate_model(model, dataloader, criterion, device):\n",
    "    model.eval()\n",
    "    model = model.to(device)\n",
    "    running_loss = 0.0\n",
    "    running_corrects = 0\n",
    "    running_total = 0\n",
    "    y_true = []\n",
    "    y_pred = []\n",
    "    with torch.no_grad():\n",
    "        for _, speakers, emotions, utterance_embeddings, targets in dataloader:\n",
    "            utterance_embeddings = utterance_embeddings.to(device)\n",
    "            targets = targets.to(device)\n",
    "            outputs = model(utterance_embeddings)\n",
    "            loss = criterion(outputs.view(-1, outputs.size(-1)), targets.view(-1))\n",
    "            _, preds = torch.max(outputs, 2)\n",
    "            running_loss += loss.item() * utterance_embeddings.size(0)\n",
    "            running_corrects += torch.sum(preds == targets).item()\n",
    "            running_total += utterance_embeddings.size(0)\n",
    "            y_true.extend(targets.view(-1).cpu().numpy())\n",
    "            y_pred.extend(preds.view(-1).cpu().numpy())\n",
    "    val_loss = running_loss / len(dataloader.dataset)\n",
    "    val_acc = accuracy_score(y_true, y_pred)\n",
    "    val_f1 = f1_score(y_true, y_pred, average='macro')\n",
    "    return val_loss, val_acc, val_f1\n",
    "\n",
    "\n",
    "training_loss, validation_loss = [], []\n",
    "training_acc, validation_acc = [], []\n",
    "training_f1, validation_f1 = [], []\n",
    "\n",
    "for epoch in range(NUM_EPOCH):\n",
    "    print('-------------------------------------------------')\n",
    "    print(f\"Epoch {epoch+1}/{NUM_EPOCH}\")\n",
    "    train_loss, train_acc, train_f1 = train_epoch(model, train_loader, criterion, optimizer, DEVICE)\n",
    "    print(f\"==> Train Loss: {train_loss:.4f} Accuracy: {train_acc:.4f} F1 Score: {train_f1:.4f}\")\n",
    "    training_loss.append(train_loss)\n",
    "    training_acc.append(train_acc)\n",
    "    training_f1.append(train_f1)\n",
    "    val_loss, val_acc, val_f1 = validate_model(model, val_loader, criterion, DEVICE)\n",
    "    print(f\"==> Validation Loss: {val_loss:.4f} Accuracy: {val_acc:.4f} F1 Score: {val_f1:.4f}\")\n",
    "    validation_loss.append(val_loss)\n",
    "    validation_acc.append(val_acc)\n",
    "    validation_f1.append(val_f1)"
   ]
  },
  {
   "cell_type": "code",
   "execution_count": 30,
   "metadata": {},
   "outputs": [
    {
     "data": {
      "image/png": "[encoded data removed]",
      "text/plain": [
       "<Figure size 640x480 with 1 Axes>"
      ]
     },
     "metadata": {},
     "output_type": "display_data"
    },
    {
     "data": {
      "image/png": "[encoded data removed]",
      "text/plain": [
       "<Figure size 640x480 with 1 Axes>"
      ]
     },
     "metadata": {},
     "output_type": "display_data"
    },
    {
     "data": {
      "image/png": "[encoded data removed]",
      "text/plain": [
       "<Figure size 640x480 with 1 Axes>"
      ]
     },
     "metadata": {},
     "output_type": "display_data"
    }
   ],
   "source": [
    "import matplotlib.pyplot as plt\n",
    "\n",
    "plt.plot(training_loss, label='Training Loss')\n",
    "plt.plot(validation_loss, label='Validation Loss')\n",
    "plt.xlabel('Epochs')\n",
    "plt.ylabel('Loss')\n",
    "plt.legend()\n",
    "plt.show()\n",
    "plt.plot(training_acc, label='Training Accuracy')\n",
    "plt.plot(validation_acc, label='Validation Accuracy')\n",
    "plt.xlabel('Epochs')\n",
    "plt.ylabel('Accuracy')\n",
    "plt.legend()\n",
    "plt.show()\n",
    "plt.plot(training_f1, label='Training F1 Score')\n",
    "plt.plot(validation_f1, label='Validation F1 Score')\n",
    "plt.xlabel('Epochs')\n",
    "plt.ylabel('F1 Score')\n",
    "plt.legend()\n",
    "plt.show()"
   ]
  },
  {
   "cell_type": "code",
   "execution_count": 29,
   "metadata": {},
   "outputs": [],
   "source": [
    "model = model.to('cpu')\n",
    "torch.save(model.state_dict(), \"M3.pt\")"
   ]
  },
  {
   "cell_type": "markdown",
   "metadata": {},
   "source": [
    "## Run Inference on Validation Dataset\n"
   ]
  },
  {
   "cell_type": "code",
   "execution_count": 28,
   "metadata": {},
   "outputs": [
    {
     "name": "stdout",
     "output_type": "stream",
     "text": [
      "160 160\n",
      "Loss: 0.4849, Accuracy: 0.8187, F1 Score: 0.7375\n",
      "[0 0 0 1 0 0 0 0 1 0 0 0 0 1 0 0 0 0 1 0 0 0 0 1 1 0 0 0 0 0 0 0 0 1 0 0 0\n",
      " 0 1 0 0 0 0 1 0 0 0 0 0 1 0 0 1 0 0 0 0 0 1 1 0 0 0 1 1 0 0 0 1 0 0 0 0 1\n",
      " 0 0 0 1 1 0 0 0 0 1 0 0 0 0 1 0 0 0 0 0 1 0 0 0 0 0 0 0 1 1 0 0 0 0 1 0 0\n",
      " 0 0 0 1 0 0 0 1 0 0 1 0 0 0 0 0 0 1 0 0 0 0 0 1 0 0 0 1 1 0 0 1 1 0 0 0 1\n",
      " 1 1 0 0 0 0 0 0 0 0 1 0]\n",
      "[0 0 1 0 0 0 0 0 1 0 0 0 0 1 0 0 0 0 0 1 0 0 0 1 1 0 0 0 1 0 0 0 0 1 0 0 0\n",
      " 0 1 0 0 0 0 1 0 0 0 0 0 0 0 0 0 1 0 0 0 0 1 0 0 0 0 1 0 0 0 0 1 0 0 0 0 1\n",
      " 1 0 0 0 1 0 0 0 0 1 1 0 0 0 1 0 0 0 0 1 0 0 0 0 0 0 0 0 1 0 0 0 0 0 0 1 0\n",
      " 0 0 1 0 0 0 1 0 0 0 1 0 0 0 0 0 0 1 0 0 0 0 1 0 0 0 0 1 0 0 0 0 1 0 0 0 0\n",
      " 1 0 0 0 1 0 0 0 0 0 1 0]\n"
     ]
    }
   ],
   "source": [
    "for _, speakers, emotions, utterance_embeddings, targets in val_loader:\n",
    "    speakers = speakers.to(DEVICE)\n",
    "    emotions = emotions.to(DEVICE)\n",
    "    utterance_embeddings = utterance_embeddings.to(DEVICE)\n",
    "    targets = targets.to(DEVICE)\n",
    "    optimizer.zero_grad()\n",
    "    model = model.to(DEVICE)\n",
    "    outputs = model(utterance_embeddings)\n",
    "    loss = criterion(outputs.view(-1, outputs.size(-1)), targets.view(-1))\n",
    "    _, preds = torch.max(outputs, 2)\n",
    "    target_expanded = targets.view(-1).cpu().numpy()\n",
    "    preds_expanded = preds.view(-1).cpu().numpy()\n",
    "    print(len(target_expanded), len(preds_expanded))\n",
    "    f1 = f1_score(target_expanded, preds_expanded, average='macro')\n",
    "    accuracy = accuracy_score(target_expanded, preds_expanded)\n",
    "    print(f\"Loss: {loss.item():.4f}, Accuracy: {accuracy:.4f}, F1 Score: {f1:.4f}\")\n",
    "    print(target_expanded)\n",
    "    print(preds_expanded)\n",
    "    break"
   ]
  },
  {
   "cell_type": "markdown",
   "metadata": {},
   "source": [
    "## Predict Emotions and Detecting the Flips in Emotions in a conversation"
   ]
  },
  {
   "cell_type": "code",
   "execution_count": 2,
   "metadata": {},
   "outputs": [
    {
     "name": "stdout",
     "output_type": "stream",
     "text": [
      "Train Samples: 6740\n",
      "Val Samples: 843\n"
     ]
    }
   ],
   "source": [
    "with open(\"../Data/train_file.json\", 'r') as f:\n",
    "    train_json = json.load(f)\n",
    "with open(\"../Data/val_file.json\", 'r') as f:\n",
    "    val_json = json.load(f)\n",
    "print('Train Samples:', len(train_json))\n",
    "print('Val Samples:', len(val_json))"
   ]
  },
  {
   "cell_type": "code",
   "execution_count": 3,
   "metadata": {},
   "outputs": [],
   "source": [
    "import torch\n",
    "import torch.nn as nn\n",
    "from sentence_transformers import SentenceTransformer\n",
    "from sklearn.metrics import f1_score, accuracy_score\n",
    "\n",
    "sentence_emb_model = SentenceTransformer('all-MiniLM-L6-v2')"
   ]
  },
  {
   "cell_type": "code",
   "execution_count": 6,
   "metadata": {},
   "outputs": [
    {
     "data": {
      "text/plain": [
       "<All keys matched successfully>"
      ]
     },
     "execution_count": 6,
     "metadata": {},
     "output_type": "execute_result"
    }
   ],
   "source": [
    "DEVICE = torch.device(\"cuda\" if torch.cuda.is_available() else \"cpu\")\n",
    "NUM_EPOCH = 10\n",
    "INPUT_SIZE = 384\n",
    "HIDDEN_SIZE = 128\n",
    "OUTPUT_SIZE = 2\n",
    "\n",
    "trained_model = CustomClassifier(INPUT_SIZE, HIDDEN_SIZE, OUTPUT_SIZE).to(DEVICE)\n",
    "trained_model.load_state_dict(torch.load(\"M3.pt\"))"
   ]
  },
  {
   "cell_type": "code",
   "execution_count": 14,
   "metadata": {},
   "outputs": [
    {
     "name": "stdout",
     "output_type": "stream",
     "text": [
      "Speakers: ['Joey', 'Rachel', 'Rachel', 'Rachel', 'Rachel']\n",
      "Utterances: [\"Well you're whippin' so slow! Can't you do it any faster?\", 'Joey!', 'Come on!', \"I don't wanna make any mistakes, alright?\", \"This is the only dessert and if I screw it up everybody's gonna be like \\x93Oh, remember that Thanksgiving when Rachel screwed up the trifle?\\x94\"]\n",
      "Emotions: ['anger', 'anger', 'anger', 'anger', 'fear']\n",
      "\n",
      "True triggers: tensor([0, 0, 0, 1, 1])\n",
      "Predicted triggers: tensor([0, 0, 0, 1, 1])\n",
      "Accuracy of Prediction: 1.0\n",
      "F1 Score of Prediction: 1.0\n"
     ]
    }
   ],
   "source": [
    "def emotion_flip_inference(model:CustomClassifier, conversation:dict):\n",
    "    model.eval()\n",
    "    utterances = conversation[\"utterances\"]\n",
    "    true_emotions = conversation[\"emotions\"]\n",
    "    speakers = conversation[\"speakers\"]\n",
    "    triggers = conversation[\"triggers\"]\n",
    "    context_size = 5\n",
    "    \n",
    "    # Obtain the utterance embeddings and predict the emotion flip reason of last utterance for context size 5\n",
    "    utterance_embeddings = torch.tensor(sentence_emb_model.encode(utterances), dtype=torch.float)[-(context_size):]\n",
    "    utterance_embeddings = utterance_embeddings + utterance_embeddings[-1]\n",
    "    triggers_true_label = [a if a != None else 0.0 for a in triggers]\n",
    "    triggers_true_label = torch.tensor(triggers_true_label, dtype=torch.long)[-(context_size):]\n",
    "    \n",
    "    # Obtain the predicted triggers\n",
    "    utterance_embeddings = utterance_embeddings.unsqueeze(0).to(DEVICE)\n",
    "    triggers_predictions = model(utterance_embeddings)\n",
    "    _, triggers_predictions = torch.max(triggers_predictions, 2)\n",
    "    triggers_predictions = triggers_predictions.view(-1).cpu()\n",
    "\n",
    "    print('Speakers:', speakers[-context_size:])\n",
    "    print('Utterances:', utterances[-context_size:])\n",
    "    print('Emotions:', true_emotions[-context_size:])\n",
    "    print()\n",
    "    print('True triggers:', triggers_true_label)\n",
    "    print('Predicted triggers:', triggers_predictions)\n",
    "\n",
    "    # Show the Accuracy and F1 Score of the prediction\n",
    "    accuracy = accuracy_score(triggers_true_label.cpu().numpy(), triggers_predictions.numpy())\n",
    "    f1 = f1_score(triggers_true_label.cpu().numpy(), triggers_predictions.numpy(), average='macro')\n",
    "    print('Accuracy of Prediction:', accuracy)\n",
    "    print('F1 Score of Prediction:', f1)\n",
    "    \n",
    "\n",
    "ind = 4\n",
    "conversation = val_json[ind]\n",
    "emotion_flip_inference(trained_model, conversation)    "
   ]
  }
 ],
 "metadata": {
  "kernelspec": {
   "display_name": "a3_env",
   "language": "python",
   "name": "python3"
  },
  "language_info": {
   "codemirror_mode": {
    "name": "ipython",
    "version": 3
   },
   "file_extension": ".py",
   "mimetype": "text/x-python",
   "name": "python",
   "nbconvert_exporter": "python",
   "pygments_lexer": "ipython3",
   "version": "3.12.2"
  }
 },
 "nbformat": 4,
 "nbformat_minor": 2
}
