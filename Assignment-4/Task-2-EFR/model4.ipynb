{
 "cells": [
  {
   "cell_type": "markdown",
   "metadata": {},
   "source": [
    "### Importing Necessary Libraries"
   ]
  },
  {
   "cell_type": "code",
   "execution_count": 1,
   "metadata": {},
   "outputs": [
    {
     "name": "stderr",
     "output_type": "stream",
     "text": [
      "/mnt/disk1/sumdev/CourseWork/a3_env/lib/python3.12/site-packages/tqdm/auto.py:21: TqdmWarning: IProgress not found. Please update jupyter and ipywidgets. See https://ipywidgets.readthedocs.io/en/stable/user_install.html\n",
      "  from .autonotebook import tqdm as notebook_tqdm\n"
     ]
    }
   ],
   "source": [
    "import json\n",
    "import torch\n",
    "from torch.utils.data import Dataset, DataLoader\n",
    "from sklearn.preprocessing import LabelEncoder\n",
    "from sentence_transformers import SentenceTransformer\n",
    "import warnings\n",
    "import numpy as np\n",
    "import torch.optim as optim\n",
    "warnings.filterwarnings(\"ignore\")"
   ]
  },
  {
   "cell_type": "markdown",
   "metadata": {},
   "source": [
    "## Load Datasets and Create Dataset Class\n"
   ]
  },
  {
   "cell_type": "code",
   "execution_count": 2,
   "metadata": {},
   "outputs": [
    {
     "name": "stdout",
     "output_type": "stream",
     "text": [
      "Length of train dataset: 6740\n",
      "Length of val dataset: 843\n"
     ]
    }
   ],
   "source": [
    "class EmotionDataset(Dataset):\n",
    "    def __init__(self, json_file, model_name=\"all-MiniLM-L6-v2\"):\n",
    "        self.data = []\n",
    "        self.model = SentenceTransformer(model_name)\n",
    "        self.speaker_encoder = LabelEncoder()\n",
    "        self.emotion_class_to_idx = {'neutral': 0, 'joy': 1, 'sadness': 2, 'anger': 3, 'fear': 4, 'disgust': 5, 'surprise': 6}\n",
    "\n",
    "        with open(json_file, 'r') as f:\n",
    "            data = json.load(f)\n",
    "            for entry in data:\n",
    "                self.data.append(entry)\n",
    "        \n",
    "    def __len__(self):\n",
    "        return len(self.data)\n",
    "\n",
    "    def __getitem__(self, idx):\n",
    "        entry = self.data[idx]\n",
    "        speakers = torch.tensor(self.speaker_encoder.fit_transform(entry[\"speakers\"]), dtype=torch.long)\n",
    "        emotions = torch.tensor([self.emotion_class_to_idx[emotion] for emotion in entry[\"emotions\"]], dtype=torch.long)\n",
    "        utterance_embeddings = torch.tensor(self.model.encode(entry[\"utterances\"]), dtype=torch.float)\n",
    "        triggers = np.array(entry[\"triggers\"], dtype=float)\n",
    "        np.nan_to_num(triggers, copy=False)\n",
    "        triggers = torch.tensor(triggers, dtype=torch.int64)\n",
    "        return torch.tensor(len(entry[\"speakers\"])), speakers, emotions, utterance_embeddings, triggers\n",
    "\n",
    "\n",
    "# Initialize the dataset and dataloader\n",
    "model_name = 'all-mpnet-base-v2' # all-MiniLM-L6-v2\n",
    "train_dataset = EmotionDataset(\"../Data/train_file.json\", model_name=model_name)\n",
    "val_dataset = EmotionDataset(\"../Data/val_file.json\", model_name=model_name)\n",
    "print('Length of train dataset:', len(train_dataset))\n",
    "print('Length of val dataset:', len(val_dataset))"
   ]
  },
  {
   "cell_type": "code",
   "execution_count": 3,
   "metadata": {},
   "outputs": [
    {
     "data": {
      "text/plain": [
       "{'episode': 'utterance_2693',\n",
       " 'speakers': ['Joey', 'Chandler', 'Joey', 'Ross', 'Joey', 'Ross'],\n",
       " 'emotions': ['joy', 'joy', 'fear', 'neutral', 'surprise', 'joy'],\n",
       " 'utterances': [\"Yeah-yeah, and if I get it by day I'll  Dr. Drake Remoray, but by night I'll be  Joey Trrrribbiani!\",\n",
       "  \"You'll be perfect for this! That's already your name!\",\n",
       "  \"But the audition's in a couple hours and I don't even understand the game.\",\n",
       "  'Well do you want some help?',\n",
       "  \"Oh really? That'd be great! You guys can be the contestants!\",\n",
       "  'Awesome!'],\n",
       " 'triggers': [0.0, 0.0, 0.0, 0.0, 1.0, None]}"
      ]
     },
     "execution_count": 3,
     "metadata": {},
     "output_type": "execute_result"
    }
   ],
   "source": [
    "train_dataset.data[656]"
   ]
  },
  {
   "cell_type": "code",
   "execution_count": 4,
   "metadata": {},
   "outputs": [
    {
     "name": "stdout",
     "output_type": "stream",
     "text": [
      "Length: tensor(7)\n",
      "Speakers: tensor([1, 2, 2, 0, 2, 2, 2])\n",
      "Emotions: tensor([0, 0, 0, 0, 0, 2, 4])\n",
      "Utterance embeddings: torch.Size([7, 768])\n",
      "Triggers: tensor([0, 0, 0, 0, 1, 1, 1])\n"
     ]
    }
   ],
   "source": [
    "length, speakers, emotions, utterance_embeddings, triggers = train_dataset[2]\n",
    "print('Length:', length)\n",
    "print('Speakers:', speakers)\n",
    "print('Emotions:', emotions)\n",
    "print('Utterance embeddings:', utterance_embeddings.shape)\n",
    "print('Triggers:', triggers)"
   ]
  },
  {
   "cell_type": "markdown",
   "metadata": {},
   "source": [
    "### Training Dataset Class Distribution for Full Conversation (without Context size)"
   ]
  },
  {
   "cell_type": "code",
   "execution_count": 5,
   "metadata": {},
   "outputs": [
    {
     "name": "stdout",
     "output_type": "stream",
     "text": [
      "0 1000 2000 3000 4000 5000 6000 \n",
      "Count of triggers 0: 49614\n",
      "Count of triggers 1: 9343\n"
     ]
    }
   ],
   "source": [
    "trigger_cnt_0, trigger_cnt_1 = 0, 0\n",
    "for i in range(len(train_dataset)):\n",
    "    _, _, _, _, triggers = train_dataset[i]\n",
    "    trigger_cnt_0 += (triggers == 0).sum().item()\n",
    "    trigger_cnt_1 += (triggers == 1).sum().item()\n",
    "    if i % 1000 == 0:\n",
    "        print(i, end=' ')\n",
    "\n",
    "print('\\nCount of triggers 0:', trigger_cnt_0)\n",
    "print('Count of triggers 1:', trigger_cnt_1)"
   ]
  },
  {
   "cell_type": "markdown",
   "metadata": {},
   "source": [
    "### Validation Dataset Class Distribution for Full Conversation (without Context size)"
   ]
  },
  {
   "cell_type": "code",
   "execution_count": 6,
   "metadata": {},
   "outputs": [
    {
     "name": "stdout",
     "output_type": "stream",
     "text": [
      "0 100 200 300 400 500 600 700 800 \n",
      "Count of triggers 0: 6186\n",
      "Count of triggers 1: 1107\n"
     ]
    }
   ],
   "source": [
    "trigger_cnt_0, trigger_cnt_1 = 0, 0\n",
    "for i in range(len(val_dataset)):\n",
    "    _, _, _, _, triggers = val_dataset[i]\n",
    "    trigger_cnt_0 += (triggers == 0).sum().item()\n",
    "    trigger_cnt_1 += (triggers == 1).sum().item()\n",
    "    if i % 100 == 0:\n",
    "        print(i, end=' ')\n",
    "\n",
    "print('\\nCount of triggers 0:', trigger_cnt_0)\n",
    "print('Count of triggers 1:', trigger_cnt_1)"
   ]
  },
  {
   "cell_type": "markdown",
   "metadata": {},
   "source": [
    "## Create Dataloaders"
   ]
  },
  {
   "cell_type": "code",
   "execution_count": 7,
   "metadata": {},
   "outputs": [
    {
     "name": "stdout",
     "output_type": "stream",
     "text": [
      "Length of train_loader: 211\n",
      "Length of val_loader: 27\n"
     ]
    }
   ],
   "source": [
    "import torch.nn as nn\n",
    "def collate_fn(batch):\n",
    "    length, speakers, emotions, utterance_embeddings, triggers = zip(*batch)\n",
    "    length = torch.tensor(length, dtype=torch.long)\n",
    "    speakers = nn.utils.rnn.pad_sequence(speakers, batch_first=True)\n",
    "    emotions = nn.utils.rnn.pad_sequence(emotions, batch_first=True)\n",
    "    triggers = nn.utils.rnn.pad_sequence(triggers, batch_first=True)\n",
    "    utterance_embeddings = nn.utils.rnn.pad_sequence(utterance_embeddings, batch_first=True)\n",
    "    return length, speakers, emotions, utterance_embeddings, triggers   \n",
    "\n",
    "train_loader = DataLoader(train_dataset, batch_size=32, shuffle=True, collate_fn=collate_fn)\n",
    "val_loader = DataLoader(val_dataset, batch_size=32, shuffle=False, collate_fn=collate_fn)\n",
    "print('Length of train_loader:', len(train_loader))\n",
    "print('Length of val_loader:', len(val_loader))"
   ]
  },
  {
   "cell_type": "code",
   "execution_count": 8,
   "metadata": {},
   "outputs": [
    {
     "name": "stdout",
     "output_type": "stream",
     "text": [
      "Batch Size: 32\n",
      "Length Shape: torch.Size([32])\n",
      "Speakers Shape: torch.Size([32, 22])\n",
      "Emotions Shape: torch.Size([32, 22])\n",
      "Utterance Embeddings Shape: torch.Size([32, 22, 768])\n",
      "\n",
      "Example:\n",
      "Speakers: tensor([0, 1, 0, 1, 0, 1, 0, 1, 0, 0, 0, 0, 1, 0, 1, 0, 0, 0, 0, 0, 0, 0])\n",
      "Emotions: tensor([0, 0, 0, 6, 2, 1, 2, 6, 2, 0, 0, 0, 6, 2, 0, 0, 0, 0, 0, 0, 0, 0])\n",
      "Utterance Embeddings: tensor([[ 0.0102,  0.0081, -0.0349,  ...,  0.0083, -0.0618, -0.0101],\n",
      "        [ 0.0487,  0.0519, -0.0094,  ...,  0.0368, -0.0680, -0.0489],\n",
      "        [ 0.0316, -0.0791, -0.0206,  ...,  0.0352, -0.0447, -0.0222],\n",
      "        ...,\n",
      "        [ 0.0000,  0.0000,  0.0000,  ...,  0.0000,  0.0000,  0.0000],\n",
      "        [ 0.0000,  0.0000,  0.0000,  ...,  0.0000,  0.0000,  0.0000],\n",
      "        [ 0.0000,  0.0000,  0.0000,  ...,  0.0000,  0.0000,  0.0000]])\n",
      "triggers tensor([0, 0, 0, 0, 0, 0, 0, 0, 0, 0, 0, 0, 0, 0, 1, 0, 0, 0, 0, 0, 0, 0])\n"
     ]
    }
   ],
   "source": [
    "for batch in train_loader:\n",
    "    length, speakers, emotions, utterance_embeddings, triggers = batch\n",
    "    print(\"Batch Size:\", len(speakers))\n",
    "\n",
    "    print(\"Length Shape:\", length.shape)\n",
    "    print(\"Speakers Shape:\", speakers.shape)\n",
    "    print(\"Emotions Shape:\", emotions.shape)\n",
    "    print(\"Utterance Embeddings Shape:\", utterance_embeddings.shape)\n",
    "\n",
    "    print(\"\\nExample:\")\n",
    "    print(\"Speakers:\", speakers[0])\n",
    "    print(\"Emotions:\", emotions[0])\n",
    "    print(\"Utterance Embeddings:\", utterance_embeddings[0])\n",
    "    print(\"triggers\", triggers[0])\n",
    "    break  "
   ]
  },
  {
   "cell_type": "markdown",
   "metadata": {},
   "source": [
    "## Create Emotion Flip Reasoning Model"
   ]
  },
  {
   "cell_type": "code",
   "execution_count": 9,
   "metadata": {},
   "outputs": [],
   "source": [
    "class BiLSTMClassifier(nn.Module):\n",
    "    def __init__(self, input_size, hidden_size, output_size):\n",
    "        super(BiLSTMClassifier, self).__init__()\n",
    "        self.lstm = nn.LSTM(input_size, hidden_size, batch_first=True, bidirectional=True)\n",
    "        self.fc = nn.Linear(hidden_size*2, output_size)\n",
    "    \n",
    "    def forward(self, x):\n",
    "        lstm_out, _ = self.lstm(x)\n",
    "        out = self.fc(lstm_out)\n",
    "        return out"
   ]
  },
  {
   "cell_type": "markdown",
   "metadata": {},
   "source": [
    "## Train the Model"
   ]
  },
  {
   "cell_type": "code",
   "execution_count": 10,
   "metadata": {},
   "outputs": [],
   "source": [
    "DEVICE = \"cuda:0\" if torch.cuda.is_available() else \"cpu\"\n",
    "INPUT_SIZE = 768  \n",
    "HIDDEN_SIZE = 256 \n",
    "OUTPUT_SIZE = 2\n",
    "\n",
    "model = BiLSTMClassifier(INPUT_SIZE, HIDDEN_SIZE, OUTPUT_SIZE)\n",
    "model = model.to(DEVICE)\n",
    "\n",
    "CRITERION = nn.CrossEntropyLoss()\n",
    "OPTIMIZER = optim.Adam(model.parameters(), lr=0.001)\n",
    "NUM_EPOCHS = 10"
   ]
  },
  {
   "cell_type": "code",
   "execution_count": 11,
   "metadata": {},
   "outputs": [
    {
     "name": "stdout",
     "output_type": "stream",
     "text": [
      "-------------------------------------------------\n",
      "Epoch 1/10\n",
      "Batch 10/211 Loss: 0.4044, Accuracy: 0.9092, F1 Score: 0.4762\n",
      "Batch 20/211 Loss: 0.2586, Accuracy: 0.9328, F1 Score: 0.4826\n",
      "Batch 30/211 Loss: 0.2424, Accuracy: 0.9315, F1 Score: 0.4823\n",
      "Batch 40/211 Loss: 0.3034, Accuracy: 0.8980, F1 Score: 0.4731\n",
      "Batch 50/211 Loss: 0.2116, Accuracy: 0.9243, F1 Score: 0.4803\n",
      "Batch 60/211 Loss: 0.1626, Accuracy: 0.9444, F1 Score: 0.4857\n",
      "Batch 70/211 Loss: 0.2096, Accuracy: 0.9253, F1 Score: 0.4806\n",
      "Batch 80/211 Loss: 0.1846, Accuracy: 0.9219, F1 Score: 0.4797\n",
      "Batch 90/211 Loss: 0.1678, Accuracy: 0.9345, F1 Score: 0.4831\n",
      "Batch 100/211 Loss: 0.1633, Accuracy: 0.9342, F1 Score: 0.5068\n",
      "Batch 110/211 Loss: 0.1926, Accuracy: 0.9260, F1 Score: 0.4808\n",
      "Batch 120/211 Loss: 0.1831, Accuracy: 0.9205, F1 Score: 0.4793\n",
      "Batch 130/211 Loss: 0.1524, Accuracy: 0.9281, F1 Score: 0.5553\n",
      "Batch 140/211 Loss: 0.1199, Accuracy: 0.9494, F1 Score: 0.6006\n",
      "Batch 150/211 Loss: 0.1656, Accuracy: 0.9191, F1 Score: 0.6549\n",
      "Batch 160/211 Loss: 0.1501, Accuracy: 0.9315, F1 Score: 0.6625\n",
      "Batch 170/211 Loss: 0.1319, Accuracy: 0.9326, F1 Score: 0.6568\n",
      "Batch 180/211 Loss: 0.1154, Accuracy: 0.9490, F1 Score: 0.7048\n",
      "Batch 190/211 Loss: 0.1498, Accuracy: 0.9375, F1 Score: 0.7831\n",
      "Batch 200/211 Loss: 0.1394, Accuracy: 0.9420, F1 Score: 0.7021\n",
      "Batch 210/211 Loss: 0.1622, Accuracy: 0.9375, F1 Score: 0.6805\n",
      "==> Train Loss: 0.1994 Accuracy: 0.9260 F1 Score: 0.5729\n",
      "==> Validation Loss: 0.1330 Accuracy: 0.9463 F1 Score: 0.7592\n",
      "-------------------------------------------------\n",
      "Epoch 2/10\n",
      "Batch 10/211 Loss: 0.1598, Accuracy: 0.9243, F1 Score: 0.7059\n",
      "Batch 20/211 Loss: 0.1523, Accuracy: 0.9410, F1 Score: 0.7605\n",
      "Batch 30/211 Loss: 0.1558, Accuracy: 0.9326, F1 Score: 0.7289\n",
      "Batch 40/211 Loss: 0.1400, Accuracy: 0.9375, F1 Score: 0.7831\n",
      "Batch 50/211 Loss: 0.1671, Accuracy: 0.9288, F1 Score: 0.7147\n",
      "Batch 60/211 Loss: 0.0977, Accuracy: 0.9523, F1 Score: 0.7573\n",
      "Batch 70/211 Loss: 0.1129, Accuracy: 0.9566, F1 Score: 0.8172\n",
      "Batch 80/211 Loss: 0.1131, Accuracy: 0.9517, F1 Score: 0.7444\n",
      "Batch 90/211 Loss: 0.1675, Accuracy: 0.9358, F1 Score: 0.7294\n",
      "Batch 100/211 Loss: 0.1065, Accuracy: 0.9578, F1 Score: 0.7987\n",
      "Batch 110/211 Loss: 0.1286, Accuracy: 0.9437, F1 Score: 0.7204\n",
      "Batch 120/211 Loss: 0.1129, Accuracy: 0.9613, F1 Score: 0.8187\n",
      "Batch 130/211 Loss: 0.1130, Accuracy: 0.9531, F1 Score: 0.8207\n",
      "Batch 140/211 Loss: 0.1277, Accuracy: 0.9462, F1 Score: 0.7942\n",
      "Batch 150/211 Loss: 0.1461, Accuracy: 0.9457, F1 Score: 0.7712\n",
      "Batch 160/211 Loss: 0.1275, Accuracy: 0.9464, F1 Score: 0.7212\n",
      "Batch 170/211 Loss: 0.1531, Accuracy: 0.9375, F1 Score: 0.7151\n",
      "Batch 180/211 Loss: 0.0943, Accuracy: 0.9622, F1 Score: 0.8233\n",
      "Batch 190/211 Loss: 0.1249, Accuracy: 0.9449, F1 Score: 0.7825\n",
      "Batch 200/211 Loss: 0.1746, Accuracy: 0.9306, F1 Score: 0.7183\n",
      "Batch 210/211 Loss: 0.1483, Accuracy: 0.9277, F1 Score: 0.7200\n",
      "==> Train Loss: 0.1331 Accuracy: 0.9466 F1 Score: 0.7625\n",
      "==> Validation Loss: 0.1233 Accuracy: 0.9506 F1 Score: 0.7668\n",
      "-------------------------------------------------\n",
      "Epoch 3/10\n",
      "Batch 10/211 Loss: 0.1340, Accuracy: 0.9559, F1 Score: 0.8215\n",
      "Batch 20/211 Loss: 0.1156, Accuracy: 0.9497, F1 Score: 0.8029\n",
      "Batch 30/211 Loss: 0.1262, Accuracy: 0.9457, F1 Score: 0.7532\n",
      "Batch 40/211 Loss: 0.0994, Accuracy: 0.9596, F1 Score: 0.7711\n",
      "Batch 50/211 Loss: 0.1276, Accuracy: 0.9556, F1 Score: 0.7981\n",
      "Batch 60/211 Loss: 0.1144, Accuracy: 0.9474, F1 Score: 0.7181\n",
      "Batch 70/211 Loss: 0.1398, Accuracy: 0.9514, F1 Score: 0.8075\n",
      "Batch 80/211 Loss: 0.1113, Accuracy: 0.9474, F1 Score: 0.7508\n",
      "Batch 90/211 Loss: 0.1243, Accuracy: 0.9500, F1 Score: 0.7867\n",
      "Batch 100/211 Loss: 0.1464, Accuracy: 0.9405, F1 Score: 0.7515\n",
      "Batch 110/211 Loss: 0.1108, Accuracy: 0.9538, F1 Score: 0.7450\n",
      "Batch 120/211 Loss: 0.1223, Accuracy: 0.9542, F1 Score: 0.8210\n",
      "Batch 130/211 Loss: 0.1253, Accuracy: 0.9474, F1 Score: 0.7631\n",
      "Batch 140/211 Loss: 0.0911, Accuracy: 0.9656, F1 Score: 0.8422\n",
      "Batch 150/211 Loss: 0.0890, Accuracy: 0.9673, F1 Score: 0.8247\n",
      "Batch 160/211 Loss: 0.1149, Accuracy: 0.9554, F1 Score: 0.7739\n",
      "Batch 170/211 Loss: 0.0881, Accuracy: 0.9635, F1 Score: 0.7960\n",
      "Batch 180/211 Loss: 0.1098, Accuracy: 0.9531, F1 Score: 0.7626\n",
      "Batch 190/211 Loss: 0.1172, Accuracy: 0.9494, F1 Score: 0.7629\n",
      "Batch 200/211 Loss: 0.0913, Accuracy: 0.9596, F1 Score: 0.8364\n",
      "Batch 210/211 Loss: 0.1597, Accuracy: 0.9154, F1 Score: 0.7269\n",
      "==> Train Loss: 0.1229 Accuracy: 0.9491 F1 Score: 0.7752\n",
      "==> Validation Loss: 0.1208 Accuracy: 0.9509 F1 Score: 0.7897\n",
      "-------------------------------------------------\n",
      "Epoch 4/10\n",
      "Batch 10/211 Loss: 0.1403, Accuracy: 0.9412, F1 Score: 0.7557\n",
      "Batch 20/211 Loss: 0.0729, Accuracy: 0.9744, F1 Score: 0.8647\n",
      "Batch 30/211 Loss: 0.0943, Accuracy: 0.9565, F1 Score: 0.7934\n",
      "Batch 40/211 Loss: 0.0994, Accuracy: 0.9655, F1 Score: 0.8242\n",
      "Batch 50/211 Loss: 0.1593, Accuracy: 0.9392, F1 Score: 0.7912\n",
      "Batch 60/211 Loss: 0.1199, Accuracy: 0.9594, F1 Score: 0.7981\n",
      "Batch 70/211 Loss: 0.1187, Accuracy: 0.9467, F1 Score: 0.7871\n",
      "Batch 80/211 Loss: 0.1503, Accuracy: 0.9340, F1 Score: 0.7505\n",
      "Batch 90/211 Loss: 0.1122, Accuracy: 0.9467, F1 Score: 0.7815\n",
      "Batch 100/211 Loss: 0.1006, Accuracy: 0.9594, F1 Score: 0.8225\n",
      "Batch 110/211 Loss: 0.1485, Accuracy: 0.9338, F1 Score: 0.7514\n",
      "Batch 120/211 Loss: 0.1529, Accuracy: 0.9340, F1 Score: 0.7448\n",
      "Batch 130/211 Loss: 0.1280, Accuracy: 0.9408, F1 Score: 0.7883\n",
      "Batch 140/211 Loss: 0.1261, Accuracy: 0.9437, F1 Score: 0.7562\n",
      "Batch 150/211 Loss: 0.1248, Accuracy: 0.9406, F1 Score: 0.7900\n",
      "Batch 160/211 Loss: 0.0915, Accuracy: 0.9588, F1 Score: 0.7661\n",
      "Batch 170/211 Loss: 0.1036, Accuracy: 0.9589, F1 Score: 0.8224\n",
      "Batch 180/211 Loss: 0.0955, Accuracy: 0.9641, F1 Score: 0.8484\n",
      "Batch 190/211 Loss: 0.1068, Accuracy: 0.9497, F1 Score: 0.7636\n",
      "Batch 200/211 Loss: 0.0742, Accuracy: 0.9703, F1 Score: 0.8620\n",
      "Batch 210/211 Loss: 0.1185, Accuracy: 0.9469, F1 Score: 0.7622\n",
      "==> Train Loss: 0.1156 Accuracy: 0.9516 F1 Score: 0.7905\n",
      "==> Validation Loss: 0.1146 Accuracy: 0.9520 F1 Score: 0.7884\n",
      "-------------------------------------------------\n",
      "Epoch 5/10\n",
      "Batch 10/211 Loss: 0.1191, Accuracy: 0.9359, F1 Score: 0.7525\n",
      "Batch 20/211 Loss: 0.1333, Accuracy: 0.9453, F1 Score: 0.7853\n",
      "Batch 30/211 Loss: 0.0914, Accuracy: 0.9578, F1 Score: 0.8039\n",
      "Batch 40/211 Loss: 0.1352, Accuracy: 0.9355, F1 Score: 0.8049\n",
      "Batch 50/211 Loss: 0.1071, Accuracy: 0.9507, F1 Score: 0.7895\n",
      "Batch 60/211 Loss: 0.0866, Accuracy: 0.9622, F1 Score: 0.8015\n",
      "Batch 70/211 Loss: 0.1142, Accuracy: 0.9457, F1 Score: 0.7913\n",
      "Batch 80/211 Loss: 0.1678, Accuracy: 0.9277, F1 Score: 0.7402\n",
      "Batch 90/211 Loss: 0.0867, Accuracy: 0.9578, F1 Score: 0.7987\n",
      "Batch 100/211 Loss: 0.1088, Accuracy: 0.9531, F1 Score: 0.7876\n",
      "Batch 110/211 Loss: 0.1221, Accuracy: 0.9479, F1 Score: 0.8192\n",
      "Batch 120/211 Loss: 0.1163, Accuracy: 0.9474, F1 Score: 0.7859\n",
      "Batch 130/211 Loss: 0.1014, Accuracy: 0.9594, F1 Score: 0.8135\n",
      "Batch 140/211 Loss: 0.0867, Accuracy: 0.9688, F1 Score: 0.8346\n",
      "Batch 150/211 Loss: 0.1254, Accuracy: 0.9449, F1 Score: 0.7581\n",
      "Batch 160/211 Loss: 0.1006, Accuracy: 0.9572, F1 Score: 0.7975\n",
      "Batch 170/211 Loss: 0.0704, Accuracy: 0.9688, F1 Score: 0.8339\n",
      "Batch 180/211 Loss: 0.0932, Accuracy: 0.9625, F1 Score: 0.8321\n",
      "Batch 190/211 Loss: 0.1102, Accuracy: 0.9524, F1 Score: 0.8095\n",
      "Batch 200/211 Loss: 0.1509, Accuracy: 0.9395, F1 Score: 0.7654\n",
      "Batch 210/211 Loss: 0.1026, Accuracy: 0.9618, F1 Score: 0.8487\n",
      "==> Train Loss: 0.1079 Accuracy: 0.9546 F1 Score: 0.8054\n",
      "==> Validation Loss: 0.1108 Accuracy: 0.9520 F1 Score: 0.7878\n",
      "-------------------------------------------------\n",
      "Epoch 6/10\n",
      "Batch 10/211 Loss: 0.0988, Accuracy: 0.9531, F1 Score: 0.7902\n",
      "Batch 20/211 Loss: 0.0718, Accuracy: 0.9645, F1 Score: 0.8435\n",
      "Batch 30/211 Loss: 0.0952, Accuracy: 0.9658, F1 Score: 0.8334\n",
      "Batch 40/211 Loss: 0.1166, Accuracy: 0.9646, F1 Score: 0.8828\n",
      "Batch 50/211 Loss: 0.1212, Accuracy: 0.9531, F1 Score: 0.7902\n",
      "Batch 60/211 Loss: 0.1314, Accuracy: 0.9357, F1 Score: 0.7217\n",
      "Batch 70/211 Loss: 0.0998, Accuracy: 0.9566, F1 Score: 0.8124\n",
      "Batch 80/211 Loss: 0.0976, Accuracy: 0.9588, F1 Score: 0.8363\n",
      "Batch 90/211 Loss: 0.0887, Accuracy: 0.9583, F1 Score: 0.7748\n",
      "Batch 100/211 Loss: 0.0923, Accuracy: 0.9609, F1 Score: 0.8644\n",
      "Batch 110/211 Loss: 0.0760, Accuracy: 0.9701, F1 Score: 0.8474\n",
      "Batch 120/211 Loss: 0.1496, Accuracy: 0.9316, F1 Score: 0.7755\n",
      "Batch 130/211 Loss: 0.1292, Accuracy: 0.9357, F1 Score: 0.7982\n",
      "Batch 140/211 Loss: 0.1079, Accuracy: 0.9656, F1 Score: 0.8461\n",
      "Batch 150/211 Loss: 0.0962, Accuracy: 0.9618, F1 Score: 0.8522\n",
      "Batch 160/211 Loss: 0.1284, Accuracy: 0.9453, F1 Score: 0.8010\n",
      "Batch 170/211 Loss: 0.0660, Accuracy: 0.9744, F1 Score: 0.8807\n",
      "Batch 180/211 Loss: 0.0778, Accuracy: 0.9602, F1 Score: 0.8266\n",
      "Batch 190/211 Loss: 0.0973, Accuracy: 0.9589, F1 Score: 0.8515\n",
      "Batch 200/211 Loss: 0.1097, Accuracy: 0.9514, F1 Score: 0.7871\n",
      "Batch 210/211 Loss: 0.0872, Accuracy: 0.9616, F1 Score: 0.8414\n",
      "==> Train Loss: 0.0999 Accuracy: 0.9577 F1 Score: 0.8223\n",
      "==> Validation Loss: 0.1106 Accuracy: 0.9541 F1 Score: 0.8109\n",
      "-------------------------------------------------\n",
      "Epoch 7/10\n",
      "Batch 10/211 Loss: 0.0802, Accuracy: 0.9638, F1 Score: 0.8652\n",
      "Batch 20/211 Loss: 0.1235, Accuracy: 0.9572, F1 Score: 0.8407\n",
      "Batch 30/211 Loss: 0.0685, Accuracy: 0.9656, F1 Score: 0.8498\n",
      "Batch 40/211 Loss: 0.0613, Accuracy: 0.9766, F1 Score: 0.9075\n",
      "Batch 50/211 Loss: 0.0770, Accuracy: 0.9762, F1 Score: 0.8794\n",
      "Batch 60/211 Loss: 0.1064, Accuracy: 0.9549, F1 Score: 0.8714\n",
      "Batch 70/211 Loss: 0.0929, Accuracy: 0.9633, F1 Score: 0.8314\n",
      "Batch 80/211 Loss: 0.0950, Accuracy: 0.9629, F1 Score: 0.8697\n",
      "Batch 90/211 Loss: 0.1125, Accuracy: 0.9457, F1 Score: 0.7913\n",
      "Batch 100/211 Loss: 0.0924, Accuracy: 0.9635, F1 Score: 0.8637\n",
      "Batch 110/211 Loss: 0.1006, Accuracy: 0.9618, F1 Score: 0.8587\n",
      "Batch 120/211 Loss: 0.0938, Accuracy: 0.9669, F1 Score: 0.8813\n",
      "Batch 130/211 Loss: 0.0859, Accuracy: 0.9563, F1 Score: 0.8176\n",
      "Batch 140/211 Loss: 0.0775, Accuracy: 0.9609, F1 Score: 0.8353\n",
      "Batch 150/211 Loss: 0.0925, Accuracy: 0.9589, F1 Score: 0.8178\n",
      "Batch 160/211 Loss: 0.0767, Accuracy: 0.9648, F1 Score: 0.8355\n",
      "Batch 170/211 Loss: 0.0841, Accuracy: 0.9583, F1 Score: 0.7769\n",
      "Batch 180/211 Loss: 0.1107, Accuracy: 0.9474, F1 Score: 0.8040\n",
      "Batch 190/211 Loss: 0.0967, Accuracy: 0.9554, F1 Score: 0.8284\n",
      "Batch 200/211 Loss: 0.0946, Accuracy: 0.9656, F1 Score: 0.8567\n",
      "Batch 210/211 Loss: 0.0994, Accuracy: 0.9658, F1 Score: 0.8556\n",
      "==> Train Loss: 0.0903 Accuracy: 0.9619 F1 Score: 0.8432\n",
      "==> Validation Loss: 0.1049 Accuracy: 0.9558 F1 Score: 0.8142\n",
      "-------------------------------------------------\n",
      "Epoch 8/10\n",
      "Batch 10/211 Loss: 0.1016, Accuracy: 0.9531, F1 Score: 0.8335\n",
      "Batch 20/211 Loss: 0.0867, Accuracy: 0.9702, F1 Score: 0.8899\n",
      "Batch 30/211 Loss: 0.0669, Accuracy: 0.9688, F1 Score: 0.8470\n",
      "Batch 40/211 Loss: 0.0583, Accuracy: 0.9727, F1 Score: 0.8313\n",
      "Batch 50/211 Loss: 0.0838, Accuracy: 0.9688, F1 Score: 0.8579\n",
      "Batch 60/211 Loss: 0.0658, Accuracy: 0.9742, F1 Score: 0.8990\n",
      "Batch 70/211 Loss: 0.0836, Accuracy: 0.9641, F1 Score: 0.8449\n",
      "Batch 80/211 Loss: 0.0775, Accuracy: 0.9688, F1 Score: 0.8866\n",
      "Batch 90/211 Loss: 0.0697, Accuracy: 0.9628, F1 Score: 0.8189\n",
      "Batch 100/211 Loss: 0.0573, Accuracy: 0.9821, F1 Score: 0.9142\n",
      "Batch 110/211 Loss: 0.0856, Accuracy: 0.9674, F1 Score: 0.8609\n",
      "Batch 120/211 Loss: 0.0791, Accuracy: 0.9589, F1 Score: 0.8347\n",
      "Batch 130/211 Loss: 0.0767, Accuracy: 0.9753, F1 Score: 0.9091\n",
      "Batch 140/211 Loss: 0.0626, Accuracy: 0.9716, F1 Score: 0.8734\n",
      "Batch 150/211 Loss: 0.0550, Accuracy: 0.9762, F1 Score: 0.8761\n",
      "Batch 160/211 Loss: 0.0852, Accuracy: 0.9632, F1 Score: 0.8513\n",
      "Batch 170/211 Loss: 0.0704, Accuracy: 0.9743, F1 Score: 0.9010\n",
      "Batch 180/211 Loss: 0.1027, Accuracy: 0.9547, F1 Score: 0.8285\n",
      "Batch 190/211 Loss: 0.0747, Accuracy: 0.9653, F1 Score: 0.8556\n",
      "Batch 200/211 Loss: 0.1003, Accuracy: 0.9549, F1 Score: 0.8523\n",
      "Batch 210/211 Loss: 0.0628, Accuracy: 0.9744, F1 Score: 0.8716\n",
      "==> Train Loss: 0.0840 Accuracy: 0.9651 F1 Score: 0.8593\n",
      "==> Validation Loss: 0.1041 Accuracy: 0.9573 F1 Score: 0.8190\n",
      "-------------------------------------------------\n",
      "Epoch 9/10\n",
      "Batch 10/211 Loss: 0.0666, Accuracy: 0.9755, F1 Score: 0.9052\n",
      "Batch 20/211 Loss: 0.0895, Accuracy: 0.9708, F1 Score: 0.9045\n",
      "Batch 30/211 Loss: 0.0759, Accuracy: 0.9622, F1 Score: 0.8615\n",
      "Batch 40/211 Loss: 0.0684, Accuracy: 0.9672, F1 Score: 0.8705\n",
      "Batch 50/211 Loss: 0.0567, Accuracy: 0.9747, F1 Score: 0.8857\n",
      "Batch 60/211 Loss: 0.0735, Accuracy: 0.9641, F1 Score: 0.8449\n",
      "Batch 70/211 Loss: 0.0962, Accuracy: 0.9668, F1 Score: 0.8995\n",
      "Batch 80/211 Loss: 0.0637, Accuracy: 0.9671, F1 Score: 0.8692\n",
      "Batch 90/211 Loss: 0.1196, Accuracy: 0.9531, F1 Score: 0.8716\n",
      "Batch 100/211 Loss: 0.0646, Accuracy: 0.9762, F1 Score: 0.8558\n",
      "Batch 110/211 Loss: 0.0957, Accuracy: 0.9616, F1 Score: 0.8446\n",
      "Batch 120/211 Loss: 0.0987, Accuracy: 0.9531, F1 Score: 0.8170\n",
      "Batch 130/211 Loss: 0.0697, Accuracy: 0.9620, F1 Score: 0.8149\n",
      "Batch 140/211 Loss: 0.0506, Accuracy: 0.9792, F1 Score: 0.9007\n",
      "Batch 150/211 Loss: 0.0540, Accuracy: 0.9792, F1 Score: 0.9024\n",
      "Batch 160/211 Loss: 0.0772, Accuracy: 0.9673, F1 Score: 0.8603\n",
      "Batch 170/211 Loss: 0.0655, Accuracy: 0.9702, F1 Score: 0.8557\n",
      "Batch 180/211 Loss: 0.0681, Accuracy: 0.9688, F1 Score: 0.8743\n",
      "Batch 190/211 Loss: 0.0607, Accuracy: 0.9703, F1 Score: 0.8803\n",
      "Batch 200/211 Loss: 0.0539, Accuracy: 0.9786, F1 Score: 0.9053\n",
      "Batch 210/211 Loss: 0.0533, Accuracy: 0.9819, F1 Score: 0.9395\n",
      "==> Train Loss: 0.0757 Accuracy: 0.9687 F1 Score: 0.8760\n",
      "==> Validation Loss: 0.1001 Accuracy: 0.9595 F1 Score: 0.8347\n",
      "-------------------------------------------------\n",
      "Epoch 10/10\n",
      "Batch 10/211 Loss: 0.0628, Accuracy: 0.9714, F1 Score: 0.8674\n",
      "Batch 20/211 Loss: 0.0685, Accuracy: 0.9777, F1 Score: 0.8967\n",
      "Batch 30/211 Loss: 0.0550, Accuracy: 0.9779, F1 Score: 0.8892\n",
      "Batch 40/211 Loss: 0.0659, Accuracy: 0.9719, F1 Score: 0.8709\n",
      "Batch 50/211 Loss: 0.0690, Accuracy: 0.9688, F1 Score: 0.8983\n",
      "Batch 60/211 Loss: 0.0822, Accuracy: 0.9651, F1 Score: 0.8703\n",
      "Batch 70/211 Loss: 0.0743, Accuracy: 0.9641, F1 Score: 0.8667\n",
      "Batch 80/211 Loss: 0.0389, Accuracy: 0.9885, F1 Score: 0.9547\n",
      "Batch 90/211 Loss: 0.0826, Accuracy: 0.9659, F1 Score: 0.8907\n",
      "Batch 100/211 Loss: 0.1037, Accuracy: 0.9641, F1 Score: 0.8449\n",
      "Batch 110/211 Loss: 0.0994, Accuracy: 0.9667, F1 Score: 0.8799\n",
      "Batch 120/211 Loss: 0.0848, Accuracy: 0.9625, F1 Score: 0.8566\n",
      "Batch 130/211 Loss: 0.0523, Accuracy: 0.9762, F1 Score: 0.8794\n",
      "Batch 140/211 Loss: 0.0611, Accuracy: 0.9753, F1 Score: 0.9030\n",
      "Batch 150/211 Loss: 0.0687, Accuracy: 0.9601, F1 Score: 0.8507\n",
      "Batch 160/211 Loss: 0.0804, Accuracy: 0.9605, F1 Score: 0.8643\n",
      "Batch 170/211 Loss: 0.0496, Accuracy: 0.9828, F1 Score: 0.9307\n",
      "Batch 180/211 Loss: 0.0589, Accuracy: 0.9773, F1 Score: 0.8914\n",
      "Batch 190/211 Loss: 0.0989, Accuracy: 0.9632, F1 Score: 0.9020\n",
      "Batch 200/211 Loss: 0.0885, Accuracy: 0.9656, F1 Score: 0.8422\n",
      "Batch 210/211 Loss: 0.0649, Accuracy: 0.9742, F1 Score: 0.8759\n",
      "==> Train Loss: 0.0668 Accuracy: 0.9731 F1 Score: 0.8946\n",
      "==> Validation Loss: 0.0989 Accuracy: 0.9610 F1 Score: 0.8387\n"
     ]
    }
   ],
   "source": [
    "from sklearn.metrics import f1_score, accuracy_score\n",
    "\n",
    "def train_epoch(model, dataloader, criterion, optimizer, device):\n",
    "    model.train()\n",
    "    model = model.to(device)\n",
    "    running_loss = 0.0\n",
    "    running_corrects = 0\n",
    "    running_total = 0\n",
    "    y_true = []\n",
    "    y_pred = []\n",
    "    \n",
    "    for i, (_, speakers, emotions, utterance_embeddings, targets) in enumerate(dataloader, 1):\n",
    "        utterance_embeddings = utterance_embeddings.to(device)\n",
    "        targets = targets.to(device)\n",
    "        optimizer.zero_grad()\n",
    "        outputs = model(utterance_embeddings)\n",
    "        loss = criterion(outputs.view(-1, outputs.size(-1)), targets.view(-1))\n",
    "        _, preds = torch.max(outputs, 2)\n",
    "        running_loss += loss.item() * utterance_embeddings.size(0)\n",
    "        running_corrects += torch.sum(preds == targets).item()\n",
    "        running_total += utterance_embeddings.size(0)\n",
    "        loss.backward()\n",
    "        optimizer.step()\n",
    "        \n",
    "        if i % 10 == 0:\n",
    "            target_expanded = targets.view(-1).cpu().numpy()\n",
    "            preds_expanded = preds.view(-1).cpu().numpy()\n",
    "            f1 = f1_score(target_expanded, preds_expanded, average='macro')\n",
    "            accuracy = accuracy_score(target_expanded, preds_expanded)\n",
    "            print(f\"Batch {i}/{len(dataloader)} Loss: {loss.item():.4f}, Accuracy: {accuracy:.4f}, F1 Score: {f1:.4f}\")\n",
    "        y_true.extend(targets.view(-1).cpu().numpy())\n",
    "        y_pred.extend(preds.view(-1).cpu().numpy())\n",
    "    \n",
    "    epoch_loss = running_loss / len(dataloader.dataset)\n",
    "    epoch_acc = accuracy_score(y_true, y_pred)\n",
    "    f1 = f1_score(y_true, y_pred, average='macro')\n",
    "    return epoch_loss, epoch_acc, f1\n",
    "\n",
    "\n",
    "def validate_model(model, dataloader, criterion, device):\n",
    "    model.eval()\n",
    "    model = model.to(device)\n",
    "    running_loss = 0.0\n",
    "    running_corrects = 0\n",
    "    running_total = 0\n",
    "    y_true = []\n",
    "    y_pred = []\n",
    "    with torch.no_grad():\n",
    "        for _, speakers, emotions, utterance_embeddings, targets in dataloader:\n",
    "            utterance_embeddings = utterance_embeddings.to(device)\n",
    "            targets = targets.to(device)\n",
    "            outputs = model(utterance_embeddings)\n",
    "            loss = criterion(outputs.view(-1, outputs.size(-1)), targets.view(-1))\n",
    "            _, preds = torch.max(outputs, 2)\n",
    "            running_loss += loss.item() * utterance_embeddings.size(0)\n",
    "            running_corrects += torch.sum(preds == targets).item()\n",
    "            running_total += utterance_embeddings.size(0)\n",
    "            y_true.extend(targets.view(-1).cpu().numpy())\n",
    "            y_pred.extend(preds.view(-1).cpu().numpy())\n",
    "    val_loss = running_loss / len(dataloader.dataset)\n",
    "    val_acc = accuracy_score(y_true, y_pred)\n",
    "    val_f1 = f1_score(y_true, y_pred, average='macro')\n",
    "    return val_loss, val_acc, val_f1\n",
    "\n",
    "\n",
    "training_loss, validation_loss = [], []\n",
    "training_acc, validation_acc = [], []\n",
    "training_f1, validation_f1 = [], []\n",
    "\n",
    "for epoch in range(NUM_EPOCHS):\n",
    "    print('-------------------------------------------------')\n",
    "    print(f\"Epoch {epoch+1}/{NUM_EPOCHS}\")\n",
    "    train_loss, train_acc, train_f1 = train_epoch(model, train_loader, CRITERION, OPTIMIZER, DEVICE)\n",
    "    print(f\"==> Train Loss: {train_loss:.4f} Accuracy: {train_acc:.4f} F1 Score: {train_f1:.4f}\")\n",
    "    training_loss.append(train_loss)\n",
    "    training_acc.append(train_acc)\n",
    "    training_f1.append(train_f1)\n",
    "    val_loss, val_acc, val_f1 = validate_model(model, val_loader, CRITERION, DEVICE)\n",
    "    print(f\"==> Validation Loss: {val_loss:.4f} Accuracy: {val_acc:.4f} F1 Score: {val_f1:.4f}\")\n",
    "    validation_loss.append(val_loss)\n",
    "    validation_acc.append(val_acc)\n",
    "    validation_f1.append(val_f1)"
   ]
  },
  {
   "cell_type": "code",
   "execution_count": 12,
   "metadata": {},
   "outputs": [
    {
     "data": {
      "image/png": "[encoded data removed]",
      "text/plain": [
       "<Figure size 640x480 with 1 Axes>"
      ]
     },
     "metadata": {},
     "output_type": "display_data"
    },
    {
     "data": {
      "image/png": "[encoded data removed]",
      "text/plain": [
       "<Figure size 640x480 with 1 Axes>"
      ]
     },
     "metadata": {},
     "output_type": "display_data"
    },
    {
     "data": {
      "image/png": "[encoded data removed]",
      "text/plain": [
       "<Figure size 640x480 with 1 Axes>"
      ]
     },
     "metadata": {},
     "output_type": "display_data"
    }
   ],
   "source": [
    "import matplotlib.pyplot as plt\n",
    "\n",
    "plt.plot(training_loss, label='Training Loss')\n",
    "plt.plot(validation_loss, label='Validation Loss')\n",
    "plt.xlabel('Epochs')\n",
    "plt.ylabel('Loss')\n",
    "plt.legend()\n",
    "plt.show()\n",
    "plt.plot(training_acc, label='Training Accuracy')\n",
    "plt.plot(validation_acc, label='Validation Accuracy')\n",
    "plt.xlabel('Epochs')\n",
    "plt.ylabel('Accuracy')\n",
    "plt.legend()\n",
    "plt.show()\n",
    "plt.plot(training_f1, label='Training F1 Score')\n",
    "plt.plot(validation_f1, label='Validation F1 Score')\n",
    "plt.xlabel('Epochs')\n",
    "plt.ylabel('F1 Score')\n",
    "plt.legend()\n",
    "plt.show()"
   ]
  },
  {
   "cell_type": "code",
   "execution_count": 13,
   "metadata": {},
   "outputs": [],
   "source": [
    "model = model.to('cpu')\n",
    "torch.save(model.state_dict(), \"M4.pt\")"
   ]
  },
  {
   "cell_type": "markdown",
   "metadata": {},
   "source": [
    "## Run Inference on Validation Dataset\n"
   ]
  },
  {
   "cell_type": "code",
   "execution_count": 14,
   "metadata": {},
   "outputs": [
    {
     "name": "stdout",
     "output_type": "stream",
     "text": [
      "640 640\n",
      "Loss: 0.0731, Accuracy: 0.9672, F1 Score: 0.8513\n",
      "[0 0 0 0 0 0 0 0 0 0 0 0 0 0 0 1 0 0 0 0 0 0 0 0 0 0 0 0 0 0 0 0 1 0 0 0 0\n",
      " 0 0 0 0 0 0 0 0 0 0 1 0 0 0 0 0 0 0 0 0 0 0 0 0 0 0 0 1 0 0 0 0 0 0 0 0 0\n",
      " 0 0 0 0 0 0 0 0 0 0 0 0 0 0 0 0 1 1 0 0 0 0 0 0 0 0 0 0 0 0 0 0 0 0 0 0 0\n",
      " 0 0 0 0 0 0 0 0 0 0 0 0 0 1 0 0 0 0 0 0 0 0 0 0 0 0 0 0 0 0 0 0 0 0 0 0 1\n",
      " 0 0 0 0 0 0 0 0 0 0 0 0 0 0 0 0 0 0 0 0 0 0 1 0 0 0 0 0 0 0 0 0 0 0 0 0 0\n",
      " 0 0 0 0 0 0 0 0 0 1 0 0 0 0 0 0 0 1 0 0 0 0 0 0 0 0 0 0 0 0 0 0 0 0 0 0 0\n",
      " 0 0 0 0 0 0 0 1 1 0 0 0 0 0 0 0 0 0 0 0 0 0 0 0 1 1 0 0 0 0 0 0 0 0 0 0 0\n",
      " 0 0 0 0 1 0 0 0 0 0 0 0 0 0 0 0 0 0 0 0 0 0 0 0 0 0 0 0 0 0 0 0 0 0 0 0 0\n",
      " 0 0 1 0 0 0 0 0 0 0 0 0 0 0 0 0 0 0 1 1 0 0 0 0 0 0 0 0 0 0 0 0 0 0 0 1 0\n",
      " 0 0 0 0 0 0 0 0 0 0 0 0 0 0 0 0 0 1 0 0 0 0 0 0 0 0 0 0 0 0 0 0 0 0 0 0 0\n",
      " 0 0 0 1 0 0 0 0 0 0 0 0 0 0 0 0 0 0 0 0 0 0 0 0 0 0 0 0 0 0 0 0 1 1 0 0 0\n",
      " 0 0 0 0 0 0 0 0 0 0 0 0 0 0 0 0 0 0 1 0 0 0 0 0 0 0 0 0 0 0 0 0 0 0 0 0 0\n",
      " 0 1 0 0 0 0 0 0 0 0 0 0 0 0 0 0 0 0 0 1 0 0 0 0 0 0 0 0 0 0 0 0 0 0 0 0 0\n",
      " 1 0 0 0 0 0 0 0 0 0 0 0 0 0 0 0 0 0 0 0 0 0 0 0 1 0 0 0 0 0 0 0 0 0 0 0 0\n",
      " 0 0 0 0 0 0 0 0 0 0 0 0 0 0 0 0 1 0 0 0 0 0 0 0 0 0 0 0 0 0 0 1 1 0 0 0 0\n",
      " 0 0 0 0 0 0 0 0 0 1 1 0 0 0 0 0 0 0 0 0 0 0 0 0 0 0 0 0 0 0 0 1 0 0 1 1 1\n",
      " 0 0 0 0 0 0 0 0 0 0 0 0 0 0 0 0 0 0 0 0 0 0 0 0 0 0 0 0 0 0 0 0 0 0 1 0 0\n",
      " 0 0 0 0 0 0 0 0 0 0 0]\n",
      "[0 0 0 0 0 0 0 0 0 0 0 0 0 0 0 1 0 0 0 0 0 0 0 0 0 0 0 0 0 0 0 0 1 0 0 0 0\n",
      " 0 0 0 0 0 0 0 0 0 0 1 0 0 0 0 0 0 0 0 0 0 0 0 0 0 0 0 1 0 0 0 0 0 0 0 0 0\n",
      " 0 0 0 0 0 0 0 0 0 0 0 0 0 0 0 0 1 0 0 0 0 0 0 0 0 0 0 0 0 0 0 0 0 0 0 0 0\n",
      " 1 0 0 0 0 0 0 0 0 0 0 0 0 1 0 0 0 0 0 0 0 0 0 0 0 0 0 0 0 0 0 0 0 0 0 0 1\n",
      " 0 0 0 0 0 0 0 0 0 0 0 0 0 0 0 0 0 0 0 0 0 0 1 0 0 0 0 0 0 0 0 0 0 0 0 0 0\n",
      " 0 0 0 0 0 0 0 0 0 1 0 0 0 0 0 0 0 0 1 0 0 0 0 0 0 0 0 0 0 0 0 0 0 0 0 0 0\n",
      " 0 0 0 0 0 0 0 1 0 0 0 0 0 0 0 0 0 0 0 0 0 0 0 0 1 0 0 0 0 0 0 0 0 0 0 0 0\n",
      " 0 0 0 0 1 0 0 0 0 0 0 0 0 0 0 0 0 0 0 0 0 0 0 0 0 0 0 0 0 0 0 0 0 0 0 0 0\n",
      " 0 0 1 0 0 0 0 0 0 0 0 0 0 0 0 0 0 0 0 1 0 0 0 0 0 0 0 0 0 0 0 0 0 0 0 1 1\n",
      " 0 0 0 0 0 0 0 0 0 0 0 0 0 0 0 0 0 1 0 0 0 0 0 0 0 0 0 0 0 0 0 0 0 0 0 0 0\n",
      " 0 0 1 0 0 0 0 0 0 0 1 0 0 0 0 0 0 0 0 0 0 0 0 0 0 0 0 0 0 0 0 0 1 0 0 0 0\n",
      " 0 0 0 0 0 0 0 0 0 0 0 0 0 0 0 0 0 0 1 0 0 0 0 0 0 0 0 0 0 0 0 0 0 0 0 0 0\n",
      " 0 0 0 0 0 0 0 0 0 0 0 0 0 0 0 0 0 0 1 0 0 0 0 0 0 0 0 0 0 0 0 0 0 0 0 0 0\n",
      " 1 0 0 0 0 0 0 0 0 0 0 0 0 0 0 0 0 0 0 0 0 0 0 0 1 0 0 0 0 0 0 0 0 0 0 0 0\n",
      " 0 0 0 0 0 0 0 0 0 0 0 0 0 0 0 1 1 0 0 0 0 0 0 0 0 0 0 0 0 0 0 1 0 0 0 0 0\n",
      " 0 0 0 0 0 0 0 0 0 1 1 0 0 0 0 0 0 0 0 0 0 0 0 0 0 0 0 0 0 0 0 0 0 0 1 1 0\n",
      " 0 0 0 0 0 0 0 0 0 0 1 1 0 0 0 0 0 0 0 0 0 0 0 0 0 0 0 0 0 0 0 0 0 0 1 0 0\n",
      " 0 0 0 0 0 0 0 0 0 0 0]\n"
     ]
    }
   ],
   "source": [
    "for _, speakers, emotions, utterance_embeddings, targets in val_loader:\n",
    "    speakers = speakers.to(DEVICE)\n",
    "    emotions = emotions.to(DEVICE)\n",
    "    utterance_embeddings = utterance_embeddings.to(DEVICE)\n",
    "    targets = targets.to(DEVICE)\n",
    "    OPTIMIZER.zero_grad()\n",
    "    model = model.to(DEVICE)\n",
    "    outputs = model(utterance_embeddings)\n",
    "    loss = CRITERION(outputs.view(-1, outputs.size(-1)), targets.view(-1))\n",
    "    _, preds = torch.max(outputs, 2)\n",
    "    target_expanded = targets.view(-1).cpu().numpy()\n",
    "    preds_expanded = preds.view(-1).cpu().numpy()\n",
    "    print(len(target_expanded), len(preds_expanded))\n",
    "    f1 = f1_score(target_expanded, preds_expanded, average='macro')\n",
    "    accuracy = accuracy_score(target_expanded, preds_expanded)\n",
    "    print(f\"Loss: {loss.item():.4f}, Accuracy: {accuracy:.4f}, F1 Score: {f1:.4f}\")\n",
    "    print(target_expanded)\n",
    "    print(preds_expanded)\n",
    "    break"
   ]
  },
  {
   "cell_type": "markdown",
   "metadata": {},
   "source": [
    "## Predict Emotions and Detecting the Flips in Emotions in a conversation"
   ]
  },
  {
   "cell_type": "code",
   "execution_count": 15,
   "metadata": {},
   "outputs": [
    {
     "name": "stdout",
     "output_type": "stream",
     "text": [
      "Train Samples: 6740\n",
      "Val Samples: 843\n"
     ]
    }
   ],
   "source": [
    "with open(\"../Data/train_file.json\", 'r') as f:\n",
    "    train_json = json.load(f)\n",
    "with open(\"../Data/val_file.json\", 'r') as f:\n",
    "    val_json = json.load(f)\n",
    "print('Train Samples:', len(train_json))\n",
    "print('Val Samples:', len(val_json))"
   ]
  },
  {
   "cell_type": "code",
   "execution_count": 16,
   "metadata": {},
   "outputs": [],
   "source": [
    "import torch\n",
    "import torch.nn as nn\n",
    "from sentence_transformers import SentenceTransformer\n",
    "from sklearn.metrics import f1_score, accuracy_score\n",
    "\n",
    "sentence_emb_model = SentenceTransformer('all-mpnet-base-v2')"
   ]
  },
  {
   "cell_type": "code",
   "execution_count": 18,
   "metadata": {},
   "outputs": [
    {
     "data": {
      "text/plain": [
       "<All keys matched successfully>"
      ]
     },
     "execution_count": 18,
     "metadata": {},
     "output_type": "execute_result"
    }
   ],
   "source": [
    "DEVICE = torch.device(\"cuda\" if torch.cuda.is_available() else \"cpu\")\n",
    "NUM_EPOCH = 10\n",
    "INPUT_SIZE = 768\n",
    "HIDDEN_SIZE = 256\n",
    "OUTPUT_SIZE = 2\n",
    "\n",
    "trained_model = BiLSTMClassifier(INPUT_SIZE, HIDDEN_SIZE, OUTPUT_SIZE).to(DEVICE)\n",
    "trained_model.load_state_dict(torch.load(\"M4.pt\"))"
   ]
  },
  {
   "cell_type": "code",
   "execution_count": 21,
   "metadata": {},
   "outputs": [
    {
     "name": "stdout",
     "output_type": "stream",
     "text": [
      "Speakers: ['Joey', 'Chandler', 'Joey', 'Chandler', 'Joey']\n",
      "Utterances: [\"Oh God. Uh, okay, here's the thing, this is the thing, okay, the thing is...\", 'What is the thing?', \"Okay. I went down to the \\x91Mattress King' showroom and, and I saw Janice, kissing her ex-husband.\", 'What?', 'They were in his office.']\n",
      "Emotions: ['neutral', 'sadness', 'sadness', 'surprise', 'neutral']\n",
      "\n",
      "True triggers: tensor([0, 0, 0, 1, 0])\n",
      "Predicted triggers: tensor([0, 0, 0, 1, 1])\n",
      "Accuracy of Prediction: 0.8\n",
      "F1 Score of Prediction: 0.7619047619047619\n"
     ]
    }
   ],
   "source": [
    "def emotion_flip_inference(model:BiLSTMClassifier, conversation:dict):\n",
    "    model.eval()\n",
    "    utterances = conversation[\"utterances\"]\n",
    "    true_emotions = conversation[\"emotions\"]\n",
    "    speakers = conversation[\"speakers\"]\n",
    "    triggers = conversation[\"triggers\"]\n",
    "    context_size = 5\n",
    "    \n",
    "    # Obtain the utterance embeddings and predict the emotion flip reason of last utterance for context size 5\n",
    "    utterance_embeddings = torch.tensor(sentence_emb_model.encode(utterances), dtype=torch.float)[-(context_size):]\n",
    "    utterance_embeddings = utterance_embeddings + utterance_embeddings[-1]\n",
    "    triggers_true_label = [a if a != None else 0.0 for a in triggers]\n",
    "    triggers_true_label = torch.tensor(triggers_true_label, dtype=torch.long)[-(context_size):]\n",
    "    \n",
    "    # Obtain the predicted triggers\n",
    "    utterance_embeddings = utterance_embeddings.unsqueeze(0).to(DEVICE)\n",
    "    triggers_predictions = model(utterance_embeddings)\n",
    "    _, triggers_predictions = torch.max(triggers_predictions, 2)\n",
    "    triggers_predictions = triggers_predictions.view(-1).cpu()\n",
    "\n",
    "    print('Speakers:', speakers[-context_size:])\n",
    "    print('Utterances:', utterances[-context_size:])\n",
    "    print('Emotions:', true_emotions[-context_size:])\n",
    "    print()\n",
    "    print('True triggers:', triggers_true_label)\n",
    "    print('Predicted triggers:', triggers_predictions)\n",
    "\n",
    "    # Show the Accuracy and F1 Score of the prediction\n",
    "    accuracy = accuracy_score(triggers_true_label.cpu().numpy(), triggers_predictions.numpy())\n",
    "    f1 = f1_score(triggers_true_label.cpu().numpy(), triggers_predictions.numpy(), average='macro')\n",
    "    print('Accuracy of Prediction:', accuracy)\n",
    "    print('F1 Score of Prediction:', f1)\n",
    "    \n",
    "\n",
    "ind = 0\n",
    "conversation = val_json[ind]\n",
    "emotion_flip_inference(trained_model, conversation)    "
   ]
  },
  {
   "cell_type": "markdown",
   "metadata": {},
   "source": [
    "## Check Stats on Validation Dataset"
   ]
  },
  {
   "cell_type": "code",
   "execution_count": 22,
   "metadata": {},
   "outputs": [
    {
     "name": "stdout",
     "output_type": "stream",
     "text": [
      "Validation Accuracy: 0.961038961038961\n",
      "Validation Macro-F1 Score: 0.8386666316708499\n",
      "Validation Weighted-F1 Score: 0.960207953201611\n"
     ]
    }
   ],
   "source": [
    "y_pred = []\n",
    "y_true = []\n",
    "for _, speakers, emotions, utterance_embeddings, targets in val_loader:\n",
    "    utterance_embeddings = utterance_embeddings.to(DEVICE)\n",
    "    targets = targets.to(DEVICE)\n",
    "    trained_model = trained_model.to(DEVICE)\n",
    "    outputs = trained_model(utterance_embeddings)\n",
    "    _, preds = torch.max(outputs, 2)\n",
    "    target_expanded = targets.view(-1).cpu().numpy()\n",
    "    preds_expanded = preds.view(-1).cpu().numpy()\n",
    "    y_true.extend(target_expanded)\n",
    "    y_pred.extend(preds_expanded)\n",
    "print('Validation Accuracy:', accuracy_score(y_true, y_pred))\n",
    "print('Validation Macro-F1 Score:', f1_score(y_true, y_pred, average='macro'))\n",
    "print('Validation Weighted-F1 Score:', f1_score(y_true, y_pred, average='weighted'))"
   ]
  }
 ],
 "metadata": {
  "kernelspec": {
   "display_name": "base",
   "language": "python",
   "name": "python3"
  },
  "language_info": {
   "codemirror_mode": {
    "name": "ipython",
    "version": 3
   },
   "file_extension": ".py",
   "mimetype": "text/x-python",
   "name": "python",
   "nbconvert_exporter": "python",
   "pygments_lexer": "ipython3",
   "version": "3.12.2"
  }
 },
 "nbformat": 4,
 "nbformat_minor": 2
}
